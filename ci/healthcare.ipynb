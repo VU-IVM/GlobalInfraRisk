{
 "cells": [
  {
   "cell_type": "markdown",
   "id": "f6b341b9-4649-46ac-9f6c-6d8bdd126170",
   "metadata": {},
   "source": [
    "# Healthcare Infrastructure\n",
    "\n",
    "In this notebook, we will perform a **damage and risk assessment** for healthcare infrastructure, specifically focusing on hospitals and clinics. The assessment is based on combining hazard data (e.g., flood depths) with vulnerability curves to estimate the potential damage to infrastructure.\n",
    "\n",
    "We will follow the steps outlined below to conduct the assessment:\n",
    "\n",
    "1. **Loading the necessary packages:**  \n",
    "   We will import the Python libraries required for data handling, analysis, and visualization.\n",
    "\n",
    "2. **Loading the data:**  \n",
    "   The infrastructure data (e.g., hospitals) and hazard data (e.g., flood depths) will be loaded into the notebook.\n",
    "\n",
    "3. **Preparing the data:**  \n",
    "   The infrastructure and hazard data will be processed and data gaps can be filled, if required.\n",
    "\n",
    "4. **Performing the damage assessment:**  \n",
    "   We will apply vulnerability curves to estimate the potential damage based on the intensity of the hazard.\n",
    "\n",
    "5. **Visualizing the results:**  \n",
    "   Finally, we will visualize the estimated damage using graphs and maps to illustrate the impact on healthcare infrastructure."
   ]
  },
  {
   "cell_type": "markdown",
   "id": "44a1efb4-69d5-4558-907f-d2e49ad7f9e8",
   "metadata": {},
   "source": [
    "## 1. Loading the Necessary Packages\n",
    "To perform the assessment, we are going to make use of several [python packages](https://docs.python.org/3/tutorial/modules.html#packages).\n",
    "\n",
    "In case you run this in Google Colab, you will have to install the packages below **(remove the hashtag in front of them)**."
   ]
  },
  {
   "cell_type": "code",
   "execution_count": null,
   "id": "72c6ae5d-1f1c-4fbf-ba7f-8c63026f34dc",
   "metadata": {},
   "outputs": [],
   "source": [
    "#!pip install damagescanner==0.9b12\n",
    "#!pip install contextily\n",
    "#!pip install exactextract\n",
    "#!pip install lonboard"
   ]
  },
  {
   "cell_type": "markdown",
   "id": "d678797c-9d70-4641-8248-e3601d30ad1c",
   "metadata": {},
   "source": [
    "In this step, we will import all the required Python libraries for data manipulation, spatial analysis, and visualization."
   ]
  },
  {
   "cell_type": "code",
   "execution_count": null,
   "id": "12aaf0f4-aef2-4a67-9c30-c68f8f6550b2",
   "metadata": {},
   "outputs": [],
   "source": [
    "import warnings\n",
    "import xarray as xr\n",
    "import numpy as np\n",
    "import pandas as pd\n",
    "import geopandas as gpd\n",
    "import seaborn as sns\n",
    "\n",
    "import matplotlib.pyplot as plt\n",
    "import contextily as cx\n",
    "\n",
    "import damagescanner.download as download\n",
    "from damagescanner.core import DamageScanner\n",
    "from lonboard import viz\n",
    "\n",
    "warnings.simplefilter(action='ignore', category=FutureWarning)\n",
    "warnings.simplefilter(action='ignore', category=RuntimeWarning) # exactextract gives a warning that is invalid"
   ]
  },
  {
   "cell_type": "markdown",
   "id": "5221d308-3de6-4809-912a-3380f8689b44",
   "metadata": {},
   "source": [
    "### Specify the country of interest"
   ]
  },
  {
   "cell_type": "markdown",
   "id": "0eb24ca2-dfac-4e29-9280-6029cd46674b",
   "metadata": {},
   "source": [
    "Before we continue, we should specify the country for which we want to assess the damage. We use the ISO3 code for the country to download the OpenStreetMap data."
   ]
  },
  {
   "cell_type": "code",
   "execution_count": null,
   "id": "684bae52-154c-44e1-9439-b38be147ea5e",
   "metadata": {},
   "outputs": [],
   "source": [
    "country_full_name = 'Jamaica'\n",
    "country_iso3 = 'JAM'"
   ]
  },
  {
   "cell_type": "markdown",
   "id": "e43578d8-ea9d-48e9-80b3-aa3bc0f99af7",
   "metadata": {},
   "source": [
    "## 2. Loading the Data\n",
    "In this step, we will load four key datasets:\n",
    "\n",
    "1. **Infrastructure data:**  \n",
    "   This dataset contains information on the location and type of transportation infrastructure (e.g., roads). Each asset may have attributes such as type, length, and replacement cost.\n",
    "\n",
    "2. **Hazard data:**  \n",
    "   This dataset includes information on the hazard affecting the infrastructure (e.g., flood depth at various locations).\n",
    "\n",
    "3. **Vulnerability curves:**  \n",
    "   Vulnerability curves define how the infrastructure's damage increases with the intensity of the hazard. For example, flood depth-damage curves specify how much damage occurs for different flood depths.\n",
    "\n",
    "4. **Maximum damage values:**  \n",
    "   This dataset contains the maximum possible damage (in monetary terms) that can be incurred by individual infrastructure assets. This is crucial for calculating total damage based on the vulnerability curves."
   ]
  },
  {
   "cell_type": "markdown",
   "id": "8ca4b6a6-8558-4caf-a170-741a38f0ed56",
   "metadata": {},
   "source": [
    "### Infrastructure Data\n",
    "\n",
    "We will perform this example analysis for Jamaica. To start the analysis, we first download the OpenStreetMap data from GeoFabrik. "
   ]
  },
  {
   "cell_type": "code",
   "execution_count": null,
   "id": "91971e0c-f5bd-41cc-90c8-866ccbe589d8",
   "metadata": {},
   "outputs": [],
   "source": [
    "infrastructure_path = download.get_country_geofabrik(country_iso3)"
   ]
  },
  {
   "cell_type": "markdown",
   "id": "6ed16ff7-a9b4-4793-990d-eecc2e842ced",
   "metadata": {},
   "source": [
    "Now we load the data and read only the healthcare data."
   ]
  },
  {
   "cell_type": "code",
   "execution_count": null,
   "id": "78dfb1ee-4b1b-481a-b0a2-9a615bdde8e9",
   "metadata": {},
   "outputs": [],
   "source": [
    "%%time\n",
    "features = read_osm_data(infrastructure_path,asset_type='healthcare')"
   ]
  },
  {
   "cell_type": "code",
   "execution_count": null,
   "id": "96aad40b-658a-42ba-9838-e4c0f24fd1e4",
   "metadata": {},
   "outputs": [],
   "source": [
    "sub_types = features.object_type.unique()"
   ]
  },
  {
   "cell_type": "markdown",
   "id": "1a63ad14-a317-4228-b781-7074e82b6c08",
   "metadata": {},
   "source": [
    "And we can explore our data interactively "
   ]
  },
  {
   "cell_type": "code",
   "execution_count": null,
   "id": "8746d133-185e-4537-b6f6-5c4c5a25510c",
   "metadata": {},
   "outputs": [],
   "source": [
    "viz(features)"
   ]
  },
  {
   "cell_type": "markdown",
   "id": "1d89865b-030d-4be4-a6ef-ce18b05716ee",
   "metadata": {},
   "source": [
    "### Hazard Data\n",
    "For this example, we make use of the flood data provided by [CDRI](https://giri.unepgrid.ch/map?list=explore).\n",
    "\n",
    "We use a 1/100 flood map to showcase the approach."
   ]
  },
  {
   "cell_type": "code",
   "execution_count": null,
   "id": "caae035e-64f2-4c69-9565-e95f73fe067f",
   "metadata": {},
   "outputs": [],
   "source": [
    "hazard_map = xr.open_dataset(\"https://hazards-data.unepgrid.ch/global_pc_h100glob.tif\", engine=\"rasterio\")"
   ]
  },
  {
   "cell_type": "code",
   "execution_count": null,
   "id": "e9f25659-8d72-4826-9b69-f0ee1d7e373e",
   "metadata": {},
   "outputs": [],
   "source": [
    "hazard_map"
   ]
  },
  {
   "cell_type": "markdown",
   "id": "ee05bef0-90c3-4f33-814f-fb421246e1be",
   "metadata": {},
   "source": [
    "### Maximum damages\n",
    "One of the most difficult parts of the assessment is to define the maximum reconstruction cost of particular assets. Here we provide a baseline set of values, but these should be updated through national consultations.\n",
    "\n",
    "Locations of healthcare facilities are (somewhat randomly) geotagged as either points or polygons. This matters quite a lot for the maximum damages. For polygons, we would use damage per square meter, whereas for points, we would estimate the damage to the entire asset at once. Here we take the approach of converting the points to polygons, and there define our maximum damages in dollar per square meter. "
   ]
  },
  {
   "cell_type": "code",
   "execution_count": null,
   "id": "92df3cdf-4f61-470f-8b7e-c1eb6d01bcd8",
   "metadata": {},
   "outputs": [],
   "source": [
    "maxdam_dict = {'clinic' : 1000, \n",
    "               'dentist' : 1000, \n",
    "               'laboratory' : 1000, \n",
    "               'doctors' : 1000, \n",
    "               'pharmacy' : 1000,\n",
    "               'hospital' : 1000,\n",
    "               'alternative' : 1000 }"
   ]
  },
  {
   "cell_type": "markdown",
   "id": "79192a0b-8615-432e-b55b-63df78629924",
   "metadata": {},
   "source": [
    "To be used in our damage assessment, we convert this to a Pandas DataFrame"
   ]
  },
  {
   "cell_type": "code",
   "execution_count": null,
   "id": "7dd0aeec-16eb-4ef6-afcf-9cbc7372a245",
   "metadata": {},
   "outputs": [],
   "source": [
    "maxdam = pd.DataFrame.from_dict(maxdam_dict,orient='index').reset_index()\n",
    "maxdam.columns = ['object_type','damage']"
   ]
  },
  {
   "cell_type": "markdown",
   "id": "84b69fd7-393a-48f6-aae6-33b19bb2e3b9",
   "metadata": {},
   "source": [
    "### Vulnerability data\n",
    "Similarly to the maximum damages, specifying the vulnerability curves is complex. We generally have limited information about the quality of the assets, its level of deteriation and other asset-level characteristics."
   ]
  },
  {
   "cell_type": "code",
   "execution_count": null,
   "id": "ec8a021f-0c9d-41a7-846b-fd78af69cd85",
   "metadata": {},
   "outputs": [],
   "source": [
    "vulnerability_path = \"https://zenodo.org/records/10203846/files/Table_D2_Multi-Hazard_Fragility_and_Vulnerability_Curves_V1.0.0.xlsx?download=1\"\n",
    "vul_df = pd.read_excel(vulnerability_path,sheet_name='F_Vuln_Depth')"
   ]
  },
  {
   "cell_type": "markdown",
   "id": "6ad555da-f453-4e2a-9d7b-dcb20e6e960b",
   "metadata": {},
   "source": [
    "And let's have a look at all the available options"
   ]
  },
  {
   "cell_type": "code",
   "execution_count": null,
   "id": "c9a14865-3350-41ba-ad48-eb4886c63874",
   "metadata": {
    "scrolled": true
   },
   "outputs": [],
   "source": [
    "with pd.option_context('display.max_rows', None):\n",
    "  display(vul_df.iloc[:2,:].T)"
   ]
  },
  {
   "cell_type": "markdown",
   "id": "393085ef-cdab-4e9f-b1d3-6a2c478a5e1b",
   "metadata": {},
   "source": [
    "And select a curve to use for each different subtype we are analysing."
   ]
  },
  {
   "cell_type": "code",
   "execution_count": null,
   "id": "6a288a2e-ae21-4a04-8917-ff73bd66db50",
   "metadata": {},
   "outputs": [],
   "source": [
    "sub_types"
   ]
  },
  {
   "cell_type": "code",
   "execution_count": null,
   "id": "f857b2ac-1714-4127-a834-4091af1e82c1",
   "metadata": {},
   "outputs": [],
   "source": [
    "selected_curves = dict(zip(sub_types,['F21.1','F21.1','F21.2','F21.1','F21.2','F21.3','F21.1']))"
   ]
  },
  {
   "cell_type": "code",
   "execution_count": null,
   "id": "6f55ae20-29c7-457b-b1dc-8adc04ecb188",
   "metadata": {},
   "outputs": [],
   "source": [
    "damage_curves = vul_df[['ID number']+list(selected_curves.values())]\n",
    "damage_curves = damage_curves.iloc[4:125,:]\n",
    "damage_curves.set_index('ID number',inplace=True)\n",
    "damage_curves.index = damage_curves.index.rename('Depth')  \n",
    "damage_curves = damage_curves.astype(np.float32)\n",
    "damage_curves.columns = sub_types"
   ]
  },
  {
   "cell_type": "markdown",
   "id": "e2b4648f-e3ba-4ac4-a238-ab3a5deaf108",
   "metadata": {},
   "source": [
    "Make sure we set the index of the damage curves (the inundation depth) in the same metric as the hazard data (e.g. meters or centimeters)."
   ]
  },
  {
   "cell_type": "code",
   "execution_count": null,
   "id": "950d28ee-cd35-4031-b994-02542cbf30fc",
   "metadata": {},
   "outputs": [],
   "source": [
    "damage_curves.index = damage_curves.index*100"
   ]
  },
  {
   "cell_type": "markdown",
   "id": "4b8f6aed-6096-4701-93b3-e2f861cd733d",
   "metadata": {},
   "source": [
    "### Ancilliary data for processing"
   ]
  },
  {
   "cell_type": "code",
   "execution_count": null,
   "id": "ef02d9a2-1790-4632-b66f-3e7e57eb9d51",
   "metadata": {},
   "outputs": [],
   "source": [
    "world = gpd.read_file(\"https://github.com/nvkelso/natural-earth-vector/raw/master/10m_cultural/ne_10m_admin_0_countries.shp\")\n",
    "world_plot = world.to_crs(3857)"
   ]
  },
  {
   "cell_type": "code",
   "execution_count": null,
   "id": "df306b07-906b-4601-b0d8-4c0158d2aca8",
   "metadata": {},
   "outputs": [],
   "source": [
    "admin1 = gpd.read_file(\"https://github.com/nvkelso/natural-earth-vector/raw/master/10m_cultural/ne_10m_admin_1_states_provinces.shp\")"
   ]
  },
  {
   "cell_type": "markdown",
   "id": "e288af4e-c397-46d5-a6cd-606a01ea4ed1",
   "metadata": {},
   "source": [
    "## 3. Preparing the Data"
   ]
  },
  {
   "cell_type": "markdown",
   "id": "afc45662-dce8-4f15-a673-48a92bbd247b",
   "metadata": {},
   "source": [
    "Clip the hazard data to the country of interest."
   ]
  },
  {
   "cell_type": "code",
   "execution_count": null,
   "id": "b8c53736-48af-4dd7-8443-95b1039d7653",
   "metadata": {},
   "outputs": [],
   "source": [
    "country_bounds = world.loc[world.ADM0_ISO == country_iso3].bounds\n",
    "country_geom = world.loc[world.ADM0_ISO == country_iso3].geometry"
   ]
  },
  {
   "cell_type": "code",
   "execution_count": null,
   "id": "f9cf5c27-1bfc-4b27-8b2d-790a3a478a79",
   "metadata": {},
   "outputs": [],
   "source": [
    "hazard_country = hazard_map.rio.clip_box(minx=country_bounds.minx.values[0],\n",
    "                     miny=country_bounds.miny.values[0],\n",
    "                     maxx=country_bounds.maxx.values[0],\n",
    "                     maxy=country_bounds.maxy.values[0]\n",
    "                    )"
   ]
  },
  {
   "cell_type": "markdown",
   "id": "2b4725e1-53c5-4d48-b25a-c070d579e60e",
   "metadata": {},
   "source": [
    "Convert the point data to polygons. We first try to estimate an average size of each building based on each subtype.\n",
    "\n",
    "To do so, let's first grab the polygon data and estimate their size:"
   ]
  },
  {
   "cell_type": "code",
   "execution_count": null,
   "id": "8b8101e3-494c-4a75-a7cb-3ffdefe91953",
   "metadata": {},
   "outputs": [],
   "source": [
    "polygon_features = features.loc[features.geometry.geom_type.isin(['Polygon','MultiPolygon'])].to_crs(3857)\n",
    "polygon_features['square_m2'] = polygon_features.area"
   ]
  },
  {
   "cell_type": "code",
   "execution_count": null,
   "id": "bc56b0df-960b-40bd-b862-d1360bb62aaf",
   "metadata": {},
   "outputs": [],
   "source": [
    "square_m2_object_type = polygon_features[['object_type','square_m2']].groupby('object_type').median()"
   ]
  },
  {
   "cell_type": "code",
   "execution_count": null,
   "id": "0c51ffc2-86bb-4018-b35c-8a942c9e6645",
   "metadata": {},
   "outputs": [],
   "source": [
    "square_m2_object_type"
   ]
  },
  {
   "cell_type": "markdown",
   "id": "1dd44041-a98c-4678-8eb0-b1723fd4b6eb",
   "metadata": {},
   "source": [
    "It seems we are missing some features. Let's check which one:"
   ]
  },
  {
   "cell_type": "code",
   "execution_count": null,
   "id": "ff6299d4-12ca-42ed-b114-6a6db52dc773",
   "metadata": {},
   "outputs": [],
   "source": [
    "list(set(sub_types)-set(square_m2_object_type.index))"
   ]
  },
  {
   "cell_type": "markdown",
   "id": "e81bbfe9-b1de-4b27-80ba-cd01c98498fc",
   "metadata": {},
   "source": [
    "Now we can add this to our list. Let's use pharmacy as the square_m2 size."
   ]
  },
  {
   "cell_type": "code",
   "execution_count": null,
   "id": "c9819477-26c1-4d9c-a1b1-feb80e605e84",
   "metadata": {},
   "outputs": [],
   "source": [
    "square_m2_object_type.loc['laboratory'] = square_m2_object_type.loc['pharmacy','square_m2']"
   ]
  },
  {
   "cell_type": "markdown",
   "id": "a50e8e9d-0c79-4c67-baeb-2690ce083575",
   "metadata": {},
   "source": [
    "And now we can use this to create polygons, using this square meters as the average size for each point."
   ]
  },
  {
   "cell_type": "code",
   "execution_count": null,
   "id": "dfe403d0-3da0-4c13-b6e1-a495780b51ae",
   "metadata": {},
   "outputs": [],
   "source": [
    "features.loc[features.geometry.geom_type == 'Point','geometry'] = features.loc[features.geometry.geom_type == 'Point'].to_crs(3857).apply(lambda x: \n",
    "                                                                    shapely.buffer(x.geometry, \n",
    "                                                                    distance=np.sqrt(square_m2_object_type.loc[x.object_type,'square_m2']),\n",
    "                                                                    cap_style='square'),axis=1).set_crs(3857).to_crs(4326)"
   ]
  },
  {
   "cell_type": "markdown",
   "id": "5ce0650d-68a9-427a-9602-e318989dec00",
   "metadata": {},
   "source": [
    "## 5. Performing the Damage Assessment\n",
    "We will use the DamageScanner approach. This is a fully optimised damage calculation method, that can capture a wide range of inputs to perform a damage assessment."
   ]
  },
  {
   "cell_type": "code",
   "execution_count": null,
   "id": "2a959c8c-f962-46a1-915a-e5d44464d340",
   "metadata": {},
   "outputs": [],
   "source": [
    "%%time\n",
    "damage_results = DamageScanner(hazard_country, features, damage_curves, maxdam).calculate()"
   ]
  },
  {
   "cell_type": "markdown",
   "id": "da2d88c1-e5e5-4bc3-a0fb-1e4e99c4789d",
   "metadata": {},
   "source": [
    "## 5. Save the Results\n",
    "For further analysis, we can save the results in their full detail, or save summary estimates per subnational unit "
   ]
  },
  {
   "cell_type": "code",
   "execution_count": null,
   "id": "95461586-56ff-48c7-b959-eb3b364500fe",
   "metadata": {},
   "outputs": [],
   "source": [
    "hazard = 'river_flood'\n",
    "return_period = '1_100'\n",
    "damage_results.csv(f'Healthcare_Damage_{country_full_name}_{hazard}_{return_period}.csv')"
   ]
  },
  {
   "cell_type": "code",
   "execution_count": null,
   "id": "0ba6148f-4e6e-486c-821b-0635a94d4955",
   "metadata": {},
   "outputs": [],
   "source": [
    "admin1_country = admin1.loc[admin1.sov_a3 == country_iso3]"
   ]
  },
  {
   "cell_type": "code",
   "execution_count": null,
   "id": "da0a4437-fb9e-46ea-8ec2-218f81fee90b",
   "metadata": {},
   "outputs": [],
   "source": [
    "damage_results = damage_results.sjoin(admin1_country[['adm1_code','name','geometry']])"
   ]
  },
  {
   "cell_type": "code",
   "execution_count": null,
   "id": "c934bcb0-1bd5-4b6b-8d74-3de9e49ce16f",
   "metadata": {},
   "outputs": [],
   "source": [
    "admin1_damage = admin1_country.merge(damage_results[['name_right','damage']].groupby('name_right').sum(),\n",
    "                                     left_on='name',\n",
    "                                     right_on='name_right',\n",
    "                                     how='outer')[['name','adm1_code','geometry','damage']]"
   ]
  },
  {
   "cell_type": "code",
   "execution_count": null,
   "id": "ed8f1db1-ba5e-4ed7-ba8b-6f6ad089b15c",
   "metadata": {},
   "outputs": [],
   "source": [
    "admin1_damage.to_csv(f'Admin1_Road_Damage_{country_full_name}_{hazard}_{return_period}.csv')"
   ]
  },
  {
   "cell_type": "markdown",
   "id": "8d64f90d-bf96-47af-bcc2-c360a488cb65",
   "metadata": {},
   "source": [
    "## 6. Visualizing the Results\n",
    "The results of the damage assessment can be visualized using charts and maps. This will provide a clear representation of which infrastructure is most affected by the hazard and the expected damage levels."
   ]
  },
  {
   "cell_type": "markdown",
   "id": "e22ad4ae-c7b4-480e-8286-3328bb182ee7",
   "metadata": {},
   "source": [
    "And create a distribution of the damages."
   ]
  },
  {
   "cell_type": "code",
   "execution_count": null,
   "id": "8c60f11f-ab90-4342-a17e-cbc082cdbd74",
   "metadata": {},
   "outputs": [],
   "source": [
    "fig, ax = plt.subplots(1,1,figsize=(7, 3))\n",
    "\n",
    "sns.histplot(data=damage_results,x='damage',ax=ax)"
   ]
  },
  {
   "cell_type": "markdown",
   "id": "e3a66d7e-6cb8-4cf1-aa79-90df85ae6991",
   "metadata": {},
   "source": [
    "Plot location of most damaged healthcare facilities"
   ]
  },
  {
   "cell_type": "code",
   "execution_count": null,
   "id": "3e16e6e2-ec0b-4218-b550-43ed39dd2a65",
   "metadata": {},
   "outputs": [],
   "source": [
    "fig, ax = plt.subplots(1,1,figsize=(10, 5))\n",
    "\n",
    "subset = damage_results.to_crs(3857).sort_values('damage',ascending=False).head(20)\n",
    "subset.geometry = subset.centroid\n",
    "subset.plot(ax=ax,column='object_type',markersize=10,legend=True)\n",
    "world_plot.loc[world.SOV_A3 == country_iso3].plot(ax=ax,facecolor=\"none\",edgecolor='black')\n",
    "cx.add_basemap(ax, source=cx.providers.CartoDB.Positron,alpha=0.5)\n",
    "ax.set_axis_off()"
   ]
  },
  {
   "cell_type": "code",
   "execution_count": null,
   "id": "7fc9d408-c5a4-4178-a711-e76a97ef4259",
   "metadata": {},
   "outputs": [],
   "source": [
    "viz(damage_results)"
   ]
  },
  {
   "cell_type": "code",
   "execution_count": null,
   "id": "a695516b-3aca-4717-93e0-1b55c8938b81",
   "metadata": {},
   "outputs": [],
   "source": []
  }
 ],
 "metadata": {
  "kernelspec": {
   "display_name": "Python 3 (ipykernel)",
   "language": "python",
   "name": "python3"
  },
  "language_info": {
   "codemirror_mode": {
    "name": "ipython",
    "version": 3
   },
   "file_extension": ".py",
   "mimetype": "text/x-python",
   "name": "python",
   "nbconvert_exporter": "python",
   "pygments_lexer": "ipython3",
   "version": "3.12.8"
  }
 },
 "nbformat": 4,
 "nbformat_minor": 5
}
