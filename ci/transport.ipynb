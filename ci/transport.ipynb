{
 "cells": [
  {
   "cell_type": "markdown",
   "id": "f6b341b9-4649-46ac-9f6c-6d8bdd126170",
   "metadata": {},
   "source": [
    "# Transportation Infrastructure\n",
    "\n",
    "In this notebook, we will perform a **damage and risk assessment** for transportation infrastructure, specifically focusing on roads. The assessment is based on combining hazard data (e.g., flood depths) with vulnerability curves to estimate the potential damage to infrastructure.\n",
    "\n",
    "We will follow the steps outlined below to conduct the assessment:\n",
    "\n",
    "1. **Loading the necessary packages:**  \n",
    "   We will import the Python libraries required for data handling, analysis, and visualization.\n",
    "\n",
    "2. **Loading the data:**  \n",
    "   The infrastructure data (e.g., roads) and hazard data (e.g., flood depths) will be loaded into the notebook.\n",
    "\n",
    "3. **Preparing the data:**  \n",
    "   The infrastructure and hazard data will be processed and data gaps can be filled, if required.\n",
    "\n",
    "4. **Performing the damage assessment:**  \n",
    "   We will apply vulnerability curves to estimate the potential damage based on the intensity of the hazard.\n",
    "\n",
    "5. **Visualizing the results:**  \n",
    "   Finally, we will visualize the estimated damage using graphs and maps to illustrate the impact on transportation infrastructure."
   ]
  },
  {
   "cell_type": "markdown",
   "id": "44a1efb4-69d5-4558-907f-d2e49ad7f9e8",
   "metadata": {},
   "source": [
    "## 1. Loading the Necessary Packages\n",
    "In this step, we will import all the required Python libraries for data manipulation, spatial analysis, and visualization."
   ]
  },
  {
   "cell_type": "code",
   "execution_count": 1,
   "id": "12aaf0f4-aef2-4a67-9c30-c68f8f6550b2",
   "metadata": {},
   "outputs": [],
   "source": [
    "import os,sys\n",
    "import rasterio\n",
    "import shapely\n",
    "import xarray as xr\n",
    "\n",
    "import numpy as np\n",
    "import pandas as pd\n",
    "import geopandas as gpd\n",
    "import seaborn as sns\n",
    "\n",
    "from tqdm import tqdm\n",
    "\n",
    "from pathlib import Path\n",
    "import matplotlib.pyplot as plt\n",
    "import rioxarray\n",
    "import contextily as cx\n",
    "\n",
    "from osm_flex import download\n",
    "from exactextract import exact_extract"
   ]
  },
  {
   "cell_type": "markdown",
   "id": "5221d308-3de6-4809-912a-3380f8689b44",
   "metadata": {},
   "source": [
    "### Specify the country of interest"
   ]
  },
  {
   "cell_type": "markdown",
   "id": "0eb24ca2-dfac-4e29-9280-6029cd46674b",
   "metadata": {},
   "source": [
    "Before we continue, we should specify the country for which we want to assess the damage. We use the ISO3 code for the country to download the OpenStreetMap data."
   ]
  },
  {
   "cell_type": "code",
   "execution_count": 2,
   "id": "684bae52-154c-44e1-9439-b38be147ea5e",
   "metadata": {},
   "outputs": [],
   "source": [
    "country_full_name = 'Jamaica'\n",
    "country_iso3 = 'JAM'"
   ]
  },
  {
   "cell_type": "markdown",
   "id": "e43578d8-ea9d-48e9-80b3-aa3bc0f99af7",
   "metadata": {},
   "source": [
    "## 2. Loading the Data\n",
    "In this step, we will load four key datasets:\n",
    "\n",
    "1. **Infrastructure data:**  \n",
    "   This dataset contains information on the location and type of transportation infrastructure (e.g., roads). Each asset may have attributes such as type, length, and replacement cost.\n",
    "\n",
    "2. **Hazard data:**  \n",
    "   This dataset includes information on the hazard affecting the infrastructure (e.g., flood depth at various locations).\n",
    "\n",
    "3. **Vulnerability curves:**  \n",
    "   Vulnerability curves define how the infrastructure's damage increases with the intensity of the hazard. For example, flood depth-damage curves specify how much damage occurs for different flood depths.\n",
    "\n",
    "4. **Maximum damage values:**  \n",
    "   This dataset contains the maximum possible damage (in monetary terms) that can be incurred by individual infrastructure assets. This is crucial for calculating total damage based on the vulnerability curves."
   ]
  },
  {
   "cell_type": "markdown",
   "id": "8ca4b6a6-8558-4caf-a170-741a38f0ed56",
   "metadata": {},
   "source": [
    "### Infrastructure Data\n",
    "\n",
    "We will perform this example analysis for Jamaica. To start the analysis, we first download the OpenStreetMap data from GeoFabrik. "
   ]
  },
  {
   "cell_type": "code",
   "execution_count": 3,
   "id": "91971e0c-f5bd-41cc-90c8-866ccbe589d8",
   "metadata": {},
   "outputs": [],
   "source": [
    "infrastructure_path = download.get_country_geofabrik(country_iso3)"
   ]
  },
  {
   "cell_type": "markdown",
   "id": "6ed16ff7-a9b4-4793-990d-eecc2e842ced",
   "metadata": {},
   "source": [
    "Now we load the data and read only the road data."
   ]
  },
  {
   "cell_type": "code",
   "execution_count": 4,
   "id": "78dfb1ee-4b1b-481a-b0a2-9a615bdde8e9",
   "metadata": {},
   "outputs": [
    {
     "name": "stdout",
     "output_type": "stream",
     "text": [
      "CPU times: total: 3.97 s\n",
      "Wall time: 5.31 s\n"
     ]
    }
   ],
   "source": [
    "%%time\n",
    "features = gpd.read_file(infrastructure_path, layer=\"lines\")\n",
    "features = features[features[\"highway\"].values != None]\n",
    "features = features.to_crs(3857)"
   ]
  },
  {
   "cell_type": "code",
   "execution_count": 5,
   "id": "073a2b17-f873-4c7c-9592-303c8fdb8058",
   "metadata": {},
   "outputs": [],
   "source": [
    "features = features[features['highway'].isin(['motorway', 'motorway_link', 'trunk', 'trunk_link',\n",
    "                            'primary', 'primary_link', 'secondary', 'secondary_link', 'tertiary',\n",
    "                            'tertiary_link', 'residential', 'road', 'unclassified','track'])].reset_index(drop=True)"
   ]
  },
  {
   "cell_type": "markdown",
   "id": "1d89865b-030d-4be4-a6ef-ce18b05716ee",
   "metadata": {},
   "source": [
    "### Hazard Data\n",
    "For this example, we make use of the flood data provided by [CDRI](https://giri.unepgrid.ch/map?list=explore).\n",
    "\n",
    "We use a 1/100 flood map to showcase the approach."
   ]
  },
  {
   "cell_type": "code",
   "execution_count": null,
   "id": "caae035e-64f2-4c69-9565-e95f73fe067f",
   "metadata": {},
   "outputs": [],
   "source": [
    "hazard_map = xr.open_dataset(\"https://hazards-data.unepgrid.ch/global_pc_h100glob.tif\", engine=\"rasterio\")"
   ]
  },
  {
   "cell_type": "markdown",
   "id": "ee05bef0-90c3-4f33-814f-fb421246e1be",
   "metadata": {},
   "source": [
    "### Maximum damages\n",
    "One of the most difficult parts of the assessment is to define the maximum reconstruction cost of particular assets. Here we provide a baseline set of values, but these should be updated through national consultations."
   ]
  },
  {
   "cell_type": "code",
   "execution_count": null,
   "id": "92df3cdf-4f61-470f-8b7e-c1eb6d01bcd8",
   "metadata": {},
   "outputs": [],
   "source": [
    "maxdam_dict = {'unclassified':300, \n",
    "        'primary':2000, \n",
    "        'secondary':1300, \n",
    "        'tertiary':700, \n",
    "        'residential':500,\n",
    "        'trunk':2000, \n",
    "        'trunk_link':2000, \n",
    "        'motorway':2000, \n",
    "        'motorway_link':2000, \n",
    "        'primary_link':2000, \n",
    "        'secondary_link':1300,\n",
    "        'tertiary_link':700,\n",
    "        'road':700,\n",
    "        'track':300, }"
   ]
  },
  {
   "cell_type": "markdown",
   "id": "84b69fd7-393a-48f6-aae6-33b19bb2e3b9",
   "metadata": {},
   "source": [
    "### Vulnerability data\n",
    "Similarly to the maximum damages, specifying the vulnerability curves is complex. We generally have limited information about the quality of the assets, its level of deteriation and other asset-level characteristics."
   ]
  },
  {
   "cell_type": "code",
   "execution_count": null,
   "id": "ec8a021f-0c9d-41a7-846b-fd78af69cd85",
   "metadata": {},
   "outputs": [],
   "source": [
    "vulnerability_path = \"https://zenodo.org/records/10203846/files/Table_D2_Multi-Hazard_Fragility_and_Vulnerability_Curves_V1.0.0.xlsx?download=1\"\n",
    "vul_df = pd.read_excel(vulnerability_path,sheet_name='F_Vuln_Depth')\n",
    "\n",
    "road_curves = vul_df[['ID number','F7.1']]\n",
    "road_curves = road_curves.iloc[4:125,:]\n",
    "road_curves.set_index('ID number',inplace=True)\n",
    "road_curves.index = road_curves.index.rename('Depth')  "
   ]
  },
  {
   "cell_type": "markdown",
   "id": "4b8f6aed-6096-4701-93b3-e2f861cd733d",
   "metadata": {},
   "source": [
    "### Ancilliary data for processing"
   ]
  },
  {
   "cell_type": "code",
   "execution_count": null,
   "id": "ef02d9a2-1790-4632-b66f-3e7e57eb9d51",
   "metadata": {},
   "outputs": [],
   "source": [
    "world = gpd.read_file(\"https://github.com/nvkelso/natural-earth-vector/raw/master/10m_cultural/ne_10m_admin_0_countries.shp\")\n",
    "world_plot = world.to_crs(3857)"
   ]
  },
  {
   "cell_type": "markdown",
   "id": "e288af4e-c397-46d5-a6cd-606a01ea4ed1",
   "metadata": {},
   "source": [
    "## 3. Preparing the Data"
   ]
  },
  {
   "cell_type": "markdown",
   "id": "22f5b94a-a71a-4665-b5ec-50b0569ec1d9",
   "metadata": {},
   "source": [
    "Change the column name of the object data, to ensure we can use the same functions across different infrastructure assets"
   ]
  },
  {
   "cell_type": "code",
   "execution_count": null,
   "id": "cb5afbae-51a6-4a4e-ba31-af7299af95b4",
   "metadata": {},
   "outputs": [],
   "source": [
    "features = features.rename(columns = {'highway' : 'object_type'})"
   ]
  },
  {
   "cell_type": "markdown",
   "id": "afc45662-dce8-4f15-a673-48a92bbd247b",
   "metadata": {},
   "source": [
    "Clip the hazard data to the country of interest."
   ]
  },
  {
   "cell_type": "code",
   "execution_count": null,
   "id": "c04a7e58-b7c0-4c01-a0da-2a4c17a6f359",
   "metadata": {},
   "outputs": [],
   "source": [
    "country_bounds = world.loc[world.ADM0_ISO == country_iso3].bounds\n",
    "country_geom = world.loc[world.ADM0_ISO == country_iso3].geometry"
   ]
  },
  {
   "cell_type": "code",
   "execution_count": null,
   "id": "69b07455-d7f2-4e09-ab50-f4a59dbf327a",
   "metadata": {},
   "outputs": [],
   "source": [
    "hazard_country = hazard_map.rio.clip_box(minx=country_bounds.minx.values[0],\n",
    "                     miny=country_bounds.miny.values[0],\n",
    "                     maxx=country_bounds.maxx.values[0],\n",
    "                     maxy=country_bounds.maxy.values[0]\n",
    "                    )"
   ]
  },
  {
   "cell_type": "markdown",
   "id": "9b70691a-c03a-4c78-88e1-e64441c367e7",
   "metadata": {},
   "source": [
    "And reproject it to **EPSG:3857** so we ensure that we can overlay this with the features we will analyse, and have all the overlay in meters."
   ]
  },
  {
   "cell_type": "code",
   "execution_count": null,
   "id": "46567667-8f66-4da8-ac36-5e0bd5e5d8d5",
   "metadata": {},
   "outputs": [],
   "source": [
    "%%time\n",
    "hazard_country = hazard_country.rio.reproject(\"EPSG:3857\")"
   ]
  },
  {
   "cell_type": "markdown",
   "id": "f0d3c6df-ba6d-4113-ad0b-31f5aa6e22a1",
   "metadata": {},
   "source": [
    "Let's check the extent of the flood and the units in the data"
   ]
  },
  {
   "cell_type": "code",
   "execution_count": null,
   "id": "adb71bb1-2e4f-432c-9740-f10a7a7d1afb",
   "metadata": {},
   "outputs": [],
   "source": [
    "fig, ax = plt.subplots(1,1,figsize=(10, 3))\n",
    "\n",
    "hazard_country.band_data.plot(ax=ax,cmap='Blues')\n",
    "world_plot.loc[world.SOV_A3 == country_iso3].plot(ax=ax,facecolor=\"none\",edgecolor='black')\n",
    "cx.add_basemap(ax, source=cx.providers.CartoDB.Positron,alpha=0.5)"
   ]
  },
  {
   "cell_type": "markdown",
   "id": "5ce0650d-68a9-427a-9602-e318989dec00",
   "metadata": {},
   "source": [
    "## 4. Performing the Damage Assessment\n",
    "We will apply vulnerability curves to the exposed infrastructure to estimate the damage based on the intensity of the hazard. The vulnerability curve translates hazard intensity (e.g., flood depth) into damage potential."
   ]
  },
  {
   "cell_type": "code",
   "execution_count": null,
   "id": "6cf982d8-159d-4958-ac1f-c753c244e750",
   "metadata": {
    "scrolled": true
   },
   "outputs": [],
   "source": [
    "%%time\n",
    "# get each unique severity of the hazard per object\n",
    "values_and_coverage_per_object = exact_extract(\n",
    "    hazard_country, features, [\"coverage\", \"values\"], output=\"pandas\"\n",
    ")"
   ]
  },
  {
   "cell_type": "code",
   "execution_count": null,
   "id": "b7e0fccc-0c1c-4ed0-bef3-c6c5b08d486d",
   "metadata": {},
   "outputs": [],
   "source": [
    "features[features['coverage'].map(len) > 0]"
   ]
  },
  {
   "cell_type": "code",
   "execution_count": null,
   "id": "ab18dcfd-7499-4e8c-b58b-dfa2acaff0ac",
   "metadata": {},
   "outputs": [],
   "source": [
    "features = features.merge(values_and_coverage_per_object,left_index=True,right_index=True)"
   ]
  },
  {
   "cell_type": "code",
   "execution_count": null,
   "id": "370c4677-d2bd-4e54-8dba-24f5ce2aed26",
   "metadata": {},
   "outputs": [],
   "source": [
    "hazard_intensity = np.float16(road_curves.index.values)*100\n",
    "fragility_values = np.float16(road_curves['F7.1'].values)"
   ]
  },
  {
   "cell_type": "code",
   "execution_count": null,
   "id": "2a959c8c-f962-46a1-915a-e5d44464d340",
   "metadata": {},
   "outputs": [],
   "source": [
    "def _get_damage_per_element(asset,hazard_intensity,fragility_values,maxdam_dict):\n",
    "    \"\"\"\n",
    "    Calculate damage for a given asset based on hazard information.\n",
    "    Arguments:\n",
    "        *asset*: Tuple containing information about the asset. It includes:\n",
    "            - Index or identifier of the asset (asset[0]).\n",
    "            - Asset-specific information, including hazard points (asset[1]['hazard_point']).\n",
    "        *maxdam_dict*: Maximum damage value.\n",
    "    Returns:\n",
    "        *tuple*: A tuple containing the asset index or identifier and the calculated damage.\n",
    "    \"\"\"\n",
    "    \n",
    "    return np.sum(np.interp(np.float16(asset['values']),\n",
    "       hazard_intensity,fragility_values)*asset['coverage']*maxdam_dict[asset['object_type']])\n",
    "   "
   ]
  },
  {
   "cell_type": "code",
   "execution_count": null,
   "id": "1b38798f-b6d8-417b-8dbc-878b84e46a3d",
   "metadata": {},
   "outputs": [],
   "source": [
    "tqdm.pandas()\n",
    "features['damage'] = features.progress_apply(lambda asset : \n",
    "                                                     _get_damage_per_element(asset,\n",
    "                                                    hazard_intensity, fragility_values,maxdam_dict),axis=1) "
   ]
  },
  {
   "cell_type": "markdown",
   "id": "8d64f90d-bf96-47af-bcc2-c360a488cb65",
   "metadata": {},
   "source": [
    "## 5. Visualizing the Results\n",
    "The results of the damage assessment can be visualized using charts and maps. This will provide a clear representation of which infrastructure is most affected by the hazard and the expected damage levels."
   ]
  },
  {
   "cell_type": "code",
   "execution_count": null,
   "id": "9932ee42-0fd6-47af-8a4c-47b05a640c86",
   "metadata": {},
   "outputs": [],
   "source": [
    "damage_results = features.loc[features.damage > 0]"
   ]
  },
  {
   "cell_type": "markdown",
   "id": "bff84da3-4f11-454a-b116-f82cc9de33a0",
   "metadata": {},
   "source": [
    "Find the locations of the twenty most damaged roads."
   ]
  },
  {
   "cell_type": "code",
   "execution_count": null,
   "id": "85055ecb-86cc-4943-a8d8-3aed407f2d11",
   "metadata": {},
   "outputs": [],
   "source": [
    "fig, ax = plt.subplots(1,1,figsize=(10, 5))\n",
    "\n",
    "damage_results.sort_values('damage',ascending=False).head(20).plot(ax=ax,color='Red')\n",
    "features.plot(ax=ax,facecolor=\"none\",edgecolor='grey',alpha=0.5,zorder=2,lw=0.1)\n",
    "world_plot.loc[world.SOV_A3 == country_iso3].plot(ax=ax,facecolor=\"none\",edgecolor='black')\n",
    "cx.add_basemap(ax, source=cx.providers.CartoDB.Positron,alpha=0.5)\n",
    "ax.set_axis_off()"
   ]
  },
  {
   "cell_type": "markdown",
   "id": "e22ad4ae-c7b4-480e-8286-3328bb182ee7",
   "metadata": {},
   "source": [
    "And create a distribution of the damages."
   ]
  },
  {
   "cell_type": "code",
   "execution_count": null,
   "id": "8c60f11f-ab90-4342-a17e-cbc082cdbd74",
   "metadata": {},
   "outputs": [],
   "source": [
    "fig, ax = plt.subplots(1,1,figsize=(7, 3))\n",
    "\n",
    "sns.histplot(data=damage_results,x='damage',ax=ax)"
   ]
  },
  {
   "cell_type": "markdown",
   "id": "e3a66d7e-6cb8-4cf1-aa79-90df85ae6991",
   "metadata": {},
   "source": [
    "Plot all damages"
   ]
  },
  {
   "cell_type": "code",
   "execution_count": null,
   "id": "80ac9402-f46c-4289-bb54-553f6a27edaf",
   "metadata": {},
   "outputs": [],
   "source": [
    "fig, ax = plt.subplots(1,1,figsize=(10, 5))\n",
    "\n",
    "damage_results.plot(ax=ax,column='damage',cmap='Reds',legend=True,\n",
    "                   legend_kwds={'shrink': 0.5,'label':'Absolute Damage'},zorder=5)\n",
    "features.plot(ax=ax,facecolor=\"none\",edgecolor='grey',alpha=0.5,zorder=2,lw=0.1)\n",
    "world_plot.loc[world.SOV_A3 == country_iso3].plot(ax=ax,facecolor=\"none\",edgecolor='black')\n",
    "cx.add_basemap(ax, source=cx.providers.CartoDB.Positron,alpha=0.5)\n",
    "ax.set_axis_off()"
   ]
  }
 ],
 "metadata": {
  "kernelspec": {
   "display_name": "Python 3 (ipykernel)",
   "language": "python",
   "name": "python3"
  },
  "language_info": {
   "codemirror_mode": {
    "name": "ipython",
    "version": 3
   },
   "file_extension": ".py",
   "mimetype": "text/x-python",
   "name": "python",
   "nbconvert_exporter": "python",
   "pygments_lexer": "ipython3",
   "version": "3.12.3"
  }
 },
 "nbformat": 4,
 "nbformat_minor": 5
}
