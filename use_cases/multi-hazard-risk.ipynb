{
 "cells": [
  {
   "cell_type": "markdown",
   "id": "ff2269a6-2821-4d99-8541-7a2874e7b8b5",
   "metadata": {},
   "source": [
    "# Multi-hazard risk assessment\n",
    "\n",
    "In this notebook, we will perform a **multi-hazard risk assessmente** for education infrastructure data within a country. The assessment is based on combining hazard data (e.g., flood depths) with OpenStreetMap feature data.\n",
    "\n",
    "We will follow the steps outlined below to conduct the assessment:\n",
    "\n",
    "1. **Loading the necessary packages:**  \n",
    "   We will import the Python libraries required for data handling, analysis, and visualization.\n",
    "\n",
    "2. **Loading the data:**  \n",
    "   The infrastructure data (e.g., hospitals) and hazard data (e.g., flood depths) will be loaded into the notebook.\n",
    "\n",
    "3. **Preparing the data:**  \n",
    "   The infrastructure and hazard data will be processed and data gaps can be filled, if required.\n",
    "\n",
    "4. **Performing the risk assessment:**  \n",
    "   We will overlay the hazard data with the feature information.\n",
    "\n",
    "5. **Visualizing the results:**  \n",
    "   Finally, we will visualize the estimated exposure using graphs and maps."
   ]
  },
  {
   "cell_type": "markdown",
   "id": "496066ab-183a-4135-846c-2a0c64d0c8fd",
   "metadata": {},
   "source": [
    "## 1. Loading the Necessary Packages\n",
    "To perform the assessment, we are going to make use of several [python packages](https://docs.python.org/3/tutorial/modules.html#packages).\n",
    "\n",
    "In case you run this in Google Colab, you will have to install the packages below **(remove the hashtag in front of them)**."
   ]
  },
  {
   "cell_type": "code",
   "execution_count": 1,
   "id": "86eae68c-fe2b-4d3f-b060-56bf51b1fdac",
   "metadata": {},
   "outputs": [],
   "source": [
    "#!pip install damagescanner==0.9b13\n",
    "#!pip install contextily\n",
    "#!pip install exactextract\n",
    "#!pip install lonboard"
   ]
  },
  {
   "cell_type": "markdown",
   "id": "7d5ffb4b-dff9-4a6d-b696-62f046286ff8",
   "metadata": {},
   "source": [
    "In this step, we will import all the required Python libraries for data manipulation, spatial analysis, and visualization."
   ]
  },
  {
   "cell_type": "code",
   "execution_count": 2,
   "id": "dfa6c20b-e633-45f1-b4cc-4a461ec5c55d",
   "metadata": {},
   "outputs": [],
   "source": [
    "import warnings\n",
    "import xarray as xr\n",
    "import numpy as np\n",
    "import pandas as pd\n",
    "import geopandas as gpd\n",
    "import seaborn as sns\n",
    "import shapely\n",
    "from tqdm import tqdm\n",
    "\n",
    "import matplotlib.pyplot as plt\n",
    "import contextily as cx\n",
    "\n",
    "import damagescanner.download as download\n",
    "from damagescanner.core import DamageScanner\n",
    "from damagescanner.osm import read_osm_data\n",
    "from damagescanner.base_values import DICT_CIS_VULNERABILITY_FLOOD\n",
    "from statistics import mode\n",
    "\n",
    "from lonboard import viz\n",
    "\n",
    "warnings.simplefilter(action='ignore', category=FutureWarning)\n",
    "warnings.simplefilter(action='ignore', category=RuntimeWarning) # exactextract gives a warning that is invalid"
   ]
  },
  {
   "cell_type": "markdown",
   "id": "d0e4478d-f847-4b8d-a125-1072f9e1091e",
   "metadata": {},
   "source": [
    "### Specify the country of interest"
   ]
  },
  {
   "cell_type": "markdown",
   "id": "69b2f346-d85c-4591-883f-421d0d11d2aa",
   "metadata": {},
   "source": [
    "Before we continue, we should specify the country for which we want to assess the damage. We use the ISO3 code for the country to download the OpenStreetMap data."
   ]
  },
  {
   "cell_type": "code",
   "execution_count": 3,
   "id": "893f262d-de37-439c-8146-c105e1433bf8",
   "metadata": {},
   "outputs": [],
   "source": [
    "country_full_name = 'Haiti'\n",
    "country_iso3 = 'HTI'"
   ]
  },
  {
   "cell_type": "markdown",
   "id": "120c403a-595e-48e2-91f7-28605e92a8ab",
   "metadata": {},
   "source": [
    "### Specify the hazards of interest\n",
    "To help us performing a consistent analysis on which hazards we include, its most convenient to provide a list of the hazards at the start of our analysis."
   ]
  },
  {
   "cell_type": "code",
   "execution_count": 4,
   "id": "6cd56f97-ab42-4197-a333-da581ac703dd",
   "metadata": {},
   "outputs": [],
   "source": [
    "hazards = ['Earthquake','Flood','Tropical_Cyclone']"
   ]
  },
  {
   "cell_type": "markdown",
   "id": "87ac8d4d-3437-4130-8209-56d66847a861",
   "metadata": {},
   "source": [
    "## 2. Loading the Data\n",
    "In this step, we will prepare and load two key datasets:\n",
    "\n",
    "1. **Infrastructure data:**  \n",
    "   This dataset contains information on the location and type of infrastructure (e.g., roads). Each asset may have attributes such as type, length, and replacement cost.\n",
    "\n",
    "2. **Hazard data:**  \n",
    "   This dataset includes information on the hazard affecting the infrastructure (e.g., flood depth at various locations)."
   ]
  },
  {
   "cell_type": "markdown",
   "id": "4261cf13-9e72-4a23-885e-20a058f59c76",
   "metadata": {},
   "source": [
    "### Infrastructure Data\n",
    "\n",
    "We will perform this example analysis for Jamaica. To start the analysis, we first download the OpenStreetMap data from GeoFabrik. "
   ]
  },
  {
   "cell_type": "code",
   "execution_count": 5,
   "id": "edbc8823-c5d8-4b9b-9fa0-f6dc90100950",
   "metadata": {},
   "outputs": [],
   "source": [
    "infrastructure_path = download.get_country_geofabrik(country_iso3)"
   ]
  },
  {
   "cell_type": "markdown",
   "id": "2b78abff-e6d8-4c16-b43a-38c571141940",
   "metadata": {},
   "source": [
    "Now we load the data and read only the education data."
   ]
  },
  {
   "cell_type": "code",
   "execution_count": 6,
   "id": "a097b059-7202-4f10-adc1-d60c4355e53f",
   "metadata": {},
   "outputs": [
    {
     "name": "stdout",
     "output_type": "stream",
     "text": [
      "CPU times: total: 39.8 s\n",
      "Wall time: 1min 3s\n"
     ]
    }
   ],
   "source": [
    "%%time\n",
    "features = read_osm_data(infrastructure_path,asset_type='education')"
   ]
  },
  {
   "cell_type": "code",
   "execution_count": 7,
   "id": "a70942b4-7d8b-489f-a716-ef37c4e3805e",
   "metadata": {},
   "outputs": [
    {
     "data": {
      "text/plain": [
       "array(['school', 'library', 'college', 'kindergarten', 'university'],\n",
       "      dtype=object)"
      ]
     },
     "execution_count": 7,
     "metadata": {},
     "output_type": "execute_result"
    }
   ],
   "source": [
    "sub_types = features.object_type.unique()\n",
    "sub_types"
   ]
  },
  {
   "cell_type": "markdown",
   "id": "189d92ff-de23-4d0c-a116-f17a6abbb231",
   "metadata": {},
   "source": [
    "### Vulnerability data\n",
    "We will collect all the vulnerability curves for each of the asset types and for each of the hazards. Important to note is that national or local-scale analysis requires a thorough check which curves can and should be used!"
   ]
  },
  {
   "cell_type": "code",
   "execution_count": 8,
   "id": "eaee8298-5fed-41ee-bb54-5d5717aefa9e",
   "metadata": {},
   "outputs": [],
   "source": [
    "vulnerability_path = \"https://zenodo.org/records/13889558/files/Table_D2_Hazard_Fragility_and_Vulnerability_Curves_V1.1.0.xlsx?download=1\""
   ]
  },
  {
   "cell_type": "code",
   "execution_count": 9,
   "id": "80fbe7d6-3f07-4fe7-9e68-2910f1493265",
   "metadata": {},
   "outputs": [],
   "source": [
    "collect_vulnerability_dataframes = {}\n",
    "for hazard in hazards:\n",
    "    if hazard == 'Earthquake':\n",
    "        collect_vulnerability_dataframes[hazard] = pd.read_excel(vulnerability_path,sheet_name='E_Vuln_PGA ')\n",
    "    elif hazard == 'Flood':\n",
    "        collect_vulnerability_dataframes[hazard] = pd.read_excel(vulnerability_path,sheet_name='F_Vuln_Depth')\n",
    "    elif hazard == 'Tropical_Cyclone':\n",
    "        collect_vulnerability_dataframes[hazard] = pd.read_excel(vulnerability_path,sheet_name='W_Vuln_V10m')   "
   ]
  },
  {
   "cell_type": "markdown",
   "id": "dc4a0dc0-3b01-4563-815f-9b0ff3bba410",
   "metadata": {},
   "source": [
    "And now select a curve to use for each different subtype we are analysing for each of the hazards"
   ]
  },
  {
   "cell_type": "code",
   "execution_count": 10,
   "id": "eb65104e-85d0-4854-828b-57ad05644f9f",
   "metadata": {},
   "outputs": [],
   "source": [
    "selected_curves_dict = {}\n",
    "selected_curves_dict['Earthquake'] = dict(zip(sub_types,['E21.11','E21.11','E21.11','E21.11','E21.11']))\n",
    "selected_curves_dict['Flood'] = dict(zip(sub_types,['F21.11','F21.10','F21.10','F21.10','F21.10']))\n",
    "selected_curves_dict['Tropical_Cyclone'] = dict(zip(sub_types,['W21.2','W21.3','W21.4','W21.5','W21.10']))"
   ]
  },
  {
   "cell_type": "markdown",
   "id": "5f12afeb-7780-40dc-b29d-80a2069fc77b",
   "metadata": {},
   "source": [
    "We need to ensure that we correctly name the index of our **damage_curves** `pd.DataFrame`, and that we convert the index values to the same unit as the hazard data."
   ]
  },
  {
   "cell_type": "code",
   "execution_count": 11,
   "id": "a2a7e6a0-6013-4ac3-aaa7-b2e55ab76244",
   "metadata": {},
   "outputs": [],
   "source": [
    "hazard_intensity_metric = {'Earthquake': 'PGA',\n",
    "                        'Flood' : 'Depth',\n",
    "                        'Tropical_Cyclone' : 'WindSpeed'}\n",
    "\n",
    "aligning_curve_and_hazard_data = {'Earthquake': 980,\n",
    "                        'Flood' : 100,\n",
    "                        'Tropical_Cyclone' : 1}\n"
   ]
  },
  {
   "cell_type": "markdown",
   "id": "18287ae6-d426-4875-8bf7-6a8108357e84",
   "metadata": {},
   "source": [
    "And then we can populate a `dict()` with the **damage curves** for each hazard included in our analysis."
   ]
  },
  {
   "cell_type": "code",
   "execution_count": 12,
   "id": "192dc89d-5281-436b-96ef-8d6caaecc76a",
   "metadata": {},
   "outputs": [],
   "source": [
    "damage_curves_all_hazards = {}\n",
    "\n",
    "for hazard in hazards:\n",
    "    vul_df = collect_vulnerability_dataframes[hazard]\n",
    "    damage_curves = vul_df[['ID number']+list(selected_curves_dict[hazard].values())]\n",
    "    damage_curves = damage_curves.iloc[4:125,:]\n",
    "    damage_curves.set_index('ID number',inplace=True)\n",
    "    damage_curves.index = damage_curves.index.rename(hazard_intensity_metric[hazard])  \n",
    "    damage_curves = damage_curves.astype(np.float32)\n",
    "    damage_curves.columns = sub_types\n",
    "    damage_curves = damage_curves.fillna(method='ffill')\n",
    "    damage_curves.index = damage_curves.index*aligning_curve_and_hazard_data[hazard]\n",
    "\n",
    "    damage_curves_all_hazards[hazard] = damage_curves"
   ]
  },
  {
   "cell_type": "markdown",
   "id": "cc149caa-29c1-4b4b-922b-c0c8a5e9a8ee",
   "metadata": {},
   "source": [
    "### Maximum damages\n",
    "One of the most difficult parts of the assessment is to define the maximum reconstruction cost of particular assets. Here we provide a baseline set of values, but these should be updated through national consultations.\n",
    "\n",
    "Locations of education facilities are (somewhat randomly) geotagged as either points or polygons. This matters quite a lot for the maximum damages. For polygons, we would use damage per square meter, whereas for points, we would estimate the damage to the entire asset at once. Here we take the approach of converting the points to polygons, and there define our maximum damages in dollar per square meter. "
   ]
  },
  {
   "cell_type": "code",
   "execution_count": 13,
   "id": "627aa12e-cd4d-4231-ad81-08c426370486",
   "metadata": {},
   "outputs": [],
   "source": [
    "maxdam_dict = {'community_centre' : 1000, \n",
    "               'school' : 1000, \n",
    "               'kindergarten' : 1000, \n",
    "               'university' : 1000, \n",
    "               'college' : 1000,\n",
    "               'library' : 1000\n",
    "              }"
   ]
  },
  {
   "cell_type": "code",
   "execution_count": 14,
   "id": "eee1ba56-daaf-48aa-a688-404437eefe7c",
   "metadata": {},
   "outputs": [],
   "source": [
    "maxdam = pd.DataFrame.from_dict(maxdam_dict,orient='index').reset_index()\n",
    "maxdam.columns = ['object_type','damage']"
   ]
  },
  {
   "cell_type": "markdown",
   "id": "9cbda29f-bee7-4f69-bdb9-847246631ee0",
   "metadata": {},
   "source": [
    "And check if any of the objects are missing from the dataframe."
   ]
  },
  {
   "cell_type": "code",
   "execution_count": 15,
   "id": "d847d639-f0e9-4572-bb61-38d4ea525f09",
   "metadata": {},
   "outputs": [],
   "source": [
    "missing = set(sub_types) - set(maxdam.object_type)\n",
    "\n",
    "if len(missing) > 0:\n",
    "    print(f\"Missing object types in maxdam: \\033[1m{', '.join(missing)}\\033[0m. Please add them before you continue.\")"
   ]
  },
  {
   "cell_type": "markdown",
   "id": "fecfb85f-83ff-47c7-81c7-210b91cd6d4d",
   "metadata": {},
   "source": [
    "### Ancilliary data for processing"
   ]
  },
  {
   "cell_type": "code",
   "execution_count": 16,
   "id": "3950e129-783e-47cb-973f-2729e5b3f598",
   "metadata": {},
   "outputs": [],
   "source": [
    "world = gpd.read_file(\"https://github.com/nvkelso/natural-earth-vector/raw/master/10m_cultural/ne_10m_admin_0_countries.shp\")\n",
    "world_plot = world.to_crs(3857)"
   ]
  },
  {
   "cell_type": "code",
   "execution_count": 17,
   "id": "a6a7904f-075a-457f-842c-3109e09c9301",
   "metadata": {},
   "outputs": [],
   "source": [
    "admin1 = gpd.read_file(\"https://github.com/nvkelso/natural-earth-vector/raw/master/10m_cultural/ne_10m_admin_1_states_provinces.shp\")"
   ]
  },
  {
   "cell_type": "markdown",
   "id": "673fb20b-b243-4adf-9aef-b7f0146cf67c",
   "metadata": {},
   "source": [
    "## 3. Preparing the Data"
   ]
  },
  {
   "cell_type": "markdown",
   "id": "04b60cd7-2226-49b0-bd19-4bf12e27dd4b",
   "metadata": {},
   "source": [
    "Clip the hazard data to the country of interest."
   ]
  },
  {
   "cell_type": "code",
   "execution_count": 18,
   "id": "1a53c341-20af-4cde-bc61-886ea045718b",
   "metadata": {},
   "outputs": [],
   "source": [
    "country_bounds = world.loc[world.ADM0_ISO == country_iso3].bounds\n",
    "country_geom = world.loc[world.ADM0_ISO == country_iso3].geometry"
   ]
  },
  {
   "cell_type": "code",
   "execution_count": 19,
   "id": "74315567-7a4e-427d-b3e8-38d67827805b",
   "metadata": {},
   "outputs": [],
   "source": [
    "country_box = shapely.box(country_bounds.minx.values,country_bounds.miny.values,country_bounds.maxx.values,country_bounds.maxy.values)[0]"
   ]
  },
  {
   "cell_type": "markdown",
   "id": "d891d45c-f7c6-4d4f-8ae1-fd862b23af7c",
   "metadata": {},
   "source": [
    "### Hazard Data\n",
    "For this example, we make use of the flood, earthquake and tropical cyclone data provided by [CDRI](https://giri.unepgrid.ch/map?list=explore).\n",
    "\n",
    "For our risk assessment, we will need to define a set of return periods for each of the hazards, and create a hazard_dict for each of the hazards well."
   ]
  },
  {
   "cell_type": "code",
   "execution_count": 20,
   "id": "5d37247e-d3e1-4283-abe9-6e4a953aee36",
   "metadata": {},
   "outputs": [],
   "source": [
    "hazard_return_periods = {'Earthquake': [250,475,975,1500,2475],\n",
    "                        'Flood' : [2,5,10,50,100,200,500,1000],\n",
    "                        'Tropical_Cyclone' : [25,50,100,250]    \n",
    "}"
   ]
  },
  {
   "cell_type": "markdown",
   "id": "615868c3-0f02-4d3d-b274-5a4b7719d616",
   "metadata": {},
   "source": [
    "And now we can download the hazard data and directly clip this to our country of interest."
   ]
  },
  {
   "cell_type": "code",
   "execution_count": 21,
   "id": "a62592cf-9503-46e4-867f-4af41d357b84",
   "metadata": {},
   "outputs": [],
   "source": [
    "hazard_dict_per_hazard = {}\n",
    "\n",
    "for hazard in hazards:\n",
    "    hazard_dict = {}\n",
    "    for return_period in hazard_return_periods[hazard]:\n",
    "        if hazard == 'Earthquake':\n",
    "            hazard_map = xr.open_dataset(f\"https://hazards-data.unepgrid.ch/PGA_{return_period}y.tif\", engine=\"rasterio\")\n",
    "        elif hazard == 'Flood':\n",
    "            hazard_map = xr.open_dataset(f\"https://hazards-data.unepgrid.ch/global_pc_h{return_period}glob.tif\", engine=\"rasterio\")\n",
    "        elif hazard == 'Tropical_Cyclone':\n",
    "            hazard_map = xr.open_dataset(f\"https://hazards-data.unepgrid.ch/Wind_T{return_period}.tif\", engine=\"rasterio\")\n",
    "    \n",
    "        hazard_dict[return_period] = hazard_map.rio.clip_box(minx=country_bounds.minx.values[0],\n",
    "                         miny=country_bounds.miny.values[0],\n",
    "                         maxx=country_bounds.maxx.values[0],\n",
    "                         maxy=country_bounds.maxy.values[0]\n",
    "                        )\n",
    "    hazard_dict_per_hazard[hazard] = hazard_dict"
   ]
  },
  {
   "cell_type": "markdown",
   "id": "447147e3-5c63-49fd-a188-908659710956",
   "metadata": {},
   "source": [
    "### Convert point data to polygons. \n",
    "\n",
    "For some data, there are both points and polygons available. It makes life easier to estimate the damage using polygons. Therefore, we convert those points to Polygons below. \n",
    "\n",
    "Let's first get an overview of the different geometry types for all the assets we are considering in this analysis:"
   ]
  },
  {
   "cell_type": "code",
   "execution_count": 22,
   "id": "c0578d2a-251c-4526-923a-f33e7ac59387",
   "metadata": {},
   "outputs": [],
   "source": [
    "features['geom_type'] = features.geom_type"
   ]
  },
  {
   "cell_type": "code",
   "execution_count": 23,
   "id": "f167974e-74b3-44ae-b52b-fb6858fa67c0",
   "metadata": {},
   "outputs": [
    {
     "data": {
      "text/plain": [
       "object_type   geom_type   \n",
       "college       MultiPolygon     102\n",
       "              Point            188\n",
       "kindergarten  MultiPolygon      39\n",
       "              Point            258\n",
       "library       MultiPolygon      16\n",
       "              Point             64\n",
       "school        MultiPolygon    2954\n",
       "              Point           4453\n",
       "university    MultiPolygon      89\n",
       "              Point             72\n",
       "Name: geometry, dtype: int64"
      ]
     },
     "execution_count": 23,
     "metadata": {},
     "output_type": "execute_result"
    }
   ],
   "source": [
    "features.groupby(['object_type','geom_type']).count()['geometry']"
   ]
  },
  {
   "cell_type": "markdown",
   "id": "cbd0431a-6161-4369-94eb-b6f19f7ccc38",
   "metadata": {},
   "source": [
    "The results above indicate that several asset types that are expected to be *Polygons* are stored as *Points* as well. It would be preferably to convert them all to polygons. For the *Points*, we will have to estimate a the average size, so we can use that to create a `buffer` around the assets.\n",
    "\n",
    "To do so, let's grab the polygon data and estimate their size. We grab the median so we are not too much influenced by extreme outliers. If preferred, please change `.median()` to `.mean()` (or any other metric). "
   ]
  },
  {
   "cell_type": "code",
   "execution_count": 24,
   "id": "8ee4872f-d7da-4baf-b918-d138caab25e7",
   "metadata": {
    "scrolled": true
   },
   "outputs": [
    {
     "data": {
      "text/html": [
       "<div>\n",
       "<style scoped>\n",
       "    .dataframe tbody tr th:only-of-type {\n",
       "        vertical-align: middle;\n",
       "    }\n",
       "\n",
       "    .dataframe tbody tr th {\n",
       "        vertical-align: top;\n",
       "    }\n",
       "\n",
       "    .dataframe thead th {\n",
       "        text-align: right;\n",
       "    }\n",
       "</style>\n",
       "<table border=\"1\" class=\"dataframe\">\n",
       "  <thead>\n",
       "    <tr style=\"text-align: right;\">\n",
       "      <th></th>\n",
       "      <th>square_m2</th>\n",
       "    </tr>\n",
       "    <tr>\n",
       "      <th>object_type</th>\n",
       "      <th></th>\n",
       "    </tr>\n",
       "  </thead>\n",
       "  <tbody>\n",
       "    <tr>\n",
       "      <th>college</th>\n",
       "      <td>3716.906521</td>\n",
       "    </tr>\n",
       "    <tr>\n",
       "      <th>kindergarten</th>\n",
       "      <td>379.732851</td>\n",
       "    </tr>\n",
       "    <tr>\n",
       "      <th>library</th>\n",
       "      <td>276.930508</td>\n",
       "    </tr>\n",
       "    <tr>\n",
       "      <th>school</th>\n",
       "      <td>372.298692</td>\n",
       "    </tr>\n",
       "    <tr>\n",
       "      <th>university</th>\n",
       "      <td>9414.634906</td>\n",
       "    </tr>\n",
       "  </tbody>\n",
       "</table>\n",
       "</div>"
      ],
      "text/plain": [
       "                square_m2\n",
       "object_type              \n",
       "college       3716.906521\n",
       "kindergarten   379.732851\n",
       "library        276.930508\n",
       "school         372.298692\n",
       "university    9414.634906"
      ]
     },
     "execution_count": 24,
     "metadata": {},
     "output_type": "execute_result"
    }
   ],
   "source": [
    "polygon_features = features.loc[features.geometry.geom_type.isin(['Polygon','MultiPolygon'])].to_crs(3857)\n",
    "polygon_features['square_m2'] = polygon_features.area\n",
    "\n",
    "square_m2_object_type = polygon_features[['object_type','square_m2']].groupby('object_type').median()\n",
    "square_m2_object_type"
   ]
  },
  {
   "cell_type": "markdown",
   "id": "fc754dc3-9bff-468d-b096-ef092599ec29",
   "metadata": {},
   "source": [
    "Now we create a list in which we define the assets we want to \"polygonize\": "
   ]
  },
  {
   "cell_type": "code",
   "execution_count": 25,
   "id": "f0d361ea-d789-4c79-a1b8-bf401ea0deec",
   "metadata": {},
   "outputs": [],
   "source": [
    "points_to_polygonize = ['college','kindergarten','library','school','university']"
   ]
  },
  {
   "cell_type": "markdown",
   "id": "edf624a0-d7f8-4c0c-9518-9514eb1d68b6",
   "metadata": {},
   "source": [
    "And take them from our data again:"
   ]
  },
  {
   "cell_type": "code",
   "execution_count": 26,
   "id": "b3255859-5a33-4206-87d2-ac0cc017f245",
   "metadata": {},
   "outputs": [],
   "source": [
    "all_assets_to_polygonize = features.loc[(features.object_type.isin(points_to_polygonize)) & (features.geometry.geom_type == 'Point')]"
   ]
  },
  {
   "cell_type": "markdown",
   "id": "694f2d43-e0eb-4c74-80b9-fdecedbd6225",
   "metadata": {},
   "source": [
    "When performing a buffer, it is always best to do this in meters. As such, we will briefly convert the point data into a **crs** system in meters."
   ]
  },
  {
   "cell_type": "code",
   "execution_count": 27,
   "id": "d519bed2-fd45-49bd-999e-940cb75cbee7",
   "metadata": {},
   "outputs": [],
   "source": [
    "all_assets_to_polygonize = all_assets_to_polygonize.to_crs(3857)"
   ]
  },
  {
   "cell_type": "code",
   "execution_count": 28,
   "id": "f38bb070-69ae-4b85-98a5-8068b68715e1",
   "metadata": {},
   "outputs": [],
   "source": [
    "def polygonize_point_per_asset(asset):\n",
    "\n",
    "    # we first need to set a buffer length. This is half of width/length of an asset.\n",
    "    buffer_length = np.sqrt(square_m2_object_type.loc[asset.object_type].values[0])/2\n",
    "\n",
    "    # then we can buffer the asset\n",
    "    return asset.geometry.buffer(buffer_length,cap_style='square')\n",
    "\n",
    "collect_new_point_geometries = all_assets_to_polygonize.apply(lambda asset:  polygonize_point_per_asset(asset),axis=1).set_crs(3857).to_crs(4326).values"
   ]
  },
  {
   "cell_type": "code",
   "execution_count": 29,
   "id": "630c9b96-f579-4ecc-8b95-7371f55b3255",
   "metadata": {},
   "outputs": [],
   "source": [
    "features.loc[(features.object_type.isin(points_to_polygonize)) & (features.geometry.geom_type == 'Point'),'geometry'] = collect_new_point_geometries"
   ]
  },
  {
   "cell_type": "markdown",
   "id": "95e6d401-1bdc-4eda-b4e3-6f85c141111c",
   "metadata": {},
   "source": [
    "And check if any \"undesired\" *Points* are still left:"
   ]
  },
  {
   "cell_type": "code",
   "execution_count": 30,
   "id": "66b917a8-c25b-49b6-b0da-13e8cadeb31b",
   "metadata": {
    "scrolled": true
   },
   "outputs": [
    {
     "data": {
      "text/html": [
       "<div>\n",
       "<style scoped>\n",
       "    .dataframe tbody tr th:only-of-type {\n",
       "        vertical-align: middle;\n",
       "    }\n",
       "\n",
       "    .dataframe tbody tr th {\n",
       "        vertical-align: top;\n",
       "    }\n",
       "\n",
       "    .dataframe thead th {\n",
       "        text-align: right;\n",
       "    }\n",
       "</style>\n",
       "<table border=\"1\" class=\"dataframe\">\n",
       "  <thead>\n",
       "    <tr style=\"text-align: right;\">\n",
       "      <th></th>\n",
       "      <th>osm_id</th>\n",
       "      <th>geometry</th>\n",
       "      <th>object_type</th>\n",
       "      <th>geom_type</th>\n",
       "    </tr>\n",
       "  </thead>\n",
       "  <tbody>\n",
       "  </tbody>\n",
       "</table>\n",
       "</div>"
      ],
      "text/plain": [
       "Empty GeoDataFrame\n",
       "Columns: [osm_id, geometry, object_type, geom_type]\n",
       "Index: []"
      ]
     },
     "execution_count": 30,
     "metadata": {},
     "output_type": "execute_result"
    }
   ],
   "source": [
    "features.loc[(features.object_type.isin(points_to_polygonize)) & (features.geometry.geom_type == 'Point')]"
   ]
  },
  {
   "cell_type": "markdown",
   "id": "ca67ff1e-30e1-401a-ab55-4ecdf95c94f4",
   "metadata": {},
   "source": [
    "And remove the 'geom_type' column again, as we do not need it again."
   ]
  },
  {
   "cell_type": "code",
   "execution_count": 31,
   "id": "5309a92b-c463-4d2c-9940-b0f8398a8b7f",
   "metadata": {},
   "outputs": [],
   "source": [
    "features = features.drop(['geom_type'],axis=1)"
   ]
  },
  {
   "cell_type": "markdown",
   "id": "059038ad-a4ae-4371-9d63-163462ec40e6",
   "metadata": {},
   "source": [
    "## 4. Performing the Risk Assessment\n",
    "We will use the DamageScanner approach. This is a fully optimised exposure, vulnerability damage and risk calculation method, that can capture a wide range of inputs to perform such an assessment."
   ]
  },
  {
   "cell_type": "code",
   "execution_count": 32,
   "id": "e5deb209-8b85-47c3-af7b-23cef41343e8",
   "metadata": {},
   "outputs": [
    {
     "name": "stderr",
     "output_type": "stream",
     "text": [
      "Risk Calculation: 100%|██████████████████████████████████████████████████████████████████| 5/5 [02:21<00:00, 28.29s/it]\n",
      "Risk Calculation: 100%|██████████████████████████████████████████████████████████████████| 8/8 [03:32<00:00, 26.58s/it]\n",
      "Risk Calculation: 100%|██████████████████████████████████████████████████████████████████| 4/4 [01:46<00:00, 26.69s/it]\n"
     ]
    }
   ],
   "source": [
    "save_asset_risk_results = {}\n",
    "for hazard in hazards:\n",
    "  save_asset_risk_results[hazard] = DamageScanner(hazard_dict_per_hazard[hazard], \n",
    "                                                   features, \n",
    "                                                   curves=damage_curves_all_hazards[hazard], \n",
    "                                                   maxdam=maxdam\n",
    "                                                       ).risk(hazard_dict_per_hazard[hazard]\n",
    "    )\n"
   ]
  },
  {
   "cell_type": "code",
   "execution_count": 33,
   "id": "8d184b84-bf61-429c-9d8f-a99c5de5197a",
   "metadata": {},
   "outputs": [],
   "source": [
    "combine_results = []\n",
    "for hazard in hazards:\n",
    "    results = save_asset_risk_results[hazard]\n",
    "    combine_results.append(pd.DataFrame(results.rename(columns={'risk': hazard})[hazard]))\n",
    "\n",
    "risk_outcomes = features.merge(pd.concat(combine_results,axis=1),right_index=True,left_index=True,how='outer')"
   ]
  },
  {
   "cell_type": "markdown",
   "id": "0ac6289f-e4ac-444c-b25c-1e1c4ff02b2f",
   "metadata": {},
   "source": [
    "## 5. Save the Results\n",
    "For further analysis, we can save the results in their full detail, or save summary estimates per subnational unit "
   ]
  },
  {
   "cell_type": "code",
   "execution_count": 34,
   "id": "abdaae26-0c80-4b34-ab01-64ec94f89ec3",
   "metadata": {},
   "outputs": [],
   "source": [
    "risk_outcomes.to_file(f'Healthcare_Multi_Risk_{'_'.join(hazards)}.gpkg')"
   ]
  },
  {
   "cell_type": "code",
   "execution_count": 35,
   "id": "30026667-44cd-4ab0-b842-76622684f93b",
   "metadata": {},
   "outputs": [],
   "source": [
    "admin1_country = admin1.loc[admin1.sov_a3 == country_iso3]"
   ]
  },
  {
   "cell_type": "code",
   "execution_count": 36,
   "id": "cb597b0a-6ddf-4e39-9995-56859fff587a",
   "metadata": {},
   "outputs": [],
   "source": [
    "risk_outcomes = risk_outcomes.sjoin(admin1_country[['adm1_code','name','geometry']])"
   ]
  },
  {
   "cell_type": "code",
   "execution_count": 37,
   "id": "f785eafe-acce-471c-b012-15a42c70631b",
   "metadata": {},
   "outputs": [],
   "source": [
    "admin1_damage = admin1_country.merge(risk_outcomes[['name']+hazards].groupby('name').sum(),\n",
    "                                     left_on='name',\n",
    "                                     right_on='name',\n",
    "                                     how='outer')[['name','adm1_code','geometry']+hazards]"
   ]
  },
  {
   "cell_type": "code",
   "execution_count": 38,
   "id": "a46e0584-8e1f-4440-aaf3-286aa8ac4d04",
   "metadata": {},
   "outputs": [],
   "source": [
    "admin1_damage.to_file(f'Admin1_Healthcare_Multi_Risk_{'_'.join(hazards)}.gpkg')"
   ]
  },
  {
   "cell_type": "markdown",
   "id": "db1566be-4e42-47fa-b9be-8a216d1b119e",
   "metadata": {},
   "source": [
    "## 6. Visualising the results\n"
   ]
  },
  {
   "cell_type": "code",
   "execution_count": 39,
   "id": "a3099796-d695-4150-826a-45a730453329",
   "metadata": {},
   "outputs": [
    {
     "data": {
      "image/png": "[encoded data removed]",
      "text/plain": [
       "<Figure size 1400x600 with 2 Axes>"
      ]
     },
     "metadata": {},
     "output_type": "display_data"
    }
   ],
   "source": [
    "import matplotlib.pyplot as plt\n",
    "import seaborn as sns\n",
    "import pandas as pd\n",
    "\n",
    "# Filter relevant columns\n",
    "hazard_columns = ['Earthquake', 'Flood', 'Tropical_Cyclone']\n",
    "\n",
    "# Convert to long format for Seaborn\n",
    "risk_long = risk_outcomes.melt(id_vars=['object_type'], value_vars=hazard_columns, \n",
    "                               var_name='Hazard', value_name='Risk_Level')\n",
    "\n",
    "# Remove NaN values\n",
    "risk_long = risk_long.dropna()\n",
    "\n",
    "# Separate schools from other object types\n",
    "schools = risk_long[risk_long['object_type'] == 'school']\n",
    "others = risk_long[risk_long['object_type'] != 'school']\n",
    "\n",
    "# Set figure size\n",
    "fig, axes = plt.subplots(1, 2, figsize=(14, 6))\n",
    "\n",
    "# Create a boxplot for schools\n",
    "sns.boxplot(data=schools, x='object_type', y='Risk_Level', hue='Hazard', ax=axes[0],showfliers=False)\n",
    "axes[0].set_title('Hazard Risks for Schools')\n",
    "axes[0].set_xlabel('Object Type')\n",
    "axes[0].set_ylabel('Expected Annual Damages')\n",
    "axes[0].legend(title='Hazard')\n",
    "\n",
    "# Create a boxplot for other object types\n",
    "sns.boxplot(data=others, x='object_type', y='Risk_Level', hue='Hazard', ax=axes[1],showfliers=False)\n",
    "axes[1].set_title('Hazard Risks for Other Object Types')\n",
    "axes[1].set_xlabel('Object Type')\n",
    "axes[1].set_ylabel('')\n",
    "axes[1].legend(title='Hazard')\n",
    "\n",
    "# Improve readability\n",
    "for ax in axes:\n",
    "    ax.set_yscale('log')  # Use log scale for better visualization if values vary widely\n",
    "\n",
    "# Show plot\n",
    "plt.tight_layout()"
   ]
  }
 ],
 "metadata": {
  "kernelspec": {
   "display_name": "Python 3 (ipykernel)",
   "language": "python",
   "name": "python3"
  },
  "language_info": {
   "codemirror_mode": {
    "name": "ipython",
    "version": 3
   },
   "file_extension": ".py",
   "mimetype": "text/x-python",
   "name": "python",
   "nbconvert_exporter": "python",
   "pygments_lexer": "ipython3",
   "version": "3.12.3"
  }
 },
 "nbformat": 4,
 "nbformat_minor": 5
}
