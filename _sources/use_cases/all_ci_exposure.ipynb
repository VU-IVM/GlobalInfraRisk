{
 "cells": [
  {
   "cell_type": "markdown",
   "id": "ff2269a6-2821-4d99-8541-7a2874e7b8b5",
   "metadata": {},
   "source": [
    "# Country-level exposure\n",
    "\n",
    "In this notebook, we will perform a **exposure analysis** for all available CI data within a country. The assessment is based on combining hazard data (e.g., flood depths) with OpenStreetMap feature data.\n",
    "\n",
    "We will follow the steps outlined below to conduct the assessment:\n",
    "\n",
    "1. **Loading the necessary packages:**  \n",
    "   We will import the Python libraries required for data handling, analysis, and visualization.\n",
    "\n",
    "2. **Loading the data:**  \n",
    "   The infrastructure data (e.g., roads) and hazard data (e.g., flood depths) will be loaded into the notebook.\n",
    "\n",
    "3. **Preparing the data:**  \n",
    "   The infrastructure and hazard data will be processed and data gaps can be filled, if required.\n",
    "\n",
    "4. **Performing the exposure assessment:**  \n",
    "   We will overlay the hazard data with the feature information.\n",
    "\n",
    "5. **Visualizing the results:**  \n",
    "   Finally, we will visualize the estimated exposure using graphs and maps."
   ]
  },
  {
   "cell_type": "markdown",
   "id": "496066ab-183a-4135-846c-2a0c64d0c8fd",
   "metadata": {},
   "source": [
    "## 1. Loading the Necessary Packages\n",
    "To perform the assessment, we are going to make use of several [python packages](https://docs.python.org/3/tutorial/modules.html#packages).\n",
    "\n",
    "In case you run this in Google Colab, you will have to install the packages below **(remove the hashtag in front of them)**."
   ]
  },
  {
   "cell_type": "code",
   "execution_count": 1,
   "id": "86eae68c-fe2b-4d3f-b060-56bf51b1fdac",
   "metadata": {},
   "outputs": [],
   "source": [
    "#!pip install damagescanner==0.9b4\n",
    "#!pip install contextily\n",
    "#!pip install exactextract\n",
    "#!pip install osm-flex"
   ]
  },
  {
   "cell_type": "markdown",
   "id": "7d5ffb4b-dff9-4a6d-b696-62f046286ff8",
   "metadata": {},
   "source": [
    "In this step, we will import all the required Python libraries for data manipulation, spatial analysis, and visualization."
   ]
  },
  {
   "cell_type": "code",
   "execution_count": 2,
   "id": "dfa6c20b-e633-45f1-b4cc-4a461ec5c55d",
   "metadata": {},
   "outputs": [],
   "source": [
    "import os,sys\n",
    "import rasterio\n",
    "import shapely\n",
    "import traceback\n",
    "import warnings\n",
    "import xarray as xr\n",
    "import numpy as np\n",
    "import pandas as pd\n",
    "import geopandas as gpd\n",
    "import seaborn as sns\n",
    "\n",
    "from tqdm import tqdm\n",
    "\n",
    "from pathlib import Path\n",
    "import matplotlib.pyplot as plt\n",
    "import rioxarray\n",
    "import contextily as cx\n",
    "\n",
    "from osm_flex import download\n",
    "from exactextract import exact_extract\n",
    "from damagescanner.core import DamageScanner\n",
    "from damagescanner.base_values import DICT_CIS_VULNERABILITY_FLOOD\n",
    "\n",
    "warnings.simplefilter(action='ignore', category=FutureWarning)"
   ]
  },
  {
   "cell_type": "markdown",
   "id": "d0e4478d-f847-4b8d-a125-1072f9e1091e",
   "metadata": {},
   "source": [
    "### Specify the country of interest"
   ]
  },
  {
   "cell_type": "markdown",
   "id": "69b2f346-d85c-4591-883f-421d0d11d2aa",
   "metadata": {},
   "source": [
    "Before we continue, we should specify the country for which we want to assess the damage. We use the ISO3 code for the country to download the OpenStreetMap data."
   ]
  },
  {
   "cell_type": "code",
   "execution_count": 3,
   "id": "893f262d-de37-439c-8146-c105e1433bf8",
   "metadata": {},
   "outputs": [],
   "source": [
    "country_full_name = 'Togo'\n",
    "country_iso3 = 'TGO'"
   ]
  },
  {
   "cell_type": "markdown",
   "id": "87ac8d4d-3437-4130-8209-56d66847a861",
   "metadata": {},
   "source": [
    "## 2. Loading the Data\n",
    "In this step, we will prepare and load two key datasets:\n",
    "\n",
    "1. **Infrastructure data:**  \n",
    "   This dataset contains information on the location and type of infrastructure (e.g., roads). Each asset may have attributes such as type, length, and replacement cost.\n",
    "\n",
    "2. **Hazard data:**  \n",
    "   This dataset includes information on the hazard affecting the infrastructure (e.g., flood depth at various locations)."
   ]
  },
  {
   "cell_type": "markdown",
   "id": "4261cf13-9e72-4a23-885e-20a058f59c76",
   "metadata": {},
   "source": [
    "### Infrastructure Data\n",
    "\n",
    "We will perform this example analysis for Jamaica. To start the analysis, we first download the OpenStreetMap data from GeoFabrik. "
   ]
  },
  {
   "cell_type": "code",
   "execution_count": 4,
   "id": "edbc8823-c5d8-4b9b-9fa0-f6dc90100950",
   "metadata": {},
   "outputs": [],
   "source": [
    "infrastructure_path = download.get_country_geofabrik(country_iso3)"
   ]
  },
  {
   "cell_type": "markdown",
   "id": "2b78abff-e6d8-4c16-b43a-38c571141940",
   "metadata": {},
   "source": [
    "We will not load the data directly, we will let the code itself read the information. It is important, however, to specificy which infrastructure systems you want to include. We do so in the list below:"
   ]
  },
  {
   "cell_type": "code",
   "execution_count": 5,
   "id": "a097b059-7202-4f10-adc1-d60c4355e53f",
   "metadata": {},
   "outputs": [],
   "source": [
    "asset_types = [\n",
    "        \"roads\",\n",
    "        \"main_roads\",\n",
    "        \"rail\",\n",
    "        \"air\",\n",
    "        \"telecom\",\n",
    "        \"water_supply\",\n",
    "        \"waste_solid\",\n",
    "        \"waste_water\",\n",
    "        \"education\",\n",
    "        \"healthcare\",\n",
    "        \"power\",\n",
    "        \"gas\",\n",
    "        \"food\",\n",
    "        \"oil\",\n",
    "        \"wastewater\",\n",
    "    ]"
   ]
  },
  {
   "cell_type": "markdown",
   "id": "d891d45c-f7c6-4d4f-8ae1-fd862b23af7c",
   "metadata": {},
   "source": [
    "### Hazard Data\n",
    "For this example, we make use of the flood data provided by [CDRI](https://giri.unepgrid.ch/map?list=explore).\n",
    "\n",
    "We use a 1/100 flood map to showcase the approach."
   ]
  },
  {
   "cell_type": "code",
   "execution_count": 6,
   "id": "f340f7cb-2eb2-4316-8751-ea428e928977",
   "metadata": {},
   "outputs": [],
   "source": [
    "hazard_map = xr.open_dataset(\"https://hazards-data.unepgrid.ch/global_pc_h100glob.tif\", engine=\"rasterio\")"
   ]
  },
  {
   "cell_type": "markdown",
   "id": "fecfb85f-83ff-47c7-81c7-210b91cd6d4d",
   "metadata": {},
   "source": [
    "### Ancilliary data for processing"
   ]
  },
  {
   "cell_type": "code",
   "execution_count": 7,
   "id": "3950e129-783e-47cb-973f-2729e5b3f598",
   "metadata": {},
   "outputs": [],
   "source": [
    "world = gpd.read_file(\"https://github.com/nvkelso/natural-earth-vector/raw/master/10m_cultural/ne_10m_admin_0_countries.shp\")\n",
    "world_plot = world.to_crs(3857)"
   ]
  },
  {
   "cell_type": "markdown",
   "id": "673fb20b-b243-4adf-9aef-b7f0146cf67c",
   "metadata": {},
   "source": [
    "## 3. Preparing the Data"
   ]
  },
  {
   "cell_type": "markdown",
   "id": "04b60cd7-2226-49b0-bd19-4bf12e27dd4b",
   "metadata": {},
   "source": [
    "Clip the hazard data to the country of interest."
   ]
  },
  {
   "cell_type": "code",
   "execution_count": 8,
   "id": "1a53c341-20af-4cde-bc61-886ea045718b",
   "metadata": {},
   "outputs": [],
   "source": [
    "country_bounds = world.loc[world.ADM0_ISO == country_iso3].bounds\n",
    "country_geom = world.loc[world.ADM0_ISO == country_iso3].geometry"
   ]
  },
  {
   "cell_type": "code",
   "execution_count": 9,
   "id": "324fbb02-12f3-44f3-9bcb-70c4a3049f86",
   "metadata": {},
   "outputs": [],
   "source": [
    "hazard_country = hazard_map.rio.clip_box(minx=country_bounds.minx.values[0],\n",
    "                     miny=country_bounds.miny.values[0],\n",
    "                     maxx=country_bounds.maxx.values[0],\n",
    "                     maxy=country_bounds.maxy.values[0]\n",
    "                    )"
   ]
  },
  {
   "cell_type": "markdown",
   "id": "059038ad-a4ae-4371-9d63-163462ec40e6",
   "metadata": {},
   "source": [
    "## 4. Performing the Exposure Assessment\n",
    "We will use the DamageScanner approach. This is a fully optimised damage calculation method, that can capture a wide range of inputs to perform a damage assessment."
   ]
  },
  {
   "cell_type": "code",
   "execution_count": null,
   "id": "e5deb209-8b85-47c3-af7b-23cef41343e8",
   "metadata": {},
   "outputs": [
    {
     "name": "stderr",
     "output_type": "stream",
     "text": [
      "Overlay raster with vector: 100%|██████████████████████████████████████████████████████| 44/44 [04:06<00:00,  5.61s/it]\n",
      "convert coverage to meters: 100%|████████████████████████████████████████████████| 3513/3513 [00:02<00:00, 1591.38it/s]\n",
      "Overlay raster with vector: 100%|██████████████████████████████████████████████████████| 44/44 [00:13<00:00,  3.33it/s]\n",
      "convert coverage to meters: 100%|██████████████████████████████████████████████████| 325/325 [00:00<00:00, 1158.95it/s]\n",
      "Overlay raster with vector: 100%|██████████████████████████████████████████████████████| 44/44 [00:00<00:00, 57.06it/s]\n",
      "convert coverage to meters: 100%|████████████████████████████████████████████████████| 18/18 [00:00<00:00, 1261.38it/s]\n",
      "Overlay raster with vector: 100%|██████████████████████████████████████████████████████| 44/44 [00:00<00:00, 92.37it/s]\n",
      "convert coverage to meters: 1it [00:00, 784.72it/s]\n",
      "Overlay raster with vector: 100%|██████████████████████████████████████████████████████| 44/44 [00:00<00:00, 45.21it/s]\n",
      "convert coverage to meters: 100%|██████████████████████████████████████████████████████| 5/5 [00:00<00:00, 2406.37it/s]\n",
      "Overlay raster with vector: 100%|██████████████████████████████████████████████████████| 44/44 [00:01<00:00, 22.63it/s]\n",
      "convert coverage to meters: 100%|████████████████████████████████████████████████████| 20/20 [00:00<00:00, 9728.18it/s]\n"
     ]
    }
   ],
   "source": [
    "save_asset_results = {}\n",
    "for asset_type in asset_types:\n",
    "        save_asset_results[asset_type] = DamageScanner(hazard_country, \n",
    "                                                       infrastructure_path, \n",
    "                                                       curves=pd.DataFrame(), \n",
    "                                                       maxdam=pd.DataFrame()).exposure(\n",
    "            asset_type=asset_type\n",
    "        )"
   ]
  },
  {
   "cell_type": "code",
   "execution_count": null,
   "id": "2b77452a-8bad-4c2f-a2cb-2485892b639b",
   "metadata": {},
   "outputs": [],
   "source": [
    "number_of_assets_exposed = {}\n",
    "for asset_type in asset_types:\n",
    "    number_of_assets_exposed[asset_type] = len(save_asset_results[asset_type])"
   ]
  },
  {
   "cell_type": "code",
   "execution_count": null,
   "id": "9c8f7fe2-6fae-45ba-b10a-0202214c8882",
   "metadata": {},
   "outputs": [],
   "source": [
    "# Update data keys for improved readability\n",
    "formatted_data = {key.replace('_', ' ').capitalize(): value for key, value in number_of_assets_exposed.items()}\n",
    "\n",
    "# Create figure with updated title and formatted categories\n",
    "fig, ax = plt.subplots(figsize=(10, 6))\n",
    "bars = ax.bar(formatted_data.keys(), formatted_data.values(), color='skyblue', edgecolor='black')\n",
    "\n",
    "# Add labels and enhance aesthetics\n",
    "ax.set_title(f\"Infrastructure Exposure per System for {country_full_name}\", fontsize=16, weight='bold')\n",
    "ax.set_ylabel(\"Count\", fontsize=14)\n",
    "ax.set_xlabel(\"Categories\", fontsize=14)\n",
    "plt.xticks(rotation=45, ha='right', fontsize=12)\n",
    "plt.yticks(fontsize=12)\n",
    "ax.spines['top'].set_visible(False)\n",
    "ax.spines['right'].set_visible(False)\n",
    "plt.grid(axis='y', linestyle='--', alpha=0.6)\n",
    "\n",
    "# Show figure\n",
    "plt.tight_layout()\n",
    "plt.show()"
   ]
  }
 ],
 "metadata": {
  "kernelspec": {
   "display_name": "Python 3 (ipykernel)",
   "language": "python",
   "name": "python3"
  },
  "language_info": {
   "codemirror_mode": {
    "name": "ipython",
    "version": 3
   },
   "file_extension": ".py",
   "mimetype": "text/x-python",
   "name": "python",
   "nbconvert_exporter": "python",
   "pygments_lexer": "ipython3",
   "version": "3.12.3"
  }
 },
 "nbformat": 4,
 "nbformat_minor": 5
}
