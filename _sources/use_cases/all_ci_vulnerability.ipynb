{
 "cells": [
  {
   "cell_type": "markdown",
   "id": "ff2269a6-2821-4d99-8541-7a2874e7b8b5",
   "metadata": {},
   "source": [
    "# Country-level vulnerability assessment\n",
    "\n",
    "In this notebook, we will perform a **vulnerability analysis** for all available CI data within a country. The assessment is based on combining hazard data (e.g., flood depths) with OpenStreetMap feature data.\n",
    "\n",
    "We will follow the steps outlined below to conduct the assessment:\n",
    "\n",
    "1. **Loading the necessary packages:**  \n",
    "   We will import the Python libraries required for data handling, analysis, and visualization.\n",
    "\n",
    "2. **Loading the data:**  \n",
    "   The infrastructure data (e.g., roads) and hazard data (e.g., flood depths) will be loaded into the notebook.\n",
    "\n",
    "3. **Preparing the data:**  \n",
    "   The infrastructure and hazard data will be processed and data gaps can be filled, if required.\n",
    "\n",
    "4. **Performing the damage assessment:**  \n",
    "   We will overlay the hazard data with the feature information.\n",
    "\n",
    "5. **Visualizing the results:**  \n",
    "   Finally, we will visualize the estimated exposure using graphs and maps."
   ]
  },
  {
   "cell_type": "markdown",
   "id": "496066ab-183a-4135-846c-2a0c64d0c8fd",
   "metadata": {},
   "source": [
    "## 1. Loading the Necessary Packages\n",
    "To perform the assessment, we are going to make use of several [python packages](https://docs.python.org/3/tutorial/modules.html#packages).\n",
    "\n",
    "In case you run this in Google Colab, you will have to install the packages below **(remove the hashtag in front of them)**."
   ]
  },
  {
   "cell_type": "code",
   "execution_count": 1,
   "id": "86eae68c-fe2b-4d3f-b060-56bf51b1fdac",
   "metadata": {},
   "outputs": [],
   "source": [
    "#!pip install damagescanner==0.9b10\n",
    "#!pip install contextily\n",
    "#!pip install exactextract\n",
    "#!pip install osm-flex\n",
    "#!pip install lonboard"
   ]
  },
  {
   "cell_type": "markdown",
   "id": "7d5ffb4b-dff9-4a6d-b696-62f046286ff8",
   "metadata": {},
   "source": [
    "In this step, we will import all the required Python libraries for data manipulation, spatial analysis, and visualization."
   ]
  },
  {
   "cell_type": "code",
   "execution_count": 2,
   "id": "dfa6c20b-e633-45f1-b4cc-4a461ec5c55d",
   "metadata": {},
   "outputs": [],
   "source": [
    "import os,sys\n",
    "import rasterio\n",
    "import shapely\n",
    "import traceback\n",
    "import warnings\n",
    "import xarray as xr\n",
    "import numpy as np\n",
    "import pandas as pd\n",
    "import geopandas as gpd\n",
    "import seaborn as sns\n",
    "\n",
    "from tqdm import tqdm\n",
    "\n",
    "from pathlib import Path\n",
    "import matplotlib.pyplot as plt\n",
    "import rioxarray\n",
    "import contextily as cx\n",
    "\n",
    "from osm_flex import download\n",
    "from exactextract import exact_extract\n",
    "from damagescanner.core import DamageScanner\n",
    "from damagescanner.base_values import DICT_CIS_VULNERABILITY_FLOOD\n",
    "\n",
    "\n",
    "warnings.simplefilter(action='ignore', category=FutureWarning)"
   ]
  },
  {
   "cell_type": "markdown",
   "id": "d0e4478d-f847-4b8d-a125-1072f9e1091e",
   "metadata": {},
   "source": [
    "### Specify the country of interest"
   ]
  },
  {
   "cell_type": "markdown",
   "id": "69b2f346-d85c-4591-883f-421d0d11d2aa",
   "metadata": {},
   "source": [
    "Before we continue, we should specify the country for which we want to assess the damage. We use the ISO3 code for the country to download the OpenStreetMap data."
   ]
  },
  {
   "cell_type": "code",
   "execution_count": 3,
   "id": "893f262d-de37-439c-8146-c105e1433bf8",
   "metadata": {},
   "outputs": [],
   "source": [
    "country_full_name = 'Burkina Faso'\n",
    "country_iso3 = 'BFA'"
   ]
  },
  {
   "cell_type": "markdown",
   "id": "87ac8d4d-3437-4130-8209-56d66847a861",
   "metadata": {},
   "source": [
    "## 2. Loading the Data\n",
    "In this step, we will prepare and load two key datasets:\n",
    "\n",
    "1. **Infrastructure data:**  \n",
    "   This dataset contains information on the location and type of infrastructure (e.g., roads). Each asset may have attributes such as type, length, and replacement cost.\n",
    "\n",
    "2. **Hazard data:**  \n",
    "   This dataset includes information on the hazard affecting the infrastructure (e.g., flood depth at various locations)."
   ]
  },
  {
   "cell_type": "markdown",
   "id": "4261cf13-9e72-4a23-885e-20a058f59c76",
   "metadata": {},
   "source": [
    "### Infrastructure Data\n",
    "\n",
    "We will perform this example analysis for Jamaica. To start the analysis, we first download the OpenStreetMap data from GeoFabrik. "
   ]
  },
  {
   "cell_type": "code",
   "execution_count": 4,
   "id": "edbc8823-c5d8-4b9b-9fa0-f6dc90100950",
   "metadata": {},
   "outputs": [],
   "source": [
    "infrastructure_path = download.get_country_geofabrik(country_iso3)"
   ]
  },
  {
   "cell_type": "markdown",
   "id": "2b78abff-e6d8-4c16-b43a-38c571141940",
   "metadata": {},
   "source": [
    "We will not load the data directly, we will let the code itself read the information. It is important, however, to specificy which infrastructure systems you want to include. We do so in the list below:"
   ]
  },
  {
   "cell_type": "code",
   "execution_count": 5,
   "id": "a097b059-7202-4f10-adc1-d60c4355e53f",
   "metadata": {},
   "outputs": [],
   "source": [
    "asset_types = [\n",
    "        \"roads\",\n",
    "        \"rail\",\n",
    "        \"air\",\n",
    "        \"telecom\",\n",
    "        \"water_supply\",\n",
    "        \"waste_solid\",\n",
    "        \"education\",\n",
    "        \"healthcare\",\n",
    "        \"power\",\n",
    "        \"wastewater\",\n",
    "    ]"
   ]
  },
  {
   "cell_type": "markdown",
   "id": "189d92ff-de23-4d0c-a116-f17a6abbb231",
   "metadata": {},
   "source": [
    "### Vulnerability data\n",
    "We will collect all the vulnerability curves for each of the asset types. Important to note is that national or local-scale analysis requires a thorough check which curves can and should be used!"
   ]
  },
  {
   "cell_type": "code",
   "execution_count": 6,
   "id": "80fbe7d6-3f07-4fe7-9e68-2910f1493265",
   "metadata": {},
   "outputs": [],
   "source": [
    "vulnerability_path = \"https://zenodo.org/records/10203846/files/Table_D2_Multi-Hazard_Fragility_and_Vulnerability_Curves_V1.0.0.xlsx?download=1\"\n",
    "\n",
    "vul_df = pd.read_excel(vulnerability_path,sheet_name='F_Vuln_Depth')"
   ]
  },
  {
   "cell_type": "code",
   "execution_count": 7,
   "id": "7d04d579-ec88-4c93-bbaf-1410b10244c4",
   "metadata": {},
   "outputs": [],
   "source": [
    "damage_curves_all_ci = {}\n",
    "for ci_type in DICT_CIS_VULNERABILITY_FLOOD:\n",
    "\n",
    "    ci_system = DICT_CIS_VULNERABILITY_FLOOD[ci_type]\n",
    "    \n",
    "    selected_curves = []\n",
    "    for subtype in ci_system:\n",
    "        selected_curves.append(ci_system[subtype][0])\n",
    "    \n",
    "    damage_curves = vul_df[['ID number']+selected_curves]\n",
    "    damage_curves = damage_curves.iloc[4:125,:]\n",
    "    damage_curves.set_index('ID number',inplace=True)\n",
    "    damage_curves.index = damage_curves.index.rename('Depth')  \n",
    "    damage_curves = damage_curves.astype(np.float32)\n",
    "    damage_curves.columns = list(ci_system.keys())\n",
    "    damage_curves = damage_curves.fillna(method='ffill')\n",
    "\n",
    "    # Make sure we set the index of the damage curves (the inundation depth) in the same metric as the hazard data (e.g. meters or centimeters).\n",
    "    damage_curves.index = damage_curves.index*100\n",
    "\n",
    "    damage_curves_all_ci[ci_type] = damage_curves"
   ]
  },
  {
   "cell_type": "markdown",
   "id": "cc149caa-29c1-4b4b-922b-c0c8a5e9a8ee",
   "metadata": {},
   "source": [
    "### Maximum damages\n",
    "One of the most difficult parts of the assessment is to define the maximum reconstruction cost of particular assets. As such, we sometimes may want to run the analysis without already multiplying the results with those costs. To do so, we simply set all the maximum damage values to 1:"
   ]
  },
  {
   "cell_type": "code",
   "execution_count": 8,
   "id": "eee1ba56-daaf-48aa-a688-404437eefe7c",
   "metadata": {},
   "outputs": [],
   "source": [
    "maxdam_all_ci = {}\n",
    "for ci_type in DICT_CIS_VULNERABILITY_FLOOD:\n",
    "    ci_system = DICT_CIS_VULNERABILITY_FLOOD[ci_type]\n",
    "    maxdam_dict = dict(zip(list(ci_system.keys()),len(ci_system.keys())*[1]))\n",
    "    maxdam = pd.DataFrame.from_dict(maxdam_dict,orient='index').reset_index()\n",
    "    maxdam.columns = ['object_type','damage']\n",
    "    maxdam_all_ci[ci_type] =  maxdam"
   ]
  },
  {
   "cell_type": "markdown",
   "id": "d891d45c-f7c6-4d4f-8ae1-fd862b23af7c",
   "metadata": {},
   "source": [
    "### Hazard Data\n",
    "For this example, we make use of the flood data provided by [CDRI](https://giri.unepgrid.ch/map?list=explore).\n",
    "\n",
    "We use a 1/100 flood map to showcase the approach."
   ]
  },
  {
   "cell_type": "code",
   "execution_count": 9,
   "id": "f340f7cb-2eb2-4316-8751-ea428e928977",
   "metadata": {},
   "outputs": [],
   "source": [
    "hazard_map = xr.open_dataset(\"https://hazards-data.unepgrid.ch/global_pc_h100glob.tif\", engine=\"rasterio\")"
   ]
  },
  {
   "cell_type": "markdown",
   "id": "fecfb85f-83ff-47c7-81c7-210b91cd6d4d",
   "metadata": {},
   "source": [
    "### Ancilliary data for processing"
   ]
  },
  {
   "cell_type": "code",
   "execution_count": 10,
   "id": "3950e129-783e-47cb-973f-2729e5b3f598",
   "metadata": {},
   "outputs": [],
   "source": [
    "world = gpd.read_file(\"https://github.com/nvkelso/natural-earth-vector/raw/master/10m_cultural/ne_10m_admin_0_countries.shp\")\n",
    "world_plot = world.to_crs(3857)"
   ]
  },
  {
   "cell_type": "markdown",
   "id": "673fb20b-b243-4adf-9aef-b7f0146cf67c",
   "metadata": {},
   "source": [
    "## 3. Preparing the Data"
   ]
  },
  {
   "cell_type": "markdown",
   "id": "04b60cd7-2226-49b0-bd19-4bf12e27dd4b",
   "metadata": {},
   "source": [
    "Clip the hazard data to the country of interest."
   ]
  },
  {
   "cell_type": "code",
   "execution_count": 11,
   "id": "1a53c341-20af-4cde-bc61-886ea045718b",
   "metadata": {},
   "outputs": [],
   "source": [
    "country_bounds = world.loc[world.ADM0_ISO == country_iso3].bounds\n",
    "country_geom = world.loc[world.ADM0_ISO == country_iso3].geometry"
   ]
  },
  {
   "cell_type": "code",
   "execution_count": 12,
   "id": "74315567-7a4e-427d-b3e8-38d67827805b",
   "metadata": {},
   "outputs": [],
   "source": [
    "country_box = shapely.box(country_bounds.minx.values,country_bounds.miny.values,country_bounds.maxx.values,country_bounds.maxy.values)[0]"
   ]
  },
  {
   "cell_type": "code",
   "execution_count": 13,
   "id": "324fbb02-12f3-44f3-9bcb-70c4a3049f86",
   "metadata": {},
   "outputs": [],
   "source": [
    "hazard_country = hazard_map.rio.clip_box(minx=country_bounds.minx.values[0],\n",
    "                     miny=country_bounds.miny.values[0],\n",
    "                     maxx=country_bounds.maxx.values[0],\n",
    "                     maxy=country_bounds.maxy.values[0]\n",
    "                    )"
   ]
  },
  {
   "cell_type": "markdown",
   "id": "059038ad-a4ae-4371-9d63-163462ec40e6",
   "metadata": {},
   "source": [
    "## 4. Performing the Vulnerability Assessment\n",
    "We will use the DamageScanner approach. This is a fully optimised exposure, vulnerability damage and risk calculation method, that can capture a wide range of inputs to perform such an assessment."
   ]
  },
  {
   "cell_type": "code",
   "execution_count": null,
   "id": "e5deb209-8b85-47c3-af7b-23cef41343e8",
   "metadata": {},
   "outputs": [
    {
     "name": "stderr",
     "output_type": "stream",
     "text": [
      "Overlay raster with vector: 100%|████████████████████████████████████████████████████| 192/192 [09:54<00:00,  3.09s/it]\n",
      "convert coverage to meters: 100%|█████████████████████████████████████████████████| 6367/6367 [00:06<00:00, 977.25it/s]\n",
      "Calculating damage: 100%|███████████████████████████████████████████████████████| 6367/6367 [00:00<00:00, 12722.22it/s]\n",
      "Overlay raster with vector: 100%|████████████████████████████████████████████████████| 192/192 [00:03<00:00, 55.66it/s]\n",
      "convert coverage to meters: 100%|████████████████████████████████████████████████████| 62/62 [00:00<00:00, 1744.46it/s]\n",
      "Calculating damage: 100%|███████████████████████████████████████████████████████████| 62/62 [00:00<00:00, 10338.60it/s]\n",
      "Overlay raster with vector: 100%|████████████████████████████████████████████████████| 192/192 [00:02<00:00, 86.21it/s]\n",
      "convert coverage to meters: 100%|███████████████████████████████████████████████████████| 1/1 [00:00<00:00, 149.97it/s]\n",
      "Calculating damage: 100%|███████████████████████████████████████████████████████████████| 1/1 [00:00<00:00, 499.92it/s]\n",
      "Calculating damage: 100%|███████████████████████████████████████████████████████████| 35/35 [00:00<00:00, 11556.38it/s]\n",
      "Overlay raster with vector: 100%|████████████████████████████████████████████████████| 192/192 [00:02<00:00, 76.92it/s]\n",
      "convert coverage to meters: 100%|████████████████████████████████████████████████████| 55/55 [00:00<00:00, 6261.17it/s]\n",
      "Calculating damage: 100%|████████████████████████████████████████████████████████████| 55/55 [00:00<00:00, 3014.65it/s]\n"
     ]
    }
   ],
   "source": [
    "save_asset_results = {}\n",
    "for asset_type in asset_types:\n",
    "        save_asset_results[asset_type] = DamageScanner(hazard_country, \n",
    "                                                       infrastructure_path, \n",
    "                                                       curves=damage_curves_all_ci[asset_type], \n",
    "                                                       maxdam=maxdam_all_ci[asset_type]).calculate(\n",
    "            asset_type=asset_type\n",
    "        )"
   ]
  },
  {
   "cell_type": "markdown",
   "id": "db1566be-4e42-47fa-b9be-8a216d1b119e",
   "metadata": {},
   "source": [
    "## 5. Visualising the results\n"
   ]
  },
  {
   "cell_type": "code",
   "execution_count": null,
   "id": "ff201494-0309-4692-a1b9-8426cdf67503",
   "metadata": {},
   "outputs": [],
   "source": [
    "collect_damages = {}\n",
    "for asset_type in asset_types:\n",
    "    damage_results = save_asset_results[asset_type]\n",
    "    if len(damage_results) == 0:\n",
    "        continue\n",
    "    else:\n",
    "        collect_damages[asset_type] = damage_results.damage.sum()"
   ]
  },
  {
   "cell_type": "code",
   "execution_count": null,
   "id": "daea11df-6580-4a2f-a514-66d718d60603",
   "metadata": {},
   "outputs": [],
   "source": [
    "colors = ['#66c2a5','#fc8d62','#8da0cb','#e78ac3','#a6d854','#ffd92f','#e5c494','#b3b3b3']"
   ]
  },
  {
   "cell_type": "code",
   "execution_count": null,
   "id": "70b64900-3a6c-450b-9a1e-3e49c86d71b2",
   "metadata": {},
   "outputs": [],
   "source": [
    "labels = [x.capitalize() for x in list(collect_damages.keys())]\n",
    "sizes = collect_damages.values()\n",
    "pie = plt.pie(sizes,autopct='%1.1f%%', labeldistance=1.15, wedgeprops = { 'linewidth' : 1, 'edgecolor' : 'white' }, colors=colors);\n",
    "plt.axis('equal')\n",
    "plt.legend(loc = 'right', labels=labels,bbox_to_anchor=(1.15, 0.5),)\n",
    "plt.title(f'River Flood Damage for {country_full_name} for multiple \\n Critical Infrastructure systems',fontweight='bold')"
   ]
  }
 ],
 "metadata": {
  "kernelspec": {
   "display_name": "Python 3 (ipykernel)",
   "language": "python",
   "name": "python3"
  },
  "language_info": {
   "codemirror_mode": {
    "name": "ipython",
    "version": 3
   },
   "file_extension": ".py",
   "mimetype": "text/x-python",
   "name": "python",
   "nbconvert_exporter": "python",
   "pygments_lexer": "ipython3",
   "version": "3.12.3"
  }
 },
 "nbformat": 4,
 "nbformat_minor": 5
}
