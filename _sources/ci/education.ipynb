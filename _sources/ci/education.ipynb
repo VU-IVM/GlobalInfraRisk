{
 "cells": [
  {
   "cell_type": "markdown",
   "id": "f6b341b9-4649-46ac-9f6c-6d8bdd126170",
   "metadata": {},
   "source": [
    "# Education Infrastructure\n",
    "\n",
    "In this notebook, we will perform a **damage and risk assessment** for education infrastructure. The assessment is based on combining hazard data (e.g., flood depths) with vulnerability curves to estimate the potential damage to infrastructure.\n",
    "\n",
    "We will follow the steps outlined below to conduct the assessment:\n",
    "\n",
    "1. **Loading the necessary packages:**  \n",
    "   We will import the Python libraries required for data handling, analysis, and visualization.\n",
    "\n",
    "2. **Loading the data:**  \n",
    "   The infrastructure data (e.g., secondary schools) and hazard data (e.g., flood depths) will be loaded into the notebook.\n",
    "\n",
    "3. **Preparing the data:**  \n",
    "   The infrastructure and hazard data will be processed and data gaps can be filled, if required.\n",
    "\n",
    "4. **Performing the damage assessment:**  \n",
    "   We will apply vulnerability curves to estimate the potential damage based on the intensity of the hazard.\n",
    "\n",
    "5. **Visualizing the results:**  \n",
    "   Finally, we will visualize the estimated damage using graphs and maps to illustrate the impact on education infrastructure."
   ]
  },
  {
   "cell_type": "markdown",
   "id": "44a1efb4-69d5-4558-907f-d2e49ad7f9e8",
   "metadata": {},
   "source": [
    "## 1. Loading the Necessary Packages\n",
    "To perform the assessment, we are going to make use of several [python packages](https://docs.python.org/3/tutorial/modules.html#packages).\n",
    "\n",
    "In case you run this in Google Colab, you will have to install the packages below **(remove the hashtag in front of them)**."
   ]
  },
  {
   "cell_type": "code",
   "execution_count": null,
   "id": "72c6ae5d-1f1c-4fbf-ba7f-8c63026f34dc",
   "metadata": {},
   "outputs": [],
   "source": [
    "#!pip install damagescanner==0.9b14\n",
    "#!pip install contextily\n",
    "#!pip install exactextract\n",
    "#!pip install lonboard"
   ]
  },
  {
   "cell_type": "markdown",
   "id": "d678797c-9d70-4641-8248-e3601d30ad1c",
   "metadata": {},
   "source": [
    "In this step, we will import all the required Python libraries for data manipulation, spatial analysis, and visualization."
   ]
  },
  {
   "cell_type": "code",
   "execution_count": 2,
   "id": "12aaf0f4-aef2-4a67-9c30-c68f8f6550b2",
   "metadata": {},
   "outputs": [],
   "source": [
    "import warnings\n",
    "import xarray as xr\n",
    "import numpy as np\n",
    "import pandas as pd\n",
    "import geopandas as gpd\n",
    "import seaborn as sns\n",
    "import shapely\n",
    "\n",
    "import matplotlib.pyplot as plt\n",
    "import contextily as cx\n",
    "\n",
    "import damagescanner.download as download\n",
    "from damagescanner.core import DamageScanner\n",
    "from damagescanner.osm import read_osm_data\n",
    "from damagescanner.base_values import DICT_CIS_VULNERABILITY_FLOOD\n",
    "\n",
    "from lonboard import viz\n",
    "\n",
    "warnings.simplefilter(action='ignore', category=FutureWarning)\n",
    "warnings.simplefilter(action='ignore', category=RuntimeWarning) # exactextract gives a warning that is invalid"
   ]
  },
  {
   "cell_type": "markdown",
   "id": "5221d308-3de6-4809-912a-3380f8689b44",
   "metadata": {},
   "source": [
    "### Specify the country of interest"
   ]
  },
  {
   "cell_type": "markdown",
   "id": "0eb24ca2-dfac-4e29-9280-6029cd46674b",
   "metadata": {},
   "source": [
    "Before we continue, we should specify the country for which we want to assess the damage. We use the ISO3 code for the country to download the OpenStreetMap data."
   ]
  },
  {
   "cell_type": "code",
   "execution_count": 3,
   "id": "684bae52-154c-44e1-9439-b38be147ea5e",
   "metadata": {},
   "outputs": [],
   "source": [
    "country_full_name = 'Jamaica'\n",
    "country_iso3 = 'JAM'"
   ]
  },
  {
   "cell_type": "markdown",
   "id": "e43578d8-ea9d-48e9-80b3-aa3bc0f99af7",
   "metadata": {},
   "source": [
    "## 2. Loading the Data\n",
    "In this step, we will load four key datasets:\n",
    "\n",
    "1. **Infrastructure data:**  \n",
    "   This dataset contains information on the location and type of education infrastructure (e.g., schools or universities). Each asset may have attributes such as type, length, and replacement cost.\n",
    "\n",
    "2. **Hazard data:**  \n",
    "   This dataset includes information on the hazard affecting the infrastructure (e.g., flood depth at various locations).\n",
    "\n",
    "3. **Vulnerability curves:**  \n",
    "   Vulnerability curves define how the infrastructure's damage increases with the intensity of the hazard. For example, flood depth-damage curves specify how much damage occurs for different flood depths.\n",
    "\n",
    "4. **Maximum damage values:**  \n",
    "   This dataset contains the maximum possible damage (in monetary terms) that can be incurred by individual infrastructure assets. This is crucial for calculating total damage based on the vulnerability curves."
   ]
  },
  {
   "cell_type": "markdown",
   "id": "8ca4b6a6-8558-4caf-a170-741a38f0ed56",
   "metadata": {},
   "source": [
    "### Infrastructure Data\n",
    "\n",
    "We will perform this example analysis for Jamaica. To start the analysis, we first download the OpenStreetMap data from GeoFabrik. "
   ]
  },
  {
   "cell_type": "code",
   "execution_count": 4,
   "id": "91971e0c-f5bd-41cc-90c8-866ccbe589d8",
   "metadata": {},
   "outputs": [],
   "source": [
    "infrastructure_path = download.get_country_geofabrik(country_iso3)"
   ]
  },
  {
   "cell_type": "markdown",
   "id": "6ed16ff7-a9b4-4793-990d-eecc2e842ced",
   "metadata": {},
   "source": [
    "Now we load the data and read only the healthcare data."
   ]
  },
  {
   "cell_type": "code",
   "execution_count": 5,
   "id": "78dfb1ee-4b1b-481a-b0a2-9a615bdde8e9",
   "metadata": {},
   "outputs": [
    {
     "name": "stdout",
     "output_type": "stream",
     "text": [
      "CPU times: total: 25 s\n",
      "Wall time: 32.7 s\n"
     ]
    }
   ],
   "source": [
    "%%time\n",
    "features = read_osm_data(infrastructure_path,asset_type='education')"
   ]
  },
  {
   "cell_type": "code",
   "execution_count": 6,
   "id": "96aad40b-658a-42ba-9838-e4c0f24fd1e4",
   "metadata": {},
   "outputs": [],
   "source": [
    "sub_types = features.object_type.unique()"
   ]
  },
  {
   "cell_type": "code",
   "execution_count": 7,
   "id": "ed7fd356-753e-4be5-803a-16090326411c",
   "metadata": {},
   "outputs": [
    {
     "data": {
      "text/plain": [
       "array(['school', 'kindergarten', 'university', 'college', 'library'],\n",
       "      dtype=object)"
      ]
     },
     "execution_count": 7,
     "metadata": {},
     "output_type": "execute_result"
    }
   ],
   "source": [
    "sub_types"
   ]
  },
  {
   "cell_type": "markdown",
   "id": "1a63ad14-a317-4228-b781-7074e82b6c08",
   "metadata": {},
   "source": [
    "And we can explore our data interactively "
   ]
  },
  {
   "cell_type": "code",
   "execution_count": 8,
   "id": "8746d133-185e-4537-b6f6-5c4c5a25510c",
   "metadata": {},
   "outputs": [
    {
     "data": {
      "application/vnd.jupyter.widget-view+json": {
       "model_id": "9af46301616f40cc9f985e99ccb90c6a",
       "version_major": 2,
       "version_minor": 1
      },
      "text/plain": [
       "Map(basemap_style=<CartoBasemap.DarkMatter: 'https://basemaps.cartocdn.com/gl/dark-matter-gl-style/style.json'…"
      ]
     },
     "execution_count": 8,
     "metadata": {},
     "output_type": "execute_result"
    }
   ],
   "source": [
    "viz(features)"
   ]
  },
  {
   "cell_type": "markdown",
   "id": "1d89865b-030d-4be4-a6ef-ce18b05716ee",
   "metadata": {},
   "source": [
    "### Hazard Data\n",
    "For this example, we make use of the flood data provided by [CDRI](https://giri.unepgrid.ch/map?list=explore).\n",
    "\n",
    "We use a 1/100 flood map to showcase the approach."
   ]
  },
  {
   "cell_type": "code",
   "execution_count": 9,
   "id": "caae035e-64f2-4c69-9565-e95f73fe067f",
   "metadata": {},
   "outputs": [],
   "source": [
    "hazard_map = xr.open_dataset(\"https://hazards-data.unepgrid.ch/global_pc_h100glob.tif\", engine=\"rasterio\")"
   ]
  },
  {
   "cell_type": "code",
   "execution_count": 10,
   "id": "e9f25659-8d72-4826-9b69-f0ee1d7e373e",
   "metadata": {},
   "outputs": [
    {
     "data": {
      "text/html": [
       "<div><svg style=\"position: absolute; width: 0; height: 0; overflow: hidden\">\n",
       "<defs>\n",
       "<symbol id=\"icon-database\" viewBox=\"0 0 32 32\">\n",
       "<path d=\"M16 0c-8.837 0-16 2.239-16 5v4c0 2.761 7.163 5 16 5s16-2.239 16-5v-4c0-2.761-7.163-5-16-5z\"></path>\n",
       "<path d=\"M16 17c-8.837 0-16-2.239-16-5v6c0 2.761 7.163 5 16 5s16-2.239 16-5v-6c0 2.761-7.163 5-16 5z\"></path>\n",
       "<path d=\"M16 26c-8.837 0-16-2.239-16-5v6c0 2.761 7.163 5 16 5s16-2.239 16-5v-6c0 2.761-7.163 5-16 5z\"></path>\n",
       "</symbol>\n",
       "<symbol id=\"icon-file-text2\" viewBox=\"0 0 32 32\">\n",
       "<path d=\"M28.681 7.159c-0.694-0.947-1.662-2.053-2.724-3.116s-2.169-2.030-3.116-2.724c-1.612-1.182-2.393-1.319-2.841-1.319h-15.5c-1.378 0-2.5 1.121-2.5 2.5v27c0 1.378 1.122 2.5 2.5 2.5h23c1.378 0 2.5-1.122 2.5-2.5v-19.5c0-0.448-0.137-1.23-1.319-2.841zM24.543 5.457c0.959 0.959 1.712 1.825 2.268 2.543h-4.811v-4.811c0.718 0.556 1.584 1.309 2.543 2.268zM28 29.5c0 0.271-0.229 0.5-0.5 0.5h-23c-0.271 0-0.5-0.229-0.5-0.5v-27c0-0.271 0.229-0.5 0.5-0.5 0 0 15.499-0 15.5 0v7c0 0.552 0.448 1 1 1h7v19.5z\"></path>\n",
       "<path d=\"M23 26h-14c-0.552 0-1-0.448-1-1s0.448-1 1-1h14c0.552 0 1 0.448 1 1s-0.448 1-1 1z\"></path>\n",
       "<path d=\"M23 22h-14c-0.552 0-1-0.448-1-1s0.448-1 1-1h14c0.552 0 1 0.448 1 1s-0.448 1-1 1z\"></path>\n",
       "<path d=\"M23 18h-14c-0.552 0-1-0.448-1-1s0.448-1 1-1h14c0.552 0 1 0.448 1 1s-0.448 1-1 1z\"></path>\n",
       "</symbol>\n",
       "</defs>\n",
       "</svg>\n",
       "<style>/* CSS stylesheet for displaying xarray objects in jupyterlab.\n",
       " *\n",
       " */\n",
       "\n",
       ":root {\n",
       "  --xr-font-color0: var(--jp-content-font-color0, rgba(0, 0, 0, 1));\n",
       "  --xr-font-color2: var(--jp-content-font-color2, rgba(0, 0, 0, 0.54));\n",
       "  --xr-font-color3: var(--jp-content-font-color3, rgba(0, 0, 0, 0.38));\n",
       "  --xr-border-color: var(--jp-border-color2, #e0e0e0);\n",
       "  --xr-disabled-color: var(--jp-layout-color3, #bdbdbd);\n",
       "  --xr-background-color: var(--jp-layout-color0, white);\n",
       "  --xr-background-color-row-even: var(--jp-layout-color1, white);\n",
       "  --xr-background-color-row-odd: var(--jp-layout-color2, #eeeeee);\n",
       "}\n",
       "\n",
       "html[theme=dark],\n",
       "body[data-theme=dark],\n",
       "body.vscode-dark {\n",
       "  --xr-font-color0: rgba(255, 255, 255, 1);\n",
       "  --xr-font-color2: rgba(255, 255, 255, 0.54);\n",
       "  --xr-font-color3: rgba(255, 255, 255, 0.38);\n",
       "  --xr-border-color: #1F1F1F;\n",
       "  --xr-disabled-color: #515151;\n",
       "  --xr-background-color: #111111;\n",
       "  --xr-background-color-row-even: #111111;\n",
       "  --xr-background-color-row-odd: #313131;\n",
       "}\n",
       "\n",
       ".xr-wrap {\n",
       "  display: block !important;\n",
       "  min-width: 300px;\n",
       "  max-width: 700px;\n",
       "}\n",
       "\n",
       ".xr-text-repr-fallback {\n",
       "  /* fallback to plain text repr when CSS is not injected (untrusted notebook) */\n",
       "  display: none;\n",
       "}\n",
       "\n",
       ".xr-header {\n",
       "  padding-top: 6px;\n",
       "  padding-bottom: 6px;\n",
       "  margin-bottom: 4px;\n",
       "  border-bottom: solid 1px var(--xr-border-color);\n",
       "}\n",
       "\n",
       ".xr-header > div,\n",
       ".xr-header > ul {\n",
       "  display: inline;\n",
       "  margin-top: 0;\n",
       "  margin-bottom: 0;\n",
       "}\n",
       "\n",
       ".xr-obj-type,\n",
       ".xr-array-name {\n",
       "  margin-left: 2px;\n",
       "  margin-right: 10px;\n",
       "}\n",
       "\n",
       ".xr-obj-type {\n",
       "  color: var(--xr-font-color2);\n",
       "}\n",
       "\n",
       ".xr-sections {\n",
       "  padding-left: 0 !important;\n",
       "  display: grid;\n",
       "  grid-template-columns: 150px auto auto 1fr 20px 20px;\n",
       "}\n",
       "\n",
       ".xr-section-item {\n",
       "  display: contents;\n",
       "}\n",
       "\n",
       ".xr-section-item input {\n",
       "  display: none;\n",
       "}\n",
       "\n",
       ".xr-section-item input + label {\n",
       "  color: var(--xr-disabled-color);\n",
       "}\n",
       "\n",
       ".xr-section-item input:enabled + label {\n",
       "  cursor: pointer;\n",
       "  color: var(--xr-font-color2);\n",
       "}\n",
       "\n",
       ".xr-section-item input:enabled + label:hover {\n",
       "  color: var(--xr-font-color0);\n",
       "}\n",
       "\n",
       ".xr-section-summary {\n",
       "  grid-column: 1;\n",
       "  color: var(--xr-font-color2);\n",
       "  font-weight: 500;\n",
       "}\n",
       "\n",
       ".xr-section-summary > span {\n",
       "  display: inline-block;\n",
       "  padding-left: 0.5em;\n",
       "}\n",
       "\n",
       ".xr-section-summary-in:disabled + label {\n",
       "  color: var(--xr-font-color2);\n",
       "}\n",
       "\n",
       ".xr-section-summary-in + label:before {\n",
       "  display: inline-block;\n",
       "  content: '►';\n",
       "  font-size: 11px;\n",
       "  width: 15px;\n",
       "  text-align: center;\n",
       "}\n",
       "\n",
       ".xr-section-summary-in:disabled + label:before {\n",
       "  color: var(--xr-disabled-color);\n",
       "}\n",
       "\n",
       ".xr-section-summary-in:checked + label:before {\n",
       "  content: '▼';\n",
       "}\n",
       "\n",
       ".xr-section-summary-in:checked + label > span {\n",
       "  display: none;\n",
       "}\n",
       "\n",
       ".xr-section-summary,\n",
       ".xr-section-inline-details {\n",
       "  padding-top: 4px;\n",
       "  padding-bottom: 4px;\n",
       "}\n",
       "\n",
       ".xr-section-inline-details {\n",
       "  grid-column: 2 / -1;\n",
       "}\n",
       "\n",
       ".xr-section-details {\n",
       "  display: none;\n",
       "  grid-column: 1 / -1;\n",
       "  margin-bottom: 5px;\n",
       "}\n",
       "\n",
       ".xr-section-summary-in:checked ~ .xr-section-details {\n",
       "  display: contents;\n",
       "}\n",
       "\n",
       ".xr-array-wrap {\n",
       "  grid-column: 1 / -1;\n",
       "  display: grid;\n",
       "  grid-template-columns: 20px auto;\n",
       "}\n",
       "\n",
       ".xr-array-wrap > label {\n",
       "  grid-column: 1;\n",
       "  vertical-align: top;\n",
       "}\n",
       "\n",
       ".xr-preview {\n",
       "  color: var(--xr-font-color3);\n",
       "}\n",
       "\n",
       ".xr-array-preview,\n",
       ".xr-array-data {\n",
       "  padding: 0 5px !important;\n",
       "  grid-column: 2;\n",
       "}\n",
       "\n",
       ".xr-array-data,\n",
       ".xr-array-in:checked ~ .xr-array-preview {\n",
       "  display: none;\n",
       "}\n",
       "\n",
       ".xr-array-in:checked ~ .xr-array-data,\n",
       ".xr-array-preview {\n",
       "  display: inline-block;\n",
       "}\n",
       "\n",
       ".xr-dim-list {\n",
       "  display: inline-block !important;\n",
       "  list-style: none;\n",
       "  padding: 0 !important;\n",
       "  margin: 0;\n",
       "}\n",
       "\n",
       ".xr-dim-list li {\n",
       "  display: inline-block;\n",
       "  padding: 0;\n",
       "  margin: 0;\n",
       "}\n",
       "\n",
       ".xr-dim-list:before {\n",
       "  content: '(';\n",
       "}\n",
       "\n",
       ".xr-dim-list:after {\n",
       "  content: ')';\n",
       "}\n",
       "\n",
       ".xr-dim-list li:not(:last-child):after {\n",
       "  content: ',';\n",
       "  padding-right: 5px;\n",
       "}\n",
       "\n",
       ".xr-has-index {\n",
       "  font-weight: bold;\n",
       "}\n",
       "\n",
       ".xr-var-list,\n",
       ".xr-var-item {\n",
       "  display: contents;\n",
       "}\n",
       "\n",
       ".xr-var-item > div,\n",
       ".xr-var-item label,\n",
       ".xr-var-item > .xr-var-name span {\n",
       "  background-color: var(--xr-background-color-row-even);\n",
       "  margin-bottom: 0;\n",
       "}\n",
       "\n",
       ".xr-var-item > .xr-var-name:hover span {\n",
       "  padding-right: 5px;\n",
       "}\n",
       "\n",
       ".xr-var-list > li:nth-child(odd) > div,\n",
       ".xr-var-list > li:nth-child(odd) > label,\n",
       ".xr-var-list > li:nth-child(odd) > .xr-var-name span {\n",
       "  background-color: var(--xr-background-color-row-odd);\n",
       "}\n",
       "\n",
       ".xr-var-name {\n",
       "  grid-column: 1;\n",
       "}\n",
       "\n",
       ".xr-var-dims {\n",
       "  grid-column: 2;\n",
       "}\n",
       "\n",
       ".xr-var-dtype {\n",
       "  grid-column: 3;\n",
       "  text-align: right;\n",
       "  color: var(--xr-font-color2);\n",
       "}\n",
       "\n",
       ".xr-var-preview {\n",
       "  grid-column: 4;\n",
       "}\n",
       "\n",
       ".xr-index-preview {\n",
       "  grid-column: 2 / 5;\n",
       "  color: var(--xr-font-color2);\n",
       "}\n",
       "\n",
       ".xr-var-name,\n",
       ".xr-var-dims,\n",
       ".xr-var-dtype,\n",
       ".xr-preview,\n",
       ".xr-attrs dt {\n",
       "  white-space: nowrap;\n",
       "  overflow: hidden;\n",
       "  text-overflow: ellipsis;\n",
       "  padding-right: 10px;\n",
       "}\n",
       "\n",
       ".xr-var-name:hover,\n",
       ".xr-var-dims:hover,\n",
       ".xr-var-dtype:hover,\n",
       ".xr-attrs dt:hover {\n",
       "  overflow: visible;\n",
       "  width: auto;\n",
       "  z-index: 1;\n",
       "}\n",
       "\n",
       ".xr-var-attrs,\n",
       ".xr-var-data,\n",
       ".xr-index-data {\n",
       "  display: none;\n",
       "  background-color: var(--xr-background-color) !important;\n",
       "  padding-bottom: 5px !important;\n",
       "}\n",
       "\n",
       ".xr-var-attrs-in:checked ~ .xr-var-attrs,\n",
       ".xr-var-data-in:checked ~ .xr-var-data,\n",
       ".xr-index-data-in:checked ~ .xr-index-data {\n",
       "  display: block;\n",
       "}\n",
       "\n",
       ".xr-var-data > table {\n",
       "  float: right;\n",
       "}\n",
       "\n",
       ".xr-var-name span,\n",
       ".xr-var-data,\n",
       ".xr-index-name div,\n",
       ".xr-index-data,\n",
       ".xr-attrs {\n",
       "  padding-left: 25px !important;\n",
       "}\n",
       "\n",
       ".xr-attrs,\n",
       ".xr-var-attrs,\n",
       ".xr-var-data,\n",
       ".xr-index-data {\n",
       "  grid-column: 1 / -1;\n",
       "}\n",
       "\n",
       "dl.xr-attrs {\n",
       "  padding: 0;\n",
       "  margin: 0;\n",
       "  display: grid;\n",
       "  grid-template-columns: 125px auto;\n",
       "}\n",
       "\n",
       ".xr-attrs dt,\n",
       ".xr-attrs dd {\n",
       "  padding: 0;\n",
       "  margin: 0;\n",
       "  float: left;\n",
       "  padding-right: 10px;\n",
       "  width: auto;\n",
       "}\n",
       "\n",
       ".xr-attrs dt {\n",
       "  font-weight: normal;\n",
       "  grid-column: 1;\n",
       "}\n",
       "\n",
       ".xr-attrs dt:hover span {\n",
       "  display: inline-block;\n",
       "  background: var(--xr-background-color);\n",
       "  padding-right: 10px;\n",
       "}\n",
       "\n",
       ".xr-attrs dd {\n",
       "  grid-column: 2;\n",
       "  white-space: pre-wrap;\n",
       "  word-break: break-all;\n",
       "}\n",
       "\n",
       ".xr-icon-database,\n",
       ".xr-icon-file-text2,\n",
       ".xr-no-icon {\n",
       "  display: inline-block;\n",
       "  vertical-align: middle;\n",
       "  width: 1em;\n",
       "  height: 1.5em !important;\n",
       "  stroke-width: 0;\n",
       "  stroke: currentColor;\n",
       "  fill: currentColor;\n",
       "}\n",
       "</style><pre class='xr-text-repr-fallback'>&lt;xarray.Dataset&gt; Size: 747GB\n",
       "Dimensions:      (band: 1, x: 432000, y: 216000)\n",
       "Coordinates:\n",
       "  * band         (band) int32 4B 1\n",
       "  * x            (x) float64 3MB -180.0 -180.0 -180.0 ... 180.0 180.0 180.0\n",
       "  * y            (y) float64 2MB 90.0 90.0 90.0 90.0 ... -90.0 -90.0 -90.0 -90.0\n",
       "    spatial_ref  int32 4B ...\n",
       "Data variables:\n",
       "    band_data    (band, y, x) float64 746GB ...</pre><div class='xr-wrap' style='display:none'><div class='xr-header'><div class='xr-obj-type'>xarray.Dataset</div></div><ul class='xr-sections'><li class='xr-section-item'><input id='section-2fd3bb8f-cc61-4cc7-a61d-ae7dbe3a602c' class='xr-section-summary-in' type='checkbox' disabled ><label for='section-2fd3bb8f-cc61-4cc7-a61d-ae7dbe3a602c' class='xr-section-summary'  title='Expand/collapse section'>Dimensions:</label><div class='xr-section-inline-details'><ul class='xr-dim-list'><li><span class='xr-has-index'>band</span>: 1</li><li><span class='xr-has-index'>x</span>: 432000</li><li><span class='xr-has-index'>y</span>: 216000</li></ul></div><div class='xr-section-details'></div></li><li class='xr-section-item'><input id='section-d59b762f-cb3d-4c87-9a5a-9ba0c1067ff3' class='xr-section-summary-in' type='checkbox'  checked><label for='section-d59b762f-cb3d-4c87-9a5a-9ba0c1067ff3' class='xr-section-summary' >Coordinates: <span>(4)</span></label><div class='xr-section-inline-details'></div><div class='xr-section-details'><ul class='xr-var-list'><li class='xr-var-item'><div class='xr-var-name'><span class='xr-has-index'>band</span></div><div class='xr-var-dims'>(band)</div><div class='xr-var-dtype'>int32</div><div class='xr-var-preview xr-preview'>1</div><input id='attrs-694dd471-06eb-4394-abaa-0aa81f93ab3e' class='xr-var-attrs-in' type='checkbox' disabled><label for='attrs-694dd471-06eb-4394-abaa-0aa81f93ab3e' title='Show/Hide attributes'><svg class='icon xr-icon-file-text2'><use xlink:href='#icon-file-text2'></use></svg></label><input id='data-021aeca2-5fdc-477e-a6f1-dee5575bd246' class='xr-var-data-in' type='checkbox'><label for='data-021aeca2-5fdc-477e-a6f1-dee5575bd246' title='Show/Hide data repr'><svg class='icon xr-icon-database'><use xlink:href='#icon-database'></use></svg></label><div class='xr-var-attrs'><dl class='xr-attrs'></dl></div><div class='xr-var-data'><pre>array([1])</pre></div></li><li class='xr-var-item'><div class='xr-var-name'><span class='xr-has-index'>x</span></div><div class='xr-var-dims'>(x)</div><div class='xr-var-dtype'>float64</div><div class='xr-var-preview xr-preview'>-180.0 -180.0 ... 180.0 180.0</div><input id='attrs-34e01267-8d7d-44af-8905-73d21055abce' class='xr-var-attrs-in' type='checkbox' disabled><label for='attrs-34e01267-8d7d-44af-8905-73d21055abce' title='Show/Hide attributes'><svg class='icon xr-icon-file-text2'><use xlink:href='#icon-file-text2'></use></svg></label><input id='data-e462776d-aedb-40f7-bb4a-1980312039df' class='xr-var-data-in' type='checkbox'><label for='data-e462776d-aedb-40f7-bb4a-1980312039df' title='Show/Hide data repr'><svg class='icon xr-icon-database'><use xlink:href='#icon-database'></use></svg></label><div class='xr-var-attrs'><dl class='xr-attrs'></dl></div><div class='xr-var-data'><pre>array([-179.999583, -179.99875 , -179.997917, ...,  179.997917,  179.99875 ,\n",
       "        179.999583])</pre></div></li><li class='xr-var-item'><div class='xr-var-name'><span class='xr-has-index'>y</span></div><div class='xr-var-dims'>(y)</div><div class='xr-var-dtype'>float64</div><div class='xr-var-preview xr-preview'>90.0 90.0 90.0 ... -90.0 -90.0</div><input id='attrs-9976fb71-2db9-4fe9-b119-e6348d68f996' class='xr-var-attrs-in' type='checkbox' disabled><label for='attrs-9976fb71-2db9-4fe9-b119-e6348d68f996' title='Show/Hide attributes'><svg class='icon xr-icon-file-text2'><use xlink:href='#icon-file-text2'></use></svg></label><input id='data-47a9e8a5-5dd0-4917-b2e3-d9fe371d5269' class='xr-var-data-in' type='checkbox'><label for='data-47a9e8a5-5dd0-4917-b2e3-d9fe371d5269' title='Show/Hide data repr'><svg class='icon xr-icon-database'><use xlink:href='#icon-database'></use></svg></label><div class='xr-var-attrs'><dl class='xr-attrs'></dl></div><div class='xr-var-data'><pre>array([ 89.999583,  89.99875 ,  89.997917, ..., -89.997917, -89.99875 ,\n",
       "       -89.999583])</pre></div></li><li class='xr-var-item'><div class='xr-var-name'><span>spatial_ref</span></div><div class='xr-var-dims'>()</div><div class='xr-var-dtype'>int32</div><div class='xr-var-preview xr-preview'>...</div><input id='attrs-695534e5-94a7-4be9-8760-f947b3184c0b' class='xr-var-attrs-in' type='checkbox' ><label for='attrs-695534e5-94a7-4be9-8760-f947b3184c0b' title='Show/Hide attributes'><svg class='icon xr-icon-file-text2'><use xlink:href='#icon-file-text2'></use></svg></label><input id='data-1edc66ca-5b68-411a-bed1-0a8f151a21c5' class='xr-var-data-in' type='checkbox'><label for='data-1edc66ca-5b68-411a-bed1-0a8f151a21c5' title='Show/Hide data repr'><svg class='icon xr-icon-database'><use xlink:href='#icon-database'></use></svg></label><div class='xr-var-attrs'><dl class='xr-attrs'><dt><span>crs_wkt :</span></dt><dd>GEOGCS[&quot;WGS 84&quot;,DATUM[&quot;WGS_1984&quot;,SPHEROID[&quot;WGS 84&quot;,6378137,298.257223563,AUTHORITY[&quot;EPSG&quot;,&quot;7030&quot;]],AUTHORITY[&quot;EPSG&quot;,&quot;6326&quot;]],PRIMEM[&quot;Greenwich&quot;,0,AUTHORITY[&quot;EPSG&quot;,&quot;8901&quot;]],UNIT[&quot;degree&quot;,0.0174532925199433,AUTHORITY[&quot;EPSG&quot;,&quot;9122&quot;]],AXIS[&quot;Latitude&quot;,NORTH],AXIS[&quot;Longitude&quot;,EAST],AUTHORITY[&quot;EPSG&quot;,&quot;4326&quot;]]</dd><dt><span>semi_major_axis :</span></dt><dd>6378137.0</dd><dt><span>semi_minor_axis :</span></dt><dd>6356752.314245179</dd><dt><span>inverse_flattening :</span></dt><dd>298.257223563</dd><dt><span>reference_ellipsoid_name :</span></dt><dd>WGS 84</dd><dt><span>longitude_of_prime_meridian :</span></dt><dd>0.0</dd><dt><span>prime_meridian_name :</span></dt><dd>Greenwich</dd><dt><span>geographic_crs_name :</span></dt><dd>WGS 84</dd><dt><span>horizontal_datum_name :</span></dt><dd>World Geodetic System 1984</dd><dt><span>grid_mapping_name :</span></dt><dd>latitude_longitude</dd><dt><span>spatial_ref :</span></dt><dd>GEOGCS[&quot;WGS 84&quot;,DATUM[&quot;WGS_1984&quot;,SPHEROID[&quot;WGS 84&quot;,6378137,298.257223563,AUTHORITY[&quot;EPSG&quot;,&quot;7030&quot;]],AUTHORITY[&quot;EPSG&quot;,&quot;6326&quot;]],PRIMEM[&quot;Greenwich&quot;,0,AUTHORITY[&quot;EPSG&quot;,&quot;8901&quot;]],UNIT[&quot;degree&quot;,0.0174532925199433,AUTHORITY[&quot;EPSG&quot;,&quot;9122&quot;]],AXIS[&quot;Latitude&quot;,NORTH],AXIS[&quot;Longitude&quot;,EAST],AUTHORITY[&quot;EPSG&quot;,&quot;4326&quot;]]</dd><dt><span>GeoTransform :</span></dt><dd>-180.0 0.0008333333333333334 0.0 90.0 0.0 -0.0008333333333333334</dd></dl></div><div class='xr-var-data'><pre>[1 values with dtype=int32]</pre></div></li></ul></div></li><li class='xr-section-item'><input id='section-18079f7a-8064-40bf-9667-616a503a320a' class='xr-section-summary-in' type='checkbox'  checked><label for='section-18079f7a-8064-40bf-9667-616a503a320a' class='xr-section-summary' >Data variables: <span>(1)</span></label><div class='xr-section-inline-details'></div><div class='xr-section-details'><ul class='xr-var-list'><li class='xr-var-item'><div class='xr-var-name'><span>band_data</span></div><div class='xr-var-dims'>(band, y, x)</div><div class='xr-var-dtype'>float64</div><div class='xr-var-preview xr-preview'>...</div><input id='attrs-c6fbf7c0-7a22-4db0-945f-d9808d8d8397' class='xr-var-attrs-in' type='checkbox' ><label for='attrs-c6fbf7c0-7a22-4db0-945f-d9808d8d8397' title='Show/Hide attributes'><svg class='icon xr-icon-file-text2'><use xlink:href='#icon-file-text2'></use></svg></label><input id='data-21cae484-1c54-40cd-b3b0-a2ca5315d932' class='xr-var-data-in' type='checkbox'><label for='data-21cae484-1c54-40cd-b3b0-a2ca5315d932' title='Show/Hide data repr'><svg class='icon xr-icon-database'><use xlink:href='#icon-database'></use></svg></label><div class='xr-var-attrs'><dl class='xr-attrs'><dt><span>TIFFTAG_SOFTWARE :</span></dt><dd>GRASS GIS 7.8.6 with GDAL 3.4.0</dd><dt><span>AREA_OR_POINT :</span></dt><dd>Area</dd></dl></div><div class='xr-var-data'><pre>[93312000000 values with dtype=float64]</pre></div></li></ul></div></li><li class='xr-section-item'><input id='section-edb411a8-477d-4376-aaf0-0c7dddda105f' class='xr-section-summary-in' type='checkbox'  ><label for='section-edb411a8-477d-4376-aaf0-0c7dddda105f' class='xr-section-summary' >Indexes: <span>(3)</span></label><div class='xr-section-inline-details'></div><div class='xr-section-details'><ul class='xr-var-list'><li class='xr-var-item'><div class='xr-index-name'><div>band</div></div><div class='xr-index-preview'>PandasIndex</div><div></div><input id='index-4756d17f-4261-4f58-a3c5-1a3f43b29821' class='xr-index-data-in' type='checkbox'/><label for='index-4756d17f-4261-4f58-a3c5-1a3f43b29821' title='Show/Hide index repr'><svg class='icon xr-icon-database'><use xlink:href='#icon-database'></use></svg></label><div class='xr-index-data'><pre>PandasIndex(Index([1], dtype=&#x27;int32&#x27;, name=&#x27;band&#x27;))</pre></div></li><li class='xr-var-item'><div class='xr-index-name'><div>x</div></div><div class='xr-index-preview'>PandasIndex</div><div></div><input id='index-25947dec-5633-432f-a96d-d0b6edab2f6c' class='xr-index-data-in' type='checkbox'/><label for='index-25947dec-5633-432f-a96d-d0b6edab2f6c' title='Show/Hide index repr'><svg class='icon xr-icon-database'><use xlink:href='#icon-database'></use></svg></label><div class='xr-index-data'><pre>PandasIndex(Index([-179.99958333333333,          -179.99875, -179.99791666666667,\n",
       "       -179.99708333333334,          -179.99625, -179.99541666666667,\n",
       "       -179.99458333333334,          -179.99375, -179.99291666666667,\n",
       "       -179.99208333333334,\n",
       "       ...\n",
       "        179.99208333333334,  179.99291666666667,           179.99375,\n",
       "        179.99458333333334,  179.99541666666667,           179.99625,\n",
       "        179.99708333333334,  179.99791666666667,           179.99875,\n",
       "        179.99958333333333],\n",
       "      dtype=&#x27;float64&#x27;, name=&#x27;x&#x27;, length=432000))</pre></div></li><li class='xr-var-item'><div class='xr-index-name'><div>y</div></div><div class='xr-index-preview'>PandasIndex</div><div></div><input id='index-170a50a0-8c13-4c19-8045-82c3fd5c4c08' class='xr-index-data-in' type='checkbox'/><label for='index-170a50a0-8c13-4c19-8045-82c3fd5c4c08' title='Show/Hide index repr'><svg class='icon xr-icon-database'><use xlink:href='#icon-database'></use></svg></label><div class='xr-index-data'><pre>PandasIndex(Index([ 89.99958333333333,           89.99875,  89.99791666666667,\n",
       "        89.99708333333334,           89.99625,  89.99541666666667,\n",
       "        89.99458333333334,           89.99375,  89.99291666666667,\n",
       "        89.99208333333334,\n",
       "       ...\n",
       "       -89.99208333333334, -89.99291666666667,          -89.99375,\n",
       "       -89.99458333333334, -89.99541666666667,          -89.99625,\n",
       "       -89.99708333333334, -89.99791666666667,          -89.99875,\n",
       "       -89.99958333333333],\n",
       "      dtype=&#x27;float64&#x27;, name=&#x27;y&#x27;, length=216000))</pre></div></li></ul></div></li><li class='xr-section-item'><input id='section-30780bd3-e3e2-4d2b-a1b6-7b1b2ae159f8' class='xr-section-summary-in' type='checkbox' disabled ><label for='section-30780bd3-e3e2-4d2b-a1b6-7b1b2ae159f8' class='xr-section-summary'  title='Expand/collapse section'>Attributes: <span>(0)</span></label><div class='xr-section-inline-details'></div><div class='xr-section-details'><dl class='xr-attrs'></dl></div></li></ul></div></div>"
      ],
      "text/plain": [
       "<xarray.Dataset> Size: 747GB\n",
       "Dimensions:      (band: 1, x: 432000, y: 216000)\n",
       "Coordinates:\n",
       "  * band         (band) int32 4B 1\n",
       "  * x            (x) float64 3MB -180.0 -180.0 -180.0 ... 180.0 180.0 180.0\n",
       "  * y            (y) float64 2MB 90.0 90.0 90.0 90.0 ... -90.0 -90.0 -90.0 -90.0\n",
       "    spatial_ref  int32 4B ...\n",
       "Data variables:\n",
       "    band_data    (band, y, x) float64 746GB ..."
      ]
     },
     "execution_count": 10,
     "metadata": {},
     "output_type": "execute_result"
    }
   ],
   "source": [
    "hazard_map"
   ]
  },
  {
   "cell_type": "markdown",
   "id": "ee05bef0-90c3-4f33-814f-fb421246e1be",
   "metadata": {},
   "source": [
    "### Maximum damages\n",
    "One of the most difficult parts of the assessment is to define the maximum reconstruction cost of particular assets. Here we provide a baseline set of values, but these should be updated through national consultations.\n",
    "\n",
    "Locations of education facilities are (somewhat randomly) geotagged as either points or polygons. This matters quite a lot for the maximum damages. For polygons, we would use damage per square meter, whereas for points, we would estimate the damage to the entire asset at once. Here we take the approach of converting the points to polygons, and there define our maximum damages in dollar per square meter. "
   ]
  },
  {
   "cell_type": "code",
   "execution_count": 11,
   "id": "92df3cdf-4f61-470f-8b7e-c1eb6d01bcd8",
   "metadata": {},
   "outputs": [],
   "source": [
    "maxdam_dict = {'community_centre' : 1000, \n",
    "               'school' : 1000, \n",
    "               'kindergarten' : 1000, \n",
    "               'university' : 1000, \n",
    "               'college' : 1000,\n",
    "               'library' : 1000\n",
    "              }"
   ]
  },
  {
   "cell_type": "markdown",
   "id": "79192a0b-8615-432e-b55b-63df78629924",
   "metadata": {},
   "source": [
    "To be used in our damage assessment, we convert this to a Pandas DataFrame"
   ]
  },
  {
   "cell_type": "code",
   "execution_count": 12,
   "id": "7dd0aeec-16eb-4ef6-afcf-9cbc7372a245",
   "metadata": {},
   "outputs": [],
   "source": [
    "maxdam = pd.DataFrame.from_dict(maxdam_dict,orient='index').reset_index()\n",
    "maxdam.columns = ['object_type','damage']"
   ]
  },
  {
   "cell_type": "markdown",
   "id": "4a56a910-052d-4c9a-acd2-921b00a05eaa",
   "metadata": {},
   "source": [
    "And check if any of the objects are missing from the dataframe."
   ]
  },
  {
   "cell_type": "code",
   "execution_count": 13,
   "id": "b18fc5b3-8335-463d-85f1-35188f0e8888",
   "metadata": {},
   "outputs": [],
   "source": [
    "missing = set(sub_types) - set(maxdam.object_type)\n",
    "\n",
    "if len(missing) > 0:\n",
    "    print(f\"Missing object types in maxdam: \\033[1m{', '.join(missing)}\\033[0m. Please add them before you continue.\")"
   ]
  },
  {
   "cell_type": "markdown",
   "id": "84b69fd7-393a-48f6-aae6-33b19bb2e3b9",
   "metadata": {},
   "source": [
    "### Vulnerability data\n",
    "Similarly to the maximum damages, specifying the vulnerability curves is complex. We generally have limited information about the quality of the assets, its level of deteriation and other asset-level characteristics."
   ]
  },
  {
   "cell_type": "code",
   "execution_count": 14,
   "id": "ec8a021f-0c9d-41a7-846b-fd78af69cd85",
   "metadata": {},
   "outputs": [],
   "source": [
    "vulnerability_path = \"https://zenodo.org/records/10203846/files/Table_D2_Multi-Hazard_Fragility_and_Vulnerability_Curves_V1.0.0.xlsx?download=1\"\n",
    "vul_df = pd.read_excel(vulnerability_path,sheet_name='F_Vuln_Depth').fillna(method='ffill')"
   ]
  },
  {
   "cell_type": "markdown",
   "id": "6ad555da-f453-4e2a-9d7b-dcb20e6e960b",
   "metadata": {},
   "source": [
    "And let's have a look at all the available options"
   ]
  },
  {
   "cell_type": "code",
   "execution_count": 15,
   "id": "c9a14865-3350-41ba-ad48-eb4886c63874",
   "metadata": {
    "scrolled": true
   },
   "outputs": [
    {
     "data": {
      "text/html": [
       "<div>\n",
       "<style scoped>\n",
       "    .dataframe tbody tr th:only-of-type {\n",
       "        vertical-align: middle;\n",
       "    }\n",
       "\n",
       "    .dataframe tbody tr th {\n",
       "        vertical-align: top;\n",
       "    }\n",
       "\n",
       "    .dataframe thead th {\n",
       "        text-align: right;\n",
       "    }\n",
       "</style>\n",
       "<table border=\"1\" class=\"dataframe\">\n",
       "  <thead>\n",
       "    <tr style=\"text-align: right;\">\n",
       "      <th></th>\n",
       "      <th>0</th>\n",
       "      <th>1</th>\n",
       "    </tr>\n",
       "  </thead>\n",
       "  <tbody>\n",
       "    <tr>\n",
       "      <th>ID number</th>\n",
       "      <td>Infrastructure description</td>\n",
       "      <td>Additional characteristics</td>\n",
       "    </tr>\n",
       "    <tr>\n",
       "      <th>F1.1</th>\n",
       "      <td>plant</td>\n",
       "      <td>Small power plants, capacity &lt;100 MW</td>\n",
       "    </tr>\n",
       "    <tr>\n",
       "      <th>F1.2</th>\n",
       "      <td>plant</td>\n",
       "      <td>Medium power plants, capacity 100-500 MW</td>\n",
       "    </tr>\n",
       "    <tr>\n",
       "      <th>F1.3</th>\n",
       "      <td>plant</td>\n",
       "      <td>Large power plants, &gt;500 MW</td>\n",
       "    </tr>\n",
       "    <tr>\n",
       "      <th>F1.4</th>\n",
       "      <td>plant</td>\n",
       "      <td>thermal plant</td>\n",
       "    </tr>\n",
       "    <tr>\n",
       "      <th>F1.5</th>\n",
       "      <td>plant</td>\n",
       "      <td>wind turbine</td>\n",
       "    </tr>\n",
       "    <tr>\n",
       "      <th>F1.6</th>\n",
       "      <td>plant</td>\n",
       "      <td>wind turbine</td>\n",
       "    </tr>\n",
       "    <tr>\n",
       "      <th>F1.7</th>\n",
       "      <td>plant</td>\n",
       "      <td>wind turbine</td>\n",
       "    </tr>\n",
       "    <tr>\n",
       "      <th>F2.1</th>\n",
       "      <td>substation</td>\n",
       "      <td>Low Voltage Substation</td>\n",
       "    </tr>\n",
       "    <tr>\n",
       "      <th>F2.2</th>\n",
       "      <td>substation</td>\n",
       "      <td>Medium Voltage Substation</td>\n",
       "    </tr>\n",
       "    <tr>\n",
       "      <th>F2.3</th>\n",
       "      <td>substation</td>\n",
       "      <td>High Voltage Substation</td>\n",
       "    </tr>\n",
       "    <tr>\n",
       "      <th>F5.1</th>\n",
       "      <td>cable</td>\n",
       "      <td>Distribution circuits buried crossings</td>\n",
       "    </tr>\n",
       "    <tr>\n",
       "      <th>F6.1</th>\n",
       "      <td>Power (minor) line</td>\n",
       "      <td>Distribution circuits (non-crossings)</td>\n",
       "    </tr>\n",
       "    <tr>\n",
       "      <th>F6.2</th>\n",
       "      <td>cable</td>\n",
       "      <td>Distribution circuits elevated crossings</td>\n",
       "    </tr>\n",
       "    <tr>\n",
       "      <th>F6.3</th>\n",
       "      <td>Energy system</td>\n",
       "      <td>Generalized curve for energy assets in diked areas</td>\n",
       "    </tr>\n",
       "    <tr>\n",
       "      <th>F7.1</th>\n",
       "      <td>Roads</td>\n",
       "      <td>Roads</td>\n",
       "    </tr>\n",
       "    <tr>\n",
       "      <th>F7.2</th>\n",
       "      <td>Roads</td>\n",
       "      <td>Roads</td>\n",
       "    </tr>\n",
       "    <tr>\n",
       "      <th>F7.2a (lower boundary)</th>\n",
       "      <td>Roads</td>\n",
       "      <td>Roads</td>\n",
       "    </tr>\n",
       "    <tr>\n",
       "      <th>F7.2b (upper boundary)</th>\n",
       "      <td>Roads</td>\n",
       "      <td>Roads</td>\n",
       "    </tr>\n",
       "    <tr>\n",
       "      <th>F7.3</th>\n",
       "      <td>Roads</td>\n",
       "      <td>Roads</td>\n",
       "    </tr>\n",
       "    <tr>\n",
       "      <th>F7.4</th>\n",
       "      <td>Roads</td>\n",
       "      <td>Motorways and trunk roads - sophisticated accessories - low flow</td>\n",
       "    </tr>\n",
       "    <tr>\n",
       "      <th>F7.5</th>\n",
       "      <td>Roads</td>\n",
       "      <td>Motorways and trunk roads - sophisticated accessories - high flow</td>\n",
       "    </tr>\n",
       "    <tr>\n",
       "      <th>F7.6</th>\n",
       "      <td>Roads</td>\n",
       "      <td>Motorways and trunk roads - without sophisticated accessories - low flow</td>\n",
       "    </tr>\n",
       "    <tr>\n",
       "      <th>F7.7</th>\n",
       "      <td>Roads</td>\n",
       "      <td>Motorways and trunk roads - without sophisticated accessories - high flow</td>\n",
       "    </tr>\n",
       "    <tr>\n",
       "      <th>F7.8</th>\n",
       "      <td>Roads</td>\n",
       "      <td>Other roads - low flow</td>\n",
       "    </tr>\n",
       "    <tr>\n",
       "      <th>F7.9</th>\n",
       "      <td>Roads</td>\n",
       "      <td>Other roads - high flow</td>\n",
       "    </tr>\n",
       "    <tr>\n",
       "      <th>F7.10</th>\n",
       "      <td>Roads</td>\n",
       "      <td>Roads</td>\n",
       "    </tr>\n",
       "    <tr>\n",
       "      <th>F7.11</th>\n",
       "      <td>Roads</td>\n",
       "      <td>Roads</td>\n",
       "    </tr>\n",
       "    <tr>\n",
       "      <th>F7.12</th>\n",
       "      <td>Roads</td>\n",
       "      <td>Roads</td>\n",
       "    </tr>\n",
       "    <tr>\n",
       "      <th>F7.13</th>\n",
       "      <td>Roads</td>\n",
       "      <td>Roads</td>\n",
       "    </tr>\n",
       "    <tr>\n",
       "      <th>F8.1</th>\n",
       "      <td>Railways</td>\n",
       "      <td>Double-tracked railway</td>\n",
       "    </tr>\n",
       "    <tr>\n",
       "      <th>F8.2</th>\n",
       "      <td>Railways</td>\n",
       "      <td>Double-tracked railway</td>\n",
       "    </tr>\n",
       "    <tr>\n",
       "      <th>F8.3</th>\n",
       "      <td>Railways</td>\n",
       "      <td>Railways</td>\n",
       "    </tr>\n",
       "    <tr>\n",
       "      <th>F8.4</th>\n",
       "      <td>Railways</td>\n",
       "      <td>Railways</td>\n",
       "    </tr>\n",
       "    <tr>\n",
       "      <th>F8.5</th>\n",
       "      <td>Railways</td>\n",
       "      <td>Railways</td>\n",
       "    </tr>\n",
       "    <tr>\n",
       "      <th>F8.6</th>\n",
       "      <td>Railways</td>\n",
       "      <td>Railways</td>\n",
       "    </tr>\n",
       "    <tr>\n",
       "      <th>F8.6a (lower boundary)</th>\n",
       "      <td>Railways</td>\n",
       "      <td>Railways</td>\n",
       "    </tr>\n",
       "    <tr>\n",
       "      <th>F8.6b (upper boundary)</th>\n",
       "      <td>Railways</td>\n",
       "      <td>Railways</td>\n",
       "    </tr>\n",
       "    <tr>\n",
       "      <th>F8.7</th>\n",
       "      <td>Railways</td>\n",
       "      <td>Railways</td>\n",
       "    </tr>\n",
       "    <tr>\n",
       "      <th>F8.8</th>\n",
       "      <td>Railways</td>\n",
       "      <td>Railway station</td>\n",
       "    </tr>\n",
       "    <tr>\n",
       "      <th>F9.1</th>\n",
       "      <td>Airports</td>\n",
       "      <td>Airports</td>\n",
       "    </tr>\n",
       "    <tr>\n",
       "      <th>F9.2</th>\n",
       "      <td>Airports</td>\n",
       "      <td>Airports</td>\n",
       "    </tr>\n",
       "    <tr>\n",
       "      <th>F9.3</th>\n",
       "      <td>Airports</td>\n",
       "      <td>Airports</td>\n",
       "    </tr>\n",
       "    <tr>\n",
       "      <th>F10.1</th>\n",
       "      <td>Telecommunication</td>\n",
       "      <td>Communication tower</td>\n",
       "    </tr>\n",
       "    <tr>\n",
       "      <th>F12.1</th>\n",
       "      <td>Telecommunication</td>\n",
       "      <td>Communication system</td>\n",
       "    </tr>\n",
       "    <tr>\n",
       "      <th>F13.1</th>\n",
       "      <td>water storage tanks</td>\n",
       "      <td>Water storage tanks at grade concrete</td>\n",
       "    </tr>\n",
       "    <tr>\n",
       "      <th>F13.2</th>\n",
       "      <td>water storage tanks</td>\n",
       "      <td>Water storage tanks at grade steel</td>\n",
       "    </tr>\n",
       "    <tr>\n",
       "      <th>F13.3</th>\n",
       "      <td>water storage tanks</td>\n",
       "      <td>Water storage tanks at grade wood</td>\n",
       "    </tr>\n",
       "    <tr>\n",
       "      <th>F13.4</th>\n",
       "      <td>water storage tanks</td>\n",
       "      <td>Water storage tanks elevated</td>\n",
       "    </tr>\n",
       "    <tr>\n",
       "      <th>F13.5</th>\n",
       "      <td>water storage tanks</td>\n",
       "      <td>Water storage tanks below grade</td>\n",
       "    </tr>\n",
       "    <tr>\n",
       "      <th>F14.1</th>\n",
       "      <td>Water treatment plants</td>\n",
       "      <td>Small water treatment plants open/gravity - average flood design</td>\n",
       "    </tr>\n",
       "    <tr>\n",
       "      <th>F14.2</th>\n",
       "      <td>Water treatment plants</td>\n",
       "      <td>Medium water treatment plants open/gravity - average flood design</td>\n",
       "    </tr>\n",
       "    <tr>\n",
       "      <th>F14.3</th>\n",
       "      <td>Water treatment plants</td>\n",
       "      <td>Large water treatment plants open/gravity - average flood design</td>\n",
       "    </tr>\n",
       "    <tr>\n",
       "      <th>F14.4</th>\n",
       "      <td>Water treatment plants</td>\n",
       "      <td>small/medium/large water treatment plants open/gravity - above average flood design</td>\n",
       "    </tr>\n",
       "    <tr>\n",
       "      <th>F14.5</th>\n",
       "      <td>Water treatment plants</td>\n",
       "      <td>small/medium/large water treatment plants open/gravity - below average flood design</td>\n",
       "    </tr>\n",
       "    <tr>\n",
       "      <th>F14.6</th>\n",
       "      <td>Water treatment plants</td>\n",
       "      <td>Small water treatment plants closed/pressure</td>\n",
       "    </tr>\n",
       "    <tr>\n",
       "      <th>F14.7</th>\n",
       "      <td>Water treatment plants</td>\n",
       "      <td>Medium water treatment plants closed/pressure</td>\n",
       "    </tr>\n",
       "    <tr>\n",
       "      <th>F14.8</th>\n",
       "      <td>Water treatment plants</td>\n",
       "      <td>Large water treatment plants closed/pressure</td>\n",
       "    </tr>\n",
       "    <tr>\n",
       "      <th>F14.9</th>\n",
       "      <td>Water treatment plants</td>\n",
       "      <td>small/medium/large water treatment plants closed/pressure - above average flood design</td>\n",
       "    </tr>\n",
       "    <tr>\n",
       "      <th>F14.10</th>\n",
       "      <td>Water treatment plants</td>\n",
       "      <td>small/medium/large water treatment plants closed/pressure - below average flood design</td>\n",
       "    </tr>\n",
       "    <tr>\n",
       "      <th>F15.1</th>\n",
       "      <td>Water well</td>\n",
       "      <td>Wells</td>\n",
       "    </tr>\n",
       "    <tr>\n",
       "      <th>F16.1</th>\n",
       "      <td>Transmission and distribution pipelines</td>\n",
       "      <td>Exposed transmission pipeline crossing</td>\n",
       "    </tr>\n",
       "    <tr>\n",
       "      <th>F16.2</th>\n",
       "      <td>Transmission and distribution pipelines</td>\n",
       "      <td>Buried transmission pipeline crossing</td>\n",
       "    </tr>\n",
       "    <tr>\n",
       "      <th>F16.3</th>\n",
       "      <td>Transmission and distribution pipelines</td>\n",
       "      <td>Pipelines (non-crossing)</td>\n",
       "    </tr>\n",
       "    <tr>\n",
       "      <th>F17.1</th>\n",
       "      <td>Others</td>\n",
       "      <td>Pumping plants (small) below grade</td>\n",
       "    </tr>\n",
       "    <tr>\n",
       "      <th>F17.2</th>\n",
       "      <td>Others</td>\n",
       "      <td>Pumping plants (medium/large) below grade</td>\n",
       "    </tr>\n",
       "    <tr>\n",
       "      <th>F17.3</th>\n",
       "      <td>Others</td>\n",
       "      <td>Pumping plants (small) above grade</td>\n",
       "    </tr>\n",
       "    <tr>\n",
       "      <th>F17.4</th>\n",
       "      <td>Others</td>\n",
       "      <td>Pumping plants (medium/large) above grade</td>\n",
       "    </tr>\n",
       "    <tr>\n",
       "      <th>F17.5</th>\n",
       "      <td>Others</td>\n",
       "      <td>Pumping plants</td>\n",
       "    </tr>\n",
       "    <tr>\n",
       "      <th>F17.6</th>\n",
       "      <td>Others</td>\n",
       "      <td>Control vaults and stations</td>\n",
       "    </tr>\n",
       "    <tr>\n",
       "      <th>F18.1</th>\n",
       "      <td>Wastewater treatment plant</td>\n",
       "      <td>Small wastewater treatment plants</td>\n",
       "    </tr>\n",
       "    <tr>\n",
       "      <th>F18.2</th>\n",
       "      <td>Wastewater treatment plant</td>\n",
       "      <td>Medium wastewater treatment plants</td>\n",
       "    </tr>\n",
       "    <tr>\n",
       "      <th>F18.3</th>\n",
       "      <td>Wastewater treatment plant</td>\n",
       "      <td>Large wastewater treatment plants</td>\n",
       "    </tr>\n",
       "    <tr>\n",
       "      <th>F18.4</th>\n",
       "      <td>Wastewater treatment plant</td>\n",
       "      <td>Small, medium, large Wastewater treatment plants - above average flood design</td>\n",
       "    </tr>\n",
       "    <tr>\n",
       "      <th>F18.5</th>\n",
       "      <td>Wastewater treatment plant</td>\n",
       "      <td>Small, medium, large Wastewater treatment plants- below average flood design</td>\n",
       "    </tr>\n",
       "    <tr>\n",
       "      <th>F18.6</th>\n",
       "      <td>Wastewater treatment plant</td>\n",
       "      <td>Wastewater treatment plant</td>\n",
       "    </tr>\n",
       "    <tr>\n",
       "      <th>F19.1</th>\n",
       "      <td>Transmission and distribution pipelines</td>\n",
       "      <td>Sewers &amp; Interceptors: Exposed collector river crossings</td>\n",
       "    </tr>\n",
       "    <tr>\n",
       "      <th>F19.2</th>\n",
       "      <td>Transmission and distribution pipelines</td>\n",
       "      <td>Sewers &amp; Interceptors: Buried collector river crossings</td>\n",
       "    </tr>\n",
       "    <tr>\n",
       "      <th>F19.3</th>\n",
       "      <td>Transmission and distribution pipelines</td>\n",
       "      <td>Sewers &amp; Interceptors: Pipes (non-crossings)</td>\n",
       "    </tr>\n",
       "    <tr>\n",
       "      <th>F20.1</th>\n",
       "      <td>Others</td>\n",
       "      <td>Control vaults and control stations</td>\n",
       "    </tr>\n",
       "    <tr>\n",
       "      <th>F20.2</th>\n",
       "      <td>Others</td>\n",
       "      <td>Lift stations: lift station (small), wet well/dry well</td>\n",
       "    </tr>\n",
       "    <tr>\n",
       "      <th>F20.3</th>\n",
       "      <td>Others</td>\n",
       "      <td>Lift stations: lift station (medium large), wet well/dry well</td>\n",
       "    </tr>\n",
       "    <tr>\n",
       "      <th>F20.4</th>\n",
       "      <td>Others</td>\n",
       "      <td>Lift stations: lift station (small), submersible</td>\n",
       "    </tr>\n",
       "    <tr>\n",
       "      <th>F20.5</th>\n",
       "      <td>Others</td>\n",
       "      <td>Lift stations: lift station (medium large), submersible</td>\n",
       "    </tr>\n",
       "    <tr>\n",
       "      <th>F21.1</th>\n",
       "      <td>Education &amp; Health</td>\n",
       "      <td>Generalized curve for commercial buildings, which also includes schools and hospitals</td>\n",
       "    </tr>\n",
       "    <tr>\n",
       "      <th>F21.2</th>\n",
       "      <td>Education &amp; Health</td>\n",
       "      <td>Generalized curve for commercial buildings, which also includes schools and hospitals</td>\n",
       "    </tr>\n",
       "    <tr>\n",
       "      <th>F21.3</th>\n",
       "      <td>Education &amp; Health</td>\n",
       "      <td>Generalized curve for commercial buildings, which also includes schools and hospitals</td>\n",
       "    </tr>\n",
       "    <tr>\n",
       "      <th>F21.3a (lower boundary)</th>\n",
       "      <td>Education &amp; Health</td>\n",
       "      <td>Generalized curve for commercial buildings, which also includes schools and hospitals</td>\n",
       "    </tr>\n",
       "    <tr>\n",
       "      <th>F21.3b (upper boundary)</th>\n",
       "      <td>Education &amp; Health</td>\n",
       "      <td>Generalized curve for commercial buildings, which also includes schools and hospitals</td>\n",
       "    </tr>\n",
       "    <tr>\n",
       "      <th>F21.4</th>\n",
       "      <td>Education &amp; Health</td>\n",
       "      <td>Generalized curve for commercial buildings, which also includes schools and hospitals</td>\n",
       "    </tr>\n",
       "    <tr>\n",
       "      <th>F21.4a (lower boundary)</th>\n",
       "      <td>Education &amp; Health</td>\n",
       "      <td>Generalized curve for commercial buildings, which also includes schools and hospitals</td>\n",
       "    </tr>\n",
       "    <tr>\n",
       "      <th>F21.4b (upper boundary)</th>\n",
       "      <td>Education &amp; Health</td>\n",
       "      <td>Generalized curve for commercial buildings, which also includes schools and hospitals</td>\n",
       "    </tr>\n",
       "    <tr>\n",
       "      <th>F21.5</th>\n",
       "      <td>Education &amp; Health</td>\n",
       "      <td>Generalized curve for commercial buildings, which also includes schools and hospitals</td>\n",
       "    </tr>\n",
       "    <tr>\n",
       "      <th>F21.5a (lower boundary)</th>\n",
       "      <td>Education &amp; Health</td>\n",
       "      <td>Generalized curve for commercial buildings, which also includes schools and hospitals</td>\n",
       "    </tr>\n",
       "    <tr>\n",
       "      <th>F21.5b (upper boundary)</th>\n",
       "      <td>Education &amp; Health</td>\n",
       "      <td>Generalized curve for commercial buildings, which also includes schools and hospitals</td>\n",
       "    </tr>\n",
       "    <tr>\n",
       "      <th>F21.6</th>\n",
       "      <td>Education &amp; Health</td>\n",
       "      <td>Generalized curve for commercial buildings, which also includes schools and hospitals</td>\n",
       "    </tr>\n",
       "    <tr>\n",
       "      <th>F21.7</th>\n",
       "      <td>School buildings</td>\n",
       "      <td>Generalized curve for companies (incl. government)</td>\n",
       "    </tr>\n",
       "    <tr>\n",
       "      <th>F21.8</th>\n",
       "      <td>Health &amp; education</td>\n",
       "      <td>Generalized curve for offices in diked areas</td>\n",
       "    </tr>\n",
       "    <tr>\n",
       "      <th>F21.9</th>\n",
       "      <td>Education &amp; Health</td>\n",
       "      <td>Generalized function for industry</td>\n",
       "    </tr>\n",
       "    <tr>\n",
       "      <th>F21.10</th>\n",
       "      <td>School buildings</td>\n",
       "      <td>Generalized curve for buildings</td>\n",
       "    </tr>\n",
       "    <tr>\n",
       "      <th>F21.11</th>\n",
       "      <td>School buildings</td>\n",
       "      <td>School buildings</td>\n",
       "    </tr>\n",
       "    <tr>\n",
       "      <th>F21.12</th>\n",
       "      <td>Health buildings</td>\n",
       "      <td>Health buildings</td>\n",
       "    </tr>\n",
       "    <tr>\n",
       "      <th>F21.13</th>\n",
       "      <td>Education buildings</td>\n",
       "      <td>Education buildings</td>\n",
       "    </tr>\n",
       "  </tbody>\n",
       "</table>\n",
       "</div>"
      ],
      "text/plain": [
       "                                                               0  \\\n",
       "ID number                             Infrastructure description   \n",
       "F1.1                                                       plant   \n",
       "F1.2                                                       plant   \n",
       "F1.3                                                       plant   \n",
       "F1.4                                                       plant   \n",
       "F1.5                                                       plant   \n",
       "F1.6                                                       plant   \n",
       "F1.7                                                       plant   \n",
       "F2.1                                                  substation   \n",
       "F2.2                                                  substation   \n",
       "F2.3                                                  substation   \n",
       "F5.1                                                       cable   \n",
       "F6.1                                          Power (minor) line   \n",
       "F6.2                                                       cable   \n",
       "F6.3                                               Energy system   \n",
       "F7.1                                                       Roads   \n",
       "F7.2                                                       Roads   \n",
       "F7.2a (lower boundary)                                     Roads   \n",
       "F7.2b (upper boundary)                                     Roads   \n",
       "F7.3                                                       Roads   \n",
       "F7.4                                                       Roads   \n",
       "F7.5                                                       Roads   \n",
       "F7.6                                                       Roads   \n",
       "F7.7                                                       Roads   \n",
       "F7.8                                                       Roads   \n",
       "F7.9                                                       Roads   \n",
       "F7.10                                                      Roads   \n",
       "F7.11                                                      Roads   \n",
       "F7.12                                                      Roads   \n",
       "F7.13                                                      Roads   \n",
       "F8.1                                                    Railways   \n",
       "F8.2                                                    Railways   \n",
       "F8.3                                                    Railways   \n",
       "F8.4                                                    Railways   \n",
       "F8.5                                                    Railways   \n",
       "F8.6                                                    Railways   \n",
       "F8.6a (lower boundary)                                  Railways   \n",
       "F8.6b (upper boundary)                                  Railways   \n",
       "F8.7                                                    Railways   \n",
       "F8.8                                                    Railways   \n",
       "F9.1                                                    Airports   \n",
       "F9.2                                                    Airports   \n",
       "F9.3                                                    Airports   \n",
       "F10.1                                          Telecommunication   \n",
       "F12.1                                          Telecommunication   \n",
       "F13.1                                        water storage tanks   \n",
       "F13.2                                        water storage tanks   \n",
       "F13.3                                        water storage tanks   \n",
       "F13.4                                        water storage tanks   \n",
       "F13.5                                        water storage tanks   \n",
       "F14.1                                     Water treatment plants   \n",
       "F14.2                                     Water treatment plants   \n",
       "F14.3                                     Water treatment plants   \n",
       "F14.4                                     Water treatment plants   \n",
       "F14.5                                     Water treatment plants   \n",
       "F14.6                                     Water treatment plants   \n",
       "F14.7                                     Water treatment plants   \n",
       "F14.8                                     Water treatment plants   \n",
       "F14.9                                     Water treatment plants   \n",
       "F14.10                                    Water treatment plants   \n",
       "F15.1                                                 Water well   \n",
       "F16.1                    Transmission and distribution pipelines   \n",
       "F16.2                    Transmission and distribution pipelines   \n",
       "F16.3                    Transmission and distribution pipelines   \n",
       "F17.1                                                     Others   \n",
       "F17.2                                                     Others   \n",
       "F17.3                                                     Others   \n",
       "F17.4                                                     Others   \n",
       "F17.5                                                     Others   \n",
       "F17.6                                                     Others   \n",
       "F18.1                                 Wastewater treatment plant   \n",
       "F18.2                                 Wastewater treatment plant   \n",
       "F18.3                                 Wastewater treatment plant   \n",
       "F18.4                                 Wastewater treatment plant   \n",
       "F18.5                                 Wastewater treatment plant   \n",
       "F18.6                                 Wastewater treatment plant   \n",
       "F19.1                    Transmission and distribution pipelines   \n",
       "F19.2                    Transmission and distribution pipelines   \n",
       "F19.3                    Transmission and distribution pipelines   \n",
       "F20.1                                                     Others   \n",
       "F20.2                                                     Others   \n",
       "F20.3                                                     Others   \n",
       "F20.4                                                     Others   \n",
       "F20.5                                                     Others   \n",
       "F21.1                                         Education & Health   \n",
       "F21.2                                         Education & Health   \n",
       "F21.3                                         Education & Health   \n",
       "F21.3a (lower boundary)                       Education & Health   \n",
       "F21.3b (upper boundary)                       Education & Health   \n",
       "F21.4                                         Education & Health   \n",
       "F21.4a (lower boundary)                       Education & Health   \n",
       "F21.4b (upper boundary)                       Education & Health   \n",
       "F21.5                                         Education & Health   \n",
       "F21.5a (lower boundary)                       Education & Health   \n",
       "F21.5b (upper boundary)                       Education & Health   \n",
       "F21.6                                         Education & Health   \n",
       "F21.7                                           School buildings   \n",
       "F21.8                                         Health & education   \n",
       "F21.9                                         Education & Health   \n",
       "F21.10                                          School buildings   \n",
       "F21.11                                          School buildings   \n",
       "F21.12                                          Health buildings   \n",
       "F21.13                                       Education buildings   \n",
       "\n",
       "                                                                                                              1  \n",
       "ID number                                                                            Additional characteristics  \n",
       "F1.1                                                                       Small power plants, capacity <100 MW  \n",
       "F1.2                                                                   Medium power plants, capacity 100-500 MW  \n",
       "F1.3                                                                                Large power plants, >500 MW  \n",
       "F1.4                                                                                              thermal plant  \n",
       "F1.5                                                                                               wind turbine  \n",
       "F1.6                                                                                               wind turbine  \n",
       "F1.7                                                                                               wind turbine  \n",
       "F2.1                                                                                     Low Voltage Substation  \n",
       "F2.2                                                                                  Medium Voltage Substation  \n",
       "F2.3                                                                                    High Voltage Substation  \n",
       "F5.1                                                                     Distribution circuits buried crossings  \n",
       "F6.1                                                                      Distribution circuits (non-crossings)  \n",
       "F6.2                                                                   Distribution circuits elevated crossings  \n",
       "F6.3                                                         Generalized curve for energy assets in diked areas  \n",
       "F7.1                                                                                                      Roads  \n",
       "F7.2                                                                                                      Roads  \n",
       "F7.2a (lower boundary)                                                                                    Roads  \n",
       "F7.2b (upper boundary)                                                                                    Roads  \n",
       "F7.3                                                                                                      Roads  \n",
       "F7.4                                           Motorways and trunk roads - sophisticated accessories - low flow  \n",
       "F7.5                                          Motorways and trunk roads - sophisticated accessories - high flow  \n",
       "F7.6                                   Motorways and trunk roads - without sophisticated accessories - low flow  \n",
       "F7.7                                  Motorways and trunk roads - without sophisticated accessories - high flow  \n",
       "F7.8                                                                                     Other roads - low flow  \n",
       "F7.9                                                                                    Other roads - high flow  \n",
       "F7.10                                                                                                     Roads  \n",
       "F7.11                                                                                                     Roads  \n",
       "F7.12                                                                                                     Roads  \n",
       "F7.13                                                                                                     Roads  \n",
       "F8.1                                                                                     Double-tracked railway  \n",
       "F8.2                                                                                     Double-tracked railway  \n",
       "F8.3                                                                                                   Railways  \n",
       "F8.4                                                                                                   Railways  \n",
       "F8.5                                                                                                   Railways  \n",
       "F8.6                                                                                                   Railways  \n",
       "F8.6a (lower boundary)                                                                                 Railways  \n",
       "F8.6b (upper boundary)                                                                                 Railways  \n",
       "F8.7                                                                                                   Railways  \n",
       "F8.8                                                                                            Railway station  \n",
       "F9.1                                                                                                   Airports  \n",
       "F9.2                                                                                                   Airports  \n",
       "F9.3                                                                                                   Airports  \n",
       "F10.1                                                                                       Communication tower  \n",
       "F12.1                                                                                      Communication system  \n",
       "F13.1                                                                     Water storage tanks at grade concrete  \n",
       "F13.2                                                                        Water storage tanks at grade steel  \n",
       "F13.3                                                                         Water storage tanks at grade wood  \n",
       "F13.4                                                                              Water storage tanks elevated  \n",
       "F13.5                                                                           Water storage tanks below grade  \n",
       "F14.1                                          Small water treatment plants open/gravity - average flood design  \n",
       "F14.2                                         Medium water treatment plants open/gravity - average flood design  \n",
       "F14.3                                          Large water treatment plants open/gravity - average flood design  \n",
       "F14.4                       small/medium/large water treatment plants open/gravity - above average flood design  \n",
       "F14.5                       small/medium/large water treatment plants open/gravity - below average flood design  \n",
       "F14.6                                                              Small water treatment plants closed/pressure  \n",
       "F14.7                                                             Medium water treatment plants closed/pressure  \n",
       "F14.8                                                              Large water treatment plants closed/pressure  \n",
       "F14.9                    small/medium/large water treatment plants closed/pressure - above average flood design  \n",
       "F14.10                   small/medium/large water treatment plants closed/pressure - below average flood design  \n",
       "F15.1                                                                                                     Wells  \n",
       "F16.1                                                                    Exposed transmission pipeline crossing  \n",
       "F16.2                                                                     Buried transmission pipeline crossing  \n",
       "F16.3                                                                                  Pipelines (non-crossing)  \n",
       "F17.1                                                                        Pumping plants (small) below grade  \n",
       "F17.2                                                                 Pumping plants (medium/large) below grade  \n",
       "F17.3                                                                        Pumping plants (small) above grade  \n",
       "F17.4                                                                 Pumping plants (medium/large) above grade  \n",
       "F17.5                                                                                            Pumping plants  \n",
       "F17.6                                                                               Control vaults and stations  \n",
       "F18.1                                                                         Small wastewater treatment plants  \n",
       "F18.2                                                                        Medium wastewater treatment plants  \n",
       "F18.3                                                                         Large wastewater treatment plants  \n",
       "F18.4                             Small, medium, large Wastewater treatment plants - above average flood design  \n",
       "F18.5                              Small, medium, large Wastewater treatment plants- below average flood design  \n",
       "F18.6                                                                                Wastewater treatment plant  \n",
       "F19.1                                                  Sewers & Interceptors: Exposed collector river crossings  \n",
       "F19.2                                                   Sewers & Interceptors: Buried collector river crossings  \n",
       "F19.3                                                              Sewers & Interceptors: Pipes (non-crossings)  \n",
       "F20.1                                                                       Control vaults and control stations  \n",
       "F20.2                                                    Lift stations: lift station (small), wet well/dry well  \n",
       "F20.3                                             Lift stations: lift station (medium large), wet well/dry well  \n",
       "F20.4                                                          Lift stations: lift station (small), submersible  \n",
       "F20.5                                                   Lift stations: lift station (medium large), submersible  \n",
       "F21.1                     Generalized curve for commercial buildings, which also includes schools and hospitals  \n",
       "F21.2                     Generalized curve for commercial buildings, which also includes schools and hospitals  \n",
       "F21.3                     Generalized curve for commercial buildings, which also includes schools and hospitals  \n",
       "F21.3a (lower boundary)   Generalized curve for commercial buildings, which also includes schools and hospitals  \n",
       "F21.3b (upper boundary)   Generalized curve for commercial buildings, which also includes schools and hospitals  \n",
       "F21.4                     Generalized curve for commercial buildings, which also includes schools and hospitals  \n",
       "F21.4a (lower boundary)   Generalized curve for commercial buildings, which also includes schools and hospitals  \n",
       "F21.4b (upper boundary)   Generalized curve for commercial buildings, which also includes schools and hospitals  \n",
       "F21.5                     Generalized curve for commercial buildings, which also includes schools and hospitals  \n",
       "F21.5a (lower boundary)   Generalized curve for commercial buildings, which also includes schools and hospitals  \n",
       "F21.5b (upper boundary)   Generalized curve for commercial buildings, which also includes schools and hospitals  \n",
       "F21.6                     Generalized curve for commercial buildings, which also includes schools and hospitals  \n",
       "F21.7                                                        Generalized curve for companies (incl. government)  \n",
       "F21.8                                                              Generalized curve for offices in diked areas  \n",
       "F21.9                                                                         Generalized function for industry  \n",
       "F21.10                                                                          Generalized curve for buildings  \n",
       "F21.11                                                                                         School buildings  \n",
       "F21.12                                                                                         Health buildings  \n",
       "F21.13                                                                                      Education buildings  "
      ]
     },
     "metadata": {},
     "output_type": "display_data"
    }
   ],
   "source": [
    "with pd.option_context('display.max_rows', None, 'display.max_colwidth', None):\n",
    "  display(vul_df.iloc[:2,:].T)"
   ]
  },
  {
   "cell_type": "markdown",
   "id": "393085ef-cdab-4e9f-b1d3-6a2c478a5e1b",
   "metadata": {},
   "source": [
    "And select a curve to use for each different subtype we are analysing."
   ]
  },
  {
   "cell_type": "code",
   "execution_count": 16,
   "id": "6a288a2e-ae21-4a04-8917-ff73bd66db50",
   "metadata": {},
   "outputs": [
    {
     "data": {
      "text/plain": [
       "array(['school', 'kindergarten', 'university', 'college', 'library'],\n",
       "      dtype=object)"
      ]
     },
     "execution_count": 16,
     "metadata": {},
     "output_type": "execute_result"
    }
   ],
   "source": [
    "sub_types"
   ]
  },
  {
   "cell_type": "code",
   "execution_count": 17,
   "id": "f857b2ac-1714-4127-a834-4091af1e82c1",
   "metadata": {},
   "outputs": [],
   "source": [
    "selected_curves = dict(zip(sub_types,['F21.7','F21.7','F21.7','F21.7','F21.7','F21.7']))"
   ]
  },
  {
   "cell_type": "markdown",
   "id": "3780b53a-0759-4c86-b4ef-38ecf9f27dbb",
   "metadata": {},
   "source": [
    "The next step is to extract the curves from the database, and prepare them for proper usage into our analysis.\n",
    "\n",
    "We start by selecting the curve IDs from the larger pandas DataFrame **vul_df**:"
   ]
  },
  {
   "cell_type": "code",
   "execution_count": 18,
   "id": "9d19b310-5a29-4e6d-beb8-6ea86fe0a148",
   "metadata": {
    "scrolled": true
   },
   "outputs": [],
   "source": [
    "damage_curves = vul_df[['ID number']+list(selected_curves.values())]\n",
    "damage_curves = damage_curves.iloc[4:125,:]"
   ]
  },
  {
   "cell_type": "markdown",
   "id": "b51942e6-8834-4a1c-b123-64f078e726f2",
   "metadata": {},
   "source": [
    "Then for convenience, we rename the index name to the hazard intensity we are considering. "
   ]
  },
  {
   "cell_type": "code",
   "execution_count": 19,
   "id": "310370d5-085a-4666-b27e-2f7c3ada8cd9",
   "metadata": {},
   "outputs": [],
   "source": [
    "damage_curves.set_index('ID number',inplace=True)\n",
    "damage_curves.index = damage_curves.index.rename('Depth')  "
   ]
  },
  {
   "cell_type": "markdown",
   "id": "37954609-5c56-442c-ab7b-7eef1c91055a",
   "metadata": {},
   "source": [
    "And make sure that our damage values are in floating numbers. "
   ]
  },
  {
   "cell_type": "code",
   "execution_count": 20,
   "id": "e7ef0d3e-46bb-44f0-b402-c2275d37351b",
   "metadata": {},
   "outputs": [],
   "source": [
    "damage_curves = damage_curves.astype(np.float32)"
   ]
  },
  {
   "cell_type": "markdown",
   "id": "ce73e73f-d664-4634-9d42-57fb54542f9b",
   "metadata": {},
   "source": [
    "And ensure that the columns of the curves link back to the different asset types we are considering:"
   ]
  },
  {
   "cell_type": "code",
   "execution_count": 21,
   "id": "d0de5d75-824a-427f-8d2a-5b71eca4f3f7",
   "metadata": {},
   "outputs": [],
   "source": [
    "damage_curves.columns = sub_types"
   ]
  },
  {
   "cell_type": "markdown",
   "id": "97f5efa7-91e9-4694-b146-ae89b112417f",
   "metadata": {},
   "source": [
    "There could be some **NaN** values at the tail of some of the curves. To make sure the code works, we fill up the **NaN** values with the last value of each of the curves. "
   ]
  },
  {
   "cell_type": "code",
   "execution_count": 22,
   "id": "9939092e-fe3f-4d9e-9a33-868f3a3f734f",
   "metadata": {},
   "outputs": [],
   "source": [
    "damage_curves = damage_curves.fillna(method='ffill')"
   ]
  },
  {
   "cell_type": "markdown",
   "id": "de24ad3d-00d2-43ef-aa8c-1020c1201f13",
   "metadata": {},
   "source": [
    "Finally, make sure we set the index of the damage curves (the inundation depth) in the same metric as the hazard data (e.g. meters or centimeters)."
   ]
  },
  {
   "cell_type": "code",
   "execution_count": 23,
   "id": "950d28ee-cd35-4031-b994-02542cbf30fc",
   "metadata": {},
   "outputs": [],
   "source": [
    "damage_curves.index = damage_curves.index*100"
   ]
  },
  {
   "cell_type": "markdown",
   "id": "00977769-d96a-445c-ba7a-98ece1617b33",
   "metadata": {},
   "source": [
    "But in some cases, we do not exactly know which curves we may want to use. As such, we can also run the analysis with all curves. To do so, we select all education-related curves from Nirandjan et al. (2024)'s database."
   ]
  },
  {
   "cell_type": "code",
   "execution_count": 24,
   "id": "569a920a-b60f-44e8-910a-1b850d4809c7",
   "metadata": {},
   "outputs": [],
   "source": [
    "unique_curves = set([x for xs in DICT_CIS_VULNERABILITY_FLOOD['education'].values() for x in xs])"
   ]
  },
  {
   "cell_type": "markdown",
   "id": "d2e55560-ecba-4f48-bedc-d35a068cdeda",
   "metadata": {},
   "source": [
    "And create a dictionary that contains a pandas DataFrame for all object types, for each vulnerability curve. "
   ]
  },
  {
   "cell_type": "code",
   "execution_count": 25,
   "id": "7c279f75-21bc-4031-b9e0-1b31a6722d8e",
   "metadata": {},
   "outputs": [],
   "source": [
    "multi_curves = {}\n",
    "for unique_curve in unique_curves:\n",
    "\n",
    "    curve_creation = damage_curves.copy()\n",
    "    \n",
    "    get_curve_values = vul_df[unique_curve].iloc[4:125].values\n",
    "    \n",
    "    for curve in curve_creation:\n",
    "        curve_creation.loc[:,curve] = get_curve_values\n",
    "\n",
    "    multi_curves[unique_curve] = curve_creation.astype(np.float32)"
   ]
  },
  {
   "cell_type": "markdown",
   "id": "4b8f6aed-6096-4701-93b3-e2f861cd733d",
   "metadata": {},
   "source": [
    "### Ancilliary data for processing"
   ]
  },
  {
   "cell_type": "code",
   "execution_count": 26,
   "id": "ef02d9a2-1790-4632-b66f-3e7e57eb9d51",
   "metadata": {},
   "outputs": [],
   "source": [
    "world = gpd.read_file(\"https://github.com/nvkelso/natural-earth-vector/raw/master/10m_cultural/ne_10m_admin_0_countries.shp\")\n",
    "world_plot = world.to_crs(3857)"
   ]
  },
  {
   "cell_type": "code",
   "execution_count": 27,
   "id": "df306b07-906b-4601-b0d8-4c0158d2aca8",
   "metadata": {},
   "outputs": [],
   "source": [
    "admin1 = gpd.read_file(\"https://github.com/nvkelso/natural-earth-vector/raw/master/10m_cultural/ne_10m_admin_1_states_provinces.shp\")"
   ]
  },
  {
   "cell_type": "markdown",
   "id": "e288af4e-c397-46d5-a6cd-606a01ea4ed1",
   "metadata": {},
   "source": [
    "## 3. Preparing the Data"
   ]
  },
  {
   "cell_type": "markdown",
   "id": "afc45662-dce8-4f15-a673-48a92bbd247b",
   "metadata": {},
   "source": [
    "Clip the hazard data to the country of interest."
   ]
  },
  {
   "cell_type": "code",
   "execution_count": 28,
   "id": "b8c53736-48af-4dd7-8443-95b1039d7653",
   "metadata": {},
   "outputs": [],
   "source": [
    "country_bounds = world.loc[world.ADM0_ISO == country_iso3].bounds\n",
    "country_geom = world.loc[world.ADM0_ISO == country_iso3].geometry"
   ]
  },
  {
   "cell_type": "code",
   "execution_count": 29,
   "id": "f9cf5c27-1bfc-4b27-8b2d-790a3a478a79",
   "metadata": {},
   "outputs": [],
   "source": [
    "hazard_country = hazard_map.rio.clip_box(minx=country_bounds.minx.values[0],\n",
    "                     miny=country_bounds.miny.values[0],\n",
    "                     maxx=country_bounds.maxx.values[0],\n",
    "                     maxy=country_bounds.maxy.values[0]\n",
    "                    )"
   ]
  },
  {
   "cell_type": "markdown",
   "id": "6dab414f-fb60-4d8c-b915-5511430117ac",
   "metadata": {},
   "source": [
    "### Convert point data to polygons. \n",
    "\n",
    "For some data, there are both points and polygons available. It makes life easier to estimate the damage using polygons. Therefore, we convert those points to Polygons below. \n",
    "\n",
    "Let's first get an overview of the different geometry types for all the assets we are considering in this analysis:"
   ]
  },
  {
   "cell_type": "code",
   "execution_count": 30,
   "id": "976160f4-e75e-48df-879a-64c6d4a3b4a7",
   "metadata": {},
   "outputs": [],
   "source": [
    "features['geom_type'] = features.geom_type"
   ]
  },
  {
   "cell_type": "code",
   "execution_count": 31,
   "id": "86a8b41f-9aaf-4cae-a2f9-0e1e41485808",
   "metadata": {},
   "outputs": [
    {
     "data": {
      "text/plain": [
       "object_type   geom_type   \n",
       "college       MultiPolygon     13\n",
       "              Point             8\n",
       "kindergarten  MultiPolygon      4\n",
       "              Point            12\n",
       "library       MultiPolygon     14\n",
       "              Point             4\n",
       "school        MultiPolygon    457\n",
       "              Point           128\n",
       "university    MultiPolygon     20\n",
       "              Point             2\n",
       "Name: geometry, dtype: int64"
      ]
     },
     "execution_count": 31,
     "metadata": {},
     "output_type": "execute_result"
    }
   ],
   "source": [
    "features.groupby(['object_type','geom_type']).count()['geometry']"
   ]
  },
  {
   "cell_type": "markdown",
   "id": "09d6900d-1029-412f-a568-88950a3bd147",
   "metadata": {},
   "source": [
    "The results above indicate that several asset types that are expected to be *Polygons* are stored as *Points* as well. It would be preferably to convert them all to polygons. For the *Points*, we will have to estimate a the average size, so we can use that to create a `buffer` around the assets.\n",
    "\n",
    "To do so, let's grab the polygon data and estimate their size. We grab the median so we are not too much influenced by extreme outliers. If preferred, please change `.median()` to `.mean()` (or any other metric). "
   ]
  },
  {
   "cell_type": "code",
   "execution_count": 32,
   "id": "8a33ead1-9610-48b8-b4be-a690f646e295",
   "metadata": {
    "scrolled": true
   },
   "outputs": [
    {
     "data": {
      "text/html": [
       "<div>\n",
       "<style scoped>\n",
       "    .dataframe tbody tr th:only-of-type {\n",
       "        vertical-align: middle;\n",
       "    }\n",
       "\n",
       "    .dataframe tbody tr th {\n",
       "        vertical-align: top;\n",
       "    }\n",
       "\n",
       "    .dataframe thead th {\n",
       "        text-align: right;\n",
       "    }\n",
       "</style>\n",
       "<table border=\"1\" class=\"dataframe\">\n",
       "  <thead>\n",
       "    <tr style=\"text-align: right;\">\n",
       "      <th></th>\n",
       "      <th>square_m2</th>\n",
       "    </tr>\n",
       "    <tr>\n",
       "      <th>object_type</th>\n",
       "      <th></th>\n",
       "    </tr>\n",
       "  </thead>\n",
       "  <tbody>\n",
       "    <tr>\n",
       "      <th>college</th>\n",
       "      <td>57920.460301</td>\n",
       "    </tr>\n",
       "    <tr>\n",
       "      <th>kindergarten</th>\n",
       "      <td>849.080034</td>\n",
       "    </tr>\n",
       "    <tr>\n",
       "      <th>library</th>\n",
       "      <td>521.562639</td>\n",
       "    </tr>\n",
       "    <tr>\n",
       "      <th>school</th>\n",
       "      <td>1164.782393</td>\n",
       "    </tr>\n",
       "    <tr>\n",
       "      <th>university</th>\n",
       "      <td>418.091453</td>\n",
       "    </tr>\n",
       "  </tbody>\n",
       "</table>\n",
       "</div>"
      ],
      "text/plain": [
       "                 square_m2\n",
       "object_type               \n",
       "college       57920.460301\n",
       "kindergarten    849.080034\n",
       "library         521.562639\n",
       "school         1164.782393\n",
       "university      418.091453"
      ]
     },
     "execution_count": 32,
     "metadata": {},
     "output_type": "execute_result"
    }
   ],
   "source": [
    "polygon_features = features.loc[features.geometry.geom_type.isin(['Polygon','MultiPolygon'])].to_crs(3857)\n",
    "polygon_features['square_m2'] = polygon_features.area\n",
    "\n",
    "square_m2_object_type = polygon_features[['object_type','square_m2']].groupby('object_type').median()\n",
    "square_m2_object_type"
   ]
  },
  {
   "cell_type": "markdown",
   "id": "3cb8be61-c71f-4b8c-ac23-4c340863fc48",
   "metadata": {},
   "source": [
    "Now we create a list in which we define the assets we want to \"polygonize\": "
   ]
  },
  {
   "cell_type": "code",
   "execution_count": 33,
   "id": "666fa7fc-4922-4496-b6f4-e47eeeb51efb",
   "metadata": {},
   "outputs": [],
   "source": [
    "points_to_polygonize = ['college','kindergarten','library','school','university']"
   ]
  },
  {
   "cell_type": "markdown",
   "id": "539b3bf8-f854-4439-ac4f-ab71e49e82fb",
   "metadata": {},
   "source": [
    "And take them from our data again:"
   ]
  },
  {
   "cell_type": "code",
   "execution_count": 34,
   "id": "cd4e34a3-9cc1-4c00-bb7b-d352237fe0d0",
   "metadata": {},
   "outputs": [],
   "source": [
    "all_assets_to_polygonize = features.loc[(features.object_type.isin(points_to_polygonize)) & (features.geometry.geom_type == 'Point')]"
   ]
  },
  {
   "cell_type": "markdown",
   "id": "5e897172-c5e1-41d4-8cd5-b265abd0fc5f",
   "metadata": {},
   "source": [
    "When performing a buffer, it is always best to do this in meters. As such, we will briefly convert the point data into a **crs** system in meters."
   ]
  },
  {
   "cell_type": "code",
   "execution_count": 35,
   "id": "1ff8249a-7faf-49ed-abd5-8538357d4329",
   "metadata": {},
   "outputs": [],
   "source": [
    "all_assets_to_polygonize = all_assets_to_polygonize.to_crs(3857)"
   ]
  },
  {
   "cell_type": "code",
   "execution_count": 36,
   "id": "204d3ac6-1c61-40ed-af4b-7372331fa83d",
   "metadata": {},
   "outputs": [],
   "source": [
    "def polygonize_point_per_asset(asset):\n",
    "\n",
    "    # we first need to set a buffer length. This is half of width/length of an asset.\n",
    "    buffer_length = np.sqrt(square_m2_object_type.loc[asset.object_type].values[0])/2\n",
    "\n",
    "    # then we can buffer the asset\n",
    "    return asset.geometry.buffer(buffer_length,cap_style='square')\n",
    "\n",
    "collect_new_point_geometries = all_assets_to_polygonize.apply(lambda asset:  polygonize_point_per_asset(asset),axis=1).set_crs(3857).to_crs(4326).values"
   ]
  },
  {
   "cell_type": "code",
   "execution_count": 37,
   "id": "a980b980-add8-41f2-b6d4-0273150f641c",
   "metadata": {},
   "outputs": [],
   "source": [
    "features.loc[(features.object_type.isin(points_to_polygonize)) & (features.geometry.geom_type == 'Point'),'geometry'] = collect_new_point_geometries"
   ]
  },
  {
   "cell_type": "markdown",
   "id": "3fc03b16-e5c3-4bd1-b9d4-8f44b7bd423e",
   "metadata": {},
   "source": [
    "And check if any \"undesired\" *Points* are still left:"
   ]
  },
  {
   "cell_type": "code",
   "execution_count": 38,
   "id": "3f49c04d-0ac4-4ef3-8a46-d5f22e032677",
   "metadata": {
    "scrolled": true
   },
   "outputs": [
    {
     "data": {
      "text/html": [
       "<div>\n",
       "<style scoped>\n",
       "    .dataframe tbody tr th:only-of-type {\n",
       "        vertical-align: middle;\n",
       "    }\n",
       "\n",
       "    .dataframe tbody tr th {\n",
       "        vertical-align: top;\n",
       "    }\n",
       "\n",
       "    .dataframe thead th {\n",
       "        text-align: right;\n",
       "    }\n",
       "</style>\n",
       "<table border=\"1\" class=\"dataframe\">\n",
       "  <thead>\n",
       "    <tr style=\"text-align: right;\">\n",
       "      <th></th>\n",
       "      <th>osm_id</th>\n",
       "      <th>geometry</th>\n",
       "      <th>object_type</th>\n",
       "      <th>geom_type</th>\n",
       "    </tr>\n",
       "  </thead>\n",
       "  <tbody>\n",
       "  </tbody>\n",
       "</table>\n",
       "</div>"
      ],
      "text/plain": [
       "Empty GeoDataFrame\n",
       "Columns: [osm_id, geometry, object_type, geom_type]\n",
       "Index: []"
      ]
     },
     "execution_count": 38,
     "metadata": {},
     "output_type": "execute_result"
    }
   ],
   "source": [
    "features.loc[(features.object_type.isin(points_to_polygonize)) & (features.geometry.geom_type == 'Point')]"
   ]
  },
  {
   "cell_type": "markdown",
   "id": "5057bc5d-df39-4583-ba93-7c0853de6f46",
   "metadata": {},
   "source": [
    "And remove the 'geom_type' column again, as we do not need it again."
   ]
  },
  {
   "cell_type": "code",
   "execution_count": 39,
   "id": "82b7fefc-9fd9-4083-a4f9-55e65d78977f",
   "metadata": {},
   "outputs": [],
   "source": [
    "features = features.drop(['geom_type'],axis=1)"
   ]
  },
  {
   "cell_type": "markdown",
   "id": "5ce0650d-68a9-427a-9602-e318989dec00",
   "metadata": {},
   "source": [
    "## 5. Performing the Damage Assessment\n",
    "We will use the DamageScanner approach. This is a fully optimised damage calculation method, that can capture a wide range of inputs to perform a damage assessment. We will first perform this using only a single damage curve."
   ]
  },
  {
   "cell_type": "code",
   "execution_count": 40,
   "id": "2a959c8c-f962-46a1-915a-e5d44464d340",
   "metadata": {},
   "outputs": [
    {
     "name": "stderr",
     "output_type": "stream",
     "text": [
      "Overlay raster with vector: 100%|██████████████████████████████████████████████████████| 10/10 [00:03<00:00,  3.22it/s]\n",
      "convert coverage to meters: 100%|███████████████████████████████████████████████████| 13/13 [00:00<00:00, 13543.46it/s]\n",
      "Calculating damage: 100%|████████████████████████████████████████████████████████████| 13/13 [00:00<00:00, 4116.41it/s]"
     ]
    },
    {
     "name": "stdout",
     "output_type": "stream",
     "text": [
      "CPU times: total: 1.44 s\n",
      "Wall time: 3.19 s\n"
     ]
    },
    {
     "name": "stderr",
     "output_type": "stream",
     "text": [
      "\n"
     ]
    }
   ],
   "source": [
    "%%time\n",
    "damage_results = DamageScanner(hazard_country, features, damage_curves, maxdam).calculate()"
   ]
  },
  {
   "cell_type": "markdown",
   "id": "5c16a1c0-e680-4b15-bfa7-be01d87f7d30",
   "metadata": {},
   "source": [
    "And run this also with the range of vulnerability curves."
   ]
  },
  {
   "cell_type": "code",
   "execution_count": 41,
   "id": "02468fa1-7837-4ab0-8922-e6e8fe496819",
   "metadata": {},
   "outputs": [
    {
     "name": "stderr",
     "output_type": "stream",
     "text": [
      "Overlay raster with vector: 100%|██████████████████████████████████████████████████████| 10/10 [00:02<00:00,  4.39it/s]\n",
      "convert coverage to meters: 100%|███████████████████████████████████████████████████| 13/13 [00:00<00:00, 12261.29it/s]\n",
      "Calculating damage: 100%|████████████████████████████████████████████████████████████| 13/13 [00:00<00:00, 4810.41it/s]\n",
      "Calculating damage: 100%|████████████████████████████████████████████████████████████| 13/13 [00:00<00:00, 6509.01it/s]\n",
      "Calculating damage: 100%|████████████████████████████████████████████████████████████| 13/13 [00:00<00:00, 8554.43it/s]\n",
      "Calculating damage: 100%|████████████████████████████████████████████████████████████| 13/13 [00:00<00:00, 6499.70it/s]\n",
      "Calculating damage: 100%|███████████████████████████████████████████████████████████| 13/13 [00:00<00:00, 12517.44it/s]\n",
      "Calculating damage: 100%|████████████████████████████████████████████████████████████| 13/13 [00:00<00:00, 6567.81it/s]"
     ]
    },
    {
     "name": "stdout",
     "output_type": "stream",
     "text": [
      "CPU times: total: 1.94 s\n",
      "Wall time: 2.37 s\n"
     ]
    },
    {
     "name": "stderr",
     "output_type": "stream",
     "text": [
      "\n"
     ]
    }
   ],
   "source": [
    "%%time\n",
    "all_results = DamageScanner(hazard_country, features, damage_curves, maxdam).calculate(multi_curves=multi_curves)"
   ]
  },
  {
   "cell_type": "markdown",
   "id": "da2d88c1-e5e5-4bc3-a0fb-1e4e99c4789d",
   "metadata": {},
   "source": [
    "## 5. Save the Results\n",
    "For further analysis, we can save the results in their full detail, or save summary estimates per subnational unit "
   ]
  },
  {
   "cell_type": "code",
   "execution_count": 42,
   "id": "95461586-56ff-48c7-b959-eb3b364500fe",
   "metadata": {},
   "outputs": [],
   "source": [
    "hazard = 'river_flood'\n",
    "return_period = '1_100'\n",
    "damage_results.to_file(f'Education_Damage_{country_full_name}_{hazard}_{return_period}.gpkg')"
   ]
  },
  {
   "cell_type": "code",
   "execution_count": 43,
   "id": "0ba6148f-4e6e-486c-821b-0635a94d4955",
   "metadata": {},
   "outputs": [],
   "source": [
    "admin1_country = admin1.loc[admin1.sov_a3 == country_iso3]"
   ]
  },
  {
   "cell_type": "code",
   "execution_count": 44,
   "id": "da0a4437-fb9e-46ea-8ec2-218f81fee90b",
   "metadata": {},
   "outputs": [],
   "source": [
    "damage_results = damage_results.sjoin(admin1_country[['adm1_code','name','geometry']])"
   ]
  },
  {
   "cell_type": "code",
   "execution_count": 45,
   "id": "c934bcb0-1bd5-4b6b-8d74-3de9e49ce16f",
   "metadata": {},
   "outputs": [],
   "source": [
    "admin1_damage = admin1_country.merge(damage_results[['name','damage']].groupby('name').sum(),\n",
    "                                     left_on='name',\n",
    "                                     right_on='name',\n",
    "                                     how='outer')[['name','adm1_code','geometry','damage']]"
   ]
  },
  {
   "cell_type": "code",
   "execution_count": 46,
   "id": "ed8f1db1-ba5e-4ed7-ba8b-6f6ad089b15c",
   "metadata": {},
   "outputs": [],
   "source": [
    "admin1_damage.to_file(f'Admin1_Eduation_Damage_{country_full_name}_{hazard}_{return_period}.gpkg')"
   ]
  },
  {
   "cell_type": "markdown",
   "id": "8d64f90d-bf96-47af-bcc2-c360a488cb65",
   "metadata": {},
   "source": [
    "## 6. Visualizing the Results\n",
    "The results of the damage assessment can be visualized using charts and maps. This will provide a clear representation of which infrastructure is most affected by the hazard and the expected damage levels."
   ]
  },
  {
   "cell_type": "markdown",
   "id": "e22ad4ae-c7b4-480e-8286-3328bb182ee7",
   "metadata": {},
   "source": [
    "And create a distribution of the damages."
   ]
  },
  {
   "cell_type": "code",
   "execution_count": 47,
   "id": "8c60f11f-ab90-4342-a17e-cbc082cdbd74",
   "metadata": {},
   "outputs": [
    {
     "data": {
      "text/plain": [
       "<Axes: xlabel='damage', ylabel='Count'>"
      ]
     },
     "execution_count": 47,
     "metadata": {},
     "output_type": "execute_result"
    },
    {
     "data": {
      "image/png": "[encoded data removed]",
      "text/plain": [
       "<Figure size 700x300 with 1 Axes>"
      ]
     },
     "metadata": {},
     "output_type": "display_data"
    }
   ],
   "source": [
    "fig, ax = plt.subplots(1,1,figsize=(7, 3))\n",
    "\n",
    "sns.histplot(data=damage_results,x='damage',ax=ax)"
   ]
  },
  {
   "cell_type": "markdown",
   "id": "e3a66d7e-6cb8-4cf1-aa79-90df85ae6991",
   "metadata": {},
   "source": [
    "Plot location of most damaged healthcare facilities"
   ]
  },
  {
   "cell_type": "code",
   "execution_count": 48,
   "id": "3e16e6e2-ec0b-4218-b550-43ed39dd2a65",
   "metadata": {},
   "outputs": [
    {
     "data": {
      "image/png": "[encoded data removed]",
      "text/plain": [
       "<Figure size 1000x500 with 1 Axes>"
      ]
     },
     "metadata": {},
     "output_type": "display_data"
    }
   ],
   "source": [
    "fig, ax = plt.subplots(1,1,figsize=(10, 5))\n",
    "\n",
    "subset = damage_results.to_crs(3857).sort_values('damage',ascending=False).head(20)\n",
    "subset.geometry = subset.centroid\n",
    "subset.plot(ax=ax,column='object_type',markersize=10,legend=True)\n",
    "world_plot.loc[world.SOV_A3 == country_iso3].plot(ax=ax,facecolor=\"none\",edgecolor='black')\n",
    "cx.add_basemap(ax, source=cx.providers.CartoDB.Positron,alpha=0.5)\n",
    "ax.set_axis_off()"
   ]
  },
  {
   "cell_type": "code",
   "execution_count": 49,
   "id": "7fc9d408-c5a4-4178-a711-e76a97ef4259",
   "metadata": {},
   "outputs": [
    {
     "data": {
      "application/vnd.jupyter.widget-view+json": {
       "model_id": "296950f8733e4cfb8c812f3bf602c5c9",
       "version_major": 2,
       "version_minor": 1
      },
      "text/plain": [
       "Map(basemap_style=<CartoBasemap.DarkMatter: 'https://basemaps.cartocdn.com/gl/dark-matter-gl-style/style.json'…"
      ]
     },
     "execution_count": 49,
     "metadata": {},
     "output_type": "execute_result"
    }
   ],
   "source": [
    "viz(damage_results)"
   ]
  },
  {
   "cell_type": "markdown",
   "id": "adc86fea-cce9-423b-a0fd-324b227946e3",
   "metadata": {},
   "source": [
    "## 7. Performing the Risk Assessment\n",
    "To do so, we need to select the return periods we want to include, and create a dictioniary as input. We will create this below."
   ]
  },
  {
   "cell_type": "code",
   "execution_count": 50,
   "id": "bcfe0ff5-6442-4551-a7a6-0c8166948423",
   "metadata": {},
   "outputs": [],
   "source": [
    "return_periods = [2,5,10,50,100,200,500,1000] \n",
    "\n",
    "hazard_dict = {}\n",
    "for return_period in return_periods:\n",
    "    hazard_map = xr.open_dataset(f\"https://hazards-data.unepgrid.ch/global_pc_h{return_period}glob.tif\", engine=\"rasterio\")\n",
    "\n",
    "    hazard_dict[return_period] = hazard_map.rio.clip_box(minx=country_bounds.minx.values[0],\n",
    "                     miny=country_bounds.miny.values[0],\n",
    "                     maxx=country_bounds.maxx.values[0],\n",
    "                     maxy=country_bounds.maxy.values[0]\n",
    "                    )\n",
    "    "
   ]
  },
  {
   "cell_type": "markdown",
   "id": "d5901adb-48bf-453a-aa1c-8656fcb4859e",
   "metadata": {},
   "source": [
    "And below we will run a multi-curve risk assessment."
   ]
  },
  {
   "cell_type": "code",
   "execution_count": 51,
   "id": "820cd237-f2fb-4b18-8280-bca17a713099",
   "metadata": {},
   "outputs": [
    {
     "name": "stderr",
     "output_type": "stream",
     "text": [
      "Risk Calculation: 100%|██████████████████████████████████████████████████████████████████| 8/8 [00:21<00:00,  2.72s/it]\n"
     ]
    }
   ],
   "source": [
    "risk_results = DamageScanner(hazard_country, features, damage_curves, maxdam).risk(hazard_dict,multi_curves=multi_curves)"
   ]
  },
  {
   "cell_type": "code",
   "execution_count": 52,
   "id": "df33e69a-beff-48bf-bf0f-54556274f18e",
   "metadata": {},
   "outputs": [],
   "source": [
    "grouped_risks = risk_results[['object_type']+list(multi_curves.keys())].groupby('object_type').sum()"
   ]
  },
  {
   "cell_type": "code",
   "execution_count": 53,
   "id": "8cde9bc1-3b03-4899-bc9c-4128f9865875",
   "metadata": {},
   "outputs": [
    {
     "data": {
      "image/png": "[encoded data removed]",
      "text/plain": [
       "<Figure size 800x600 with 1 Axes>"
      ]
     },
     "metadata": {},
     "output_type": "display_data"
    }
   ],
   "source": [
    "# Re-attempting with explicit assignment of the boxplot object\n",
    "plt.figure(figsize=(8, 6))\n",
    "\n",
    "# Creating the boxplot explicitly to access its elements\n",
    "boxplot = grouped_risks.T.boxplot(column=['kindergarten', 'library', 'school'], grid=False, patch_artist=True, return_type='dict')\n",
    "\n",
    "# Customizing box colors and ensuring all lines have the same color\n",
    "colors = ['#ccd5ae', '#e9edc9', '#faedcd']\n",
    "line_color = '#333333'  # Uniform line color for all components\n",
    "\n",
    "# Customizing boxes\n",
    "for box, color in zip(boxplot['boxes'], colors):  # Accessing box artists\n",
    "    box.set_facecolor(color)\n",
    "    box.set_edgecolor(line_color)\n",
    "    box.set_linewidth(1.5)\n",
    "\n",
    "# Customizing whiskers, caps, medians, and fliers\n",
    "for whisker in boxplot['whiskers']:\n",
    "    whisker.set_color(line_color)\n",
    "    whisker.set_linewidth(1.5)\n",
    "\n",
    "for cap in boxplot['caps']:\n",
    "    cap.set_color(line_color)\n",
    "    cap.set_linewidth(1.5)\n",
    "\n",
    "for median in boxplot['medians']:\n",
    "    median.set_color(line_color)\n",
    "    median.set_linewidth(2)\n",
    "\n",
    "for flier in boxplot['fliers']:\n",
    "    flier.set_markerfacecolor(line_color)\n",
    "    flier.set_markeredgecolor(line_color)\n",
    "\n",
    "# Adding titles and labels\n",
    "plt.title('Expected Annual Damage per object type', fontsize=16, fontweight='bold')\n",
    "plt.ylabel('Total EAD (Log Scale)', fontsize=12)\n",
    "plt.xlabel('Object Types', fontsize=12)\n",
    "plt.yscale('log')  # Using log scale for better visualization of large range\n",
    "plt.xticks(rotation=0, fontsize=10)\n",
    "plt.yticks(fontsize=10)\n",
    "\n",
    "# Adding gridlines for better readability\n",
    "plt.grid(axis='y', linestyle='--', alpha=0.7)\n",
    "\n",
    "# Display the boxplot\n",
    "plt.show()\n"
   ]
  },
  {
   "cell_type": "code",
   "execution_count": null,
   "id": "932940e3-d3c3-4659-979b-fbba911cd410",
   "metadata": {},
   "outputs": [],
   "source": []
  }
 ],
 "metadata": {
  "kernelspec": {
   "display_name": "Python 3 (ipykernel)",
   "language": "python",
   "name": "python3"
  },
  "language_info": {
   "codemirror_mode": {
    "name": "ipython",
    "version": 3
   },
   "file_extension": ".py",
   "mimetype": "text/x-python",
   "name": "python",
   "nbconvert_exporter": "python",
   "pygments_lexer": "ipython3",
   "version": "3.12.3"
  }
 },
 "nbformat": 4,
 "nbformat_minor": 5
}
