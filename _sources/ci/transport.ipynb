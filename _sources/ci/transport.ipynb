{
 "cells": [
  {
   "cell_type": "markdown",
   "id": "f6b341b9-4649-46ac-9f6c-6d8bdd126170",
   "metadata": {},
   "source": [
    "# Transportation Infrastructure\n",
    "\n",
    "In this notebook, we will perform a **damage and risk assessment** for transportation infrastructure, specifically focusing on roads. The assessment is based on combining hazard data (e.g., flood depths) with vulnerability curves to estimate the potential damage to infrastructure.\n",
    "\n",
    "We will follow the steps outlined below to conduct the assessment:\n",
    "\n",
    "1. **Loading the necessary packages:**  \n",
    "   We will import the Python libraries required for data handling, analysis, and visualization.\n",
    "\n",
    "2. **Loading the data:**  \n",
    "   The infrastructure data (e.g., roads) and hazard data (e.g., flood depths) will be loaded into the notebook.\n",
    "\n",
    "3. **Preparing the data:**  \n",
    "   The infrastructure and hazard data will be processed and data gaps can be filled, if required.\n",
    "\n",
    "4. **Performing the damage assessment:**  \n",
    "   We will apply vulnerability curves to estimate the potential damage based on the intensity of the hazard.\n",
    "\n",
    "5. **Visualizing the results:**  \n",
    "   Finally, we will visualize the estimated damage using graphs and maps to illustrate the impact on transportation infrastructure."
   ]
  },
  {
   "cell_type": "markdown",
   "id": "44a1efb4-69d5-4558-907f-d2e49ad7f9e8",
   "metadata": {},
   "source": [
    "## 1. Loading the Necessary Packages\n",
    "To perform the assessment, we are going to make use of several [python packages](https://docs.python.org/3/tutorial/modules.html#packages).\n",
    "\n",
    "In case you run this in Google Colab, you will have to install the packages below **(remove the hashtag in front of them)**."
   ]
  },
  {
   "cell_type": "code",
   "execution_count": null,
   "id": "72c6ae5d-1f1c-4fbf-ba7f-8c63026f34dc",
   "metadata": {},
   "outputs": [],
   "source": [
    "#!pip install damagescanner==0.9b13\n",
    "#!pip install contextily\n",
    "#!pip install exactextract\n",
    "#!pip install lonboard"
   ]
  },
  {
   "cell_type": "markdown",
   "id": "d678797c-9d70-4641-8248-e3601d30ad1c",
   "metadata": {},
   "source": [
    "In this step, we will import all the required Python libraries for data manipulation, spatial analysis, and visualization."
   ]
  },
  {
   "cell_type": "code",
   "execution_count": 2,
   "id": "12aaf0f4-aef2-4a67-9c30-c68f8f6550b2",
   "metadata": {},
   "outputs": [],
   "source": [
    "import warnings\n",
    "import xarray as xr\n",
    "import numpy as np\n",
    "import pandas as pd\n",
    "import geopandas as gpd\n",
    "import seaborn as sns\n",
    "import shapely\n",
    "\n",
    "import matplotlib.pyplot as plt\n",
    "import contextily as cx\n",
    "\n",
    "import damagescanner.download as download\n",
    "from damagescanner.core import DamageScanner\n",
    "from damagescanner.osm import read_osm_data\n",
    "from damagescanner.base_values import DICT_CIS_VULNERABILITY_FLOOD\n",
    "\n",
    "from lonboard import viz\n",
    "\n",
    "warnings.simplefilter(action='ignore', category=FutureWarning)\n",
    "warnings.simplefilter(action='ignore', category=RuntimeWarning) # exactextract gives a warning that is invalid"
   ]
  },
  {
   "cell_type": "markdown",
   "id": "5221d308-3de6-4809-912a-3380f8689b44",
   "metadata": {},
   "source": [
    "### Specify the country of interest"
   ]
  },
  {
   "cell_type": "markdown",
   "id": "0eb24ca2-dfac-4e29-9280-6029cd46674b",
   "metadata": {},
   "source": [
    "Before we continue, we should specify the country for which we want to assess the damage. We use the ISO3 code for the country to download the OpenStreetMap data."
   ]
  },
  {
   "cell_type": "code",
   "execution_count": 3,
   "id": "684bae52-154c-44e1-9439-b38be147ea5e",
   "metadata": {},
   "outputs": [],
   "source": [
    "country_full_name = 'Togo'\n",
    "country_iso3 = 'TGO'"
   ]
  },
  {
   "cell_type": "markdown",
   "id": "e43578d8-ea9d-48e9-80b3-aa3bc0f99af7",
   "metadata": {},
   "source": [
    "## 2. Loading the Data\n",
    "In this step, we will load four key datasets:\n",
    "\n",
    "1. **Infrastructure data:**  \n",
    "   This dataset contains information on the location and type of transportation infrastructure (e.g., roads). Each asset may have attributes such as type, length, and replacement cost.\n",
    "\n",
    "2. **Hazard data:**  \n",
    "   This dataset includes information on the hazard affecting the infrastructure (e.g., flood depth at various locations).\n",
    "\n",
    "3. **Vulnerability curves:**  \n",
    "   Vulnerability curves define how the infrastructure's damage increases with the intensity of the hazard. For example, flood depth-damage curves specify how much damage occurs for different flood depths.\n",
    "\n",
    "4. **Maximum damage values:**  \n",
    "   This dataset contains the maximum possible damage (in monetary terms) that can be incurred by individual infrastructure assets. This is crucial for calculating total damage based on the vulnerability curves."
   ]
  },
  {
   "cell_type": "markdown",
   "id": "8ca4b6a6-8558-4caf-a170-741a38f0ed56",
   "metadata": {},
   "source": [
    "### Infrastructure Data\n",
    "\n",
    "We will perform this example analysis for Togo. To start the analysis, we first download the OpenStreetMap data from GeoFabrik. In case of locally available data, one can load the shapefiles through **gpd.read_file()**, as we show in the second cell within this section."
   ]
  },
  {
   "cell_type": "code",
   "execution_count": 4,
   "id": "91971e0c-f5bd-41cc-90c8-866ccbe589d8",
   "metadata": {},
   "outputs": [],
   "source": [
    "infrastructure_path = download.get_country_geofabrik(country_iso3)"
   ]
  },
  {
   "cell_type": "markdown",
   "id": "6ed16ff7-a9b4-4793-990d-eecc2e842ced",
   "metadata": {},
   "source": [
    "Now we load the data and read only the road data."
   ]
  },
  {
   "cell_type": "code",
   "execution_count": 5,
   "id": "78dfb1ee-4b1b-481a-b0a2-9a615bdde8e9",
   "metadata": {},
   "outputs": [
    {
     "name": "stdout",
     "output_type": "stream",
     "text": [
      "CPU times: total: 7.84 s\n",
      "Wall time: 8.9 s\n"
     ]
    }
   ],
   "source": [
    "%%time\n",
    "features = gpd.read_file(infrastructure_path, layer=\"lines\")\n",
    "features = features[features[\"highway\"].values != None]"
   ]
  },
  {
   "cell_type": "code",
   "execution_count": 6,
   "id": "b08d9448-bfaa-4d83-886b-96a3dc340de7",
   "metadata": {},
   "outputs": [],
   "source": [
    "sub_types = ['motorway', 'motorway_link', 'trunk', 'trunk_link',\n",
    "                            'primary', 'primary_link', 'secondary', 'secondary_link', 'tertiary',\n",
    "                            'tertiary_link', 'residential', 'road', 'unclassified','track']"
   ]
  },
  {
   "cell_type": "code",
   "execution_count": 7,
   "id": "073a2b17-f873-4c7c-9592-303c8fdb8058",
   "metadata": {},
   "outputs": [],
   "source": [
    "features = features[features['highway'].isin(sub_types)].reset_index(drop=True)"
   ]
  },
  {
   "cell_type": "markdown",
   "id": "3e187d5a-a7da-4c2e-b772-51163db3946f",
   "metadata": {},
   "source": [
    "These are many subtypes to consider, so we combine some"
   ]
  },
  {
   "cell_type": "code",
   "execution_count": 8,
   "id": "c1c509ba-ba4f-4eaf-8de6-d5a1471e5438",
   "metadata": {},
   "outputs": [],
   "source": [
    "features = features.replace({'highway' : { 'motorway_link' : 'motorway',\n",
    "                         'trunk_link' : 'trunk', \n",
    "                         'primary_link' : 'primary' ,\n",
    "                        'secondary_link' : 'secondary',\n",
    "                         'tertiary_link' : 'tertiary', \n",
    "                         'primary_link' : 'primary',\n",
    "                         'residential' : 'other' ,\n",
    "                        'road' : 'other',\n",
    "                         'unclassified' : 'other', \n",
    "                         'track' : 'other',                              \n",
    "                              }})"
   ]
  },
  {
   "cell_type": "markdown",
   "id": "bd24e12d-3b73-40d0-8603-e0ec1223059b",
   "metadata": {},
   "source": [
    "Now define a new set of sub_types, to be used in the remainder of this analysis"
   ]
  },
  {
   "cell_type": "code",
   "execution_count": 9,
   "id": "cbf4a9f9-e121-45df-a1ad-f8161fb45f49",
   "metadata": {},
   "outputs": [],
   "source": [
    "sub_types = ['motorway', 'trunk','primary', 'secondary', 'tertiary', 'other']"
   ]
  },
  {
   "cell_type": "markdown",
   "id": "1d89865b-030d-4be4-a6ef-ce18b05716ee",
   "metadata": {},
   "source": [
    "### Hazard Data\n",
    "For this example, we make use of the flood data provided by [CDRI](https://giri.unepgrid.ch/map?list=explore).\n",
    "\n",
    "We use a 1/100 flood map to showcase the approach."
   ]
  },
  {
   "cell_type": "code",
   "execution_count": 10,
   "id": "caae035e-64f2-4c69-9565-e95f73fe067f",
   "metadata": {},
   "outputs": [],
   "source": [
    "hazard_map = xr.open_dataset(\"https://hazards-data.unepgrid.ch/global_pc_h100glob.tif\", engine=\"rasterio\")"
   ]
  },
  {
   "cell_type": "code",
   "execution_count": 11,
   "id": "e9f25659-8d72-4826-9b69-f0ee1d7e373e",
   "metadata": {},
   "outputs": [
    {
     "data": {
      "text/html": [
       "<div><svg style=\"position: absolute; width: 0; height: 0; overflow: hidden\">\n",
       "<defs>\n",
       "<symbol id=\"icon-database\" viewBox=\"0 0 32 32\">\n",
       "<path d=\"M16 0c-8.837 0-16 2.239-16 5v4c0 2.761 7.163 5 16 5s16-2.239 16-5v-4c0-2.761-7.163-5-16-5z\"></path>\n",
       "<path d=\"M16 17c-8.837 0-16-2.239-16-5v6c0 2.761 7.163 5 16 5s16-2.239 16-5v-6c0 2.761-7.163 5-16 5z\"></path>\n",
       "<path d=\"M16 26c-8.837 0-16-2.239-16-5v6c0 2.761 7.163 5 16 5s16-2.239 16-5v-6c0 2.761-7.163 5-16 5z\"></path>\n",
       "</symbol>\n",
       "<symbol id=\"icon-file-text2\" viewBox=\"0 0 32 32\">\n",
       "<path d=\"M28.681 7.159c-0.694-0.947-1.662-2.053-2.724-3.116s-2.169-2.030-3.116-2.724c-1.612-1.182-2.393-1.319-2.841-1.319h-15.5c-1.378 0-2.5 1.121-2.5 2.5v27c0 1.378 1.122 2.5 2.5 2.5h23c1.378 0 2.5-1.122 2.5-2.5v-19.5c0-0.448-0.137-1.23-1.319-2.841zM24.543 5.457c0.959 0.959 1.712 1.825 2.268 2.543h-4.811v-4.811c0.718 0.556 1.584 1.309 2.543 2.268zM28 29.5c0 0.271-0.229 0.5-0.5 0.5h-23c-0.271 0-0.5-0.229-0.5-0.5v-27c0-0.271 0.229-0.5 0.5-0.5 0 0 15.499-0 15.5 0v7c0 0.552 0.448 1 1 1h7v19.5z\"></path>\n",
       "<path d=\"M23 26h-14c-0.552 0-1-0.448-1-1s0.448-1 1-1h14c0.552 0 1 0.448 1 1s-0.448 1-1 1z\"></path>\n",
       "<path d=\"M23 22h-14c-0.552 0-1-0.448-1-1s0.448-1 1-1h14c0.552 0 1 0.448 1 1s-0.448 1-1 1z\"></path>\n",
       "<path d=\"M23 18h-14c-0.552 0-1-0.448-1-1s0.448-1 1-1h14c0.552 0 1 0.448 1 1s-0.448 1-1 1z\"></path>\n",
       "</symbol>\n",
       "</defs>\n",
       "</svg>\n",
       "<style>/* CSS stylesheet for displaying xarray objects in jupyterlab.\n",
       " *\n",
       " */\n",
       "\n",
       ":root {\n",
       "  --xr-font-color0: var(--jp-content-font-color0, rgba(0, 0, 0, 1));\n",
       "  --xr-font-color2: var(--jp-content-font-color2, rgba(0, 0, 0, 0.54));\n",
       "  --xr-font-color3: var(--jp-content-font-color3, rgba(0, 0, 0, 0.38));\n",
       "  --xr-border-color: var(--jp-border-color2, #e0e0e0);\n",
       "  --xr-disabled-color: var(--jp-layout-color3, #bdbdbd);\n",
       "  --xr-background-color: var(--jp-layout-color0, white);\n",
       "  --xr-background-color-row-even: var(--jp-layout-color1, white);\n",
       "  --xr-background-color-row-odd: var(--jp-layout-color2, #eeeeee);\n",
       "}\n",
       "\n",
       "html[theme=\"dark\"],\n",
       "html[data-theme=\"dark\"],\n",
       "body[data-theme=\"dark\"],\n",
       "body.vscode-dark {\n",
       "  --xr-font-color0: rgba(255, 255, 255, 1);\n",
       "  --xr-font-color2: rgba(255, 255, 255, 0.54);\n",
       "  --xr-font-color3: rgba(255, 255, 255, 0.38);\n",
       "  --xr-border-color: #1f1f1f;\n",
       "  --xr-disabled-color: #515151;\n",
       "  --xr-background-color: #111111;\n",
       "  --xr-background-color-row-even: #111111;\n",
       "  --xr-background-color-row-odd: #313131;\n",
       "}\n",
       "\n",
       ".xr-wrap {\n",
       "  display: block !important;\n",
       "  min-width: 300px;\n",
       "  max-width: 700px;\n",
       "}\n",
       "\n",
       ".xr-text-repr-fallback {\n",
       "  /* fallback to plain text repr when CSS is not injected (untrusted notebook) */\n",
       "  display: none;\n",
       "}\n",
       "\n",
       ".xr-header {\n",
       "  padding-top: 6px;\n",
       "  padding-bottom: 6px;\n",
       "  margin-bottom: 4px;\n",
       "  border-bottom: solid 1px var(--xr-border-color);\n",
       "}\n",
       "\n",
       ".xr-header > div,\n",
       ".xr-header > ul {\n",
       "  display: inline;\n",
       "  margin-top: 0;\n",
       "  margin-bottom: 0;\n",
       "}\n",
       "\n",
       ".xr-obj-type,\n",
       ".xr-array-name {\n",
       "  margin-left: 2px;\n",
       "  margin-right: 10px;\n",
       "}\n",
       "\n",
       ".xr-obj-type {\n",
       "  color: var(--xr-font-color2);\n",
       "}\n",
       "\n",
       ".xr-sections {\n",
       "  padding-left: 0 !important;\n",
       "  display: grid;\n",
       "  grid-template-columns: 150px auto auto 1fr 0 20px 0 20px;\n",
       "}\n",
       "\n",
       ".xr-section-item {\n",
       "  display: contents;\n",
       "}\n",
       "\n",
       ".xr-section-item input {\n",
       "  display: inline-block;\n",
       "  opacity: 0;\n",
       "  height: 0;\n",
       "}\n",
       "\n",
       ".xr-section-item input + label {\n",
       "  color: var(--xr-disabled-color);\n",
       "}\n",
       "\n",
       ".xr-section-item input:enabled + label {\n",
       "  cursor: pointer;\n",
       "  color: var(--xr-font-color2);\n",
       "}\n",
       "\n",
       ".xr-section-item input:focus + label {\n",
       "  border: 2px solid var(--xr-font-color0);\n",
       "}\n",
       "\n",
       ".xr-section-item input:enabled + label:hover {\n",
       "  color: var(--xr-font-color0);\n",
       "}\n",
       "\n",
       ".xr-section-summary {\n",
       "  grid-column: 1;\n",
       "  color: var(--xr-font-color2);\n",
       "  font-weight: 500;\n",
       "}\n",
       "\n",
       ".xr-section-summary > span {\n",
       "  display: inline-block;\n",
       "  padding-left: 0.5em;\n",
       "}\n",
       "\n",
       ".xr-section-summary-in:disabled + label {\n",
       "  color: var(--xr-font-color2);\n",
       "}\n",
       "\n",
       ".xr-section-summary-in + label:before {\n",
       "  display: inline-block;\n",
       "  content: \"►\";\n",
       "  font-size: 11px;\n",
       "  width: 15px;\n",
       "  text-align: center;\n",
       "}\n",
       "\n",
       ".xr-section-summary-in:disabled + label:before {\n",
       "  color: var(--xr-disabled-color);\n",
       "}\n",
       "\n",
       ".xr-section-summary-in:checked + label:before {\n",
       "  content: \"▼\";\n",
       "}\n",
       "\n",
       ".xr-section-summary-in:checked + label > span {\n",
       "  display: none;\n",
       "}\n",
       "\n",
       ".xr-section-summary,\n",
       ".xr-section-inline-details {\n",
       "  padding-top: 4px;\n",
       "  padding-bottom: 4px;\n",
       "}\n",
       "\n",
       ".xr-section-inline-details {\n",
       "  grid-column: 2 / -1;\n",
       "}\n",
       "\n",
       ".xr-section-details {\n",
       "  display: none;\n",
       "  grid-column: 1 / -1;\n",
       "  margin-bottom: 5px;\n",
       "}\n",
       "\n",
       ".xr-section-summary-in:checked ~ .xr-section-details {\n",
       "  display: contents;\n",
       "}\n",
       "\n",
       ".xr-array-wrap {\n",
       "  grid-column: 1 / -1;\n",
       "  display: grid;\n",
       "  grid-template-columns: 20px auto;\n",
       "}\n",
       "\n",
       ".xr-array-wrap > label {\n",
       "  grid-column: 1;\n",
       "  vertical-align: top;\n",
       "}\n",
       "\n",
       ".xr-preview {\n",
       "  color: var(--xr-font-color3);\n",
       "}\n",
       "\n",
       ".xr-array-preview,\n",
       ".xr-array-data {\n",
       "  padding: 0 5px !important;\n",
       "  grid-column: 2;\n",
       "}\n",
       "\n",
       ".xr-array-data,\n",
       ".xr-array-in:checked ~ .xr-array-preview {\n",
       "  display: none;\n",
       "}\n",
       "\n",
       ".xr-array-in:checked ~ .xr-array-data,\n",
       ".xr-array-preview {\n",
       "  display: inline-block;\n",
       "}\n",
       "\n",
       ".xr-dim-list {\n",
       "  display: inline-block !important;\n",
       "  list-style: none;\n",
       "  padding: 0 !important;\n",
       "  margin: 0;\n",
       "}\n",
       "\n",
       ".xr-dim-list li {\n",
       "  display: inline-block;\n",
       "  padding: 0;\n",
       "  margin: 0;\n",
       "}\n",
       "\n",
       ".xr-dim-list:before {\n",
       "  content: \"(\";\n",
       "}\n",
       "\n",
       ".xr-dim-list:after {\n",
       "  content: \")\";\n",
       "}\n",
       "\n",
       ".xr-dim-list li:not(:last-child):after {\n",
       "  content: \",\";\n",
       "  padding-right: 5px;\n",
       "}\n",
       "\n",
       ".xr-has-index {\n",
       "  font-weight: bold;\n",
       "}\n",
       "\n",
       ".xr-var-list,\n",
       ".xr-var-item {\n",
       "  display: contents;\n",
       "}\n",
       "\n",
       ".xr-var-item > div,\n",
       ".xr-var-item label,\n",
       ".xr-var-item > .xr-var-name span {\n",
       "  background-color: var(--xr-background-color-row-even);\n",
       "  margin-bottom: 0;\n",
       "}\n",
       "\n",
       ".xr-var-item > .xr-var-name:hover span {\n",
       "  padding-right: 5px;\n",
       "}\n",
       "\n",
       ".xr-var-list > li:nth-child(odd) > div,\n",
       ".xr-var-list > li:nth-child(odd) > label,\n",
       ".xr-var-list > li:nth-child(odd) > .xr-var-name span {\n",
       "  background-color: var(--xr-background-color-row-odd);\n",
       "}\n",
       "\n",
       ".xr-var-name {\n",
       "  grid-column: 1;\n",
       "}\n",
       "\n",
       ".xr-var-dims {\n",
       "  grid-column: 2;\n",
       "}\n",
       "\n",
       ".xr-var-dtype {\n",
       "  grid-column: 3;\n",
       "  text-align: right;\n",
       "  color: var(--xr-font-color2);\n",
       "}\n",
       "\n",
       ".xr-var-preview {\n",
       "  grid-column: 4;\n",
       "}\n",
       "\n",
       ".xr-index-preview {\n",
       "  grid-column: 2 / 5;\n",
       "  color: var(--xr-font-color2);\n",
       "}\n",
       "\n",
       ".xr-var-name,\n",
       ".xr-var-dims,\n",
       ".xr-var-dtype,\n",
       ".xr-preview,\n",
       ".xr-attrs dt {\n",
       "  white-space: nowrap;\n",
       "  overflow: hidden;\n",
       "  text-overflow: ellipsis;\n",
       "  padding-right: 10px;\n",
       "}\n",
       "\n",
       ".xr-var-name:hover,\n",
       ".xr-var-dims:hover,\n",
       ".xr-var-dtype:hover,\n",
       ".xr-attrs dt:hover {\n",
       "  overflow: visible;\n",
       "  width: auto;\n",
       "  z-index: 1;\n",
       "}\n",
       "\n",
       ".xr-var-attrs,\n",
       ".xr-var-data,\n",
       ".xr-index-data {\n",
       "  display: none;\n",
       "  background-color: var(--xr-background-color) !important;\n",
       "  padding-bottom: 5px !important;\n",
       "}\n",
       "\n",
       ".xr-var-attrs-in:checked ~ .xr-var-attrs,\n",
       ".xr-var-data-in:checked ~ .xr-var-data,\n",
       ".xr-index-data-in:checked ~ .xr-index-data {\n",
       "  display: block;\n",
       "}\n",
       "\n",
       ".xr-var-data > table {\n",
       "  float: right;\n",
       "}\n",
       "\n",
       ".xr-var-name span,\n",
       ".xr-var-data,\n",
       ".xr-index-name div,\n",
       ".xr-index-data,\n",
       ".xr-attrs {\n",
       "  padding-left: 25px !important;\n",
       "}\n",
       "\n",
       ".xr-attrs,\n",
       ".xr-var-attrs,\n",
       ".xr-var-data,\n",
       ".xr-index-data {\n",
       "  grid-column: 1 / -1;\n",
       "}\n",
       "\n",
       "dl.xr-attrs {\n",
       "  padding: 0;\n",
       "  margin: 0;\n",
       "  display: grid;\n",
       "  grid-template-columns: 125px auto;\n",
       "}\n",
       "\n",
       ".xr-attrs dt,\n",
       ".xr-attrs dd {\n",
       "  padding: 0;\n",
       "  margin: 0;\n",
       "  float: left;\n",
       "  padding-right: 10px;\n",
       "  width: auto;\n",
       "}\n",
       "\n",
       ".xr-attrs dt {\n",
       "  font-weight: normal;\n",
       "  grid-column: 1;\n",
       "}\n",
       "\n",
       ".xr-attrs dt:hover span {\n",
       "  display: inline-block;\n",
       "  background: var(--xr-background-color);\n",
       "  padding-right: 10px;\n",
       "}\n",
       "\n",
       ".xr-attrs dd {\n",
       "  grid-column: 2;\n",
       "  white-space: pre-wrap;\n",
       "  word-break: break-all;\n",
       "}\n",
       "\n",
       ".xr-icon-database,\n",
       ".xr-icon-file-text2,\n",
       ".xr-no-icon {\n",
       "  display: inline-block;\n",
       "  vertical-align: middle;\n",
       "  width: 1em;\n",
       "  height: 1.5em !important;\n",
       "  stroke-width: 0;\n",
       "  stroke: currentColor;\n",
       "  fill: currentColor;\n",
       "}\n",
       "</style><pre class='xr-text-repr-fallback'>&lt;xarray.Dataset&gt; Size: 747GB\n",
       "Dimensions:      (band: 1, x: 432000, y: 216000)\n",
       "Coordinates:\n",
       "  * band         (band) int64 8B 1\n",
       "  * x            (x) float64 3MB -180.0 -180.0 -180.0 ... 180.0 180.0 180.0\n",
       "  * y            (y) float64 2MB 90.0 90.0 90.0 90.0 ... -90.0 -90.0 -90.0 -90.0\n",
       "    spatial_ref  int64 8B ...\n",
       "Data variables:\n",
       "    band_data    (band, y, x) float64 746GB ...</pre><div class='xr-wrap' style='display:none'><div class='xr-header'><div class='xr-obj-type'>xarray.Dataset</div></div><ul class='xr-sections'><li class='xr-section-item'><input id='section-1b1b1c97-6ec4-4cc9-8da9-ec8f71c7657e' class='xr-section-summary-in' type='checkbox' disabled ><label for='section-1b1b1c97-6ec4-4cc9-8da9-ec8f71c7657e' class='xr-section-summary'  title='Expand/collapse section'>Dimensions:</label><div class='xr-section-inline-details'><ul class='xr-dim-list'><li><span class='xr-has-index'>band</span>: 1</li><li><span class='xr-has-index'>x</span>: 432000</li><li><span class='xr-has-index'>y</span>: 216000</li></ul></div><div class='xr-section-details'></div></li><li class='xr-section-item'><input id='section-c1e6ffa5-477b-41fa-9b40-f892e0d71072' class='xr-section-summary-in' type='checkbox'  checked><label for='section-c1e6ffa5-477b-41fa-9b40-f892e0d71072' class='xr-section-summary' >Coordinates: <span>(4)</span></label><div class='xr-section-inline-details'></div><div class='xr-section-details'><ul class='xr-var-list'><li class='xr-var-item'><div class='xr-var-name'><span class='xr-has-index'>band</span></div><div class='xr-var-dims'>(band)</div><div class='xr-var-dtype'>int64</div><div class='xr-var-preview xr-preview'>1</div><input id='attrs-16d3f2e1-39d2-4cfa-8f82-eda251b8b7ce' class='xr-var-attrs-in' type='checkbox' disabled><label for='attrs-16d3f2e1-39d2-4cfa-8f82-eda251b8b7ce' title='Show/Hide attributes'><svg class='icon xr-icon-file-text2'><use xlink:href='#icon-file-text2'></use></svg></label><input id='data-1f8f38f4-2e2f-4014-af48-16abbf733b8f' class='xr-var-data-in' type='checkbox'><label for='data-1f8f38f4-2e2f-4014-af48-16abbf733b8f' title='Show/Hide data repr'><svg class='icon xr-icon-database'><use xlink:href='#icon-database'></use></svg></label><div class='xr-var-attrs'><dl class='xr-attrs'></dl></div><div class='xr-var-data'><pre>array([1])</pre></div></li><li class='xr-var-item'><div class='xr-var-name'><span class='xr-has-index'>x</span></div><div class='xr-var-dims'>(x)</div><div class='xr-var-dtype'>float64</div><div class='xr-var-preview xr-preview'>-180.0 -180.0 ... 180.0 180.0</div><input id='attrs-25f8ebbd-e164-491c-b917-ed00d5c35ba5' class='xr-var-attrs-in' type='checkbox' disabled><label for='attrs-25f8ebbd-e164-491c-b917-ed00d5c35ba5' title='Show/Hide attributes'><svg class='icon xr-icon-file-text2'><use xlink:href='#icon-file-text2'></use></svg></label><input id='data-52e9c171-a7cd-466f-8e7c-c198ece77cf4' class='xr-var-data-in' type='checkbox'><label for='data-52e9c171-a7cd-466f-8e7c-c198ece77cf4' title='Show/Hide data repr'><svg class='icon xr-icon-database'><use xlink:href='#icon-database'></use></svg></label><div class='xr-var-attrs'><dl class='xr-attrs'></dl></div><div class='xr-var-data'><pre>array([-179.999583, -179.99875 , -179.997917, ...,  179.997917,  179.99875 ,\n",
       "        179.999583], shape=(432000,))</pre></div></li><li class='xr-var-item'><div class='xr-var-name'><span class='xr-has-index'>y</span></div><div class='xr-var-dims'>(y)</div><div class='xr-var-dtype'>float64</div><div class='xr-var-preview xr-preview'>90.0 90.0 90.0 ... -90.0 -90.0</div><input id='attrs-a3476c37-5baa-453a-a31c-b7f593d651a4' class='xr-var-attrs-in' type='checkbox' disabled><label for='attrs-a3476c37-5baa-453a-a31c-b7f593d651a4' title='Show/Hide attributes'><svg class='icon xr-icon-file-text2'><use xlink:href='#icon-file-text2'></use></svg></label><input id='data-4c665b55-1bdf-41fe-a1aa-e036df1cb944' class='xr-var-data-in' type='checkbox'><label for='data-4c665b55-1bdf-41fe-a1aa-e036df1cb944' title='Show/Hide data repr'><svg class='icon xr-icon-database'><use xlink:href='#icon-database'></use></svg></label><div class='xr-var-attrs'><dl class='xr-attrs'></dl></div><div class='xr-var-data'><pre>array([ 89.999583,  89.99875 ,  89.997917, ..., -89.997917, -89.99875 ,\n",
       "       -89.999583], shape=(216000,))</pre></div></li><li class='xr-var-item'><div class='xr-var-name'><span>spatial_ref</span></div><div class='xr-var-dims'>()</div><div class='xr-var-dtype'>int64</div><div class='xr-var-preview xr-preview'>...</div><input id='attrs-06dddb28-1a43-4c22-930f-ea31ae0ba270' class='xr-var-attrs-in' type='checkbox' ><label for='attrs-06dddb28-1a43-4c22-930f-ea31ae0ba270' title='Show/Hide attributes'><svg class='icon xr-icon-file-text2'><use xlink:href='#icon-file-text2'></use></svg></label><input id='data-8643d292-cdd4-45d4-bc77-055782424ae0' class='xr-var-data-in' type='checkbox'><label for='data-8643d292-cdd4-45d4-bc77-055782424ae0' title='Show/Hide data repr'><svg class='icon xr-icon-database'><use xlink:href='#icon-database'></use></svg></label><div class='xr-var-attrs'><dl class='xr-attrs'><dt><span>crs_wkt :</span></dt><dd>GEOGCS[&quot;WGS 84&quot;,DATUM[&quot;WGS_1984&quot;,SPHEROID[&quot;WGS 84&quot;,6378137,298.257223563,AUTHORITY[&quot;EPSG&quot;,&quot;7030&quot;]],AUTHORITY[&quot;EPSG&quot;,&quot;6326&quot;]],PRIMEM[&quot;Greenwich&quot;,0,AUTHORITY[&quot;EPSG&quot;,&quot;8901&quot;]],UNIT[&quot;degree&quot;,0.0174532925199433,AUTHORITY[&quot;EPSG&quot;,&quot;9122&quot;]],AXIS[&quot;Latitude&quot;,NORTH],AXIS[&quot;Longitude&quot;,EAST],AUTHORITY[&quot;EPSG&quot;,&quot;4326&quot;]]</dd><dt><span>semi_major_axis :</span></dt><dd>6378137.0</dd><dt><span>semi_minor_axis :</span></dt><dd>6356752.314245179</dd><dt><span>inverse_flattening :</span></dt><dd>298.257223563</dd><dt><span>reference_ellipsoid_name :</span></dt><dd>WGS 84</dd><dt><span>longitude_of_prime_meridian :</span></dt><dd>0.0</dd><dt><span>prime_meridian_name :</span></dt><dd>Greenwich</dd><dt><span>geographic_crs_name :</span></dt><dd>WGS 84</dd><dt><span>horizontal_datum_name :</span></dt><dd>World Geodetic System 1984</dd><dt><span>grid_mapping_name :</span></dt><dd>latitude_longitude</dd><dt><span>spatial_ref :</span></dt><dd>GEOGCS[&quot;WGS 84&quot;,DATUM[&quot;WGS_1984&quot;,SPHEROID[&quot;WGS 84&quot;,6378137,298.257223563,AUTHORITY[&quot;EPSG&quot;,&quot;7030&quot;]],AUTHORITY[&quot;EPSG&quot;,&quot;6326&quot;]],PRIMEM[&quot;Greenwich&quot;,0,AUTHORITY[&quot;EPSG&quot;,&quot;8901&quot;]],UNIT[&quot;degree&quot;,0.0174532925199433,AUTHORITY[&quot;EPSG&quot;,&quot;9122&quot;]],AXIS[&quot;Latitude&quot;,NORTH],AXIS[&quot;Longitude&quot;,EAST],AUTHORITY[&quot;EPSG&quot;,&quot;4326&quot;]]</dd><dt><span>GeoTransform :</span></dt><dd>-180.0 0.0008333333333333334 0.0 90.0 0.0 -0.0008333333333333334</dd></dl></div><div class='xr-var-data'><pre>[1 values with dtype=int64]</pre></div></li></ul></div></li><li class='xr-section-item'><input id='section-7998d014-aa90-482d-ad9e-f42d45e8313d' class='xr-section-summary-in' type='checkbox'  checked><label for='section-7998d014-aa90-482d-ad9e-f42d45e8313d' class='xr-section-summary' >Data variables: <span>(1)</span></label><div class='xr-section-inline-details'></div><div class='xr-section-details'><ul class='xr-var-list'><li class='xr-var-item'><div class='xr-var-name'><span>band_data</span></div><div class='xr-var-dims'>(band, y, x)</div><div class='xr-var-dtype'>float64</div><div class='xr-var-preview xr-preview'>...</div><input id='attrs-1d51bf4c-8b35-43e6-a061-c349102e707e' class='xr-var-attrs-in' type='checkbox' ><label for='attrs-1d51bf4c-8b35-43e6-a061-c349102e707e' title='Show/Hide attributes'><svg class='icon xr-icon-file-text2'><use xlink:href='#icon-file-text2'></use></svg></label><input id='data-1cf7dbec-9db5-4335-b2e8-0c75f372dfb5' class='xr-var-data-in' type='checkbox'><label for='data-1cf7dbec-9db5-4335-b2e8-0c75f372dfb5' title='Show/Hide data repr'><svg class='icon xr-icon-database'><use xlink:href='#icon-database'></use></svg></label><div class='xr-var-attrs'><dl class='xr-attrs'><dt><span>TIFFTAG_SOFTWARE :</span></dt><dd>GRASS GIS 7.8.6 with GDAL 3.4.0</dd><dt><span>AREA_OR_POINT :</span></dt><dd>Area</dd></dl></div><div class='xr-var-data'><pre>[93312000000 values with dtype=float64]</pre></div></li></ul></div></li><li class='xr-section-item'><input id='section-9a1cafc8-b983-4b26-87cd-2880a5a797fc' class='xr-section-summary-in' type='checkbox'  ><label for='section-9a1cafc8-b983-4b26-87cd-2880a5a797fc' class='xr-section-summary' >Indexes: <span>(3)</span></label><div class='xr-section-inline-details'></div><div class='xr-section-details'><ul class='xr-var-list'><li class='xr-var-item'><div class='xr-index-name'><div>band</div></div><div class='xr-index-preview'>PandasIndex</div><input type='checkbox' disabled/><label></label><input id='index-9b70b9f9-4b8e-4f68-9648-eb24921dc1e8' class='xr-index-data-in' type='checkbox'/><label for='index-9b70b9f9-4b8e-4f68-9648-eb24921dc1e8' title='Show/Hide index repr'><svg class='icon xr-icon-database'><use xlink:href='#icon-database'></use></svg></label><div class='xr-index-data'><pre>PandasIndex(Index([1], dtype=&#x27;int64&#x27;, name=&#x27;band&#x27;))</pre></div></li><li class='xr-var-item'><div class='xr-index-name'><div>x</div></div><div class='xr-index-preview'>PandasIndex</div><input type='checkbox' disabled/><label></label><input id='index-e99be092-3675-431e-8628-e27fc1e38127' class='xr-index-data-in' type='checkbox'/><label for='index-e99be092-3675-431e-8628-e27fc1e38127' title='Show/Hide index repr'><svg class='icon xr-icon-database'><use xlink:href='#icon-database'></use></svg></label><div class='xr-index-data'><pre>PandasIndex(Index([-179.99958333333333,          -179.99875, -179.99791666666667,\n",
       "       -179.99708333333334,          -179.99625, -179.99541666666667,\n",
       "       -179.99458333333334,          -179.99375, -179.99291666666667,\n",
       "       -179.99208333333334,\n",
       "       ...\n",
       "        179.99208333333334,  179.99291666666667,           179.99375,\n",
       "        179.99458333333334,  179.99541666666667,           179.99625,\n",
       "        179.99708333333334,  179.99791666666667,           179.99875,\n",
       "        179.99958333333333],\n",
       "      dtype=&#x27;float64&#x27;, name=&#x27;x&#x27;, length=432000))</pre></div></li><li class='xr-var-item'><div class='xr-index-name'><div>y</div></div><div class='xr-index-preview'>PandasIndex</div><input type='checkbox' disabled/><label></label><input id='index-111e7375-b656-44fe-b78c-e3e565a9cb71' class='xr-index-data-in' type='checkbox'/><label for='index-111e7375-b656-44fe-b78c-e3e565a9cb71' title='Show/Hide index repr'><svg class='icon xr-icon-database'><use xlink:href='#icon-database'></use></svg></label><div class='xr-index-data'><pre>PandasIndex(Index([ 89.99958333333333,           89.99875,  89.99791666666667,\n",
       "        89.99708333333334,           89.99625,  89.99541666666667,\n",
       "        89.99458333333334,           89.99375,  89.99291666666667,\n",
       "        89.99208333333334,\n",
       "       ...\n",
       "       -89.99208333333334, -89.99291666666667,          -89.99375,\n",
       "       -89.99458333333334, -89.99541666666667,          -89.99625,\n",
       "       -89.99708333333334, -89.99791666666667,          -89.99875,\n",
       "       -89.99958333333333],\n",
       "      dtype=&#x27;float64&#x27;, name=&#x27;y&#x27;, length=216000))</pre></div></li></ul></div></li><li class='xr-section-item'><input id='section-90eb3979-4a2e-48f6-a733-805249bde600' class='xr-section-summary-in' type='checkbox' disabled ><label for='section-90eb3979-4a2e-48f6-a733-805249bde600' class='xr-section-summary'  title='Expand/collapse section'>Attributes: <span>(0)</span></label><div class='xr-section-inline-details'></div><div class='xr-section-details'><dl class='xr-attrs'></dl></div></li></ul></div></div>"
      ],
      "text/plain": [
       "<xarray.Dataset> Size: 747GB\n",
       "Dimensions:      (band: 1, x: 432000, y: 216000)\n",
       "Coordinates:\n",
       "  * band         (band) int64 8B 1\n",
       "  * x            (x) float64 3MB -180.0 -180.0 -180.0 ... 180.0 180.0 180.0\n",
       "  * y            (y) float64 2MB 90.0 90.0 90.0 90.0 ... -90.0 -90.0 -90.0 -90.0\n",
       "    spatial_ref  int64 8B ...\n",
       "Data variables:\n",
       "    band_data    (band, y, x) float64 746GB ..."
      ]
     },
     "execution_count": 11,
     "metadata": {},
     "output_type": "execute_result"
    }
   ],
   "source": [
    "hazard_map"
   ]
  },
  {
   "cell_type": "markdown",
   "id": "ee05bef0-90c3-4f33-814f-fb421246e1be",
   "metadata": {},
   "source": [
    "### Maximum damages\n",
    "One of the most difficult parts of the assessment is to define the maximum reconstruction cost of particular assets. Here we provide a baseline set of values, but these should be updated through national consultations."
   ]
  },
  {
   "cell_type": "code",
   "execution_count": 12,
   "id": "92df3cdf-4f61-470f-8b7e-c1eb6d01bcd8",
   "metadata": {},
   "outputs": [],
   "source": [
    "maxdam_dict = {'trunk':2000, \n",
    "               'motorway' : 2000,\n",
    "                'primary':2000, \n",
    "                'secondary':1300, \n",
    "                'tertiary':700, \n",
    "                'other':300 }"
   ]
  },
  {
   "cell_type": "markdown",
   "id": "79192a0b-8615-432e-b55b-63df78629924",
   "metadata": {},
   "source": [
    "To be used in our damage assessment, we convert this to a Pandas DataFrame"
   ]
  },
  {
   "cell_type": "code",
   "execution_count": 13,
   "id": "7dd0aeec-16eb-4ef6-afcf-9cbc7372a245",
   "metadata": {},
   "outputs": [],
   "source": [
    "maxdam = pd.DataFrame.from_dict(maxdam_dict,orient='index').reset_index()\n",
    "maxdam.columns = ['object_type','damage']"
   ]
  },
  {
   "cell_type": "markdown",
   "id": "84b69fd7-393a-48f6-aae6-33b19bb2e3b9",
   "metadata": {},
   "source": [
    "### Vulnerability data\n",
    "Similarly to the maximum damages, specifying the vulnerability curves is complex. We generally have limited information about the quality of the assets, its level of deteriation and other asset-level characteristics. The study by Nirandjan et al. (2024) provides us with a baseline set of fragility and vulnerability curves that one can use. In the following cell, we load that data."
   ]
  },
  {
   "cell_type": "code",
   "execution_count": 14,
   "id": "ec8a021f-0c9d-41a7-846b-fd78af69cd85",
   "metadata": {},
   "outputs": [],
   "source": [
    "vulnerability_path = \"https://zenodo.org/records/10203846/files/Table_D2_Multi-Hazard_Fragility_and_Vulnerability_Curves_V1.0.0.xlsx?download=1\"\n",
    "vul_df = pd.read_excel(vulnerability_path,sheet_name='F_Vuln_Depth')"
   ]
  },
  {
   "cell_type": "markdown",
   "id": "6ad555da-f453-4e2a-9d7b-dcb20e6e960b",
   "metadata": {},
   "source": [
    "And let's have a look at all the available options"
   ]
  },
  {
   "cell_type": "code",
   "execution_count": 15,
   "id": "c9a14865-3350-41ba-ad48-eb4886c63874",
   "metadata": {
    "scrolled": true
   },
   "outputs": [
    {
     "data": {
      "text/html": [
       "<div>\n",
       "<style scoped>\n",
       "    .dataframe tbody tr th:only-of-type {\n",
       "        vertical-align: middle;\n",
       "    }\n",
       "\n",
       "    .dataframe tbody tr th {\n",
       "        vertical-align: top;\n",
       "    }\n",
       "\n",
       "    .dataframe thead th {\n",
       "        text-align: right;\n",
       "    }\n",
       "</style>\n",
       "<table border=\"1\" class=\"dataframe\">\n",
       "  <thead>\n",
       "    <tr style=\"text-align: right;\">\n",
       "      <th></th>\n",
       "      <th>0</th>\n",
       "      <th>1</th>\n",
       "    </tr>\n",
       "  </thead>\n",
       "  <tbody>\n",
       "    <tr>\n",
       "      <th>ID number</th>\n",
       "      <td>Infrastructure description</td>\n",
       "      <td>Additional characteristics</td>\n",
       "    </tr>\n",
       "    <tr>\n",
       "      <th>F1.1</th>\n",
       "      <td>plant</td>\n",
       "      <td>Small power plants, capacity &lt;100 MW</td>\n",
       "    </tr>\n",
       "    <tr>\n",
       "      <th>F1.2</th>\n",
       "      <td>plant</td>\n",
       "      <td>Medium power plants, capacity 100-500 MW</td>\n",
       "    </tr>\n",
       "    <tr>\n",
       "      <th>F1.3</th>\n",
       "      <td>plant</td>\n",
       "      <td>Large power plants, &gt;500 MW</td>\n",
       "    </tr>\n",
       "    <tr>\n",
       "      <th>F1.4</th>\n",
       "      <td>plant</td>\n",
       "      <td>thermal plant</td>\n",
       "    </tr>\n",
       "    <tr>\n",
       "      <th>F1.5</th>\n",
       "      <td>plant</td>\n",
       "      <td>wind turbine</td>\n",
       "    </tr>\n",
       "    <tr>\n",
       "      <th>F1.6</th>\n",
       "      <td>plant</td>\n",
       "      <td>wind turbine</td>\n",
       "    </tr>\n",
       "    <tr>\n",
       "      <th>F1.7</th>\n",
       "      <td>plant</td>\n",
       "      <td>wind turbine</td>\n",
       "    </tr>\n",
       "    <tr>\n",
       "      <th>F2.1</th>\n",
       "      <td>substation</td>\n",
       "      <td>Low Voltage Substation</td>\n",
       "    </tr>\n",
       "    <tr>\n",
       "      <th>F2.2</th>\n",
       "      <td>substation</td>\n",
       "      <td>Medium Voltage Substation</td>\n",
       "    </tr>\n",
       "    <tr>\n",
       "      <th>F2.3</th>\n",
       "      <td>substation</td>\n",
       "      <td>High Voltage Substation</td>\n",
       "    </tr>\n",
       "    <tr>\n",
       "      <th>F5.1</th>\n",
       "      <td>cable</td>\n",
       "      <td>Distribution circuits buried crossings</td>\n",
       "    </tr>\n",
       "    <tr>\n",
       "      <th>F6.1</th>\n",
       "      <td>Power (minor) line</td>\n",
       "      <td>Distribution circuits (non-crossings)</td>\n",
       "    </tr>\n",
       "    <tr>\n",
       "      <th>F6.2</th>\n",
       "      <td>cable</td>\n",
       "      <td>Distribution circuits elevated crossings</td>\n",
       "    </tr>\n",
       "    <tr>\n",
       "      <th>F6.3</th>\n",
       "      <td>Energy system</td>\n",
       "      <td>Generalized curve for energy assets in diked a...</td>\n",
       "    </tr>\n",
       "    <tr>\n",
       "      <th>F7.1</th>\n",
       "      <td>Roads</td>\n",
       "      <td>NaN</td>\n",
       "    </tr>\n",
       "    <tr>\n",
       "      <th>F7.2</th>\n",
       "      <td>Roads</td>\n",
       "      <td>NaN</td>\n",
       "    </tr>\n",
       "    <tr>\n",
       "      <th>F7.2a (lower boundary)</th>\n",
       "      <td>Roads</td>\n",
       "      <td>NaN</td>\n",
       "    </tr>\n",
       "    <tr>\n",
       "      <th>F7.2b (upper boundary)</th>\n",
       "      <td>Roads</td>\n",
       "      <td>NaN</td>\n",
       "    </tr>\n",
       "    <tr>\n",
       "      <th>F7.3</th>\n",
       "      <td>Roads</td>\n",
       "      <td>NaN</td>\n",
       "    </tr>\n",
       "    <tr>\n",
       "      <th>F7.4</th>\n",
       "      <td>Roads</td>\n",
       "      <td>Motorways and trunk roads - sophisticated acce...</td>\n",
       "    </tr>\n",
       "    <tr>\n",
       "      <th>F7.5</th>\n",
       "      <td>Roads</td>\n",
       "      <td>Motorways and trunk roads - sophisticated acce...</td>\n",
       "    </tr>\n",
       "    <tr>\n",
       "      <th>F7.6</th>\n",
       "      <td>Roads</td>\n",
       "      <td>Motorways and trunk roads - without sophistica...</td>\n",
       "    </tr>\n",
       "    <tr>\n",
       "      <th>F7.7</th>\n",
       "      <td>Roads</td>\n",
       "      <td>Motorways and trunk roads - without sophistica...</td>\n",
       "    </tr>\n",
       "    <tr>\n",
       "      <th>F7.8</th>\n",
       "      <td>Roads</td>\n",
       "      <td>Other roads - low flow</td>\n",
       "    </tr>\n",
       "    <tr>\n",
       "      <th>F7.9</th>\n",
       "      <td>Roads</td>\n",
       "      <td>Other roads - high flow</td>\n",
       "    </tr>\n",
       "    <tr>\n",
       "      <th>F7.10</th>\n",
       "      <td>Roads</td>\n",
       "      <td>NaN</td>\n",
       "    </tr>\n",
       "    <tr>\n",
       "      <th>F7.11</th>\n",
       "      <td>Roads</td>\n",
       "      <td>NaN</td>\n",
       "    </tr>\n",
       "    <tr>\n",
       "      <th>F7.12</th>\n",
       "      <td>Roads</td>\n",
       "      <td>NaN</td>\n",
       "    </tr>\n",
       "    <tr>\n",
       "      <th>F7.13</th>\n",
       "      <td>Roads</td>\n",
       "      <td>NaN</td>\n",
       "    </tr>\n",
       "    <tr>\n",
       "      <th>F8.1</th>\n",
       "      <td>Railways</td>\n",
       "      <td>Double-tracked railway</td>\n",
       "    </tr>\n",
       "    <tr>\n",
       "      <th>F8.2</th>\n",
       "      <td>Railways</td>\n",
       "      <td>Double-tracked railway</td>\n",
       "    </tr>\n",
       "    <tr>\n",
       "      <th>F8.3</th>\n",
       "      <td>Railways</td>\n",
       "      <td>NaN</td>\n",
       "    </tr>\n",
       "    <tr>\n",
       "      <th>F8.4</th>\n",
       "      <td>Railways</td>\n",
       "      <td>NaN</td>\n",
       "    </tr>\n",
       "    <tr>\n",
       "      <th>F8.5</th>\n",
       "      <td>Railways</td>\n",
       "      <td>NaN</td>\n",
       "    </tr>\n",
       "    <tr>\n",
       "      <th>F8.6</th>\n",
       "      <td>Railways</td>\n",
       "      <td>NaN</td>\n",
       "    </tr>\n",
       "    <tr>\n",
       "      <th>F8.6a (lower boundary)</th>\n",
       "      <td>Railways</td>\n",
       "      <td>NaN</td>\n",
       "    </tr>\n",
       "    <tr>\n",
       "      <th>F8.6b (upper boundary)</th>\n",
       "      <td>Railways</td>\n",
       "      <td>NaN</td>\n",
       "    </tr>\n",
       "    <tr>\n",
       "      <th>F8.7</th>\n",
       "      <td>Railways</td>\n",
       "      <td>NaN</td>\n",
       "    </tr>\n",
       "    <tr>\n",
       "      <th>F8.8</th>\n",
       "      <td>Railways</td>\n",
       "      <td>Railway station</td>\n",
       "    </tr>\n",
       "    <tr>\n",
       "      <th>F9.1</th>\n",
       "      <td>Airports</td>\n",
       "      <td>NaN</td>\n",
       "    </tr>\n",
       "    <tr>\n",
       "      <th>F9.2</th>\n",
       "      <td>Airports</td>\n",
       "      <td>NaN</td>\n",
       "    </tr>\n",
       "    <tr>\n",
       "      <th>F9.3</th>\n",
       "      <td>Airports</td>\n",
       "      <td>NaN</td>\n",
       "    </tr>\n",
       "    <tr>\n",
       "      <th>F10.1</th>\n",
       "      <td>Telecommunication</td>\n",
       "      <td>Communication tower</td>\n",
       "    </tr>\n",
       "    <tr>\n",
       "      <th>F12.1</th>\n",
       "      <td>Telecommunication</td>\n",
       "      <td>Communication system</td>\n",
       "    </tr>\n",
       "    <tr>\n",
       "      <th>F13.1</th>\n",
       "      <td>water storage tanks</td>\n",
       "      <td>Water storage tanks at grade concrete</td>\n",
       "    </tr>\n",
       "    <tr>\n",
       "      <th>F13.2</th>\n",
       "      <td>water storage tanks</td>\n",
       "      <td>Water storage tanks at grade steel</td>\n",
       "    </tr>\n",
       "    <tr>\n",
       "      <th>F13.3</th>\n",
       "      <td>water storage tanks</td>\n",
       "      <td>Water storage tanks at grade wood</td>\n",
       "    </tr>\n",
       "    <tr>\n",
       "      <th>F13.4</th>\n",
       "      <td>water storage tanks</td>\n",
       "      <td>Water storage tanks elevated</td>\n",
       "    </tr>\n",
       "    <tr>\n",
       "      <th>F13.5</th>\n",
       "      <td>water storage tanks</td>\n",
       "      <td>Water storage tanks below grade</td>\n",
       "    </tr>\n",
       "    <tr>\n",
       "      <th>F14.1</th>\n",
       "      <td>Water treatment plants</td>\n",
       "      <td>Small water treatment plants open/gravity - av...</td>\n",
       "    </tr>\n",
       "    <tr>\n",
       "      <th>F14.2</th>\n",
       "      <td>Water treatment plants</td>\n",
       "      <td>Medium water treatment plants open/gravity - a...</td>\n",
       "    </tr>\n",
       "    <tr>\n",
       "      <th>F14.3</th>\n",
       "      <td>Water treatment plants</td>\n",
       "      <td>Large water treatment plants open/gravity - av...</td>\n",
       "    </tr>\n",
       "    <tr>\n",
       "      <th>F14.4</th>\n",
       "      <td>Water treatment plants</td>\n",
       "      <td>small/medium/large water treatment plants open...</td>\n",
       "    </tr>\n",
       "    <tr>\n",
       "      <th>F14.5</th>\n",
       "      <td>Water treatment plants</td>\n",
       "      <td>small/medium/large water treatment plants open...</td>\n",
       "    </tr>\n",
       "    <tr>\n",
       "      <th>F14.6</th>\n",
       "      <td>Water treatment plants</td>\n",
       "      <td>Small water treatment plants closed/pressure</td>\n",
       "    </tr>\n",
       "    <tr>\n",
       "      <th>F14.7</th>\n",
       "      <td>Water treatment plants</td>\n",
       "      <td>Medium water treatment plants closed/pressure</td>\n",
       "    </tr>\n",
       "    <tr>\n",
       "      <th>F14.8</th>\n",
       "      <td>Water treatment plants</td>\n",
       "      <td>Large water treatment plants closed/pressure</td>\n",
       "    </tr>\n",
       "    <tr>\n",
       "      <th>F14.9</th>\n",
       "      <td>Water treatment plants</td>\n",
       "      <td>small/medium/large water treatment plants clos...</td>\n",
       "    </tr>\n",
       "    <tr>\n",
       "      <th>F14.10</th>\n",
       "      <td>Water treatment plants</td>\n",
       "      <td>small/medium/large water treatment plants clos...</td>\n",
       "    </tr>\n",
       "    <tr>\n",
       "      <th>F15.1</th>\n",
       "      <td>Water well</td>\n",
       "      <td>Wells</td>\n",
       "    </tr>\n",
       "    <tr>\n",
       "      <th>F16.1</th>\n",
       "      <td>Transmission and distribution pipelines</td>\n",
       "      <td>Exposed transmission pipeline crossing</td>\n",
       "    </tr>\n",
       "    <tr>\n",
       "      <th>F16.2</th>\n",
       "      <td>Transmission and distribution pipelines</td>\n",
       "      <td>Buried transmission pipeline crossing</td>\n",
       "    </tr>\n",
       "    <tr>\n",
       "      <th>F16.3</th>\n",
       "      <td>Transmission and distribution pipelines</td>\n",
       "      <td>Pipelines (non-crossing)</td>\n",
       "    </tr>\n",
       "    <tr>\n",
       "      <th>F17.1</th>\n",
       "      <td>Others</td>\n",
       "      <td>Pumping plants (small) below grade</td>\n",
       "    </tr>\n",
       "    <tr>\n",
       "      <th>F17.2</th>\n",
       "      <td>Others</td>\n",
       "      <td>Pumping plants (medium/large) below grade</td>\n",
       "    </tr>\n",
       "    <tr>\n",
       "      <th>F17.3</th>\n",
       "      <td>Others</td>\n",
       "      <td>Pumping plants (small) above grade</td>\n",
       "    </tr>\n",
       "    <tr>\n",
       "      <th>F17.4</th>\n",
       "      <td>Others</td>\n",
       "      <td>Pumping plants (medium/large) above grade</td>\n",
       "    </tr>\n",
       "    <tr>\n",
       "      <th>F17.5</th>\n",
       "      <td>Others</td>\n",
       "      <td>Pumping plants</td>\n",
       "    </tr>\n",
       "    <tr>\n",
       "      <th>F17.6</th>\n",
       "      <td>Others</td>\n",
       "      <td>Control vaults and stations</td>\n",
       "    </tr>\n",
       "    <tr>\n",
       "      <th>F18.1</th>\n",
       "      <td>Wastewater treatment plant</td>\n",
       "      <td>Small wastewater treatment plants</td>\n",
       "    </tr>\n",
       "    <tr>\n",
       "      <th>F18.2</th>\n",
       "      <td>Wastewater treatment plant</td>\n",
       "      <td>Medium wastewater treatment plants</td>\n",
       "    </tr>\n",
       "    <tr>\n",
       "      <th>F18.3</th>\n",
       "      <td>Wastewater treatment plant</td>\n",
       "      <td>Large wastewater treatment plants</td>\n",
       "    </tr>\n",
       "    <tr>\n",
       "      <th>F18.4</th>\n",
       "      <td>Wastewater treatment plant</td>\n",
       "      <td>Small, medium, large Wastewater treatment plan...</td>\n",
       "    </tr>\n",
       "    <tr>\n",
       "      <th>F18.5</th>\n",
       "      <td>Wastewater treatment plant</td>\n",
       "      <td>Small, medium, large Wastewater treatment plan...</td>\n",
       "    </tr>\n",
       "    <tr>\n",
       "      <th>F18.6</th>\n",
       "      <td>Wastewater treatment plant</td>\n",
       "      <td>NaN</td>\n",
       "    </tr>\n",
       "    <tr>\n",
       "      <th>F19.1</th>\n",
       "      <td>Transmission and distribution pipelines</td>\n",
       "      <td>Sewers &amp; Interceptors: Exposed collector river...</td>\n",
       "    </tr>\n",
       "    <tr>\n",
       "      <th>F19.2</th>\n",
       "      <td>Transmission and distribution pipelines</td>\n",
       "      <td>Sewers &amp; Interceptors: Buried collector river ...</td>\n",
       "    </tr>\n",
       "    <tr>\n",
       "      <th>F19.3</th>\n",
       "      <td>Transmission and distribution pipelines</td>\n",
       "      <td>Sewers &amp; Interceptors: Pipes (non-crossings)</td>\n",
       "    </tr>\n",
       "    <tr>\n",
       "      <th>F20.1</th>\n",
       "      <td>Others</td>\n",
       "      <td>Control vaults and control stations</td>\n",
       "    </tr>\n",
       "    <tr>\n",
       "      <th>F20.2</th>\n",
       "      <td>Others</td>\n",
       "      <td>Lift stations: lift station (small), wet well/...</td>\n",
       "    </tr>\n",
       "    <tr>\n",
       "      <th>F20.3</th>\n",
       "      <td>Others</td>\n",
       "      <td>Lift stations: lift station (medium large), we...</td>\n",
       "    </tr>\n",
       "    <tr>\n",
       "      <th>F20.4</th>\n",
       "      <td>Others</td>\n",
       "      <td>Lift stations: lift station (small), submersible</td>\n",
       "    </tr>\n",
       "    <tr>\n",
       "      <th>F20.5</th>\n",
       "      <td>Others</td>\n",
       "      <td>Lift stations: lift station (medium large), su...</td>\n",
       "    </tr>\n",
       "    <tr>\n",
       "      <th>F21.1</th>\n",
       "      <td>Education &amp; Health</td>\n",
       "      <td>Generalized curve for commercial buildings, wh...</td>\n",
       "    </tr>\n",
       "    <tr>\n",
       "      <th>F21.2</th>\n",
       "      <td>Education &amp; Health</td>\n",
       "      <td>Generalized curve for commercial buildings, wh...</td>\n",
       "    </tr>\n",
       "    <tr>\n",
       "      <th>F21.3</th>\n",
       "      <td>Education &amp; Health</td>\n",
       "      <td>Generalized curve for commercial buildings, wh...</td>\n",
       "    </tr>\n",
       "    <tr>\n",
       "      <th>F21.3a (lower boundary)</th>\n",
       "      <td>Education &amp; Health</td>\n",
       "      <td>Generalized curve for commercial buildings, wh...</td>\n",
       "    </tr>\n",
       "    <tr>\n",
       "      <th>F21.3b (upper boundary)</th>\n",
       "      <td>Education &amp; Health</td>\n",
       "      <td>Generalized curve for commercial buildings, wh...</td>\n",
       "    </tr>\n",
       "    <tr>\n",
       "      <th>F21.4</th>\n",
       "      <td>Education &amp; Health</td>\n",
       "      <td>Generalized curve for commercial buildings, wh...</td>\n",
       "    </tr>\n",
       "    <tr>\n",
       "      <th>F21.4a (lower boundary)</th>\n",
       "      <td>Education &amp; Health</td>\n",
       "      <td>Generalized curve for commercial buildings, wh...</td>\n",
       "    </tr>\n",
       "    <tr>\n",
       "      <th>F21.4b (upper boundary)</th>\n",
       "      <td>Education &amp; Health</td>\n",
       "      <td>Generalized curve for commercial buildings, wh...</td>\n",
       "    </tr>\n",
       "    <tr>\n",
       "      <th>F21.5</th>\n",
       "      <td>Education &amp; Health</td>\n",
       "      <td>Generalized curve for commercial buildings, wh...</td>\n",
       "    </tr>\n",
       "    <tr>\n",
       "      <th>F21.5a (lower boundary)</th>\n",
       "      <td>Education &amp; Health</td>\n",
       "      <td>Generalized curve for commercial buildings, wh...</td>\n",
       "    </tr>\n",
       "    <tr>\n",
       "      <th>F21.5b (upper boundary)</th>\n",
       "      <td>Education &amp; Health</td>\n",
       "      <td>Generalized curve for commercial buildings, wh...</td>\n",
       "    </tr>\n",
       "    <tr>\n",
       "      <th>F21.6</th>\n",
       "      <td>Education &amp; Health</td>\n",
       "      <td>Generalized curve for commercial buildings, wh...</td>\n",
       "    </tr>\n",
       "    <tr>\n",
       "      <th>F21.7</th>\n",
       "      <td>School buildings</td>\n",
       "      <td>Generalized curve for companies (incl. governm...</td>\n",
       "    </tr>\n",
       "    <tr>\n",
       "      <th>F21.8</th>\n",
       "      <td>Health &amp; education</td>\n",
       "      <td>Generalized curve for offices in diked areas</td>\n",
       "    </tr>\n",
       "    <tr>\n",
       "      <th>F21.9</th>\n",
       "      <td>Education &amp; Health</td>\n",
       "      <td>Generalized function for industry</td>\n",
       "    </tr>\n",
       "    <tr>\n",
       "      <th>F21.10</th>\n",
       "      <td>School buildings</td>\n",
       "      <td>Generalized curve for buildings</td>\n",
       "    </tr>\n",
       "    <tr>\n",
       "      <th>F21.11</th>\n",
       "      <td>School buildings</td>\n",
       "      <td>NaN</td>\n",
       "    </tr>\n",
       "    <tr>\n",
       "      <th>F21.12</th>\n",
       "      <td>Health buildings</td>\n",
       "      <td>NaN</td>\n",
       "    </tr>\n",
       "    <tr>\n",
       "      <th>F21.13</th>\n",
       "      <td>Education buildings</td>\n",
       "      <td>NaN</td>\n",
       "    </tr>\n",
       "  </tbody>\n",
       "</table>\n",
       "</div>"
      ],
      "text/plain": [
       "                                                               0  \\\n",
       "ID number                             Infrastructure description   \n",
       "F1.1                                                       plant   \n",
       "F1.2                                                       plant   \n",
       "F1.3                                                       plant   \n",
       "F1.4                                                       plant   \n",
       "F1.5                                                       plant   \n",
       "F1.6                                                       plant   \n",
       "F1.7                                                       plant   \n",
       "F2.1                                                  substation   \n",
       "F2.2                                                  substation   \n",
       "F2.3                                                  substation   \n",
       "F5.1                                                       cable   \n",
       "F6.1                                          Power (minor) line   \n",
       "F6.2                                                       cable   \n",
       "F6.3                                               Energy system   \n",
       "F7.1                                                       Roads   \n",
       "F7.2                                                       Roads   \n",
       "F7.2a (lower boundary)                                     Roads   \n",
       "F7.2b (upper boundary)                                     Roads   \n",
       "F7.3                                                       Roads   \n",
       "F7.4                                                       Roads   \n",
       "F7.5                                                       Roads   \n",
       "F7.6                                                       Roads   \n",
       "F7.7                                                       Roads   \n",
       "F7.8                                                       Roads   \n",
       "F7.9                                                       Roads   \n",
       "F7.10                                                      Roads   \n",
       "F7.11                                                      Roads   \n",
       "F7.12                                                      Roads   \n",
       "F7.13                                                      Roads   \n",
       "F8.1                                                    Railways   \n",
       "F8.2                                                    Railways   \n",
       "F8.3                                                    Railways   \n",
       "F8.4                                                    Railways   \n",
       "F8.5                                                    Railways   \n",
       "F8.6                                                    Railways   \n",
       "F8.6a (lower boundary)                                  Railways   \n",
       "F8.6b (upper boundary)                                  Railways   \n",
       "F8.7                                                    Railways   \n",
       "F8.8                                                    Railways   \n",
       "F9.1                                                    Airports   \n",
       "F9.2                                                    Airports   \n",
       "F9.3                                                    Airports   \n",
       "F10.1                                          Telecommunication   \n",
       "F12.1                                          Telecommunication   \n",
       "F13.1                                        water storage tanks   \n",
       "F13.2                                        water storage tanks   \n",
       "F13.3                                        water storage tanks   \n",
       "F13.4                                        water storage tanks   \n",
       "F13.5                                        water storage tanks   \n",
       "F14.1                                     Water treatment plants   \n",
       "F14.2                                     Water treatment plants   \n",
       "F14.3                                     Water treatment plants   \n",
       "F14.4                                     Water treatment plants   \n",
       "F14.5                                     Water treatment plants   \n",
       "F14.6                                     Water treatment plants   \n",
       "F14.7                                     Water treatment plants   \n",
       "F14.8                                     Water treatment plants   \n",
       "F14.9                                     Water treatment plants   \n",
       "F14.10                                    Water treatment plants   \n",
       "F15.1                                                 Water well   \n",
       "F16.1                    Transmission and distribution pipelines   \n",
       "F16.2                    Transmission and distribution pipelines   \n",
       "F16.3                    Transmission and distribution pipelines   \n",
       "F17.1                                                     Others   \n",
       "F17.2                                                     Others   \n",
       "F17.3                                                     Others   \n",
       "F17.4                                                     Others   \n",
       "F17.5                                                     Others   \n",
       "F17.6                                                     Others   \n",
       "F18.1                                 Wastewater treatment plant   \n",
       "F18.2                                 Wastewater treatment plant   \n",
       "F18.3                                 Wastewater treatment plant   \n",
       "F18.4                                 Wastewater treatment plant   \n",
       "F18.5                                 Wastewater treatment plant   \n",
       "F18.6                                 Wastewater treatment plant   \n",
       "F19.1                    Transmission and distribution pipelines   \n",
       "F19.2                    Transmission and distribution pipelines   \n",
       "F19.3                    Transmission and distribution pipelines   \n",
       "F20.1                                                     Others   \n",
       "F20.2                                                     Others   \n",
       "F20.3                                                     Others   \n",
       "F20.4                                                     Others   \n",
       "F20.5                                                     Others   \n",
       "F21.1                                         Education & Health   \n",
       "F21.2                                         Education & Health   \n",
       "F21.3                                         Education & Health   \n",
       "F21.3a (lower boundary)                       Education & Health   \n",
       "F21.3b (upper boundary)                       Education & Health   \n",
       "F21.4                                         Education & Health   \n",
       "F21.4a (lower boundary)                       Education & Health   \n",
       "F21.4b (upper boundary)                       Education & Health   \n",
       "F21.5                                         Education & Health   \n",
       "F21.5a (lower boundary)                       Education & Health   \n",
       "F21.5b (upper boundary)                       Education & Health   \n",
       "F21.6                                         Education & Health   \n",
       "F21.7                                           School buildings   \n",
       "F21.8                                         Health & education   \n",
       "F21.9                                         Education & Health   \n",
       "F21.10                                          School buildings   \n",
       "F21.11                                          School buildings   \n",
       "F21.12                                          Health buildings   \n",
       "F21.13                                       Education buildings   \n",
       "\n",
       "                                                                         1  \n",
       "ID number                                       Additional characteristics  \n",
       "F1.1                                  Small power plants, capacity <100 MW  \n",
       "F1.2                              Medium power plants, capacity 100-500 MW  \n",
       "F1.3                                           Large power plants, >500 MW  \n",
       "F1.4                                                         thermal plant  \n",
       "F1.5                                                          wind turbine  \n",
       "F1.6                                                          wind turbine  \n",
       "F1.7                                                          wind turbine  \n",
       "F2.1                                                Low Voltage Substation  \n",
       "F2.2                                             Medium Voltage Substation  \n",
       "F2.3                                               High Voltage Substation  \n",
       "F5.1                                Distribution circuits buried crossings  \n",
       "F6.1                                 Distribution circuits (non-crossings)  \n",
       "F6.2                              Distribution circuits elevated crossings  \n",
       "F6.3                     Generalized curve for energy assets in diked a...  \n",
       "F7.1                                                                   NaN  \n",
       "F7.2                                                                   NaN  \n",
       "F7.2a (lower boundary)                                                 NaN  \n",
       "F7.2b (upper boundary)                                                 NaN  \n",
       "F7.3                                                                   NaN  \n",
       "F7.4                     Motorways and trunk roads - sophisticated acce...  \n",
       "F7.5                     Motorways and trunk roads - sophisticated acce...  \n",
       "F7.6                     Motorways and trunk roads - without sophistica...  \n",
       "F7.7                     Motorways and trunk roads - without sophistica...  \n",
       "F7.8                                                Other roads - low flow  \n",
       "F7.9                                               Other roads - high flow  \n",
       "F7.10                                                                  NaN  \n",
       "F7.11                                                                  NaN  \n",
       "F7.12                                                                  NaN  \n",
       "F7.13                                                                  NaN  \n",
       "F8.1                                                Double-tracked railway  \n",
       "F8.2                                                Double-tracked railway  \n",
       "F8.3                                                                   NaN  \n",
       "F8.4                                                                   NaN  \n",
       "F8.5                                                                   NaN  \n",
       "F8.6                                                                   NaN  \n",
       "F8.6a (lower boundary)                                                 NaN  \n",
       "F8.6b (upper boundary)                                                 NaN  \n",
       "F8.7                                                                   NaN  \n",
       "F8.8                                                       Railway station  \n",
       "F9.1                                                                   NaN  \n",
       "F9.2                                                                   NaN  \n",
       "F9.3                                                                   NaN  \n",
       "F10.1                                                  Communication tower  \n",
       "F12.1                                                 Communication system  \n",
       "F13.1                                Water storage tanks at grade concrete  \n",
       "F13.2                                   Water storage tanks at grade steel  \n",
       "F13.3                                    Water storage tanks at grade wood  \n",
       "F13.4                                         Water storage tanks elevated  \n",
       "F13.5                                      Water storage tanks below grade  \n",
       "F14.1                    Small water treatment plants open/gravity - av...  \n",
       "F14.2                    Medium water treatment plants open/gravity - a...  \n",
       "F14.3                    Large water treatment plants open/gravity - av...  \n",
       "F14.4                    small/medium/large water treatment plants open...  \n",
       "F14.5                    small/medium/large water treatment plants open...  \n",
       "F14.6                         Small water treatment plants closed/pressure  \n",
       "F14.7                        Medium water treatment plants closed/pressure  \n",
       "F14.8                         Large water treatment plants closed/pressure  \n",
       "F14.9                    small/medium/large water treatment plants clos...  \n",
       "F14.10                   small/medium/large water treatment plants clos...  \n",
       "F15.1                                                                Wells  \n",
       "F16.1                               Exposed transmission pipeline crossing  \n",
       "F16.2                                Buried transmission pipeline crossing  \n",
       "F16.3                                             Pipelines (non-crossing)  \n",
       "F17.1                                   Pumping plants (small) below grade  \n",
       "F17.2                            Pumping plants (medium/large) below grade  \n",
       "F17.3                                   Pumping plants (small) above grade  \n",
       "F17.4                            Pumping plants (medium/large) above grade  \n",
       "F17.5                                                       Pumping plants  \n",
       "F17.6                                          Control vaults and stations  \n",
       "F18.1                                    Small wastewater treatment plants  \n",
       "F18.2                                   Medium wastewater treatment plants  \n",
       "F18.3                                    Large wastewater treatment plants  \n",
       "F18.4                    Small, medium, large Wastewater treatment plan...  \n",
       "F18.5                    Small, medium, large Wastewater treatment plan...  \n",
       "F18.6                                                                  NaN  \n",
       "F19.1                    Sewers & Interceptors: Exposed collector river...  \n",
       "F19.2                    Sewers & Interceptors: Buried collector river ...  \n",
       "F19.3                         Sewers & Interceptors: Pipes (non-crossings)  \n",
       "F20.1                                  Control vaults and control stations  \n",
       "F20.2                    Lift stations: lift station (small), wet well/...  \n",
       "F20.3                    Lift stations: lift station (medium large), we...  \n",
       "F20.4                     Lift stations: lift station (small), submersible  \n",
       "F20.5                    Lift stations: lift station (medium large), su...  \n",
       "F21.1                    Generalized curve for commercial buildings, wh...  \n",
       "F21.2                    Generalized curve for commercial buildings, wh...  \n",
       "F21.3                    Generalized curve for commercial buildings, wh...  \n",
       "F21.3a (lower boundary)  Generalized curve for commercial buildings, wh...  \n",
       "F21.3b (upper boundary)  Generalized curve for commercial buildings, wh...  \n",
       "F21.4                    Generalized curve for commercial buildings, wh...  \n",
       "F21.4a (lower boundary)  Generalized curve for commercial buildings, wh...  \n",
       "F21.4b (upper boundary)  Generalized curve for commercial buildings, wh...  \n",
       "F21.5                    Generalized curve for commercial buildings, wh...  \n",
       "F21.5a (lower boundary)  Generalized curve for commercial buildings, wh...  \n",
       "F21.5b (upper boundary)  Generalized curve for commercial buildings, wh...  \n",
       "F21.6                    Generalized curve for commercial buildings, wh...  \n",
       "F21.7                    Generalized curve for companies (incl. governm...  \n",
       "F21.8                         Generalized curve for offices in diked areas  \n",
       "F21.9                                    Generalized function for industry  \n",
       "F21.10                                     Generalized curve for buildings  \n",
       "F21.11                                                                 NaN  \n",
       "F21.12                                                                 NaN  \n",
       "F21.13                                                                 NaN  "
      ]
     },
     "metadata": {},
     "output_type": "display_data"
    }
   ],
   "source": [
    "with pd.option_context('display.max_rows', None):\n",
    "  display(vul_df.iloc[:2,:].T)"
   ]
  },
  {
   "cell_type": "markdown",
   "id": "393085ef-cdab-4e9f-b1d3-6a2c478a5e1b",
   "metadata": {},
   "source": [
    "And select a curve to use for each different subtype we are analysing."
   ]
  },
  {
   "cell_type": "code",
   "execution_count": 16,
   "id": "6a288a2e-ae21-4a04-8917-ff73bd66db50",
   "metadata": {},
   "outputs": [
    {
     "data": {
      "text/plain": [
       "['motorway', 'trunk', 'primary', 'secondary', 'tertiary', 'other']"
      ]
     },
     "execution_count": 16,
     "metadata": {},
     "output_type": "execute_result"
    }
   ],
   "source": [
    "sub_types"
   ]
  },
  {
   "cell_type": "code",
   "execution_count": 17,
   "id": "f857b2ac-1714-4127-a834-4091af1e82c1",
   "metadata": {},
   "outputs": [],
   "source": [
    "selected_curves = dict(zip(sub_types,['F7.5','F7.5','F7.5','F7.7','F7.7','F7.9']))"
   ]
  },
  {
   "cell_type": "markdown",
   "id": "a59ff1d1-e0c4-4af3-90d3-5872f59a9921",
   "metadata": {},
   "source": [
    "The next step is to extract the curves from the database, and prepare them for proper usage into our analysis.\n",
    "\n",
    "We start by selecting the curve IDs from the larger pandas DataFrame **vul_df**:"
   ]
  },
  {
   "cell_type": "code",
   "execution_count": 18,
   "id": "e2c78e28-735f-42ee-a261-878a8fd6b382",
   "metadata": {
    "scrolled": true
   },
   "outputs": [],
   "source": [
    "damage_curves = vul_df[['ID number']+list(selected_curves.values())]\n",
    "damage_curves = damage_curves.iloc[4:125,:]"
   ]
  },
  {
   "cell_type": "markdown",
   "id": "548d8652-58c3-4647-b842-6f3db392c5ac",
   "metadata": {},
   "source": [
    "Then for convenience, we rename the index name to the hazard intensity we are considering. "
   ]
  },
  {
   "cell_type": "code",
   "execution_count": 19,
   "id": "b99c5817-bec8-47c8-9a15-f86eda1e2063",
   "metadata": {},
   "outputs": [],
   "source": [
    "damage_curves.set_index('ID number',inplace=True)\n",
    "damage_curves.index = damage_curves.index.rename('Depth')  "
   ]
  },
  {
   "cell_type": "markdown",
   "id": "ed71cc4a-2529-4fca-a487-adb8bbf78f7f",
   "metadata": {},
   "source": [
    "And make sure that our damage values are in floating numbers. "
   ]
  },
  {
   "cell_type": "code",
   "execution_count": 20,
   "id": "34a6905d-023d-4246-a069-db924d615905",
   "metadata": {},
   "outputs": [],
   "source": [
    "damage_curves = damage_curves.astype(np.float32)"
   ]
  },
  {
   "cell_type": "markdown",
   "id": "a83374c0-1a01-4987-91cc-8b8e99881710",
   "metadata": {},
   "source": [
    "And ensure that the columns of the curves link back to the different asset types we are considering:"
   ]
  },
  {
   "cell_type": "code",
   "execution_count": 21,
   "id": "34fc226f-824c-4a4a-8521-f32404518c38",
   "metadata": {},
   "outputs": [],
   "source": [
    "damage_curves.columns = sub_types"
   ]
  },
  {
   "cell_type": "markdown",
   "id": "ee720fc5-a137-4818-bef5-5e771f74c879",
   "metadata": {},
   "source": [
    "There could be some **NaN** values at the tail of some of the curves. To make sure the code works, we fill up the **NaN** values with the last value of each of the curves. "
   ]
  },
  {
   "cell_type": "code",
   "execution_count": 22,
   "id": "dd2c8198-7c47-4ecb-8936-92f1146ca497",
   "metadata": {},
   "outputs": [],
   "source": [
    "damage_curves = damage_curves.fillna(method='ffill')"
   ]
  },
  {
   "cell_type": "markdown",
   "id": "81546f7f-f247-46ae-a8ab-4cf84f2016e7",
   "metadata": {},
   "source": [
    "Finally, make sure we set the index of the damage curves (the inundation depth) in the same metric as the hazard data (e.g. meters or centimeters)."
   ]
  },
  {
   "cell_type": "code",
   "execution_count": 23,
   "id": "c9614752-a886-4dbf-afbb-e67a790fb7ba",
   "metadata": {},
   "outputs": [],
   "source": [
    "damage_curves.index = damage_curves.index*100"
   ]
  },
  {
   "cell_type": "markdown",
   "id": "4b8f6aed-6096-4701-93b3-e2f861cd733d",
   "metadata": {},
   "source": [
    "### Ancilliary data for processing"
   ]
  },
  {
   "cell_type": "code",
   "execution_count": 24,
   "id": "ef02d9a2-1790-4632-b66f-3e7e57eb9d51",
   "metadata": {},
   "outputs": [],
   "source": [
    "world = gpd.read_file(\"https://github.com/nvkelso/natural-earth-vector/raw/master/10m_cultural/ne_10m_admin_0_countries.shp\")\n",
    "world_plot = world.to_crs(3857)"
   ]
  },
  {
   "cell_type": "code",
   "execution_count": 25,
   "id": "df306b07-906b-4601-b0d8-4c0158d2aca8",
   "metadata": {},
   "outputs": [],
   "source": [
    "admin1 = gpd.read_file(\"https://github.com/nvkelso/natural-earth-vector/raw/master/10m_cultural/ne_10m_admin_1_states_provinces.shp\")"
   ]
  },
  {
   "cell_type": "markdown",
   "id": "e288af4e-c397-46d5-a6cd-606a01ea4ed1",
   "metadata": {},
   "source": [
    "## 3. Preparing the Data"
   ]
  },
  {
   "cell_type": "markdown",
   "id": "22f5b94a-a71a-4665-b5ec-50b0569ec1d9",
   "metadata": {},
   "source": [
    "Change the column name of the object data, to ensure we can use the same functions across different infrastructure assets"
   ]
  },
  {
   "cell_type": "code",
   "execution_count": 26,
   "id": "e8403548-8437-4f6c-89f4-a247cba9119b",
   "metadata": {},
   "outputs": [],
   "source": [
    "features = features.rename(columns = {'highway' : 'object_type'})"
   ]
  },
  {
   "cell_type": "markdown",
   "id": "afc45662-dce8-4f15-a673-48a92bbd247b",
   "metadata": {},
   "source": [
    "Clip the hazard data to the country of interest."
   ]
  },
  {
   "cell_type": "code",
   "execution_count": 27,
   "id": "b8c53736-48af-4dd7-8443-95b1039d7653",
   "metadata": {},
   "outputs": [],
   "source": [
    "country_bounds = world.loc[world.ADM0_ISO == country_iso3].bounds\n",
    "country_geom = world.loc[world.ADM0_ISO == country_iso3].geometry"
   ]
  },
  {
   "cell_type": "code",
   "execution_count": 28,
   "id": "f9cf5c27-1bfc-4b27-8b2d-790a3a478a79",
   "metadata": {},
   "outputs": [],
   "source": [
    "hazard_country = hazard_map.rio.clip_box(minx=country_bounds.minx.values[0],\n",
    "                     miny=country_bounds.miny.values[0],\n",
    "                     maxx=country_bounds.maxx.values[0],\n",
    "                     maxy=country_bounds.maxy.values[0]\n",
    "                    )"
   ]
  },
  {
   "cell_type": "code",
   "execution_count": 29,
   "id": "5eddfa31-4ae8-4357-9fcf-92e58aa91637",
   "metadata": {},
   "outputs": [],
   "source": [
    "hazard_country = hazard_country.rio.set_crs(4326)"
   ]
  },
  {
   "cell_type": "markdown",
   "id": "41222bef-ad3f-4dfc-9c8c-47d2e7bd6fc3",
   "metadata": {},
   "source": [
    "## 4. Performing an Exposure Assessment\n",
    "We will use the DamageScanner approach. This is a fully optimised damage calculation method, that can capture a wide range of inputs to perform a damage assessment. It also allows to only assess the potential exposure."
   ]
  },
  {
   "cell_type": "code",
   "execution_count": 30,
   "id": "b82a772c-2cbd-44b7-adbf-0ceeeeb0921e",
   "metadata": {},
   "outputs": [
    {
     "name": "stderr",
     "output_type": "stream",
     "text": [
      "Overlay raster with vector: 100%|██████████████████████████████████████████████████████| 44/44 [04:54<00:00,  6.70s/it]\n",
      "convert coverage to meters: 100%|████████████████████████████████████████████████| 3519/3519 [00:01<00:00, 2016.33it/s]\n"
     ]
    }
   ],
   "source": [
    "exposure_results = DamageScanner(hazard_country, features, damage_curves, maxdam).exposure()"
   ]
  },
  {
   "cell_type": "markdown",
   "id": "bbc0a3b2-67db-4384-8e9e-d3b3d74a53a8",
   "metadata": {},
   "source": [
    "## 5. Performing a Vulnerability Assessment\n",
    "In some cases, the cost information is unavailable, or one wants to explore only the exposure and vulnerability. To do so, we simply run the DamageScanner, by setting the maximum costs to 1."
   ]
  },
  {
   "cell_type": "code",
   "execution_count": 31,
   "id": "73454d4c-6408-4fff-9706-d20aa21cee2c",
   "metadata": {},
   "outputs": [],
   "source": [
    "vulnerability_maxdam = maxdam.copy()\n",
    "vulnerability_maxdam.loc[:,'damage'] = maxdam['damage']/maxdam['damage']"
   ]
  },
  {
   "cell_type": "code",
   "execution_count": 32,
   "id": "4305f34e-1901-4a37-9e77-a317ef8adab5",
   "metadata": {},
   "outputs": [
    {
     "name": "stderr",
     "output_type": "stream",
     "text": [
      "Overlay raster with vector: 100%|██████████████████████████████████████████████████████| 44/44 [04:54<00:00,  6.70s/it]\n",
      "convert coverage to meters: 100%|████████████████████████████████████████████████| 3519/3519 [00:01<00:00, 2153.45it/s]\n",
      "Calculating damage: 100%|███████████████████████████████████████████████████████| 3519/3519 [00:00<00:00, 15055.17it/s]"
     ]
    },
    {
     "name": "stdout",
     "output_type": "stream",
     "text": [
      "CPU times: total: 4min 12s\n",
      "Wall time: 5min 2s\n"
     ]
    },
    {
     "name": "stderr",
     "output_type": "stream",
     "text": [
      "\n"
     ]
    }
   ],
   "source": [
    "%%time\n",
    "vulnerability_results = DamageScanner(hazard_country, features, damage_curves, vulnerability_maxdam).calculate()"
   ]
  },
  {
   "cell_type": "markdown",
   "id": "5ce0650d-68a9-427a-9602-e318989dec00",
   "metadata": {},
   "source": [
    "## 6. Performing the Damage Assessment\n",
    "In case we do have cost values, we can fully assess the damages."
   ]
  },
  {
   "cell_type": "code",
   "execution_count": 33,
   "id": "2a959c8c-f962-46a1-915a-e5d44464d340",
   "metadata": {},
   "outputs": [
    {
     "name": "stderr",
     "output_type": "stream",
     "text": [
      "Overlay raster with vector: 100%|██████████████████████████████████████████████████████| 44/44 [04:45<00:00,  6.48s/it]\n",
      "convert coverage to meters: 100%|████████████████████████████████████████████████| 3519/3519 [00:01<00:00, 2215.28it/s]\n",
      "Calculating damage: 100%|███████████████████████████████████████████████████████| 3519/3519 [00:00<00:00, 17329.62it/s]"
     ]
    },
    {
     "name": "stdout",
     "output_type": "stream",
     "text": [
      "CPU times: total: 3min 46s\n",
      "Wall time: 4min 51s\n"
     ]
    },
    {
     "name": "stderr",
     "output_type": "stream",
     "text": [
      "\n"
     ]
    }
   ],
   "source": [
    "%%time\n",
    "damage_results = DamageScanner(hazard_country, features, damage_curves, maxdam).calculate()"
   ]
  },
  {
   "cell_type": "markdown",
   "id": "da2d88c1-e5e5-4bc3-a0fb-1e4e99c4789d",
   "metadata": {},
   "source": [
    "## 7. Save the Results\n",
    "For further analysis, we can save the results in their full detail, or save summary estimates per subnational unit. We show how to do this using the damage results."
   ]
  },
  {
   "cell_type": "code",
   "execution_count": 34,
   "id": "95461586-56ff-48c7-b959-eb3b364500fe",
   "metadata": {},
   "outputs": [],
   "source": [
    "hazard = 'river_flood'\n",
    "return_period = '1_100'\n",
    "damage_results.to_csv(f'Road_Damage_{country_full_name}_{hazard}_{return_period}.csv')"
   ]
  },
  {
   "cell_type": "code",
   "execution_count": 35,
   "id": "0ba6148f-4e6e-486c-821b-0635a94d4955",
   "metadata": {},
   "outputs": [],
   "source": [
    "admin1_country = admin1.loc[admin1.sov_a3 == country_iso3]"
   ]
  },
  {
   "cell_type": "code",
   "execution_count": 36,
   "id": "da0a4437-fb9e-46ea-8ec2-218f81fee90b",
   "metadata": {},
   "outputs": [],
   "source": [
    "damage_results = damage_results.sjoin(admin1_country[['adm1_code','name','geometry']])"
   ]
  },
  {
   "cell_type": "code",
   "execution_count": 37,
   "id": "c934bcb0-1bd5-4b6b-8d74-3de9e49ce16f",
   "metadata": {},
   "outputs": [],
   "source": [
    "admin1_damage = admin1_country.merge(damage_results[['name_right','damage']].groupby('name_right').sum(),\n",
    "                                     left_on='name',\n",
    "                                     right_on='name_right',\n",
    "                                     how='outer')[['name','adm1_code','geometry','damage']]"
   ]
  },
  {
   "cell_type": "code",
   "execution_count": 38,
   "id": "ed8f1db1-ba5e-4ed7-ba8b-6f6ad089b15c",
   "metadata": {},
   "outputs": [],
   "source": [
    "admin1_damage.to_csv(f'Admin1_Road_Damage_{country_full_name}_{hazard}_{return_period}.csv')"
   ]
  },
  {
   "cell_type": "markdown",
   "id": "8d64f90d-bf96-47af-bcc2-c360a488cb65",
   "metadata": {},
   "source": [
    "## 8. Visualizing the Results\n",
    "The results of the damage assessment can be visualized using charts and maps. This will provide a clear representation of which infrastructure is most affected by the hazard and the expected damage levels."
   ]
  },
  {
   "cell_type": "markdown",
   "id": "bff84da3-4f11-454a-b116-f82cc9de33a0",
   "metadata": {},
   "source": [
    "Find the locations of the twenty most damaged roads."
   ]
  },
  {
   "cell_type": "code",
   "execution_count": 39,
   "id": "eadf2cf4-3616-420a-abd7-60f0b70cb474",
   "metadata": {},
   "outputs": [
    {
     "data": {
      "image/png": "[encoded data removed]",
      "text/plain": [
       "<Figure size 1000x500 with 1 Axes>"
      ]
     },
     "metadata": {},
     "output_type": "display_data"
    }
   ],
   "source": [
    "fig, ax = plt.subplots(1,1,figsize=(10, 5))\n",
    "\n",
    "damage_results.to_crs(3857).sort_values('damage',ascending=False).head(20).plot(ax=ax,color='Red')\n",
    "features.to_crs(3857).plot(ax=ax,facecolor=\"none\",edgecolor='grey',alpha=0.5,zorder=2,lw=0.1)\n",
    "world_plot.loc[world.SOV_A3 == country_iso3].plot(ax=ax,facecolor=\"none\",edgecolor='black')\n",
    "cx.add_basemap(ax, source=cx.providers.CartoDB.Positron,alpha=0.5)\n",
    "ax.set_axis_off()"
   ]
  },
  {
   "cell_type": "markdown",
   "id": "e22ad4ae-c7b4-480e-8286-3328bb182ee7",
   "metadata": {},
   "source": [
    "And create a distribution of the damages."
   ]
  },
  {
   "cell_type": "code",
   "execution_count": 40,
   "id": "8c60f11f-ab90-4342-a17e-cbc082cdbd74",
   "metadata": {},
   "outputs": [
    {
     "data": {
      "text/plain": [
       "<Axes: xlabel='damage', ylabel='Count'>"
      ]
     },
     "execution_count": 40,
     "metadata": {},
     "output_type": "execute_result"
    },
    {
     "data": {
      "image/png": "[encoded data removed]",
      "text/plain": [
       "<Figure size 700x300 with 1 Axes>"
      ]
     },
     "metadata": {},
     "output_type": "display_data"
    }
   ],
   "source": [
    "fig, ax = plt.subplots(1,1,figsize=(7, 3))\n",
    "\n",
    "sns.histplot(data=damage_results,x='damage',ax=ax)"
   ]
  },
  {
   "cell_type": "markdown",
   "id": "e3a66d7e-6cb8-4cf1-aa79-90df85ae6991",
   "metadata": {},
   "source": [
    "Plot all damages"
   ]
  },
  {
   "cell_type": "code",
   "execution_count": 41,
   "id": "80ac9402-f46c-4289-bb54-553f6a27edaf",
   "metadata": {},
   "outputs": [
    {
     "data": {
      "image/png": "[encoded data removed]",
      "text/plain": [
       "<Figure size 1000x500 with 2 Axes>"
      ]
     },
     "metadata": {},
     "output_type": "display_data"
    }
   ],
   "source": [
    "fig, ax = plt.subplots(1,1,figsize=(10, 5))\n",
    "\n",
    "damage_results.to_crs(3857).plot(ax=ax,column='damage',cmap='Reds',legend=True,\n",
    "                   legend_kwds={'shrink': 0.5,'label':'Absolute Damage'},zorder=5)\n",
    "features.to_crs(3857).plot(ax=ax,facecolor=\"none\",edgecolor='grey',alpha=0.5,zorder=2,lw=0.1)\n",
    "world_plot.loc[world.SOV_A3 == country_iso3].plot(ax=ax,facecolor=\"none\",edgecolor='black')\n",
    "cx.add_basemap(ax, source=cx.providers.CartoDB.Positron,alpha=0.5)\n",
    "ax.set_axis_off()"
   ]
  },
  {
   "cell_type": "code",
   "execution_count": 42,
   "id": "eea3ddc1-391e-4e13-b753-3d7f0a6b62e9",
   "metadata": {},
   "outputs": [
    {
     "data": {
      "application/vnd.jupyter.widget-view+json": {
       "model_id": "af4b421a092c46059d02e7d2fe7f632b",
       "version_major": 2,
       "version_minor": 1
      },
      "text/plain": [
       "Map(basemap_style=<CartoBasemap.DarkMatter: 'https://basemaps.cartocdn.com/gl/dark-matter-gl-style/style.json'…"
      ]
     },
     "execution_count": 42,
     "metadata": {},
     "output_type": "execute_result"
    }
   ],
   "source": [
    "viz(damage_results)"
   ]
  },
  {
   "cell_type": "markdown",
   "id": "0aa3775c-0dec-468c-851a-7c4a90373cb1",
   "metadata": {},
   "source": [
    "## 9. Performing the Risk Assessment\n",
    "To do so, we need to select the return periods we want to include, and create a dictioniary as input. We will create this below."
   ]
  },
  {
   "cell_type": "code",
   "execution_count": 43,
   "id": "440414cd-0272-494a-938c-93a9bd782603",
   "metadata": {},
   "outputs": [],
   "source": [
    "return_periods = [2,5,10,50,100,200,500,1000]\n",
    "\n",
    "hazard_dict = {}\n",
    "for return_period in return_periods:\n",
    "    hazard_map = xr.open_dataset(f\"https://hazards-data.unepgrid.ch/global_pc_h{return_period}glob.tif\", engine=\"rasterio\")\n",
    "\n",
    "    hazard_dict[return_period] = hazard_map.rio.clip_box(minx=country_bounds.minx.values[0],\n",
    "                     miny=country_bounds.miny.values[0],\n",
    "                     maxx=country_bounds.maxx.values[0],\n",
    "                     maxy=country_bounds.maxy.values[0]\n",
    "                    )\n",
    "    "
   ]
  },
  {
   "cell_type": "code",
   "execution_count": 44,
   "id": "3e16e6e2-ec0b-4218-b550-43ed39dd2a65",
   "metadata": {
    "scrolled": true
   },
   "outputs": [
    {
     "name": "stderr",
     "output_type": "stream",
     "text": [
      "Risk Calculation: 100%|█████████████████████████████████████████████████████████████████| 8/8 [37:36<00:00, 282.10s/it]\n"
     ]
    }
   ],
   "source": [
    "risk_results = DamageScanner(hazard_country, features, damage_curves, maxdam).risk(hazard_dict)"
   ]
  },
  {
   "cell_type": "markdown",
   "id": "202ea65b-4167-4cc4-819f-e503fd93cc13",
   "metadata": {},
   "source": [
    "## 10. Visualize the Risk Assessment\n",
    "To understand the relative shares of each component of the system, we create a pie chart with the percentages of risk to each component."
   ]
  },
  {
   "cell_type": "code",
   "execution_count": 45,
   "id": "c86510fa-005b-41f9-a098-fa99dbf59ca7",
   "metadata": {},
   "outputs": [],
   "source": [
    "risk_per_object = risk_results[['object_type','risk']].groupby('object_type').sum()"
   ]
  },
  {
   "cell_type": "markdown",
   "id": "31d1c3b0-8864-40ad-8418-4ef8b4037f31",
   "metadata": {},
   "source": [
    "Here we set the colors."
   ]
  },
  {
   "cell_type": "code",
   "execution_count": 46,
   "id": "0382bc52-ada6-4154-a356-0f16a3033bc5",
   "metadata": {},
   "outputs": [],
   "source": [
    "colors = ['#8c510a','#d8b365','#f6e8c3','#c7eae5','#5ab4ac','#01665e'][::-1] "
   ]
  },
  {
   "cell_type": "markdown",
   "id": "58933009-1c34-4e33-bd8c-ce6f3890d20c",
   "metadata": {},
   "source": [
    "And create the figure"
   ]
  },
  {
   "cell_type": "code",
   "execution_count": 47,
   "id": "281e293e-2096-4937-9bf4-5a6300d57f68",
   "metadata": {},
   "outputs": [
    {
     "data": {
      "text/plain": [
       "Text(0.5, 1.0, 'River Flood Risk for Togo')"
      ]
     },
     "execution_count": 47,
     "metadata": {},
     "output_type": "execute_result"
    },
    {
     "data": {
      "image/png": "[encoded data removed]",
      "text/plain": [
       "<Figure size 640x480 with 1 Axes>"
      ]
     },
     "metadata": {},
     "output_type": "display_data"
    }
   ],
   "source": [
    "labels = [x.capitalize() for x in list(risk_per_object.index)]\n",
    "sizes = risk_per_object.risk.values\n",
    "pie = plt.pie(sizes,autopct='%1.1f%%', labeldistance=1.15, wedgeprops = { 'linewidth' : 1, 'edgecolor' : 'white' }, colors=colors);\n",
    "plt.axis('equal')\n",
    "plt.legend(loc = 'right', labels=labels,bbox_to_anchor=(1.15, 0.5),)\n",
    "plt.title(f'River Flood Risk for {country_full_name}',fontweight='bold')"
   ]
  }
 ],
 "metadata": {
  "kernelspec": {
   "display_name": "Python 3 (ipykernel)",
   "language": "python",
   "name": "python3"
  },
  "language_info": {
   "codemirror_mode": {
    "name": "ipython",
    "version": 3
   },
   "file_extension": ".py",
   "mimetype": "text/x-python",
   "name": "python",
   "nbconvert_exporter": "python",
   "pygments_lexer": "ipython3",
   "version": "3.12.8"
  }
 },
 "nbformat": 4,
 "nbformat_minor": 5
}
