{
 "cells": [
  {
   "cell_type": "markdown",
   "id": "f6b341b9-4649-46ac-9f6c-6d8bdd126170",
   "metadata": {},
   "source": [
    "# Power Infrastructure\n",
    "\n",
    "In this notebook, we will perform a **damage and risk assessment** for power infrastructure. The assessment is based on combining hazard data (e.g., flood depths) with vulnerability curves to estimate the potential damage to infrastructure.\n",
    "\n",
    "We will follow the steps outlined below to conduct the assessment:\n",
    "\n",
    "1. **Loading the necessary packages:**  \n",
    "   We will import the Python libraries required for data handling, analysis, and visualization.\n",
    "\n",
    "2. **Loading the data:**  \n",
    "   The infrastructure data (e.g., substations) and hazard data (e.g., flood depths) will be loaded into the notebook.\n",
    "\n",
    "3. **Preparing the data:**  \n",
    "   The infrastructure and hazard data will be processed and data gaps can be filled, if required.\n",
    "\n",
    "4. **Performing the damage assessment:**  \n",
    "   We will apply vulnerability curves to estimate the potential damage based on the intensity of the hazard.\n",
    "\n",
    "5. **Visualizing the results:**  \n",
    "   Finally, we will visualize the estimated damage using graphs and maps to illustrate the impact on healthcare infrastructure."
   ]
  },
  {
   "cell_type": "markdown",
   "id": "44a1efb4-69d5-4558-907f-d2e49ad7f9e8",
   "metadata": {},
   "source": [
    "## 1. Loading the Necessary Packages\n",
    "To perform the assessment, we are going to make use of several [python packages](https://docs.python.org/3/tutorial/modules.html#packages).\n",
    "\n",
    "In case you run this in Google Colab, you will have to install the packages below **(remove the hashtag in front of them)**."
   ]
  },
  {
   "cell_type": "code",
   "execution_count": 1,
   "id": "72c6ae5d-1f1c-4fbf-ba7f-8c63026f34dc",
   "metadata": {},
   "outputs": [
    {
     "name": "stdout",
     "output_type": "stream",
     "text": [
      "Collecting damagescanner==0.9b13\n",
      "  Downloading damagescanner-0.9b13-py3-none-any.whl.metadata (5.9 kB)\n",
      "Requirement already satisfied: geopandas in c:\\users\\eks510\\.conda\\envs\\pygis\\lib\\site-packages (from damagescanner==0.9b13) (1.0.1)\n",
      "Requirement already satisfied: matplotlib in c:\\users\\eks510\\.conda\\envs\\pygis\\lib\\site-packages (from damagescanner==0.9b13) (3.8.4)\n",
      "Requirement already satisfied: numpy in c:\\users\\eks510\\.conda\\envs\\pygis\\lib\\site-packages (from damagescanner==0.9b13) (1.26.4)\n",
      "Requirement already satisfied: pyproj in c:\\users\\eks510\\.conda\\envs\\pygis\\lib\\site-packages (from damagescanner==0.9b13) (3.6.1)\n",
      "Requirement already satisfied: rasterio in c:\\users\\eks510\\.conda\\envs\\pygis\\lib\\site-packages (from damagescanner==0.9b13) (1.3.10)\n",
      "Requirement already satisfied: xarray in c:\\users\\eks510\\.conda\\envs\\pygis\\lib\\site-packages (from damagescanner==0.9b13) (2024.5.0)\n",
      "Requirement already satisfied: rioxarray in c:\\users\\eks510\\.conda\\envs\\pygis\\lib\\site-packages (from damagescanner==0.9b13) (0.15.5)\n",
      "Requirement already satisfied: packaging in c:\\users\\eks510\\.conda\\envs\\pygis\\lib\\site-packages (from damagescanner==0.9b13) (24.0)\n",
      "Requirement already satisfied: pandas in c:\\users\\eks510\\.conda\\envs\\pygis\\lib\\site-packages (from damagescanner==0.9b13) (2.2.2)\n",
      "Requirement already satisfied: shapely>=2.0 in c:\\users\\eks510\\.conda\\envs\\pygis\\lib\\site-packages (from damagescanner==0.9b13) (2.0.4)\n",
      "Requirement already satisfied: tqdm in c:\\users\\eks510\\.conda\\envs\\pygis\\lib\\site-packages (from damagescanner==0.9b13) (4.66.4)\n",
      "Requirement already satisfied: pyyaml in c:\\users\\eks510\\.conda\\envs\\pygis\\lib\\site-packages (from damagescanner==0.9b13) (6.0.1)\n",
      "Requirement already satisfied: exactextract in c:\\users\\eks510\\.conda\\envs\\pygis\\lib\\site-packages (from damagescanner==0.9b13) (0.2.0)\n",
      "Requirement already satisfied: pyogrio>=0.7.2 in c:\\users\\eks510\\.conda\\envs\\pygis\\lib\\site-packages (from geopandas->damagescanner==0.9b13) (0.9.0)\n",
      "Requirement already satisfied: python-dateutil>=2.8.2 in c:\\users\\eks510\\.conda\\envs\\pygis\\lib\\site-packages (from pandas->damagescanner==0.9b13) (2.9.0)\n",
      "Requirement already satisfied: pytz>=2020.1 in c:\\users\\eks510\\.conda\\envs\\pygis\\lib\\site-packages (from pandas->damagescanner==0.9b13) (2024.1)\n",
      "Requirement already satisfied: tzdata>=2022.7 in c:\\users\\eks510\\.conda\\envs\\pygis\\lib\\site-packages (from pandas->damagescanner==0.9b13) (2024.1)\n",
      "Requirement already satisfied: certifi in c:\\users\\eks510\\.conda\\envs\\pygis\\lib\\site-packages (from pyproj->damagescanner==0.9b13) (2025.1.31)\n",
      "Requirement already satisfied: contourpy>=1.0.1 in c:\\users\\eks510\\.conda\\envs\\pygis\\lib\\site-packages (from matplotlib->damagescanner==0.9b13) (1.2.1)\n",
      "Requirement already satisfied: cycler>=0.10 in c:\\users\\eks510\\.conda\\envs\\pygis\\lib\\site-packages (from matplotlib->damagescanner==0.9b13) (0.12.1)\n",
      "Requirement already satisfied: fonttools>=4.22.0 in c:\\users\\eks510\\.conda\\envs\\pygis\\lib\\site-packages (from matplotlib->damagescanner==0.9b13) (4.53.0)\n",
      "Requirement already satisfied: kiwisolver>=1.3.1 in c:\\users\\eks510\\.conda\\envs\\pygis\\lib\\site-packages (from matplotlib->damagescanner==0.9b13) (1.4.5)\n",
      "Requirement already satisfied: pillow>=8 in c:\\users\\eks510\\.conda\\envs\\pygis\\lib\\site-packages (from matplotlib->damagescanner==0.9b13) (10.3.0)\n",
      "Requirement already satisfied: pyparsing>=2.3.1 in c:\\users\\eks510\\.conda\\envs\\pygis\\lib\\site-packages (from matplotlib->damagescanner==0.9b13) (3.1.2)\n",
      "Requirement already satisfied: affine in c:\\users\\eks510\\.conda\\envs\\pygis\\lib\\site-packages (from rasterio->damagescanner==0.9b13) (2.4.0)\n",
      "Requirement already satisfied: attrs in c:\\users\\eks510\\.conda\\envs\\pygis\\lib\\site-packages (from rasterio->damagescanner==0.9b13) (23.2.0)\n",
      "Requirement already satisfied: click>=4.0 in c:\\users\\eks510\\.conda\\envs\\pygis\\lib\\site-packages (from rasterio->damagescanner==0.9b13) (8.1.7)\n",
      "Requirement already satisfied: cligj>=0.5 in c:\\users\\eks510\\.conda\\envs\\pygis\\lib\\site-packages (from rasterio->damagescanner==0.9b13) (0.7.2)\n",
      "Requirement already satisfied: snuggs>=1.4.1 in c:\\users\\eks510\\.conda\\envs\\pygis\\lib\\site-packages (from rasterio->damagescanner==0.9b13) (1.4.7)\n",
      "Requirement already satisfied: click-plugins in c:\\users\\eks510\\.conda\\envs\\pygis\\lib\\site-packages (from rasterio->damagescanner==0.9b13) (1.1.1)\n",
      "Requirement already satisfied: setuptools in c:\\users\\eks510\\.conda\\envs\\pygis\\lib\\site-packages (from rasterio->damagescanner==0.9b13) (70.0.0)\n",
      "Requirement already satisfied: colorama in c:\\users\\eks510\\.conda\\envs\\pygis\\lib\\site-packages (from tqdm->damagescanner==0.9b13) (0.4.6)\n",
      "Requirement already satisfied: six>=1.5 in c:\\users\\eks510\\.conda\\envs\\pygis\\lib\\site-packages (from python-dateutil>=2.8.2->pandas->damagescanner==0.9b13) (1.16.0)\n",
      "Downloading damagescanner-0.9b13-py3-none-any.whl (33 kB)\n",
      "Installing collected packages: damagescanner\n",
      "  Attempting uninstall: damagescanner\n",
      "    Found existing installation: damagescanner 0.9b5\n",
      "    Uninstalling damagescanner-0.9b5:\n",
      "      Successfully uninstalled damagescanner-0.9b5\n",
      "Successfully installed damagescanner-0.9b13\n"
     ]
    }
   ],
   "source": [
    "!pip install damagescanner==0.9b13\n",
    "#!pip install contextily\n",
    "#!pip install exactextract\n",
    "#!pip install lonboard"
   ]
  },
  {
   "cell_type": "markdown",
   "id": "d678797c-9d70-4641-8248-e3601d30ad1c",
   "metadata": {},
   "source": [
    "In this step, we will import all the required Python libraries for data manipulation, spatial analysis, and visualization."
   ]
  },
  {
   "cell_type": "code",
   "execution_count": 2,
   "id": "12aaf0f4-aef2-4a67-9c30-c68f8f6550b2",
   "metadata": {},
   "outputs": [],
   "source": [
    "import shapely\n",
    "import warnings\n",
    "import xarray as xr\n",
    "import numpy as np\n",
    "import pandas as pd\n",
    "import geopandas as gpd\n",
    "import seaborn as sns\n",
    "\n",
    "from tqdm import tqdm\n",
    "\n",
    "from pathlib import Path\n",
    "import matplotlib.pyplot as plt\n",
    "import rioxarray\n",
    "import contextily as cx\n",
    "\n",
    "import damagescanner.download as download\n",
    "from exactextract import exact_extract\n",
    "from damagescanner.core import DamageScanner\n",
    "from damagescanner.osm import read_osm_data\n",
    "from lonboard import viz\n",
    "\n",
    "warnings.simplefilter(action='ignore', category=FutureWarning)\n",
    "warnings.simplefilter(action='ignore', category=RuntimeWarning) # exactextract gives an error that is invalid"
   ]
  },
  {
   "cell_type": "markdown",
   "id": "5221d308-3de6-4809-912a-3380f8689b44",
   "metadata": {},
   "source": [
    "### Specify the country of interest"
   ]
  },
  {
   "cell_type": "markdown",
   "id": "0eb24ca2-dfac-4e29-9280-6029cd46674b",
   "metadata": {},
   "source": [
    "Before we continue, we should specify the country for which we want to assess the damage. We use the ISO3 code for the country to download the OpenStreetMap data."
   ]
  },
  {
   "cell_type": "code",
   "execution_count": 3,
   "id": "684bae52-154c-44e1-9439-b38be147ea5e",
   "metadata": {},
   "outputs": [],
   "source": [
    "country_full_name = 'Tajikstan'\n",
    "country_iso3 = 'TJK'"
   ]
  },
  {
   "cell_type": "markdown",
   "id": "e43578d8-ea9d-48e9-80b3-aa3bc0f99af7",
   "metadata": {},
   "source": [
    "## 2. Loading the Data\n",
    "In this step, we will load four key datasets:\n",
    "\n",
    "1. **Infrastructure data:**  \n",
    "   This dataset contains information on the location and type of energy infrastructure (e.g., substations, power poles). Each asset may have attributes such as type, length, and replacement cost.\n",
    "\n",
    "2. **Hazard data:**  \n",
    "   This dataset includes information on the hazard affecting the infrastructure (e.g., flood depth at various locations).\n",
    "\n",
    "3. **Vulnerability curves:**  \n",
    "   Vulnerability curves define how the infrastructure's damage increases with the intensity of the hazard. For example, flood depth-damage curves specify how much damage occurs for different flood depths.\n",
    "\n",
    "4. **Maximum damage values:**  \n",
    "   This dataset contains the maximum possible damage (in monetary terms) that can be incurred by individual infrastructure assets. This is crucial for calculating total damage based on the vulnerability curves."
   ]
  },
  {
   "cell_type": "markdown",
   "id": "8ca4b6a6-8558-4caf-a170-741a38f0ed56",
   "metadata": {},
   "source": [
    "### Infrastructure Data\n",
    "\n",
    "We will perform this example analysis for Rwanda. To start the analysis, we first download the OpenStreetMap data from GeoFabrik. "
   ]
  },
  {
   "cell_type": "code",
   "execution_count": 4,
   "id": "91971e0c-f5bd-41cc-90c8-866ccbe589d8",
   "metadata": {},
   "outputs": [],
   "source": [
    "infrastructure_path = download.get_country_geofabrik(country_iso3)"
   ]
  },
  {
   "cell_type": "markdown",
   "id": "6ed16ff7-a9b4-4793-990d-eecc2e842ced",
   "metadata": {},
   "source": [
    "Now we load the data and read only the healthcare data."
   ]
  },
  {
   "cell_type": "code",
   "execution_count": 43,
   "id": "78dfb1ee-4b1b-481a-b0a2-9a615bdde8e9",
   "metadata": {},
   "outputs": [
    {
     "name": "stdout",
     "output_type": "stream",
     "text": [
      "CPU times: total: 24.4 s\n",
      "Wall time: 27.2 s\n"
     ]
    }
   ],
   "source": [
    "%%time\n",
    "features = read_osm_data(infrastructure_path,asset_type='power')"
   ]
  },
  {
   "cell_type": "code",
   "execution_count": 45,
   "id": "96aad40b-658a-42ba-9838-e4c0f24fd1e4",
   "metadata": {},
   "outputs": [],
   "source": [
    "sub_types = features.object_type.unique()"
   ]
  },
  {
   "cell_type": "markdown",
   "id": "1a63ad14-a317-4228-b781-7074e82b6c08",
   "metadata": {},
   "source": [
    "And we can explore our data interactively "
   ]
  },
  {
   "cell_type": "code",
   "execution_count": 46,
   "id": "8746d133-185e-4537-b6f6-5c4c5a25510c",
   "metadata": {},
   "outputs": [
    {
     "data": {
      "application/vnd.jupyter.widget-view+json": {
       "model_id": "0263967fe4364838bdeaf907ee9f63c6",
       "version_major": 2,
       "version_minor": 1
      },
      "text/plain": [
       "Map(basemap_style=<CartoBasemap.DarkMatter: 'https://basemaps.cartocdn.com/gl/dark-matter-gl-style/style.json'…"
      ]
     },
     "execution_count": 46,
     "metadata": {},
     "output_type": "execute_result"
    }
   ],
   "source": [
    "viz(features)"
   ]
  },
  {
   "cell_type": "markdown",
   "id": "1d89865b-030d-4be4-a6ef-ce18b05716ee",
   "metadata": {},
   "source": [
    "### Hazard Data\n",
    "For this example, we make use of the flood data provided by [CDRI](https://giri.unepgrid.ch/map?list=explore).\n",
    "\n",
    "We use a 1/100 flood map to showcase the approach."
   ]
  },
  {
   "cell_type": "code",
   "execution_count": 47,
   "id": "caae035e-64f2-4c69-9565-e95f73fe067f",
   "metadata": {},
   "outputs": [],
   "source": [
    "hazard_map = xr.open_dataset(\"https://hazards-data.unepgrid.ch/global_pc_h100glob.tif\", engine=\"rasterio\")"
   ]
  },
  {
   "cell_type": "code",
   "execution_count": 48,
   "id": "e9f25659-8d72-4826-9b69-f0ee1d7e373e",
   "metadata": {},
   "outputs": [
    {
     "data": {
      "text/html": [
       "<div><svg style=\"position: absolute; width: 0; height: 0; overflow: hidden\">\n",
       "<defs>\n",
       "<symbol id=\"icon-database\" viewBox=\"0 0 32 32\">\n",
       "<path d=\"M16 0c-8.837 0-16 2.239-16 5v4c0 2.761 7.163 5 16 5s16-2.239 16-5v-4c0-2.761-7.163-5-16-5z\"></path>\n",
       "<path d=\"M16 17c-8.837 0-16-2.239-16-5v6c0 2.761 7.163 5 16 5s16-2.239 16-5v-6c0 2.761-7.163 5-16 5z\"></path>\n",
       "<path d=\"M16 26c-8.837 0-16-2.239-16-5v6c0 2.761 7.163 5 16 5s16-2.239 16-5v-6c0 2.761-7.163 5-16 5z\"></path>\n",
       "</symbol>\n",
       "<symbol id=\"icon-file-text2\" viewBox=\"0 0 32 32\">\n",
       "<path d=\"M28.681 7.159c-0.694-0.947-1.662-2.053-2.724-3.116s-2.169-2.030-3.116-2.724c-1.612-1.182-2.393-1.319-2.841-1.319h-15.5c-1.378 0-2.5 1.121-2.5 2.5v27c0 1.378 1.122 2.5 2.5 2.5h23c1.378 0 2.5-1.122 2.5-2.5v-19.5c0-0.448-0.137-1.23-1.319-2.841zM24.543 5.457c0.959 0.959 1.712 1.825 2.268 2.543h-4.811v-4.811c0.718 0.556 1.584 1.309 2.543 2.268zM28 29.5c0 0.271-0.229 0.5-0.5 0.5h-23c-0.271 0-0.5-0.229-0.5-0.5v-27c0-0.271 0.229-0.5 0.5-0.5 0 0 15.499-0 15.5 0v7c0 0.552 0.448 1 1 1h7v19.5z\"></path>\n",
       "<path d=\"M23 26h-14c-0.552 0-1-0.448-1-1s0.448-1 1-1h14c0.552 0 1 0.448 1 1s-0.448 1-1 1z\"></path>\n",
       "<path d=\"M23 22h-14c-0.552 0-1-0.448-1-1s0.448-1 1-1h14c0.552 0 1 0.448 1 1s-0.448 1-1 1z\"></path>\n",
       "<path d=\"M23 18h-14c-0.552 0-1-0.448-1-1s0.448-1 1-1h14c0.552 0 1 0.448 1 1s-0.448 1-1 1z\"></path>\n",
       "</symbol>\n",
       "</defs>\n",
       "</svg>\n",
       "<style>/* CSS stylesheet for displaying xarray objects in jupyterlab.\n",
       " *\n",
       " */\n",
       "\n",
       ":root {\n",
       "  --xr-font-color0: var(--jp-content-font-color0, rgba(0, 0, 0, 1));\n",
       "  --xr-font-color2: var(--jp-content-font-color2, rgba(0, 0, 0, 0.54));\n",
       "  --xr-font-color3: var(--jp-content-font-color3, rgba(0, 0, 0, 0.38));\n",
       "  --xr-border-color: var(--jp-border-color2, #e0e0e0);\n",
       "  --xr-disabled-color: var(--jp-layout-color3, #bdbdbd);\n",
       "  --xr-background-color: var(--jp-layout-color0, white);\n",
       "  --xr-background-color-row-even: var(--jp-layout-color1, white);\n",
       "  --xr-background-color-row-odd: var(--jp-layout-color2, #eeeeee);\n",
       "}\n",
       "\n",
       "html[theme=dark],\n",
       "body[data-theme=dark],\n",
       "body.vscode-dark {\n",
       "  --xr-font-color0: rgba(255, 255, 255, 1);\n",
       "  --xr-font-color2: rgba(255, 255, 255, 0.54);\n",
       "  --xr-font-color3: rgba(255, 255, 255, 0.38);\n",
       "  --xr-border-color: #1F1F1F;\n",
       "  --xr-disabled-color: #515151;\n",
       "  --xr-background-color: #111111;\n",
       "  --xr-background-color-row-even: #111111;\n",
       "  --xr-background-color-row-odd: #313131;\n",
       "}\n",
       "\n",
       ".xr-wrap {\n",
       "  display: block !important;\n",
       "  min-width: 300px;\n",
       "  max-width: 700px;\n",
       "}\n",
       "\n",
       ".xr-text-repr-fallback {\n",
       "  /* fallback to plain text repr when CSS is not injected (untrusted notebook) */\n",
       "  display: none;\n",
       "}\n",
       "\n",
       ".xr-header {\n",
       "  padding-top: 6px;\n",
       "  padding-bottom: 6px;\n",
       "  margin-bottom: 4px;\n",
       "  border-bottom: solid 1px var(--xr-border-color);\n",
       "}\n",
       "\n",
       ".xr-header > div,\n",
       ".xr-header > ul {\n",
       "  display: inline;\n",
       "  margin-top: 0;\n",
       "  margin-bottom: 0;\n",
       "}\n",
       "\n",
       ".xr-obj-type,\n",
       ".xr-array-name {\n",
       "  margin-left: 2px;\n",
       "  margin-right: 10px;\n",
       "}\n",
       "\n",
       ".xr-obj-type {\n",
       "  color: var(--xr-font-color2);\n",
       "}\n",
       "\n",
       ".xr-sections {\n",
       "  padding-left: 0 !important;\n",
       "  display: grid;\n",
       "  grid-template-columns: 150px auto auto 1fr 20px 20px;\n",
       "}\n",
       "\n",
       ".xr-section-item {\n",
       "  display: contents;\n",
       "}\n",
       "\n",
       ".xr-section-item input {\n",
       "  display: none;\n",
       "}\n",
       "\n",
       ".xr-section-item input + label {\n",
       "  color: var(--xr-disabled-color);\n",
       "}\n",
       "\n",
       ".xr-section-item input:enabled + label {\n",
       "  cursor: pointer;\n",
       "  color: var(--xr-font-color2);\n",
       "}\n",
       "\n",
       ".xr-section-item input:enabled + label:hover {\n",
       "  color: var(--xr-font-color0);\n",
       "}\n",
       "\n",
       ".xr-section-summary {\n",
       "  grid-column: 1;\n",
       "  color: var(--xr-font-color2);\n",
       "  font-weight: 500;\n",
       "}\n",
       "\n",
       ".xr-section-summary > span {\n",
       "  display: inline-block;\n",
       "  padding-left: 0.5em;\n",
       "}\n",
       "\n",
       ".xr-section-summary-in:disabled + label {\n",
       "  color: var(--xr-font-color2);\n",
       "}\n",
       "\n",
       ".xr-section-summary-in + label:before {\n",
       "  display: inline-block;\n",
       "  content: '►';\n",
       "  font-size: 11px;\n",
       "  width: 15px;\n",
       "  text-align: center;\n",
       "}\n",
       "\n",
       ".xr-section-summary-in:disabled + label:before {\n",
       "  color: var(--xr-disabled-color);\n",
       "}\n",
       "\n",
       ".xr-section-summary-in:checked + label:before {\n",
       "  content: '▼';\n",
       "}\n",
       "\n",
       ".xr-section-summary-in:checked + label > span {\n",
       "  display: none;\n",
       "}\n",
       "\n",
       ".xr-section-summary,\n",
       ".xr-section-inline-details {\n",
       "  padding-top: 4px;\n",
       "  padding-bottom: 4px;\n",
       "}\n",
       "\n",
       ".xr-section-inline-details {\n",
       "  grid-column: 2 / -1;\n",
       "}\n",
       "\n",
       ".xr-section-details {\n",
       "  display: none;\n",
       "  grid-column: 1 / -1;\n",
       "  margin-bottom: 5px;\n",
       "}\n",
       "\n",
       ".xr-section-summary-in:checked ~ .xr-section-details {\n",
       "  display: contents;\n",
       "}\n",
       "\n",
       ".xr-array-wrap {\n",
       "  grid-column: 1 / -1;\n",
       "  display: grid;\n",
       "  grid-template-columns: 20px auto;\n",
       "}\n",
       "\n",
       ".xr-array-wrap > label {\n",
       "  grid-column: 1;\n",
       "  vertical-align: top;\n",
       "}\n",
       "\n",
       ".xr-preview {\n",
       "  color: var(--xr-font-color3);\n",
       "}\n",
       "\n",
       ".xr-array-preview,\n",
       ".xr-array-data {\n",
       "  padding: 0 5px !important;\n",
       "  grid-column: 2;\n",
       "}\n",
       "\n",
       ".xr-array-data,\n",
       ".xr-array-in:checked ~ .xr-array-preview {\n",
       "  display: none;\n",
       "}\n",
       "\n",
       ".xr-array-in:checked ~ .xr-array-data,\n",
       ".xr-array-preview {\n",
       "  display: inline-block;\n",
       "}\n",
       "\n",
       ".xr-dim-list {\n",
       "  display: inline-block !important;\n",
       "  list-style: none;\n",
       "  padding: 0 !important;\n",
       "  margin: 0;\n",
       "}\n",
       "\n",
       ".xr-dim-list li {\n",
       "  display: inline-block;\n",
       "  padding: 0;\n",
       "  margin: 0;\n",
       "}\n",
       "\n",
       ".xr-dim-list:before {\n",
       "  content: '(';\n",
       "}\n",
       "\n",
       ".xr-dim-list:after {\n",
       "  content: ')';\n",
       "}\n",
       "\n",
       ".xr-dim-list li:not(:last-child):after {\n",
       "  content: ',';\n",
       "  padding-right: 5px;\n",
       "}\n",
       "\n",
       ".xr-has-index {\n",
       "  font-weight: bold;\n",
       "}\n",
       "\n",
       ".xr-var-list,\n",
       ".xr-var-item {\n",
       "  display: contents;\n",
       "}\n",
       "\n",
       ".xr-var-item > div,\n",
       ".xr-var-item label,\n",
       ".xr-var-item > .xr-var-name span {\n",
       "  background-color: var(--xr-background-color-row-even);\n",
       "  margin-bottom: 0;\n",
       "}\n",
       "\n",
       ".xr-var-item > .xr-var-name:hover span {\n",
       "  padding-right: 5px;\n",
       "}\n",
       "\n",
       ".xr-var-list > li:nth-child(odd) > div,\n",
       ".xr-var-list > li:nth-child(odd) > label,\n",
       ".xr-var-list > li:nth-child(odd) > .xr-var-name span {\n",
       "  background-color: var(--xr-background-color-row-odd);\n",
       "}\n",
       "\n",
       ".xr-var-name {\n",
       "  grid-column: 1;\n",
       "}\n",
       "\n",
       ".xr-var-dims {\n",
       "  grid-column: 2;\n",
       "}\n",
       "\n",
       ".xr-var-dtype {\n",
       "  grid-column: 3;\n",
       "  text-align: right;\n",
       "  color: var(--xr-font-color2);\n",
       "}\n",
       "\n",
       ".xr-var-preview {\n",
       "  grid-column: 4;\n",
       "}\n",
       "\n",
       ".xr-index-preview {\n",
       "  grid-column: 2 / 5;\n",
       "  color: var(--xr-font-color2);\n",
       "}\n",
       "\n",
       ".xr-var-name,\n",
       ".xr-var-dims,\n",
       ".xr-var-dtype,\n",
       ".xr-preview,\n",
       ".xr-attrs dt {\n",
       "  white-space: nowrap;\n",
       "  overflow: hidden;\n",
       "  text-overflow: ellipsis;\n",
       "  padding-right: 10px;\n",
       "}\n",
       "\n",
       ".xr-var-name:hover,\n",
       ".xr-var-dims:hover,\n",
       ".xr-var-dtype:hover,\n",
       ".xr-attrs dt:hover {\n",
       "  overflow: visible;\n",
       "  width: auto;\n",
       "  z-index: 1;\n",
       "}\n",
       "\n",
       ".xr-var-attrs,\n",
       ".xr-var-data,\n",
       ".xr-index-data {\n",
       "  display: none;\n",
       "  background-color: var(--xr-background-color) !important;\n",
       "  padding-bottom: 5px !important;\n",
       "}\n",
       "\n",
       ".xr-var-attrs-in:checked ~ .xr-var-attrs,\n",
       ".xr-var-data-in:checked ~ .xr-var-data,\n",
       ".xr-index-data-in:checked ~ .xr-index-data {\n",
       "  display: block;\n",
       "}\n",
       "\n",
       ".xr-var-data > table {\n",
       "  float: right;\n",
       "}\n",
       "\n",
       ".xr-var-name span,\n",
       ".xr-var-data,\n",
       ".xr-index-name div,\n",
       ".xr-index-data,\n",
       ".xr-attrs {\n",
       "  padding-left: 25px !important;\n",
       "}\n",
       "\n",
       ".xr-attrs,\n",
       ".xr-var-attrs,\n",
       ".xr-var-data,\n",
       ".xr-index-data {\n",
       "  grid-column: 1 / -1;\n",
       "}\n",
       "\n",
       "dl.xr-attrs {\n",
       "  padding: 0;\n",
       "  margin: 0;\n",
       "  display: grid;\n",
       "  grid-template-columns: 125px auto;\n",
       "}\n",
       "\n",
       ".xr-attrs dt,\n",
       ".xr-attrs dd {\n",
       "  padding: 0;\n",
       "  margin: 0;\n",
       "  float: left;\n",
       "  padding-right: 10px;\n",
       "  width: auto;\n",
       "}\n",
       "\n",
       ".xr-attrs dt {\n",
       "  font-weight: normal;\n",
       "  grid-column: 1;\n",
       "}\n",
       "\n",
       ".xr-attrs dt:hover span {\n",
       "  display: inline-block;\n",
       "  background: var(--xr-background-color);\n",
       "  padding-right: 10px;\n",
       "}\n",
       "\n",
       ".xr-attrs dd {\n",
       "  grid-column: 2;\n",
       "  white-space: pre-wrap;\n",
       "  word-break: break-all;\n",
       "}\n",
       "\n",
       ".xr-icon-database,\n",
       ".xr-icon-file-text2,\n",
       ".xr-no-icon {\n",
       "  display: inline-block;\n",
       "  vertical-align: middle;\n",
       "  width: 1em;\n",
       "  height: 1.5em !important;\n",
       "  stroke-width: 0;\n",
       "  stroke: currentColor;\n",
       "  fill: currentColor;\n",
       "}\n",
       "</style><pre class='xr-text-repr-fallback'>&lt;xarray.Dataset&gt; Size: 747GB\n",
       "Dimensions:      (band: 1, x: 432000, y: 216000)\n",
       "Coordinates:\n",
       "  * band         (band) int32 4B 1\n",
       "  * x            (x) float64 3MB -180.0 -180.0 -180.0 ... 180.0 180.0 180.0\n",
       "  * y            (y) float64 2MB 90.0 90.0 90.0 90.0 ... -90.0 -90.0 -90.0 -90.0\n",
       "    spatial_ref  int32 4B ...\n",
       "Data variables:\n",
       "    band_data    (band, y, x) float64 746GB ...</pre><div class='xr-wrap' style='display:none'><div class='xr-header'><div class='xr-obj-type'>xarray.Dataset</div></div><ul class='xr-sections'><li class='xr-section-item'><input id='section-ed0163dc-0cc6-4a64-9c81-53d3986cf0f8' class='xr-section-summary-in' type='checkbox' disabled ><label for='section-ed0163dc-0cc6-4a64-9c81-53d3986cf0f8' class='xr-section-summary'  title='Expand/collapse section'>Dimensions:</label><div class='xr-section-inline-details'><ul class='xr-dim-list'><li><span class='xr-has-index'>band</span>: 1</li><li><span class='xr-has-index'>x</span>: 432000</li><li><span class='xr-has-index'>y</span>: 216000</li></ul></div><div class='xr-section-details'></div></li><li class='xr-section-item'><input id='section-a2e336c4-4e72-4682-aac0-8780c71a9aea' class='xr-section-summary-in' type='checkbox'  checked><label for='section-a2e336c4-4e72-4682-aac0-8780c71a9aea' class='xr-section-summary' >Coordinates: <span>(4)</span></label><div class='xr-section-inline-details'></div><div class='xr-section-details'><ul class='xr-var-list'><li class='xr-var-item'><div class='xr-var-name'><span class='xr-has-index'>band</span></div><div class='xr-var-dims'>(band)</div><div class='xr-var-dtype'>int32</div><div class='xr-var-preview xr-preview'>1</div><input id='attrs-f07fc283-ad91-46dd-a500-e19601ca13f1' class='xr-var-attrs-in' type='checkbox' disabled><label for='attrs-f07fc283-ad91-46dd-a500-e19601ca13f1' title='Show/Hide attributes'><svg class='icon xr-icon-file-text2'><use xlink:href='#icon-file-text2'></use></svg></label><input id='data-dba94256-270c-4753-b9f0-2f9b81dab86a' class='xr-var-data-in' type='checkbox'><label for='data-dba94256-270c-4753-b9f0-2f9b81dab86a' title='Show/Hide data repr'><svg class='icon xr-icon-database'><use xlink:href='#icon-database'></use></svg></label><div class='xr-var-attrs'><dl class='xr-attrs'></dl></div><div class='xr-var-data'><pre>array([1])</pre></div></li><li class='xr-var-item'><div class='xr-var-name'><span class='xr-has-index'>x</span></div><div class='xr-var-dims'>(x)</div><div class='xr-var-dtype'>float64</div><div class='xr-var-preview xr-preview'>-180.0 -180.0 ... 180.0 180.0</div><input id='attrs-8e9166f1-e762-4e9b-9549-63ae362047cd' class='xr-var-attrs-in' type='checkbox' disabled><label for='attrs-8e9166f1-e762-4e9b-9549-63ae362047cd' title='Show/Hide attributes'><svg class='icon xr-icon-file-text2'><use xlink:href='#icon-file-text2'></use></svg></label><input id='data-0a4dde40-ee99-44da-8a6e-68b66308f651' class='xr-var-data-in' type='checkbox'><label for='data-0a4dde40-ee99-44da-8a6e-68b66308f651' title='Show/Hide data repr'><svg class='icon xr-icon-database'><use xlink:href='#icon-database'></use></svg></label><div class='xr-var-attrs'><dl class='xr-attrs'></dl></div><div class='xr-var-data'><pre>array([-179.999583, -179.99875 , -179.997917, ...,  179.997917,  179.99875 ,\n",
       "        179.999583])</pre></div></li><li class='xr-var-item'><div class='xr-var-name'><span class='xr-has-index'>y</span></div><div class='xr-var-dims'>(y)</div><div class='xr-var-dtype'>float64</div><div class='xr-var-preview xr-preview'>90.0 90.0 90.0 ... -90.0 -90.0</div><input id='attrs-79c66593-61ce-481a-844a-098fdb4594cd' class='xr-var-attrs-in' type='checkbox' disabled><label for='attrs-79c66593-61ce-481a-844a-098fdb4594cd' title='Show/Hide attributes'><svg class='icon xr-icon-file-text2'><use xlink:href='#icon-file-text2'></use></svg></label><input id='data-6994e319-4545-4f57-bf3a-e535257bcdce' class='xr-var-data-in' type='checkbox'><label for='data-6994e319-4545-4f57-bf3a-e535257bcdce' title='Show/Hide data repr'><svg class='icon xr-icon-database'><use xlink:href='#icon-database'></use></svg></label><div class='xr-var-attrs'><dl class='xr-attrs'></dl></div><div class='xr-var-data'><pre>array([ 89.999583,  89.99875 ,  89.997917, ..., -89.997917, -89.99875 ,\n",
       "       -89.999583])</pre></div></li><li class='xr-var-item'><div class='xr-var-name'><span>spatial_ref</span></div><div class='xr-var-dims'>()</div><div class='xr-var-dtype'>int32</div><div class='xr-var-preview xr-preview'>...</div><input id='attrs-f926d000-8c46-4461-948e-f45b1974c2ff' class='xr-var-attrs-in' type='checkbox' ><label for='attrs-f926d000-8c46-4461-948e-f45b1974c2ff' title='Show/Hide attributes'><svg class='icon xr-icon-file-text2'><use xlink:href='#icon-file-text2'></use></svg></label><input id='data-3c09bec0-aee5-4b24-a554-9fa4af40c17e' class='xr-var-data-in' type='checkbox'><label for='data-3c09bec0-aee5-4b24-a554-9fa4af40c17e' title='Show/Hide data repr'><svg class='icon xr-icon-database'><use xlink:href='#icon-database'></use></svg></label><div class='xr-var-attrs'><dl class='xr-attrs'><dt><span>crs_wkt :</span></dt><dd>GEOGCS[&quot;WGS 84&quot;,DATUM[&quot;WGS_1984&quot;,SPHEROID[&quot;WGS 84&quot;,6378137,298.257223563,AUTHORITY[&quot;EPSG&quot;,&quot;7030&quot;]],AUTHORITY[&quot;EPSG&quot;,&quot;6326&quot;]],PRIMEM[&quot;Greenwich&quot;,0,AUTHORITY[&quot;EPSG&quot;,&quot;8901&quot;]],UNIT[&quot;degree&quot;,0.0174532925199433,AUTHORITY[&quot;EPSG&quot;,&quot;9122&quot;]],AXIS[&quot;Latitude&quot;,NORTH],AXIS[&quot;Longitude&quot;,EAST],AUTHORITY[&quot;EPSG&quot;,&quot;4326&quot;]]</dd><dt><span>semi_major_axis :</span></dt><dd>6378137.0</dd><dt><span>semi_minor_axis :</span></dt><dd>6356752.314245179</dd><dt><span>inverse_flattening :</span></dt><dd>298.257223563</dd><dt><span>reference_ellipsoid_name :</span></dt><dd>WGS 84</dd><dt><span>longitude_of_prime_meridian :</span></dt><dd>0.0</dd><dt><span>prime_meridian_name :</span></dt><dd>Greenwich</dd><dt><span>geographic_crs_name :</span></dt><dd>WGS 84</dd><dt><span>horizontal_datum_name :</span></dt><dd>World Geodetic System 1984</dd><dt><span>grid_mapping_name :</span></dt><dd>latitude_longitude</dd><dt><span>spatial_ref :</span></dt><dd>GEOGCS[&quot;WGS 84&quot;,DATUM[&quot;WGS_1984&quot;,SPHEROID[&quot;WGS 84&quot;,6378137,298.257223563,AUTHORITY[&quot;EPSG&quot;,&quot;7030&quot;]],AUTHORITY[&quot;EPSG&quot;,&quot;6326&quot;]],PRIMEM[&quot;Greenwich&quot;,0,AUTHORITY[&quot;EPSG&quot;,&quot;8901&quot;]],UNIT[&quot;degree&quot;,0.0174532925199433,AUTHORITY[&quot;EPSG&quot;,&quot;9122&quot;]],AXIS[&quot;Latitude&quot;,NORTH],AXIS[&quot;Longitude&quot;,EAST],AUTHORITY[&quot;EPSG&quot;,&quot;4326&quot;]]</dd><dt><span>GeoTransform :</span></dt><dd>-180.0 0.0008333333333333334 0.0 90.0 0.0 -0.0008333333333333334</dd></dl></div><div class='xr-var-data'><pre>[1 values with dtype=int32]</pre></div></li></ul></div></li><li class='xr-section-item'><input id='section-582ab3e0-ac60-4a45-8443-39b323629eda' class='xr-section-summary-in' type='checkbox'  checked><label for='section-582ab3e0-ac60-4a45-8443-39b323629eda' class='xr-section-summary' >Data variables: <span>(1)</span></label><div class='xr-section-inline-details'></div><div class='xr-section-details'><ul class='xr-var-list'><li class='xr-var-item'><div class='xr-var-name'><span>band_data</span></div><div class='xr-var-dims'>(band, y, x)</div><div class='xr-var-dtype'>float64</div><div class='xr-var-preview xr-preview'>...</div><input id='attrs-5a233e75-0373-4e14-9365-413d49b25c03' class='xr-var-attrs-in' type='checkbox' ><label for='attrs-5a233e75-0373-4e14-9365-413d49b25c03' title='Show/Hide attributes'><svg class='icon xr-icon-file-text2'><use xlink:href='#icon-file-text2'></use></svg></label><input id='data-d0d6d884-0992-498e-8be2-06d04cc97d7d' class='xr-var-data-in' type='checkbox'><label for='data-d0d6d884-0992-498e-8be2-06d04cc97d7d' title='Show/Hide data repr'><svg class='icon xr-icon-database'><use xlink:href='#icon-database'></use></svg></label><div class='xr-var-attrs'><dl class='xr-attrs'><dt><span>TIFFTAG_SOFTWARE :</span></dt><dd>GRASS GIS 7.8.6 with GDAL 3.4.0</dd><dt><span>AREA_OR_POINT :</span></dt><dd>Area</dd></dl></div><div class='xr-var-data'><pre>[93312000000 values with dtype=float64]</pre></div></li></ul></div></li><li class='xr-section-item'><input id='section-545544ee-0cd8-4d45-a4cc-c90ce05d9646' class='xr-section-summary-in' type='checkbox'  ><label for='section-545544ee-0cd8-4d45-a4cc-c90ce05d9646' class='xr-section-summary' >Indexes: <span>(3)</span></label><div class='xr-section-inline-details'></div><div class='xr-section-details'><ul class='xr-var-list'><li class='xr-var-item'><div class='xr-index-name'><div>band</div></div><div class='xr-index-preview'>PandasIndex</div><div></div><input id='index-c425ee5c-7820-433c-9308-0932d39794c9' class='xr-index-data-in' type='checkbox'/><label for='index-c425ee5c-7820-433c-9308-0932d39794c9' title='Show/Hide index repr'><svg class='icon xr-icon-database'><use xlink:href='#icon-database'></use></svg></label><div class='xr-index-data'><pre>PandasIndex(Index([1], dtype=&#x27;int32&#x27;, name=&#x27;band&#x27;))</pre></div></li><li class='xr-var-item'><div class='xr-index-name'><div>x</div></div><div class='xr-index-preview'>PandasIndex</div><div></div><input id='index-b12e883e-d823-4127-ae2e-5de5dc2b7ba8' class='xr-index-data-in' type='checkbox'/><label for='index-b12e883e-d823-4127-ae2e-5de5dc2b7ba8' title='Show/Hide index repr'><svg class='icon xr-icon-database'><use xlink:href='#icon-database'></use></svg></label><div class='xr-index-data'><pre>PandasIndex(Index([-179.99958333333333,          -179.99875, -179.99791666666667,\n",
       "       -179.99708333333334,          -179.99625, -179.99541666666667,\n",
       "       -179.99458333333334,          -179.99375, -179.99291666666667,\n",
       "       -179.99208333333334,\n",
       "       ...\n",
       "        179.99208333333334,  179.99291666666667,           179.99375,\n",
       "        179.99458333333334,  179.99541666666667,           179.99625,\n",
       "        179.99708333333334,  179.99791666666667,           179.99875,\n",
       "        179.99958333333333],\n",
       "      dtype=&#x27;float64&#x27;, name=&#x27;x&#x27;, length=432000))</pre></div></li><li class='xr-var-item'><div class='xr-index-name'><div>y</div></div><div class='xr-index-preview'>PandasIndex</div><div></div><input id='index-7cd6c9be-7ce8-490a-b750-0f65cf274eed' class='xr-index-data-in' type='checkbox'/><label for='index-7cd6c9be-7ce8-490a-b750-0f65cf274eed' title='Show/Hide index repr'><svg class='icon xr-icon-database'><use xlink:href='#icon-database'></use></svg></label><div class='xr-index-data'><pre>PandasIndex(Index([ 89.99958333333333,           89.99875,  89.99791666666667,\n",
       "        89.99708333333334,           89.99625,  89.99541666666667,\n",
       "        89.99458333333334,           89.99375,  89.99291666666667,\n",
       "        89.99208333333334,\n",
       "       ...\n",
       "       -89.99208333333334, -89.99291666666667,          -89.99375,\n",
       "       -89.99458333333334, -89.99541666666667,          -89.99625,\n",
       "       -89.99708333333334, -89.99791666666667,          -89.99875,\n",
       "       -89.99958333333333],\n",
       "      dtype=&#x27;float64&#x27;, name=&#x27;y&#x27;, length=216000))</pre></div></li></ul></div></li><li class='xr-section-item'><input id='section-ec50005f-c2a6-4696-bdc9-c8e3686c3ff3' class='xr-section-summary-in' type='checkbox' disabled ><label for='section-ec50005f-c2a6-4696-bdc9-c8e3686c3ff3' class='xr-section-summary'  title='Expand/collapse section'>Attributes: <span>(0)</span></label><div class='xr-section-inline-details'></div><div class='xr-section-details'><dl class='xr-attrs'></dl></div></li></ul></div></div>"
      ],
      "text/plain": [
       "<xarray.Dataset> Size: 747GB\n",
       "Dimensions:      (band: 1, x: 432000, y: 216000)\n",
       "Coordinates:\n",
       "  * band         (band) int32 4B 1\n",
       "  * x            (x) float64 3MB -180.0 -180.0 -180.0 ... 180.0 180.0 180.0\n",
       "  * y            (y) float64 2MB 90.0 90.0 90.0 90.0 ... -90.0 -90.0 -90.0 -90.0\n",
       "    spatial_ref  int32 4B ...\n",
       "Data variables:\n",
       "    band_data    (band, y, x) float64 746GB ..."
      ]
     },
     "execution_count": 48,
     "metadata": {},
     "output_type": "execute_result"
    }
   ],
   "source": [
    "hazard_map"
   ]
  },
  {
   "cell_type": "markdown",
   "id": "ee05bef0-90c3-4f33-814f-fb421246e1be",
   "metadata": {},
   "source": [
    "### Maximum damages\n",
    "One of the most difficult parts of the assessment is to define the maximum reconstruction cost of particular assets. Here we provide a baseline set of values, but these should be updated through national consultations.\n",
    "\n",
    "Locations of substations (or power plants) are (somewhat randomly) geotagged as either points or polygons. This matters quite a lot for the maximum damages. For polygons, we would use damage per square meter, whereas for points, we would estimate the damage to the entire asset at once. Here we take the approach of converting the points to polygons, and there define our maximum damages in dollar per square meter. "
   ]
  },
  {
   "cell_type": "code",
   "execution_count": 49,
   "id": "92df3cdf-4f61-470f-8b7e-c1eb6d01bcd8",
   "metadata": {},
   "outputs": [],
   "source": [
    "maxdam_dict = {\n",
    "    'tower': 1000, \n",
    "    'pole': 1000, \n",
    "    'portal': 1000, \n",
    "    'switch': 1000, \n",
    "    'cable': 1000, \n",
    "    'generator': 1000, \n",
    "    'transformer': 1000, \n",
    "    'plant': 1000, \n",
    "    'substation': 1000,  \n",
    "    'line': 1000, \n",
    "    'minor_line': 1000, \n",
    "     }"
   ]
  },
  {
   "cell_type": "markdown",
   "id": "79192a0b-8615-432e-b55b-63df78629924",
   "metadata": {},
   "source": [
    "To be used in our damage assessment, we convert this to a Pandas DataFrame"
   ]
  },
  {
   "cell_type": "code",
   "execution_count": 50,
   "id": "7dd0aeec-16eb-4ef6-afcf-9cbc7372a245",
   "metadata": {},
   "outputs": [],
   "source": [
    "maxdam = pd.DataFrame.from_dict(maxdam_dict,orient='index').reset_index()\n",
    "maxdam.columns = ['object_type','damage']"
   ]
  },
  {
   "cell_type": "markdown",
   "id": "84b69fd7-393a-48f6-aae6-33b19bb2e3b9",
   "metadata": {},
   "source": [
    "### Vulnerability data\n",
    "Similarly to the maximum damages, specifying the vulnerability curves is complex. We generally have limited information about the quality of the assets, its level of deteriation and other asset-level characteristics."
   ]
  },
  {
   "cell_type": "code",
   "execution_count": 51,
   "id": "ec8a021f-0c9d-41a7-846b-fd78af69cd85",
   "metadata": {},
   "outputs": [],
   "source": [
    "vulnerability_path = \"https://zenodo.org/records/10203846/files/Table_D2_Multi-Hazard_Fragility_and_Vulnerability_Curves_V1.0.0.xlsx?download=1\"\n",
    "vul_df = pd.read_excel(vulnerability_path,sheet_name='F_Vuln_Depth')"
   ]
  },
  {
   "cell_type": "markdown",
   "id": "6ad555da-f453-4e2a-9d7b-dcb20e6e960b",
   "metadata": {},
   "source": [
    "And let's have a look at all the available options"
   ]
  },
  {
   "cell_type": "code",
   "execution_count": 52,
   "id": "c9a14865-3350-41ba-ad48-eb4886c63874",
   "metadata": {
    "scrolled": true
   },
   "outputs": [
    {
     "data": {
      "text/html": [
       "<div>\n",
       "<style scoped>\n",
       "    .dataframe tbody tr th:only-of-type {\n",
       "        vertical-align: middle;\n",
       "    }\n",
       "\n",
       "    .dataframe tbody tr th {\n",
       "        vertical-align: top;\n",
       "    }\n",
       "\n",
       "    .dataframe thead th {\n",
       "        text-align: right;\n",
       "    }\n",
       "</style>\n",
       "<table border=\"1\" class=\"dataframe\">\n",
       "  <thead>\n",
       "    <tr style=\"text-align: right;\">\n",
       "      <th></th>\n",
       "      <th>0</th>\n",
       "      <th>1</th>\n",
       "    </tr>\n",
       "  </thead>\n",
       "  <tbody>\n",
       "    <tr>\n",
       "      <th>ID number</th>\n",
       "      <td>Infrastructure description</td>\n",
       "      <td>Additional characteristics</td>\n",
       "    </tr>\n",
       "    <tr>\n",
       "      <th>F1.1</th>\n",
       "      <td>plant</td>\n",
       "      <td>Small power plants, capacity &lt;100 MW</td>\n",
       "    </tr>\n",
       "    <tr>\n",
       "      <th>F1.2</th>\n",
       "      <td>plant</td>\n",
       "      <td>Medium power plants, capacity 100-500 MW</td>\n",
       "    </tr>\n",
       "    <tr>\n",
       "      <th>F1.3</th>\n",
       "      <td>plant</td>\n",
       "      <td>Large power plants, &gt;500 MW</td>\n",
       "    </tr>\n",
       "    <tr>\n",
       "      <th>F1.4</th>\n",
       "      <td>plant</td>\n",
       "      <td>thermal plant</td>\n",
       "    </tr>\n",
       "    <tr>\n",
       "      <th>F1.5</th>\n",
       "      <td>plant</td>\n",
       "      <td>wind turbine</td>\n",
       "    </tr>\n",
       "    <tr>\n",
       "      <th>F1.6</th>\n",
       "      <td>plant</td>\n",
       "      <td>wind turbine</td>\n",
       "    </tr>\n",
       "    <tr>\n",
       "      <th>F1.7</th>\n",
       "      <td>plant</td>\n",
       "      <td>wind turbine</td>\n",
       "    </tr>\n",
       "    <tr>\n",
       "      <th>F2.1</th>\n",
       "      <td>substation</td>\n",
       "      <td>Low Voltage Substation</td>\n",
       "    </tr>\n",
       "    <tr>\n",
       "      <th>F2.2</th>\n",
       "      <td>substation</td>\n",
       "      <td>Medium Voltage Substation</td>\n",
       "    </tr>\n",
       "    <tr>\n",
       "      <th>F2.3</th>\n",
       "      <td>substation</td>\n",
       "      <td>High Voltage Substation</td>\n",
       "    </tr>\n",
       "    <tr>\n",
       "      <th>F5.1</th>\n",
       "      <td>cable</td>\n",
       "      <td>Distribution circuits buried crossings</td>\n",
       "    </tr>\n",
       "    <tr>\n",
       "      <th>F6.1</th>\n",
       "      <td>Power (minor) line</td>\n",
       "      <td>Distribution circuits (non-crossings)</td>\n",
       "    </tr>\n",
       "    <tr>\n",
       "      <th>F6.2</th>\n",
       "      <td>cable</td>\n",
       "      <td>Distribution circuits elevated crossings</td>\n",
       "    </tr>\n",
       "    <tr>\n",
       "      <th>F6.3</th>\n",
       "      <td>Energy system</td>\n",
       "      <td>Generalized curve for energy assets in diked a...</td>\n",
       "    </tr>\n",
       "    <tr>\n",
       "      <th>F7.1</th>\n",
       "      <td>Roads</td>\n",
       "      <td>NaN</td>\n",
       "    </tr>\n",
       "    <tr>\n",
       "      <th>F7.2</th>\n",
       "      <td>Roads</td>\n",
       "      <td>NaN</td>\n",
       "    </tr>\n",
       "    <tr>\n",
       "      <th>F7.2a (lower boundary)</th>\n",
       "      <td>Roads</td>\n",
       "      <td>NaN</td>\n",
       "    </tr>\n",
       "    <tr>\n",
       "      <th>F7.2b (upper boundary)</th>\n",
       "      <td>Roads</td>\n",
       "      <td>NaN</td>\n",
       "    </tr>\n",
       "    <tr>\n",
       "      <th>F7.3</th>\n",
       "      <td>Roads</td>\n",
       "      <td>NaN</td>\n",
       "    </tr>\n",
       "    <tr>\n",
       "      <th>F7.4</th>\n",
       "      <td>Roads</td>\n",
       "      <td>Motorways and trunk roads - sophisticated acce...</td>\n",
       "    </tr>\n",
       "    <tr>\n",
       "      <th>F7.5</th>\n",
       "      <td>Roads</td>\n",
       "      <td>Motorways and trunk roads - sophisticated acce...</td>\n",
       "    </tr>\n",
       "    <tr>\n",
       "      <th>F7.6</th>\n",
       "      <td>Roads</td>\n",
       "      <td>Motorways and trunk roads - without sophistica...</td>\n",
       "    </tr>\n",
       "    <tr>\n",
       "      <th>F7.7</th>\n",
       "      <td>Roads</td>\n",
       "      <td>Motorways and trunk roads - without sophistica...</td>\n",
       "    </tr>\n",
       "    <tr>\n",
       "      <th>F7.8</th>\n",
       "      <td>Roads</td>\n",
       "      <td>Other roads - low flow</td>\n",
       "    </tr>\n",
       "    <tr>\n",
       "      <th>F7.9</th>\n",
       "      <td>Roads</td>\n",
       "      <td>Other roads - high flow</td>\n",
       "    </tr>\n",
       "    <tr>\n",
       "      <th>F7.10</th>\n",
       "      <td>Roads</td>\n",
       "      <td>NaN</td>\n",
       "    </tr>\n",
       "    <tr>\n",
       "      <th>F7.11</th>\n",
       "      <td>Roads</td>\n",
       "      <td>NaN</td>\n",
       "    </tr>\n",
       "    <tr>\n",
       "      <th>F7.12</th>\n",
       "      <td>Roads</td>\n",
       "      <td>NaN</td>\n",
       "    </tr>\n",
       "    <tr>\n",
       "      <th>F7.13</th>\n",
       "      <td>Roads</td>\n",
       "      <td>NaN</td>\n",
       "    </tr>\n",
       "    <tr>\n",
       "      <th>F8.1</th>\n",
       "      <td>Railways</td>\n",
       "      <td>Double-tracked railway</td>\n",
       "    </tr>\n",
       "    <tr>\n",
       "      <th>F8.2</th>\n",
       "      <td>Railways</td>\n",
       "      <td>Double-tracked railway</td>\n",
       "    </tr>\n",
       "    <tr>\n",
       "      <th>F8.3</th>\n",
       "      <td>Railways</td>\n",
       "      <td>NaN</td>\n",
       "    </tr>\n",
       "    <tr>\n",
       "      <th>F8.4</th>\n",
       "      <td>Railways</td>\n",
       "      <td>NaN</td>\n",
       "    </tr>\n",
       "    <tr>\n",
       "      <th>F8.5</th>\n",
       "      <td>Railways</td>\n",
       "      <td>NaN</td>\n",
       "    </tr>\n",
       "    <tr>\n",
       "      <th>F8.6</th>\n",
       "      <td>Railways</td>\n",
       "      <td>NaN</td>\n",
       "    </tr>\n",
       "    <tr>\n",
       "      <th>F8.6a (lower boundary)</th>\n",
       "      <td>Railways</td>\n",
       "      <td>NaN</td>\n",
       "    </tr>\n",
       "    <tr>\n",
       "      <th>F8.6b (upper boundary)</th>\n",
       "      <td>Railways</td>\n",
       "      <td>NaN</td>\n",
       "    </tr>\n",
       "    <tr>\n",
       "      <th>F8.7</th>\n",
       "      <td>Railways</td>\n",
       "      <td>NaN</td>\n",
       "    </tr>\n",
       "    <tr>\n",
       "      <th>F8.8</th>\n",
       "      <td>Railways</td>\n",
       "      <td>Railway station</td>\n",
       "    </tr>\n",
       "    <tr>\n",
       "      <th>F9.1</th>\n",
       "      <td>Airports</td>\n",
       "      <td>NaN</td>\n",
       "    </tr>\n",
       "    <tr>\n",
       "      <th>F9.2</th>\n",
       "      <td>Airports</td>\n",
       "      <td>NaN</td>\n",
       "    </tr>\n",
       "    <tr>\n",
       "      <th>F9.3</th>\n",
       "      <td>Airports</td>\n",
       "      <td>NaN</td>\n",
       "    </tr>\n",
       "    <tr>\n",
       "      <th>F10.1</th>\n",
       "      <td>Telecommunication</td>\n",
       "      <td>Communication tower</td>\n",
       "    </tr>\n",
       "    <tr>\n",
       "      <th>F12.1</th>\n",
       "      <td>Telecommunication</td>\n",
       "      <td>Communication system</td>\n",
       "    </tr>\n",
       "    <tr>\n",
       "      <th>F13.1</th>\n",
       "      <td>water storage tanks</td>\n",
       "      <td>Water storage tanks at grade concrete</td>\n",
       "    </tr>\n",
       "    <tr>\n",
       "      <th>F13.2</th>\n",
       "      <td>water storage tanks</td>\n",
       "      <td>Water storage tanks at grade steel</td>\n",
       "    </tr>\n",
       "    <tr>\n",
       "      <th>F13.3</th>\n",
       "      <td>water storage tanks</td>\n",
       "      <td>Water storage tanks at grade wood</td>\n",
       "    </tr>\n",
       "    <tr>\n",
       "      <th>F13.4</th>\n",
       "      <td>water storage tanks</td>\n",
       "      <td>Water storage tanks elevated</td>\n",
       "    </tr>\n",
       "    <tr>\n",
       "      <th>F13.5</th>\n",
       "      <td>water storage tanks</td>\n",
       "      <td>Water storage tanks below grade</td>\n",
       "    </tr>\n",
       "    <tr>\n",
       "      <th>F14.1</th>\n",
       "      <td>Water treatment plants</td>\n",
       "      <td>Small water treatment plants open/gravity - av...</td>\n",
       "    </tr>\n",
       "    <tr>\n",
       "      <th>F14.2</th>\n",
       "      <td>Water treatment plants</td>\n",
       "      <td>Medium water treatment plants open/gravity - a...</td>\n",
       "    </tr>\n",
       "    <tr>\n",
       "      <th>F14.3</th>\n",
       "      <td>Water treatment plants</td>\n",
       "      <td>Large water treatment plants open/gravity - av...</td>\n",
       "    </tr>\n",
       "    <tr>\n",
       "      <th>F14.4</th>\n",
       "      <td>Water treatment plants</td>\n",
       "      <td>small/medium/large water treatment plants open...</td>\n",
       "    </tr>\n",
       "    <tr>\n",
       "      <th>F14.5</th>\n",
       "      <td>Water treatment plants</td>\n",
       "      <td>small/medium/large water treatment plants open...</td>\n",
       "    </tr>\n",
       "    <tr>\n",
       "      <th>F14.6</th>\n",
       "      <td>Water treatment plants</td>\n",
       "      <td>Small water treatment plants closed/pressure</td>\n",
       "    </tr>\n",
       "    <tr>\n",
       "      <th>F14.7</th>\n",
       "      <td>Water treatment plants</td>\n",
       "      <td>Medium water treatment plants closed/pressure</td>\n",
       "    </tr>\n",
       "    <tr>\n",
       "      <th>F14.8</th>\n",
       "      <td>Water treatment plants</td>\n",
       "      <td>Large water treatment plants closed/pressure</td>\n",
       "    </tr>\n",
       "    <tr>\n",
       "      <th>F14.9</th>\n",
       "      <td>Water treatment plants</td>\n",
       "      <td>small/medium/large water treatment plants clos...</td>\n",
       "    </tr>\n",
       "    <tr>\n",
       "      <th>F14.10</th>\n",
       "      <td>Water treatment plants</td>\n",
       "      <td>small/medium/large water treatment plants clos...</td>\n",
       "    </tr>\n",
       "    <tr>\n",
       "      <th>F15.1</th>\n",
       "      <td>Water well</td>\n",
       "      <td>Wells</td>\n",
       "    </tr>\n",
       "    <tr>\n",
       "      <th>F16.1</th>\n",
       "      <td>Transmission and distribution pipelines</td>\n",
       "      <td>Exposed transmission pipeline crossing</td>\n",
       "    </tr>\n",
       "    <tr>\n",
       "      <th>F16.2</th>\n",
       "      <td>Transmission and distribution pipelines</td>\n",
       "      <td>Buried transmission pipeline crossing</td>\n",
       "    </tr>\n",
       "    <tr>\n",
       "      <th>F16.3</th>\n",
       "      <td>Transmission and distribution pipelines</td>\n",
       "      <td>Pipelines (non-crossing)</td>\n",
       "    </tr>\n",
       "    <tr>\n",
       "      <th>F17.1</th>\n",
       "      <td>Others</td>\n",
       "      <td>Pumping plants (small) below grade</td>\n",
       "    </tr>\n",
       "    <tr>\n",
       "      <th>F17.2</th>\n",
       "      <td>Others</td>\n",
       "      <td>Pumping plants (medium/large) below grade</td>\n",
       "    </tr>\n",
       "    <tr>\n",
       "      <th>F17.3</th>\n",
       "      <td>Others</td>\n",
       "      <td>Pumping plants (small) above grade</td>\n",
       "    </tr>\n",
       "    <tr>\n",
       "      <th>F17.4</th>\n",
       "      <td>Others</td>\n",
       "      <td>Pumping plants (medium/large) above grade</td>\n",
       "    </tr>\n",
       "    <tr>\n",
       "      <th>F17.5</th>\n",
       "      <td>Others</td>\n",
       "      <td>Pumping plants</td>\n",
       "    </tr>\n",
       "    <tr>\n",
       "      <th>F17.6</th>\n",
       "      <td>Others</td>\n",
       "      <td>Control vaults and stations</td>\n",
       "    </tr>\n",
       "    <tr>\n",
       "      <th>F18.1</th>\n",
       "      <td>Wastewater treatment plant</td>\n",
       "      <td>Small wastewater treatment plants</td>\n",
       "    </tr>\n",
       "    <tr>\n",
       "      <th>F18.2</th>\n",
       "      <td>Wastewater treatment plant</td>\n",
       "      <td>Medium wastewater treatment plants</td>\n",
       "    </tr>\n",
       "    <tr>\n",
       "      <th>F18.3</th>\n",
       "      <td>Wastewater treatment plant</td>\n",
       "      <td>Large wastewater treatment plants</td>\n",
       "    </tr>\n",
       "    <tr>\n",
       "      <th>F18.4</th>\n",
       "      <td>Wastewater treatment plant</td>\n",
       "      <td>Small, medium, large Wastewater treatment plan...</td>\n",
       "    </tr>\n",
       "    <tr>\n",
       "      <th>F18.5</th>\n",
       "      <td>Wastewater treatment plant</td>\n",
       "      <td>Small, medium, large Wastewater treatment plan...</td>\n",
       "    </tr>\n",
       "    <tr>\n",
       "      <th>F18.6</th>\n",
       "      <td>Wastewater treatment plant</td>\n",
       "      <td>NaN</td>\n",
       "    </tr>\n",
       "    <tr>\n",
       "      <th>F19.1</th>\n",
       "      <td>Transmission and distribution pipelines</td>\n",
       "      <td>Sewers &amp; Interceptors: Exposed collector river...</td>\n",
       "    </tr>\n",
       "    <tr>\n",
       "      <th>F19.2</th>\n",
       "      <td>Transmission and distribution pipelines</td>\n",
       "      <td>Sewers &amp; Interceptors: Buried collector river ...</td>\n",
       "    </tr>\n",
       "    <tr>\n",
       "      <th>F19.3</th>\n",
       "      <td>Transmission and distribution pipelines</td>\n",
       "      <td>Sewers &amp; Interceptors: Pipes (non-crossings)</td>\n",
       "    </tr>\n",
       "    <tr>\n",
       "      <th>F20.1</th>\n",
       "      <td>Others</td>\n",
       "      <td>Control vaults and control stations</td>\n",
       "    </tr>\n",
       "    <tr>\n",
       "      <th>F20.2</th>\n",
       "      <td>Others</td>\n",
       "      <td>Lift stations: lift station (small), wet well/...</td>\n",
       "    </tr>\n",
       "    <tr>\n",
       "      <th>F20.3</th>\n",
       "      <td>Others</td>\n",
       "      <td>Lift stations: lift station (medium large), we...</td>\n",
       "    </tr>\n",
       "    <tr>\n",
       "      <th>F20.4</th>\n",
       "      <td>Others</td>\n",
       "      <td>Lift stations: lift station (small), submersible</td>\n",
       "    </tr>\n",
       "    <tr>\n",
       "      <th>F20.5</th>\n",
       "      <td>Others</td>\n",
       "      <td>Lift stations: lift station (medium large), su...</td>\n",
       "    </tr>\n",
       "    <tr>\n",
       "      <th>F21.1</th>\n",
       "      <td>Education &amp; Health</td>\n",
       "      <td>Generalized curve for commercial buildings, wh...</td>\n",
       "    </tr>\n",
       "    <tr>\n",
       "      <th>F21.2</th>\n",
       "      <td>Education &amp; Health</td>\n",
       "      <td>Generalized curve for commercial buildings, wh...</td>\n",
       "    </tr>\n",
       "    <tr>\n",
       "      <th>F21.3</th>\n",
       "      <td>Education &amp; Health</td>\n",
       "      <td>Generalized curve for commercial buildings, wh...</td>\n",
       "    </tr>\n",
       "    <tr>\n",
       "      <th>F21.3a (lower boundary)</th>\n",
       "      <td>Education &amp; Health</td>\n",
       "      <td>Generalized curve for commercial buildings, wh...</td>\n",
       "    </tr>\n",
       "    <tr>\n",
       "      <th>F21.3b (upper boundary)</th>\n",
       "      <td>Education &amp; Health</td>\n",
       "      <td>Generalized curve for commercial buildings, wh...</td>\n",
       "    </tr>\n",
       "    <tr>\n",
       "      <th>F21.4</th>\n",
       "      <td>Education &amp; Health</td>\n",
       "      <td>Generalized curve for commercial buildings, wh...</td>\n",
       "    </tr>\n",
       "    <tr>\n",
       "      <th>F21.4a (lower boundary)</th>\n",
       "      <td>Education &amp; Health</td>\n",
       "      <td>Generalized curve for commercial buildings, wh...</td>\n",
       "    </tr>\n",
       "    <tr>\n",
       "      <th>F21.4b (upper boundary)</th>\n",
       "      <td>Education &amp; Health</td>\n",
       "      <td>Generalized curve for commercial buildings, wh...</td>\n",
       "    </tr>\n",
       "    <tr>\n",
       "      <th>F21.5</th>\n",
       "      <td>Education &amp; Health</td>\n",
       "      <td>Generalized curve for commercial buildings, wh...</td>\n",
       "    </tr>\n",
       "    <tr>\n",
       "      <th>F21.5a (lower boundary)</th>\n",
       "      <td>Education &amp; Health</td>\n",
       "      <td>Generalized curve for commercial buildings, wh...</td>\n",
       "    </tr>\n",
       "    <tr>\n",
       "      <th>F21.5b (upper boundary)</th>\n",
       "      <td>Education &amp; Health</td>\n",
       "      <td>Generalized curve for commercial buildings, wh...</td>\n",
       "    </tr>\n",
       "    <tr>\n",
       "      <th>F21.6</th>\n",
       "      <td>Education &amp; Health</td>\n",
       "      <td>Generalized curve for commercial buildings, wh...</td>\n",
       "    </tr>\n",
       "    <tr>\n",
       "      <th>F21.7</th>\n",
       "      <td>School buildings</td>\n",
       "      <td>Generalized curve for companies (incl. governm...</td>\n",
       "    </tr>\n",
       "    <tr>\n",
       "      <th>F21.8</th>\n",
       "      <td>Health &amp; education</td>\n",
       "      <td>Generalized curve for offices in diked areas</td>\n",
       "    </tr>\n",
       "    <tr>\n",
       "      <th>F21.9</th>\n",
       "      <td>Education &amp; Health</td>\n",
       "      <td>Generalized function for industry</td>\n",
       "    </tr>\n",
       "    <tr>\n",
       "      <th>F21.10</th>\n",
       "      <td>School buildings</td>\n",
       "      <td>Generalized curve for buildings</td>\n",
       "    </tr>\n",
       "    <tr>\n",
       "      <th>F21.11</th>\n",
       "      <td>School buildings</td>\n",
       "      <td>NaN</td>\n",
       "    </tr>\n",
       "    <tr>\n",
       "      <th>F21.12</th>\n",
       "      <td>Health buildings</td>\n",
       "      <td>NaN</td>\n",
       "    </tr>\n",
       "    <tr>\n",
       "      <th>F21.13</th>\n",
       "      <td>Education buildings</td>\n",
       "      <td>NaN</td>\n",
       "    </tr>\n",
       "  </tbody>\n",
       "</table>\n",
       "</div>"
      ],
      "text/plain": [
       "                                                               0  \\\n",
       "ID number                             Infrastructure description   \n",
       "F1.1                                                       plant   \n",
       "F1.2                                                       plant   \n",
       "F1.3                                                       plant   \n",
       "F1.4                                                       plant   \n",
       "F1.5                                                       plant   \n",
       "F1.6                                                       plant   \n",
       "F1.7                                                       plant   \n",
       "F2.1                                                  substation   \n",
       "F2.2                                                  substation   \n",
       "F2.3                                                  substation   \n",
       "F5.1                                                       cable   \n",
       "F6.1                                          Power (minor) line   \n",
       "F6.2                                                       cable   \n",
       "F6.3                                               Energy system   \n",
       "F7.1                                                       Roads   \n",
       "F7.2                                                       Roads   \n",
       "F7.2a (lower boundary)                                     Roads   \n",
       "F7.2b (upper boundary)                                     Roads   \n",
       "F7.3                                                       Roads   \n",
       "F7.4                                                       Roads   \n",
       "F7.5                                                       Roads   \n",
       "F7.6                                                       Roads   \n",
       "F7.7                                                       Roads   \n",
       "F7.8                                                       Roads   \n",
       "F7.9                                                       Roads   \n",
       "F7.10                                                      Roads   \n",
       "F7.11                                                      Roads   \n",
       "F7.12                                                      Roads   \n",
       "F7.13                                                      Roads   \n",
       "F8.1                                                    Railways   \n",
       "F8.2                                                    Railways   \n",
       "F8.3                                                    Railways   \n",
       "F8.4                                                    Railways   \n",
       "F8.5                                                    Railways   \n",
       "F8.6                                                    Railways   \n",
       "F8.6a (lower boundary)                                  Railways   \n",
       "F8.6b (upper boundary)                                  Railways   \n",
       "F8.7                                                    Railways   \n",
       "F8.8                                                    Railways   \n",
       "F9.1                                                    Airports   \n",
       "F9.2                                                    Airports   \n",
       "F9.3                                                    Airports   \n",
       "F10.1                                          Telecommunication   \n",
       "F12.1                                          Telecommunication   \n",
       "F13.1                                        water storage tanks   \n",
       "F13.2                                        water storage tanks   \n",
       "F13.3                                        water storage tanks   \n",
       "F13.4                                        water storage tanks   \n",
       "F13.5                                        water storage tanks   \n",
       "F14.1                                     Water treatment plants   \n",
       "F14.2                                     Water treatment plants   \n",
       "F14.3                                     Water treatment plants   \n",
       "F14.4                                     Water treatment plants   \n",
       "F14.5                                     Water treatment plants   \n",
       "F14.6                                     Water treatment plants   \n",
       "F14.7                                     Water treatment plants   \n",
       "F14.8                                     Water treatment plants   \n",
       "F14.9                                     Water treatment plants   \n",
       "F14.10                                    Water treatment plants   \n",
       "F15.1                                                 Water well   \n",
       "F16.1                    Transmission and distribution pipelines   \n",
       "F16.2                    Transmission and distribution pipelines   \n",
       "F16.3                    Transmission and distribution pipelines   \n",
       "F17.1                                                     Others   \n",
       "F17.2                                                     Others   \n",
       "F17.3                                                     Others   \n",
       "F17.4                                                     Others   \n",
       "F17.5                                                     Others   \n",
       "F17.6                                                     Others   \n",
       "F18.1                                 Wastewater treatment plant   \n",
       "F18.2                                 Wastewater treatment plant   \n",
       "F18.3                                 Wastewater treatment plant   \n",
       "F18.4                                 Wastewater treatment plant   \n",
       "F18.5                                 Wastewater treatment plant   \n",
       "F18.6                                 Wastewater treatment plant   \n",
       "F19.1                    Transmission and distribution pipelines   \n",
       "F19.2                    Transmission and distribution pipelines   \n",
       "F19.3                    Transmission and distribution pipelines   \n",
       "F20.1                                                     Others   \n",
       "F20.2                                                     Others   \n",
       "F20.3                                                     Others   \n",
       "F20.4                                                     Others   \n",
       "F20.5                                                     Others   \n",
       "F21.1                                         Education & Health   \n",
       "F21.2                                         Education & Health   \n",
       "F21.3                                         Education & Health   \n",
       "F21.3a (lower boundary)                       Education & Health   \n",
       "F21.3b (upper boundary)                       Education & Health   \n",
       "F21.4                                         Education & Health   \n",
       "F21.4a (lower boundary)                       Education & Health   \n",
       "F21.4b (upper boundary)                       Education & Health   \n",
       "F21.5                                         Education & Health   \n",
       "F21.5a (lower boundary)                       Education & Health   \n",
       "F21.5b (upper boundary)                       Education & Health   \n",
       "F21.6                                         Education & Health   \n",
       "F21.7                                           School buildings   \n",
       "F21.8                                         Health & education   \n",
       "F21.9                                         Education & Health   \n",
       "F21.10                                          School buildings   \n",
       "F21.11                                          School buildings   \n",
       "F21.12                                          Health buildings   \n",
       "F21.13                                       Education buildings   \n",
       "\n",
       "                                                                         1  \n",
       "ID number                                       Additional characteristics  \n",
       "F1.1                                  Small power plants, capacity <100 MW  \n",
       "F1.2                              Medium power plants, capacity 100-500 MW  \n",
       "F1.3                                           Large power plants, >500 MW  \n",
       "F1.4                                                         thermal plant  \n",
       "F1.5                                                          wind turbine  \n",
       "F1.6                                                          wind turbine  \n",
       "F1.7                                                          wind turbine  \n",
       "F2.1                                                Low Voltage Substation  \n",
       "F2.2                                             Medium Voltage Substation  \n",
       "F2.3                                               High Voltage Substation  \n",
       "F5.1                                Distribution circuits buried crossings  \n",
       "F6.1                                 Distribution circuits (non-crossings)  \n",
       "F6.2                              Distribution circuits elevated crossings  \n",
       "F6.3                     Generalized curve for energy assets in diked a...  \n",
       "F7.1                                                                   NaN  \n",
       "F7.2                                                                   NaN  \n",
       "F7.2a (lower boundary)                                                 NaN  \n",
       "F7.2b (upper boundary)                                                 NaN  \n",
       "F7.3                                                                   NaN  \n",
       "F7.4                     Motorways and trunk roads - sophisticated acce...  \n",
       "F7.5                     Motorways and trunk roads - sophisticated acce...  \n",
       "F7.6                     Motorways and trunk roads - without sophistica...  \n",
       "F7.7                     Motorways and trunk roads - without sophistica...  \n",
       "F7.8                                                Other roads - low flow  \n",
       "F7.9                                               Other roads - high flow  \n",
       "F7.10                                                                  NaN  \n",
       "F7.11                                                                  NaN  \n",
       "F7.12                                                                  NaN  \n",
       "F7.13                                                                  NaN  \n",
       "F8.1                                                Double-tracked railway  \n",
       "F8.2                                                Double-tracked railway  \n",
       "F8.3                                                                   NaN  \n",
       "F8.4                                                                   NaN  \n",
       "F8.5                                                                   NaN  \n",
       "F8.6                                                                   NaN  \n",
       "F8.6a (lower boundary)                                                 NaN  \n",
       "F8.6b (upper boundary)                                                 NaN  \n",
       "F8.7                                                                   NaN  \n",
       "F8.8                                                       Railway station  \n",
       "F9.1                                                                   NaN  \n",
       "F9.2                                                                   NaN  \n",
       "F9.3                                                                   NaN  \n",
       "F10.1                                                  Communication tower  \n",
       "F12.1                                                 Communication system  \n",
       "F13.1                                Water storage tanks at grade concrete  \n",
       "F13.2                                   Water storage tanks at grade steel  \n",
       "F13.3                                    Water storage tanks at grade wood  \n",
       "F13.4                                         Water storage tanks elevated  \n",
       "F13.5                                      Water storage tanks below grade  \n",
       "F14.1                    Small water treatment plants open/gravity - av...  \n",
       "F14.2                    Medium water treatment plants open/gravity - a...  \n",
       "F14.3                    Large water treatment plants open/gravity - av...  \n",
       "F14.4                    small/medium/large water treatment plants open...  \n",
       "F14.5                    small/medium/large water treatment plants open...  \n",
       "F14.6                         Small water treatment plants closed/pressure  \n",
       "F14.7                        Medium water treatment plants closed/pressure  \n",
       "F14.8                         Large water treatment plants closed/pressure  \n",
       "F14.9                    small/medium/large water treatment plants clos...  \n",
       "F14.10                   small/medium/large water treatment plants clos...  \n",
       "F15.1                                                                Wells  \n",
       "F16.1                               Exposed transmission pipeline crossing  \n",
       "F16.2                                Buried transmission pipeline crossing  \n",
       "F16.3                                             Pipelines (non-crossing)  \n",
       "F17.1                                   Pumping plants (small) below grade  \n",
       "F17.2                            Pumping plants (medium/large) below grade  \n",
       "F17.3                                   Pumping plants (small) above grade  \n",
       "F17.4                            Pumping plants (medium/large) above grade  \n",
       "F17.5                                                       Pumping plants  \n",
       "F17.6                                          Control vaults and stations  \n",
       "F18.1                                    Small wastewater treatment plants  \n",
       "F18.2                                   Medium wastewater treatment plants  \n",
       "F18.3                                    Large wastewater treatment plants  \n",
       "F18.4                    Small, medium, large Wastewater treatment plan...  \n",
       "F18.5                    Small, medium, large Wastewater treatment plan...  \n",
       "F18.6                                                                  NaN  \n",
       "F19.1                    Sewers & Interceptors: Exposed collector river...  \n",
       "F19.2                    Sewers & Interceptors: Buried collector river ...  \n",
       "F19.3                         Sewers & Interceptors: Pipes (non-crossings)  \n",
       "F20.1                                  Control vaults and control stations  \n",
       "F20.2                    Lift stations: lift station (small), wet well/...  \n",
       "F20.3                    Lift stations: lift station (medium large), we...  \n",
       "F20.4                     Lift stations: lift station (small), submersible  \n",
       "F20.5                    Lift stations: lift station (medium large), su...  \n",
       "F21.1                    Generalized curve for commercial buildings, wh...  \n",
       "F21.2                    Generalized curve for commercial buildings, wh...  \n",
       "F21.3                    Generalized curve for commercial buildings, wh...  \n",
       "F21.3a (lower boundary)  Generalized curve for commercial buildings, wh...  \n",
       "F21.3b (upper boundary)  Generalized curve for commercial buildings, wh...  \n",
       "F21.4                    Generalized curve for commercial buildings, wh...  \n",
       "F21.4a (lower boundary)  Generalized curve for commercial buildings, wh...  \n",
       "F21.4b (upper boundary)  Generalized curve for commercial buildings, wh...  \n",
       "F21.5                    Generalized curve for commercial buildings, wh...  \n",
       "F21.5a (lower boundary)  Generalized curve for commercial buildings, wh...  \n",
       "F21.5b (upper boundary)  Generalized curve for commercial buildings, wh...  \n",
       "F21.6                    Generalized curve for commercial buildings, wh...  \n",
       "F21.7                    Generalized curve for companies (incl. governm...  \n",
       "F21.8                         Generalized curve for offices in diked areas  \n",
       "F21.9                                    Generalized function for industry  \n",
       "F21.10                                     Generalized curve for buildings  \n",
       "F21.11                                                                 NaN  \n",
       "F21.12                                                                 NaN  \n",
       "F21.13                                                                 NaN  "
      ]
     },
     "metadata": {},
     "output_type": "display_data"
    }
   ],
   "source": [
    "with pd.option_context('display.max_rows', None):\n",
    "  display(vul_df.iloc[:2,:].T)"
   ]
  },
  {
   "cell_type": "markdown",
   "id": "393085ef-cdab-4e9f-b1d3-6a2c478a5e1b",
   "metadata": {},
   "source": [
    "And select a curve to use for each different subtype we are analysing."
   ]
  },
  {
   "cell_type": "code",
   "execution_count": 53,
   "id": "f857b2ac-1714-4127-a834-4091af1e82c1",
   "metadata": {},
   "outputs": [],
   "source": [
    "selected_curves = dict(zip(sub_types,['F10.1','F2.3','F6.1','F2.2','F6.1','F1.2','F2.2','F2.2','F2.1','F6.1','F6.1','F6.1']))"
   ]
  },
  {
   "cell_type": "code",
   "execution_count": 54,
   "id": "76b1bbd3-3316-4345-85ac-87c262eb5a0c",
   "metadata": {},
   "outputs": [
    {
     "data": {
      "text/plain": [
       "{'generator': 'F10.1',\n",
       " 'tower': 'F2.3',\n",
       " 'pole': 'F6.1',\n",
       " 'substation': 'F2.2',\n",
       " 'portal': 'F6.1',\n",
       " 'transformer': 'F1.2',\n",
       " 'terminal': 'F2.2',\n",
       " 'plant': 'F2.2',\n",
       " 'line': 'F2.1',\n",
       " 'minor_line': 'F6.1',\n",
       " 'cable': 'F6.1'}"
      ]
     },
     "execution_count": 54,
     "metadata": {},
     "output_type": "execute_result"
    }
   ],
   "source": [
    "selected_curves"
   ]
  },
  {
   "cell_type": "markdown",
   "id": "8abceb0d-5869-4b04-bfea-14620a2e167d",
   "metadata": {},
   "source": [
    "The next step is to extract the curves from the database, and prepare them for proper usage into our analysis.\n",
    "\n",
    "We start by selecting the curve IDs from the larger pandas DataFrame **vul_df**:"
   ]
  },
  {
   "cell_type": "code",
   "execution_count": 55,
   "id": "6f55ae20-29c7-457b-b1dc-8adc04ecb188",
   "metadata": {
    "scrolled": true
   },
   "outputs": [],
   "source": [
    "damage_curves = vul_df[['ID number']+list(selected_curves.values())]\n",
    "damage_curves = damage_curves.iloc[4:125,:]"
   ]
  },
  {
   "cell_type": "markdown",
   "id": "6f2ef142-3c5b-44ab-998e-3e146ae356f5",
   "metadata": {},
   "source": [
    "Then for convenience, we rename the index name to the hazard intensity we are considering. "
   ]
  },
  {
   "cell_type": "code",
   "execution_count": 56,
   "id": "5eb23ca9-0b94-472f-ac35-2e2978be6f4e",
   "metadata": {},
   "outputs": [],
   "source": [
    "damage_curves.set_index('ID number',inplace=True)\n",
    "damage_curves.index = damage_curves.index.rename('Depth')  "
   ]
  },
  {
   "cell_type": "markdown",
   "id": "00226823-1da2-4e55-ab38-70bedcc105d6",
   "metadata": {},
   "source": [
    "And make sure that our damage values are in floating numbers. "
   ]
  },
  {
   "cell_type": "code",
   "execution_count": 57,
   "id": "5560bc74-aa6b-472e-b950-0daaebb7b31a",
   "metadata": {},
   "outputs": [],
   "source": [
    "damage_curves = damage_curves.astype(np.float32)"
   ]
  },
  {
   "cell_type": "markdown",
   "id": "6d4d4e7c-87e1-40be-8fd0-fd09728b0f14",
   "metadata": {},
   "source": [
    "And ensure that the columns of the curves link back to the different asset types we are considering:"
   ]
  },
  {
   "cell_type": "code",
   "execution_count": 58,
   "id": "6c202126-8d45-4c6c-bf3f-86c85889d6aa",
   "metadata": {},
   "outputs": [],
   "source": [
    "damage_curves.columns = sub_types"
   ]
  },
  {
   "cell_type": "markdown",
   "id": "bdee12f5-caec-41a3-838a-a384d8ee02e6",
   "metadata": {},
   "source": [
    "There could be some **NaN** values at the tail of some of the curves. To make sure the code works, we fill up the **NaN** values with the last value of each of the curves. "
   ]
  },
  {
   "cell_type": "code",
   "execution_count": 59,
   "id": "a40e2056-f107-4d94-b7da-cbd67d6791c4",
   "metadata": {},
   "outputs": [],
   "source": [
    "damage_curves = damage_curves.fillna(method='ffill')"
   ]
  },
  {
   "cell_type": "markdown",
   "id": "e2b4648f-e3ba-4ac4-a238-ab3a5deaf108",
   "metadata": {},
   "source": [
    "Finally, make sure we set the index of the damage curves (the inundation depth) in the same metric as the hazard data (e.g. meters or centimeters)."
   ]
  },
  {
   "cell_type": "code",
   "execution_count": 60,
   "id": "950d28ee-cd35-4031-b994-02542cbf30fc",
   "metadata": {},
   "outputs": [],
   "source": [
    "damage_curves.index = damage_curves.index*100"
   ]
  },
  {
   "cell_type": "markdown",
   "id": "4b8f6aed-6096-4701-93b3-e2f861cd733d",
   "metadata": {},
   "source": [
    "### Ancilliary data for processing"
   ]
  },
  {
   "cell_type": "code",
   "execution_count": 61,
   "id": "ef02d9a2-1790-4632-b66f-3e7e57eb9d51",
   "metadata": {},
   "outputs": [],
   "source": [
    "world = gpd.read_file(\"https://github.com/nvkelso/natural-earth-vector/raw/master/10m_cultural/ne_10m_admin_0_countries.shp\")\n",
    "world_plot = world.to_crs(3857)"
   ]
  },
  {
   "cell_type": "code",
   "execution_count": 62,
   "id": "df306b07-906b-4601-b0d8-4c0158d2aca8",
   "metadata": {},
   "outputs": [],
   "source": [
    "admin1 = gpd.read_file(\"https://github.com/nvkelso/natural-earth-vector/raw/master/10m_cultural/ne_10m_admin_1_states_provinces.shp\")"
   ]
  },
  {
   "cell_type": "markdown",
   "id": "e288af4e-c397-46d5-a6cd-606a01ea4ed1",
   "metadata": {},
   "source": [
    "## 3. Preparing the Data"
   ]
  },
  {
   "cell_type": "markdown",
   "id": "afc45662-dce8-4f15-a673-48a92bbd247b",
   "metadata": {},
   "source": [
    "Clip the hazard data to the country of interest."
   ]
  },
  {
   "cell_type": "code",
   "execution_count": 63,
   "id": "b8c53736-48af-4dd7-8443-95b1039d7653",
   "metadata": {},
   "outputs": [],
   "source": [
    "country_bounds = world.loc[world.ADM0_ISO == country_iso3].bounds\n",
    "country_geom = world.loc[world.ADM0_ISO == country_iso3].geometry"
   ]
  },
  {
   "cell_type": "code",
   "execution_count": 64,
   "id": "f9cf5c27-1bfc-4b27-8b2d-790a3a478a79",
   "metadata": {},
   "outputs": [],
   "source": [
    "hazard_country = hazard_map.rio.clip_box(minx=country_bounds.minx.values[0],\n",
    "                     miny=country_bounds.miny.values[0],\n",
    "                     maxx=country_bounds.maxx.values[0],\n",
    "                     maxy=country_bounds.maxy.values[0]\n",
    "                    )"
   ]
  },
  {
   "cell_type": "markdown",
   "id": "2b4725e1-53c5-4d48-b25a-c070d579e60e",
   "metadata": {},
   "source": [
    "### Convert linestring and point data to polygons. \n",
    "\n",
    "For some data, there are both points and polygons available. It makes life easier to estimate the damage using polygons. Therefore, we convert those points to Polygons below. \n",
    "\n",
    "Let's first get an overview of the different geometry types for all the assets we are considering in this analysis:"
   ]
  },
  {
   "cell_type": "code",
   "execution_count": 65,
   "id": "d9ac6f5f-aa71-431c-9b5b-d39a546f3d35",
   "metadata": {},
   "outputs": [],
   "source": [
    "features['geom_type'] = features.geom_type"
   ]
  },
  {
   "cell_type": "code",
   "execution_count": 66,
   "id": "8bc6f845-e6d3-472f-b6d7-b2a8d7426962",
   "metadata": {
    "scrolled": true
   },
   "outputs": [
    {
     "data": {
      "text/plain": [
       "object_type  geom_type   \n",
       "cable        LineString         31\n",
       "generator    LineString          5\n",
       "             MultiPolygon        1\n",
       "             Point              22\n",
       "line         LineString        993\n",
       "minor_line   LineString         41\n",
       "plant        LineString         19\n",
       "             MultiPolygon       25\n",
       "             Point               3\n",
       "pole         Point            4232\n",
       "portal       LineString          2\n",
       "             Point             216\n",
       "substation   LineString        221\n",
       "             MultiPolygon       13\n",
       "             Point             108\n",
       "terminal     Point              80\n",
       "tower        Point           25192\n",
       "transformer  LineString          4\n",
       "             MultiPolygon        1\n",
       "             Point              73\n",
       "Name: geometry, dtype: int64"
      ]
     },
     "execution_count": 66,
     "metadata": {},
     "output_type": "execute_result"
    }
   ],
   "source": [
    "features.groupby(['object_type','geom_type']).count()['geometry']"
   ]
  },
  {
   "cell_type": "markdown",
   "id": "69b974a2-eff5-4ddc-aeac-5b6b495e8909",
   "metadata": {},
   "source": [
    "The results above indicate that several asset types that are expected to be *Polygons* (such as **substations** and **plants**) are stored as *LineStrings* and points. It would be preferably to convert them all to polygons. For LineStrings, we can convert them to a *Polygon*, but for the *Points*, we will have to estimate a the average size, so we can use that to create a `buffer` around the assets.\n",
    "\n",
    "Let's start with all the *LineStrings*. As we do not want to convert all LineStrings, we have to specify which assets we should \"polygonize\":"
   ]
  },
  {
   "cell_type": "code",
   "execution_count": 67,
   "id": "1fecbde2-958c-41da-b19a-60e197763af7",
   "metadata": {},
   "outputs": [],
   "source": [
    "linestrings_to_polygonize = ['generator','plant','substation']\n",
    "\n",
    "all_assets_to_polygonize = features.loc[(features.object_type.isin(linestrings_to_polygonize)) & (features.geometry.geom_type == 'LineString')]"
   ]
  },
  {
   "cell_type": "code",
   "execution_count": 68,
   "id": "716c1206-7225-48fb-ba0e-3ef8266b2938",
   "metadata": {},
   "outputs": [],
   "source": [
    "def polygonize_linestring_per_asset(asset):\n",
    "    return shapely.Polygon(asset.geometry)\n",
    "\n",
    "collect_new_linestring_geometries = all_assets_to_polygonize.apply(lambda asset:  polygonize_linestring_per_asset(asset),axis=1).values"
   ]
  },
  {
   "cell_type": "markdown",
   "id": "879dc48c-4a68-4b57-a949-f911c7b3d1dc",
   "metadata": {},
   "source": [
    "Now overwrite the *LineStrings* with *Polygons*:"
   ]
  },
  {
   "cell_type": "code",
   "execution_count": 69,
   "id": "aeba18fa-6b7f-40fa-aad5-0f280691369e",
   "metadata": {
    "scrolled": true
   },
   "outputs": [],
   "source": [
    "features.loc[(features.object_type.isin(linestrings_to_polygonize)) & (features.geometry.geom_type == 'LineString'),'geometry'] = collect_new_linestring_geometries"
   ]
  },
  {
   "cell_type": "markdown",
   "id": "40199e0c-4ad9-412a-b81e-ba29bbf37688",
   "metadata": {},
   "source": [
    "And check if any \"undesired\" *LineStrings* are still left:"
   ]
  },
  {
   "cell_type": "code",
   "execution_count": 70,
   "id": "5f6bf914-539e-4e13-a2aa-2dbac5672de1",
   "metadata": {},
   "outputs": [
    {
     "data": {
      "text/html": [
       "<div>\n",
       "<style scoped>\n",
       "    .dataframe tbody tr th:only-of-type {\n",
       "        vertical-align: middle;\n",
       "    }\n",
       "\n",
       "    .dataframe tbody tr th {\n",
       "        vertical-align: top;\n",
       "    }\n",
       "\n",
       "    .dataframe thead th {\n",
       "        text-align: right;\n",
       "    }\n",
       "</style>\n",
       "<table border=\"1\" class=\"dataframe\">\n",
       "  <thead>\n",
       "    <tr style=\"text-align: right;\">\n",
       "      <th></th>\n",
       "      <th>osm_id</th>\n",
       "      <th>geometry</th>\n",
       "      <th>name</th>\n",
       "      <th>object_type</th>\n",
       "      <th>geom_type</th>\n",
       "    </tr>\n",
       "  </thead>\n",
       "  <tbody>\n",
       "  </tbody>\n",
       "</table>\n",
       "</div>"
      ],
      "text/plain": [
       "Empty GeoDataFrame\n",
       "Columns: [osm_id, geometry, name, object_type, geom_type]\n",
       "Index: []"
      ]
     },
     "execution_count": 70,
     "metadata": {},
     "output_type": "execute_result"
    }
   ],
   "source": [
    "features.loc[(features.object_type.isin(linestrings_to_polygonize)) & (features.geometry.geom_type == 'LineString')]"
   ]
  },
  {
   "cell_type": "markdown",
   "id": "d40b1a5a-c142-4bb8-b85f-64bf3022a555",
   "metadata": {},
   "source": [
    "Now, the next step is to create a small buffer around the point data. We first estimate an average size of each building based on each subtype.\n",
    "\n",
    "To do so, let's grab the polygon data and estimate their size. We grab the median so we are not too much influenced by extreme outliers:"
   ]
  },
  {
   "cell_type": "code",
   "execution_count": 71,
   "id": "8b8101e3-494c-4a75-a7cb-3ffdefe91953",
   "metadata": {},
   "outputs": [
    {
     "data": {
      "text/html": [
       "<div>\n",
       "<style scoped>\n",
       "    .dataframe tbody tr th:only-of-type {\n",
       "        vertical-align: middle;\n",
       "    }\n",
       "\n",
       "    .dataframe tbody tr th {\n",
       "        vertical-align: top;\n",
       "    }\n",
       "\n",
       "    .dataframe thead th {\n",
       "        text-align: right;\n",
       "    }\n",
       "</style>\n",
       "<table border=\"1\" class=\"dataframe\">\n",
       "  <thead>\n",
       "    <tr style=\"text-align: right;\">\n",
       "      <th></th>\n",
       "      <th>square_m2</th>\n",
       "    </tr>\n",
       "    <tr>\n",
       "      <th>object_type</th>\n",
       "      <th></th>\n",
       "    </tr>\n",
       "  </thead>\n",
       "  <tbody>\n",
       "    <tr>\n",
       "      <th>generator</th>\n",
       "      <td>409.939423</td>\n",
       "    </tr>\n",
       "    <tr>\n",
       "      <th>plant</th>\n",
       "      <td>1232.207672</td>\n",
       "    </tr>\n",
       "    <tr>\n",
       "      <th>substation</th>\n",
       "      <td>3921.005272</td>\n",
       "    </tr>\n",
       "    <tr>\n",
       "      <th>transformer</th>\n",
       "      <td>83.032844</td>\n",
       "    </tr>\n",
       "  </tbody>\n",
       "</table>\n",
       "</div>"
      ],
      "text/plain": [
       "               square_m2\n",
       "object_type             \n",
       "generator     409.939423\n",
       "plant        1232.207672\n",
       "substation   3921.005272\n",
       "transformer    83.032844"
      ]
     },
     "execution_count": 71,
     "metadata": {},
     "output_type": "execute_result"
    }
   ],
   "source": [
    "polygon_features = features.loc[features.geometry.geom_type.isin(['Polygon','MultiPolygon'])].to_crs(3857)\n",
    "polygon_features['square_m2'] = polygon_features.area\n",
    "\n",
    "square_m2_object_type = polygon_features[['object_type','square_m2']].groupby('object_type').median()\n",
    "square_m2_object_type"
   ]
  },
  {
   "cell_type": "markdown",
   "id": "625626ba-9603-4af6-a07e-5e13f2b625c0",
   "metadata": {},
   "source": [
    "Now we create, similarly to the *LineStrings*, a list in which we define the assets we want to \"polygonize\": "
   ]
  },
  {
   "cell_type": "code",
   "execution_count": 72,
   "id": "0658fdba-e221-4d92-8804-f04d1f636a11",
   "metadata": {},
   "outputs": [],
   "source": [
    "points_to_polygonize = ['generator','plant','substation']"
   ]
  },
  {
   "cell_type": "markdown",
   "id": "2874c809-9def-4352-a09d-e949e448e2ca",
   "metadata": {},
   "source": [
    "And take them from our data again:"
   ]
  },
  {
   "cell_type": "code",
   "execution_count": 73,
   "id": "5983f8ce-981f-4a69-987d-641edb099beb",
   "metadata": {},
   "outputs": [],
   "source": [
    "all_assets_to_polygonize = features.loc[(features.object_type.isin(points_to_polygonize)) & (features.geometry.geom_type == 'Point')]"
   ]
  },
  {
   "cell_type": "markdown",
   "id": "08f09067-44f3-4016-b2bc-6682d0f6423b",
   "metadata": {},
   "source": [
    "When performing a buffer, it is always best to do this in meters. As such, we will briefly convert the point data into a **crs** system in meters."
   ]
  },
  {
   "cell_type": "code",
   "execution_count": 74,
   "id": "ebe273c7-ddc1-4394-98af-2c3f28d2387f",
   "metadata": {},
   "outputs": [],
   "source": [
    "all_assets_to_polygonize = all_assets_to_polygonize.to_crs(3857)"
   ]
  },
  {
   "cell_type": "code",
   "execution_count": 75,
   "id": "93684fc7-e998-47b8-90cc-b7c3190cc37b",
   "metadata": {},
   "outputs": [],
   "source": [
    "def polygonize_point_per_asset(asset):\n",
    "\n",
    "    # we first need to set a buffer length. This is half of width/length of an asset.\n",
    "    buffer_length = np.sqrt(square_m2_object_type.loc[asset.object_type].values[0])/2\n",
    "\n",
    "    # then we can buffer the asset\n",
    "    return asset.geometry.buffer(buffer_length,cap_style='square')\n",
    "\n",
    "collect_new_point_geometries = all_assets_to_polygonize.apply(lambda asset:  polygonize_point_per_asset(asset),axis=1).set_crs(3857).to_crs(4326).values"
   ]
  },
  {
   "cell_type": "code",
   "execution_count": 76,
   "id": "48b8f0ca-c5ac-43e8-9813-c9353289efb5",
   "metadata": {},
   "outputs": [],
   "source": [
    "features.loc[(features.object_type.isin(points_to_polygonize)) & (features.geometry.geom_type == 'Point'),'geometry'] = collect_new_point_geometries"
   ]
  },
  {
   "cell_type": "markdown",
   "id": "aa8039db-bb04-4945-9d0a-e9c04c51e9e1",
   "metadata": {},
   "source": [
    "And check if any \"undesired\" *Points* are still left:"
   ]
  },
  {
   "cell_type": "code",
   "execution_count": 77,
   "id": "563b6a74-cf14-41f4-95fe-918ce283d96a",
   "metadata": {},
   "outputs": [
    {
     "data": {
      "text/html": [
       "<div>\n",
       "<style scoped>\n",
       "    .dataframe tbody tr th:only-of-type {\n",
       "        vertical-align: middle;\n",
       "    }\n",
       "\n",
       "    .dataframe tbody tr th {\n",
       "        vertical-align: top;\n",
       "    }\n",
       "\n",
       "    .dataframe thead th {\n",
       "        text-align: right;\n",
       "    }\n",
       "</style>\n",
       "<table border=\"1\" class=\"dataframe\">\n",
       "  <thead>\n",
       "    <tr style=\"text-align: right;\">\n",
       "      <th></th>\n",
       "      <th>osm_id</th>\n",
       "      <th>geometry</th>\n",
       "      <th>name</th>\n",
       "      <th>object_type</th>\n",
       "      <th>geom_type</th>\n",
       "    </tr>\n",
       "  </thead>\n",
       "  <tbody>\n",
       "  </tbody>\n",
       "</table>\n",
       "</div>"
      ],
      "text/plain": [
       "Empty GeoDataFrame\n",
       "Columns: [osm_id, geometry, name, object_type, geom_type]\n",
       "Index: []"
      ]
     },
     "execution_count": 77,
     "metadata": {},
     "output_type": "execute_result"
    }
   ],
   "source": [
    "features.loc[(features.object_type.isin(points_to_polygonize)) & (features.geometry.geom_type == 'Point')]"
   ]
  },
  {
   "cell_type": "markdown",
   "id": "9e6c67ce-260e-44c3-ae85-734f83850dd7",
   "metadata": {},
   "source": [
    "And remove the 'geom_type' column again, as we do not need it again."
   ]
  },
  {
   "cell_type": "code",
   "execution_count": 78,
   "id": "13ffe040-d06d-41ba-b4bd-8f2722f68093",
   "metadata": {},
   "outputs": [],
   "source": [
    "features = features.drop(['geom_type'],axis=1)"
   ]
  },
  {
   "cell_type": "code",
   "execution_count": 79,
   "id": "7e4eb0c2-15d7-4662-95bb-e40595997e5f",
   "metadata": {},
   "outputs": [
    {
     "data": {
      "text/html": [
       "<div>\n",
       "<style scoped>\n",
       "    .dataframe tbody tr th:only-of-type {\n",
       "        vertical-align: middle;\n",
       "    }\n",
       "\n",
       "    .dataframe tbody tr th {\n",
       "        vertical-align: top;\n",
       "    }\n",
       "\n",
       "    .dataframe thead th {\n",
       "        text-align: right;\n",
       "    }\n",
       "</style>\n",
       "<table border=\"1\" class=\"dataframe\">\n",
       "  <thead>\n",
       "    <tr style=\"text-align: right;\">\n",
       "      <th></th>\n",
       "      <th>osm_id</th>\n",
       "      <th>geometry</th>\n",
       "      <th>name</th>\n",
       "      <th>object_type</th>\n",
       "    </tr>\n",
       "  </thead>\n",
       "  <tbody>\n",
       "  </tbody>\n",
       "</table>\n",
       "</div>"
      ],
      "text/plain": [
       "Empty GeoDataFrame\n",
       "Columns: [osm_id, geometry, name, object_type]\n",
       "Index: []"
      ]
     },
     "execution_count": 79,
     "metadata": {},
     "output_type": "execute_result"
    }
   ],
   "source": [
    "features.loc[features.geometry.is_empty]"
   ]
  },
  {
   "cell_type": "markdown",
   "id": "5ce0650d-68a9-427a-9602-e318989dec00",
   "metadata": {},
   "source": [
    "## 5. Performing the Damage Assessment\n",
    "We will use the DamageScanner approach. This is a fully optimised damage calculation method, that can capture a wide range of inputs to perform a damage assessment."
   ]
  },
  {
   "cell_type": "code",
   "execution_count": 80,
   "id": "9b13e5d7-1cfe-4bb2-b169-51f4e14c5398",
   "metadata": {},
   "outputs": [
    {
     "name": "stderr",
     "output_type": "stream",
     "text": [
      "Overlay raster with vector: 100%|████████████████████████████████████████████████████| 144/144 [00:07<00:00, 19.96it/s]\n",
      "convert coverage to meters: 100%|██████████████████████████████████████████████████| 476/476 [00:00<00:00, 3161.83it/s]\n",
      "Calculating damage: 100%|█████████████████████████████████████████████████████████| 476/476 [00:00<00:00, 13429.63it/s]"
     ]
    },
    {
     "name": "stdout",
     "output_type": "stream",
     "text": [
      "CPU times: total: 6.48 s\n",
      "Wall time: 10.5 s\n"
     ]
    },
    {
     "name": "stderr",
     "output_type": "stream",
     "text": [
      "\n"
     ]
    }
   ],
   "source": [
    "%%time\n",
    "damage_results = DamageScanner(hazard_country, features, damage_curves, maxdam).calculate()"
   ]
  },
  {
   "cell_type": "markdown",
   "id": "da2d88c1-e5e5-4bc3-a0fb-1e4e99c4789d",
   "metadata": {},
   "source": [
    "## 5. Save the Results\n",
    "For further analysis, we can save the results in their full detail, or save summary estimates per subnational unit "
   ]
  },
  {
   "cell_type": "code",
   "execution_count": 81,
   "id": "95461586-56ff-48c7-b959-eb3b364500fe",
   "metadata": {
    "scrolled": true
   },
   "outputs": [],
   "source": [
    "hazard = 'river_flood'\n",
    "return_period = '1_100'\n",
    "damage_results.to_csv(f'Power_Damage_{country_full_name}_{hazard}_{return_period}.csv')"
   ]
  },
  {
   "cell_type": "code",
   "execution_count": 82,
   "id": "0ba6148f-4e6e-486c-821b-0635a94d4955",
   "metadata": {},
   "outputs": [],
   "source": [
    "admin1_country = admin1.loc[admin1.sov_a3 == country_iso3]"
   ]
  },
  {
   "cell_type": "code",
   "execution_count": 83,
   "id": "da0a4437-fb9e-46ea-8ec2-218f81fee90b",
   "metadata": {},
   "outputs": [],
   "source": [
    "damage_results = damage_results.sjoin(admin1_country[['adm1_code','name','geometry']])"
   ]
  },
  {
   "cell_type": "code",
   "execution_count": 84,
   "id": "c934bcb0-1bd5-4b6b-8d74-3de9e49ce16f",
   "metadata": {},
   "outputs": [],
   "source": [
    "admin1_damage = admin1_country.merge(damage_results[['name_right','damage']].groupby('name_right').sum(),\n",
    "                                     left_on='name',\n",
    "                                     right_on='name_right',\n",
    "                                     how='outer')[['name','adm1_code','geometry','damage']]"
   ]
  },
  {
   "cell_type": "code",
   "execution_count": 85,
   "id": "ed8f1db1-ba5e-4ed7-ba8b-6f6ad089b15c",
   "metadata": {},
   "outputs": [],
   "source": [
    "admin1_damage.to_csv(f'Admin1_Power_Damage_{country_full_name}_{hazard}_{return_period}.csv')"
   ]
  },
  {
   "cell_type": "markdown",
   "id": "8d64f90d-bf96-47af-bcc2-c360a488cb65",
   "metadata": {},
   "source": [
    "## 6. Visualizing the Results\n",
    "The results of the damage assessment can be visualized using charts and maps. This will provide a clear representation of which infrastructure is most affected by the hazard and the expected damage levels."
   ]
  },
  {
   "cell_type": "markdown",
   "id": "e22ad4ae-c7b4-480e-8286-3328bb182ee7",
   "metadata": {},
   "source": [
    "And create a distribution of the damages."
   ]
  },
  {
   "cell_type": "code",
   "execution_count": 86,
   "id": "8c60f11f-ab90-4342-a17e-cbc082cdbd74",
   "metadata": {},
   "outputs": [
    {
     "data": {
      "text/plain": [
       "<Axes: xlabel='damage', ylabel='Count'>"
      ]
     },
     "execution_count": 86,
     "metadata": {},
     "output_type": "execute_result"
    },
    {
     "data": {
      "image/png": "[encoded data removed]",
      "text/plain": [
       "<Figure size 700x300 with 1 Axes>"
      ]
     },
     "metadata": {},
     "output_type": "display_data"
    }
   ],
   "source": [
    "fig, ax = plt.subplots(1,1,figsize=(7, 3))\n",
    "\n",
    "sns.histplot(data=damage_results,x='damage',ax=ax)"
   ]
  },
  {
   "cell_type": "markdown",
   "id": "e3a66d7e-6cb8-4cf1-aa79-90df85ae6991",
   "metadata": {},
   "source": [
    "Plot location of most damaged power infrastructure assets."
   ]
  },
  {
   "cell_type": "code",
   "execution_count": 88,
   "id": "3e16e6e2-ec0b-4218-b550-43ed39dd2a65",
   "metadata": {},
   "outputs": [
    {
     "data": {
      "image/png": "[encoded data removed]",
      "text/plain": [
       "<Figure size 1000x500 with 1 Axes>"
      ]
     },
     "metadata": {},
     "output_type": "display_data"
    }
   ],
   "source": [
    "fig, ax = plt.subplots(1,1,figsize=(10, 5))\n",
    "\n",
    "subset = damage_results.to_crs(3857).sort_values('damage',ascending=False).head(20)\n",
    "subset.geometry = subset.centroid\n",
    "subset.plot(ax=ax,column='object_type',markersize=10,legend=True)\n",
    "world_plot.loc[world.SOV_A3 == country_iso3].plot(ax=ax,facecolor=\"none\",edgecolor='black')\n",
    "cx.add_basemap(ax, source=cx.providers.CartoDB.Positron,alpha=0.5)\n",
    "ax.set_axis_off()"
   ]
  },
  {
   "cell_type": "code",
   "execution_count": null,
   "id": "aa71033a-a9e3-4d4d-ba02-2fae5ba0f11d",
   "metadata": {},
   "outputs": [],
   "source": []
  }
 ],
 "metadata": {
  "kernelspec": {
   "display_name": "Python 3 (ipykernel)",
   "language": "python",
   "name": "python3"
  },
  "language_info": {
   "codemirror_mode": {
    "name": "ipython",
    "version": 3
   },
   "file_extension": ".py",
   "mimetype": "text/x-python",
   "name": "python",
   "nbconvert_exporter": "python",
   "pygments_lexer": "ipython3",
   "version": "3.12.3"
  }
 },
 "nbformat": 4,
 "nbformat_minor": 5
}
